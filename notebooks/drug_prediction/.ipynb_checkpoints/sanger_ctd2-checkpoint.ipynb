{
 "cells": [
  {
   "cell_type": "code",
   "execution_count": 1,
   "id": "9373b683",
   "metadata": {
    "ExecuteTime": {
     "end_time": "2021-07-13T12:41:58.086933Z",
     "start_time": "2021-07-13T12:41:55.246842Z"
    }
   },
   "outputs": [],
   "source": [
    "import pandas as pd\n",
    "import numpy as np\n",
    "import matplotlib.pyplot as plt\n",
    "import seaborn as sns\n",
    "from scipy.stats import ttest_rel\n",
    "from qgrid import show_grid\n",
    "from sklearn.preprocessing import MinMaxScaler"
   ]
  },
  {
   "cell_type": "code",
   "execution_count": 2,
   "id": "a13f49fa",
   "metadata": {
    "ExecuteTime": {
     "end_time": "2021-07-13T12:41:58.092374Z",
     "start_time": "2021-07-13T12:41:58.088614Z"
    }
   },
   "outputs": [],
   "source": [
    "def get_dl_test_score(scores_df, metric='r2'):\n",
    "    max_epoch = scores_df[scores_df['run'] == 'test'].groupby(\n",
    "        ['epoch']).median()[metric].reset_index()\n",
    "    epoch = max_epoch[max_epoch[metric] ==\n",
    "                      max_epoch[metric].max()]['epoch'].values[0]\n",
    "    print(epoch)\n",
    "    tmp_test = scores_df[(scores_df['run'] == 'test')\n",
    "                         & (scores_df['epoch'] == epoch)][[\n",
    "                             'drug_id', 'mae', 'rmse', 'corr', 'r2'\n",
    "                         ]].rename(\n",
    "                             columns={\n",
    "                                 'mae': 'test_mae',\n",
    "                                 'corr': 'test_corr',\n",
    "                                 'rmse': 'test_rmse',\n",
    "                                 'r2': 'test_r2',\n",
    "                             }).reset_index(drop=True)\n",
    "    tmp_test['model'] = 'DL'\n",
    "    return tmp_test"
   ]
  },
  {
   "cell_type": "code",
   "execution_count": 3,
   "id": "959b4261",
   "metadata": {
    "ExecuteTime": {
     "end_time": "2021-07-13T12:41:58.098160Z",
     "start_time": "2021-07-13T12:41:58.094842Z"
    }
   },
   "outputs": [],
   "source": [
    "def get_dl_test_score_cls(scores_df, metric='auc'):\n",
    "    max_epoch = scores_df[scores_df['run'] == 'test'].groupby(\n",
    "        ['epoch']).median()[metric].reset_index()\n",
    "    epoch = max_epoch[max_epoch[metric] ==\n",
    "                      max_epoch[metric].max()]['epoch'].values[0]\n",
    "    tmp_test = scores_df[(scores_df['run'] == 'test')\n",
    "                         & (scores_df['epoch'] == epoch)][[\n",
    "                             'drug_id', 'accuracy', 'auc'\n",
    "                         ]].rename(\n",
    "                             columns={\n",
    "                                 'accuracy': 'test_acc',\n",
    "                                 'auc': 'test_auc'\n",
    "                             }).reset_index(drop=True)\n",
    "    tmp_test['model'] = 'DL'\n",
    "    return tmp_test"
   ]
  },
  {
   "cell_type": "markdown",
   "id": "ea5e4167",
   "metadata": {},
   "source": [
    "# DL"
   ]
  },
  {
   "cell_type": "markdown",
   "id": "303d1dfb",
   "metadata": {},
   "source": [
    "## mutation"
   ]
  },
  {
   "cell_type": "code",
   "execution_count": 6,
   "id": "f65907f3",
   "metadata": {
    "ExecuteTime": {
     "end_time": "2021-07-07T09:45:46.962535Z",
     "start_time": "2021-07-07T09:45:39.077114Z"
    }
   },
   "outputs": [],
   "source": [
    "dl_mutation = pd.read_csv(\n",
    "    f\"../../work_dirs/sanger_ctd2/DeepMultiOmicNet/mutation/scores_202107061708_DOIT_LRP.csv.gz\"\n",
    ")"
   ]
  },
  {
   "cell_type": "code",
   "execution_count": 15,
   "id": "0bf28ef2",
   "metadata": {
    "ExecuteTime": {
     "end_time": "2021-07-07T09:49:07.729685Z",
     "start_time": "2021-07-07T09:49:05.164055Z"
    }
   },
   "outputs": [
    {
     "name": "stdout",
     "output_type": "stream",
     "text": [
      "r2    0.01372\n",
      "dtype: float64\n",
      "corr    0.151319\n",
      "dtype: float64\n",
      "mae    1.044603\n",
      "dtype: float64\n"
     ]
    }
   ],
   "source": [
    "print(dl_mutation.groupby(['drug_id',\n",
    "                     'run']).max()['r2'].reset_index().groupby('drug_id').mean().median())\n",
    "print(dl_mutation.groupby(['drug_id',\n",
    "                     'run']).max()['corr'].reset_index().groupby('drug_id').mean().median())\n",
    "print(dl_mutation.groupby(['drug_id',\n",
    "                     'run']).min()['mae'].reset_index().groupby('drug_id').mean().median())"
   ]
  },
  {
   "cell_type": "markdown",
   "id": "99a3a6f1",
   "metadata": {},
   "source": [
    "## cnv"
   ]
  },
  {
   "cell_type": "code",
   "execution_count": 16,
   "id": "0e7262be",
   "metadata": {
    "ExecuteTime": {
     "end_time": "2021-07-07T09:49:22.799940Z",
     "start_time": "2021-07-07T09:49:15.079197Z"
    }
   },
   "outputs": [],
   "source": [
    "dl_cnv = pd.read_csv(\n",
    "    f\"../../work_dirs/sanger_ctd2/DeepMultiOmicNet/cnv/scores_202107061709_DOIT_LRP.csv.gz\"\n",
    ")"
   ]
  },
  {
   "cell_type": "code",
   "execution_count": 17,
   "id": "b088f5c8",
   "metadata": {
    "ExecuteTime": {
     "end_time": "2021-07-07T09:49:26.440589Z",
     "start_time": "2021-07-07T09:49:23.858458Z"
    }
   },
   "outputs": [
    {
     "name": "stdout",
     "output_type": "stream",
     "text": [
      "r2    0.072722\n",
      "dtype: float64\n",
      "corr    0.29056\n",
      "dtype: float64\n",
      "mae    1.011733\n",
      "dtype: float64\n"
     ]
    }
   ],
   "source": [
    "print(dl_cnv.groupby(['drug_id',\n",
    "                     'run']).max()['r2'].reset_index().groupby('drug_id').mean().median())\n",
    "print(dl_cnv.groupby(['drug_id',\n",
    "                     'run']).max()['corr'].reset_index().groupby('drug_id').mean().median())\n",
    "print(dl_cnv.groupby(['drug_id',\n",
    "                     'run']).min()['mae'].reset_index().groupby('drug_id').mean().median())"
   ]
  },
  {
   "cell_type": "markdown",
   "id": "16ee8022",
   "metadata": {},
   "source": [
    "## rna"
   ]
  },
  {
   "cell_type": "code",
   "execution_count": 18,
   "id": "7bf95b1f",
   "metadata": {
    "ExecuteTime": {
     "end_time": "2021-07-07T09:49:57.863237Z",
     "start_time": "2021-07-07T09:49:50.293504Z"
    }
   },
   "outputs": [],
   "source": [
    "dl_rna = pd.read_csv(\n",
    "    f\"../../work_dirs/sanger_ctd2/DeepMultiOmicNet/rna/scores_202107061710_DOIT_LRP.csv.gz\"\n",
    ")"
   ]
  },
  {
   "cell_type": "code",
   "execution_count": 19,
   "id": "be083979",
   "metadata": {
    "ExecuteTime": {
     "end_time": "2021-07-07T09:50:01.346147Z",
     "start_time": "2021-07-07T09:49:58.702740Z"
    },
    "code_folding": []
   },
   "outputs": [
    {
     "name": "stdout",
     "output_type": "stream",
     "text": [
      "r2    0.216283\n",
      "dtype: float64\n",
      "corr    0.481545\n",
      "dtype: float64\n",
      "mae    0.91897\n",
      "dtype: float64\n"
     ]
    }
   ],
   "source": [
    "print(dl_rna.groupby(['drug_id',\n",
    "                     'run']).max()['r2'].reset_index().groupby('drug_id').mean().median())\n",
    "print(dl_rna.groupby(['drug_id',\n",
    "                     'run']).max()['corr'].reset_index().groupby('drug_id').mean().median())\n",
    "print(dl_rna.groupby(['drug_id',\n",
    "                     'run']).min()['mae'].reset_index().groupby('drug_id').mean().median())"
   ]
  },
  {
   "cell_type": "markdown",
   "id": "c263f4a2",
   "metadata": {},
   "source": [
    "## mutation cnv"
   ]
  },
  {
   "cell_type": "code",
   "execution_count": 30,
   "id": "37aeffe2",
   "metadata": {
    "ExecuteTime": {
     "end_time": "2021-07-08T04:59:54.587287Z",
     "start_time": "2021-07-08T04:59:47.290433Z"
    }
   },
   "outputs": [],
   "source": [
    "dl_mutation_cnv = pd.read_csv(\n",
    "    f\"../../work_dirs/sanger_ctd2/DeepMultiOmicNet/mutation_cnv/scores_202107071113_DOIT_LRP.csv.gz\"\n",
    ")"
   ]
  },
  {
   "cell_type": "code",
   "execution_count": 31,
   "id": "40e2c76d",
   "metadata": {
    "ExecuteTime": {
     "end_time": "2021-07-08T04:59:57.880113Z",
     "start_time": "2021-07-08T04:59:55.224450Z"
    }
   },
   "outputs": [
    {
     "name": "stdout",
     "output_type": "stream",
     "text": [
      "r2    0.080649\n",
      "dtype: float64\n",
      "corr    0.306296\n",
      "dtype: float64\n",
      "mae    1.006256\n",
      "dtype: float64\n"
     ]
    }
   ],
   "source": [
    "print(dl_mutation_cnv.groupby(['drug_id',\n",
    "                     'run']).max()['r2'].reset_index().groupby('drug_id').mean().median())\n",
    "print(dl_mutation_cnv.groupby(['drug_id',\n",
    "                     'run']).max()['corr'].reset_index().groupby('drug_id').mean().median())\n",
    "print(dl_mutation_cnv.groupby(['drug_id',\n",
    "                     'run']).min()['mae'].reset_index().groupby('drug_id').mean().median())"
   ]
  },
  {
   "cell_type": "markdown",
   "id": "e38d135c",
   "metadata": {},
   "source": [
    "## mutation rna"
   ]
  },
  {
   "cell_type": "code",
   "execution_count": 32,
   "id": "0dc09559",
   "metadata": {
    "ExecuteTime": {
     "end_time": "2021-07-08T05:00:39.111561Z",
     "start_time": "2021-07-08T05:00:31.804682Z"
    }
   },
   "outputs": [],
   "source": [
    "dl_mutation_rna = pd.read_csv(\n",
    "    f\"../../work_dirs/sanger_ctd2/DeepMultiOmicNet/mutation_rna/scores_202107071113_DOIT_LRP.csv.gz\"\n",
    ")"
   ]
  },
  {
   "cell_type": "code",
   "execution_count": 33,
   "id": "cdcdab0b",
   "metadata": {
    "ExecuteTime": {
     "end_time": "2021-07-08T05:00:41.803843Z",
     "start_time": "2021-07-08T05:00:39.113810Z"
    }
   },
   "outputs": [
    {
     "name": "stdout",
     "output_type": "stream",
     "text": [
      "r2    0.222617\n",
      "dtype: float64\n",
      "corr    0.488953\n",
      "dtype: float64\n",
      "mae    0.914403\n",
      "dtype: float64\n"
     ]
    }
   ],
   "source": [
    "print(dl_mutation_rna.groupby(['drug_id',\n",
    "                     'run']).max()['r2'].reset_index().groupby('drug_id').mean().median())\n",
    "print(dl_mutation_rna.groupby(['drug_id',\n",
    "                     'run']).max()['corr'].reset_index().groupby('drug_id').mean().median())\n",
    "print(dl_mutation_rna.groupby(['drug_id',\n",
    "                     'run']).min()['mae'].reset_index().groupby('drug_id').mean().median())"
   ]
  },
  {
   "cell_type": "code",
   "execution_count": 59,
   "id": "33541497",
   "metadata": {
    "ExecuteTime": {
     "end_time": "2021-07-10T02:38:36.443883Z",
     "start_time": "2021-07-10T02:38:36.421877Z"
    }
   },
   "outputs": [],
   "source": [
    "rf_mutation_rna = pd.read_csv(\n",
    "    f\"../../work_dirs/sanger_ctd2/ec_rf/mutation_rna/scores_202107101028_ec_rf_lrp_drug_mutation_rna.csv\"\n",
    ")"
   ]
  },
  {
   "cell_type": "code",
   "execution_count": 60,
   "id": "8847cfe7",
   "metadata": {
    "ExecuteTime": {
     "end_time": "2021-07-10T02:38:39.732876Z",
     "start_time": "2021-07-10T02:38:39.723423Z"
    }
   },
   "outputs": [
    {
     "name": "stdout",
     "output_type": "stream",
     "text": [
      "0.20586930699746028\n",
      "0.47464646051493437\n",
      "0.9275357736091712\n"
     ]
    }
   ],
   "source": [
    "print(rf_mutation_rna.groupby(['drug_id'])['r2'].mean().median())\n",
    "print(rf_mutation_rna.groupby(['drug_id'])['corr'].mean().median())\n",
    "print(rf_mutation_rna.groupby(['drug_id'])['mae'].mean().median())"
   ]
  },
  {
   "cell_type": "markdown",
   "id": "95d28312",
   "metadata": {},
   "source": [
    "## cnv rna"
   ]
  },
  {
   "cell_type": "code",
   "execution_count": 28,
   "id": "a1f0409c",
   "metadata": {
    "ExecuteTime": {
     "end_time": "2021-07-08T04:59:06.519892Z",
     "start_time": "2021-07-08T04:58:58.939491Z"
    }
   },
   "outputs": [],
   "source": [
    "dl_cnv_rna = pd.read_csv(\n",
    "    f\"../../work_dirs/sanger_ctd2/DeepMultiOmicNet/cnv_rna/scores_202107071123_DOIT_LRP.csv.gz\"\n",
    ")"
   ]
  },
  {
   "cell_type": "code",
   "execution_count": 29,
   "id": "167b382c",
   "metadata": {
    "ExecuteTime": {
     "end_time": "2021-07-08T04:59:09.711854Z",
     "start_time": "2021-07-08T04:59:07.080202Z"
    }
   },
   "outputs": [
    {
     "name": "stdout",
     "output_type": "stream",
     "text": [
      "r2    0.220573\n",
      "dtype: float64\n",
      "corr    0.486118\n",
      "dtype: float64\n",
      "mae    0.915394\n",
      "dtype: float64\n"
     ]
    }
   ],
   "source": [
    "print(dl_cnv_rna.groupby(['drug_id',\n",
    "                     'run']).max()['r2'].reset_index().groupby('drug_id').mean().median())\n",
    "print(dl_cnv_rna.groupby(['drug_id',\n",
    "                     'run']).max()['corr'].reset_index().groupby('drug_id').mean().median())\n",
    "print(dl_cnv_rna.groupby(['drug_id',\n",
    "                     'run']).min()['mae'].reset_index().groupby('drug_id').mean().median())"
   ]
  },
  {
   "cell_type": "markdown",
   "id": "14c9bdbc",
   "metadata": {},
   "source": [
    "## mutation cnv rna"
   ]
  },
  {
   "cell_type": "markdown",
   "id": "9fc0e584",
   "metadata": {},
   "source": [
    "### DL"
   ]
  },
  {
   "cell_type": "code",
   "execution_count": 40,
   "id": "9b549430",
   "metadata": {
    "ExecuteTime": {
     "end_time": "2021-07-08T13:52:25.284736Z",
     "start_time": "2021-07-08T13:52:17.610831Z"
    }
   },
   "outputs": [],
   "source": [
    "dl_mutation_cnv_rna = pd.read_csv(\n",
    "    f\"../../work_dirs/sanger_ctd2/DeepMultiOmicNet/mutation_cnv_rna/scores_202107081045_DOIT_LRP.csv.gz\"\n",
    ")"
   ]
  },
  {
   "cell_type": "code",
   "execution_count": 41,
   "id": "3dd791ce",
   "metadata": {
    "ExecuteTime": {
     "end_time": "2021-07-08T13:52:28.551501Z",
     "start_time": "2021-07-08T13:52:25.972221Z"
    }
   },
   "outputs": [
    {
     "name": "stdout",
     "output_type": "stream",
     "text": [
      "r2    0.221218\n",
      "dtype: float64\n",
      "corr    0.490467\n",
      "dtype: float64\n",
      "mae    0.915229\n",
      "dtype: float64\n"
     ]
    }
   ],
   "source": [
    "print(dl_mutation_cnv_rna.groupby(['drug_id',\n",
    "                     'run']).max()['r2'].reset_index().groupby('drug_id').mean().median())\n",
    "print(dl_mutation_cnv_rna.groupby(['drug_id',\n",
    "                     'run']).max()['corr'].reset_index().groupby('drug_id').mean().median())\n",
    "print(dl_mutation_cnv_rna.groupby(['drug_id',\n",
    "                     'run']).min()['mae'].reset_index().groupby('drug_id').mean().median())"
   ]
  },
  {
   "cell_type": "code",
   "execution_count": 24,
   "id": "3ba380c4",
   "metadata": {
    "ExecuteTime": {
     "end_time": "2021-07-07T09:52:34.452926Z",
     "start_time": "2021-07-07T09:52:31.791891Z"
    }
   },
   "outputs": [
    {
     "name": "stdout",
     "output_type": "stream",
     "text": [
      "r2    0.223548\n",
      "dtype: float64\n",
      "corr    0.488805\n",
      "dtype: float64\n",
      "mae    0.915843\n",
      "dtype: float64\n"
     ]
    }
   ],
   "source": [
    "print(dl_mutation_cnv_rna.groupby(['drug_id',\n",
    "                     'run']).max()['r2'].reset_index().groupby('drug_id').mean().median())\n",
    "print(dl_mutation_cnv_rna.groupby(['drug_id',\n",
    "                     'run']).max()['corr'].reset_index().groupby('drug_id').mean().median())\n",
    "print(dl_mutation_cnv_rna.groupby(['drug_id',\n",
    "                     'run']).min()['mae'].reset_index().groupby('drug_id').mean().median())"
   ]
  },
  {
   "cell_type": "markdown",
   "id": "85803c5a",
   "metadata": {},
   "source": [
    "### RF"
   ]
  },
  {
   "cell_type": "code",
   "execution_count": 61,
   "id": "cebeba01",
   "metadata": {
    "ExecuteTime": {
     "end_time": "2021-07-10T05:23:12.923786Z",
     "start_time": "2021-07-10T05:23:12.902947Z"
    }
   },
   "outputs": [],
   "source": [
    "rf_mutation_cnv_rna = pd.read_csv(\n",
    "    f\"../../work_dirs/sanger_ctd2/ec_rf/mutation_cnv_rna/scores_202107101239_ec_rf_lrp_drug_mutation_cnv_rna.csv\"\n",
    ")"
   ]
  },
  {
   "cell_type": "code",
   "execution_count": 63,
   "id": "ab4aa1ea",
   "metadata": {
    "ExecuteTime": {
     "end_time": "2021-07-10T05:23:37.506149Z",
     "start_time": "2021-07-10T05:23:37.496426Z"
    }
   },
   "outputs": [
    {
     "name": "stdout",
     "output_type": "stream",
     "text": [
      "0.20550677398248285\n",
      "0.47485134869361156\n",
      "0.9294312362792185\n"
     ]
    }
   ],
   "source": [
    "print(rf_mutation_cnv_rna.groupby(['drug_id'])['r2'].mean().median())\n",
    "print(rf_mutation_cnv_rna.groupby(['drug_id'])['corr'].mean().median())\n",
    "print(rf_mutation_cnv_rna.groupby(['drug_id'])['mae'].mean().median())"
   ]
  },
  {
   "cell_type": "code",
   "execution_count": 71,
   "id": "dd9ee24a",
   "metadata": {
    "ExecuteTime": {
     "end_time": "2021-07-13T02:28:42.197351Z",
     "start_time": "2021-07-13T02:28:42.176840Z"
    }
   },
   "outputs": [],
   "source": [
    "rf_mutation_cnv_rna = pd.read_csv(\n",
    "    f\"../../work_dirs/sanger_ctd2/ec_rf/mutation_cnv_rna/scores_202107121639_ec_rf_drug_mutation_cnv_rna.csv\"\n",
    ")"
   ]
  },
  {
   "cell_type": "code",
   "execution_count": 72,
   "id": "b553a1e5",
   "metadata": {
    "ExecuteTime": {
     "end_time": "2021-07-13T02:28:42.895601Z",
     "start_time": "2021-07-13T02:28:42.884274Z"
    }
   },
   "outputs": [
    {
     "name": "stdout",
     "output_type": "stream",
     "text": [
      "0.20471526066506052\n",
      "0.4735326781295234\n",
      "0.9288508839850542\n"
     ]
    }
   ],
   "source": [
    "print(rf_mutation_cnv_rna.groupby(['drug_id'])['r2'].mean().median())\n",
    "print(rf_mutation_cnv_rna.groupby(['drug_id'])['corr'].mean().median())\n",
    "print(rf_mutation_cnv_rna.groupby(['drug_id'])['mae'].mean().median())"
   ]
  },
  {
   "cell_type": "code",
   "execution_count": null,
   "id": "37f22956",
   "metadata": {},
   "outputs": [],
   "source": []
  },
  {
   "cell_type": "markdown",
   "id": "21334ce4",
   "metadata": {},
   "source": [
    "### EN"
   ]
  },
  {
   "cell_type": "code",
   "execution_count": 64,
   "id": "a97cc48d",
   "metadata": {
    "ExecuteTime": {
     "end_time": "2021-07-11T16:17:04.660288Z",
     "start_time": "2021-07-11T16:17:04.620711Z"
    }
   },
   "outputs": [],
   "source": [
    "en_mutation_cnv_rna = pd.read_csv(\n",
    "    f\"../../work_dirs/sanger_ctd2/ec_en/mutation_cnv_rna/scores_202107110149_ec_en_lrp_drug_mutation_cnv_rna.csv\"\n",
    ")"
   ]
  },
  {
   "cell_type": "code",
   "execution_count": 65,
   "id": "4a764afc",
   "metadata": {
    "ExecuteTime": {
     "end_time": "2021-07-11T16:17:10.493045Z",
     "start_time": "2021-07-11T16:17:10.482920Z"
    }
   },
   "outputs": [
    {
     "name": "stdout",
     "output_type": "stream",
     "text": [
      "0.17117615136314104\n",
      "0.43910758231574215\n",
      "0.9477204437076046\n"
     ]
    }
   ],
   "source": [
    "print(en_mutation_cnv_rna.groupby(['drug_id'])['r2'].mean().median())\n",
    "print(en_mutation_cnv_rna.groupby(['drug_id'])['corr'].mean().median())\n",
    "print(en_mutation_cnv_rna.groupby(['drug_id'])['mae'].mean().median())"
   ]
  },
  {
   "cell_type": "markdown",
   "id": "a27aad27",
   "metadata": {},
   "source": [
    "### SVML"
   ]
  },
  {
   "cell_type": "code",
   "execution_count": 66,
   "id": "b7c3c7aa",
   "metadata": {
    "ExecuteTime": {
     "end_time": "2021-07-12T06:17:48.859992Z",
     "start_time": "2021-07-12T06:17:48.825741Z"
    }
   },
   "outputs": [],
   "source": [
    "svml_mutation_cnv_rna = pd.read_csv(\n",
    "    f\"../../work_dirs/sanger_ctd2/ec_svml/mutation_cnv_rna/scores_202107110205_ec_svml_lrp_drug_mutation_cnv_rna.csv\"\n",
    ")"
   ]
  },
  {
   "cell_type": "code",
   "execution_count": 67,
   "id": "5051588d",
   "metadata": {
    "ExecuteTime": {
     "end_time": "2021-07-12T06:17:49.908181Z",
     "start_time": "2021-07-12T06:17:49.897240Z"
    }
   },
   "outputs": [
    {
     "name": "stdout",
     "output_type": "stream",
     "text": [
      "-0.09942953007242837\n",
      "0.3824298132459269\n",
      "1.0914120870999893\n"
     ]
    }
   ],
   "source": [
    "print(svml_mutation_cnv_rna.groupby(['drug_id'])['r2'].mean().median())\n",
    "print(svml_mutation_cnv_rna.groupby(['drug_id'])['corr'].mean().median())\n",
    "print(svml_mutation_cnv_rna.groupby(['drug_id'])['mae'].mean().median())"
   ]
  },
  {
   "cell_type": "markdown",
   "id": "048fb970",
   "metadata": {},
   "source": [
    "### mixomics"
   ]
  },
  {
   "cell_type": "code",
   "execution_count": 68,
   "id": "45237739",
   "metadata": {
    "ExecuteTime": {
     "end_time": "2021-07-13T02:27:21.029812Z",
     "start_time": "2021-07-13T02:27:21.002976Z"
    }
   },
   "outputs": [],
   "source": [
    "mixomics_mutation_cnv_rna = pd.read_csv(\n",
    "    f\"../../work_dirs/mixOmics/sanger_mutation_cnv_rna_ctd2.csv\"\n",
    ")"
   ]
  },
  {
   "cell_type": "code",
   "execution_count": 70,
   "id": "107ecfd5",
   "metadata": {
    "ExecuteTime": {
     "end_time": "2021-07-13T02:27:32.951001Z",
     "start_time": "2021-07-13T02:27:32.941170Z"
    }
   },
   "outputs": [
    {
     "name": "stdout",
     "output_type": "stream",
     "text": [
      "0.08115820467385244\n",
      "0.35061272507510033\n",
      "1.0113337753428384\n"
     ]
    }
   ],
   "source": [
    "print(mixomics_mutation_cnv_rna.groupby(['drug_id'])['r2'].mean().median())\n",
    "print(mixomics_mutation_cnv_rna.groupby(['drug_id'])['corr'].mean().median())\n",
    "print(mixomics_mutation_cnv_rna.groupby(['drug_id'])['mae'].mean().median())"
   ]
  },
  {
   "cell_type": "markdown",
   "id": "67e7432c",
   "metadata": {},
   "source": [
    "### pca_rf"
   ]
  },
  {
   "cell_type": "code",
   "execution_count": 73,
   "id": "4a3983b0",
   "metadata": {
    "ExecuteTime": {
     "end_time": "2021-07-13T02:31:30.892168Z",
     "start_time": "2021-07-13T02:31:30.861877Z"
    }
   },
   "outputs": [],
   "source": [
    "pca_mutation_cnv_rna = pd.read_csv(\n",
    "    f\"../../work_dirs/sanger_ctd2/pca_rf/mutation_cnv_rna/scores_202107121818_pca_rf_lrp_drug_mutation_cnv_rna.csv\"\n",
    ")"
   ]
  },
  {
   "cell_type": "code",
   "execution_count": 74,
   "id": "b0b11784",
   "metadata": {
    "ExecuteTime": {
     "end_time": "2021-07-13T02:31:33.440786Z",
     "start_time": "2021-07-13T02:31:33.430554Z"
    }
   },
   "outputs": [
    {
     "name": "stdout",
     "output_type": "stream",
     "text": [
      "0.13294702383675439\n",
      "0.4122781361428156\n",
      "0.9800546307137779\n"
     ]
    }
   ],
   "source": [
    "print(pca_mutation_cnv_rna.groupby(['drug_id'])['r2'].mean().median())\n",
    "print(pca_mutation_cnv_rna.groupby(['drug_id'])['corr'].mean().median())\n",
    "print(pca_mutation_cnv_rna.groupby(['drug_id'])['mae'].mean().median())"
   ]
  },
  {
   "cell_type": "markdown",
   "id": "8424b138",
   "metadata": {},
   "source": [
    "### moCluster_rf"
   ]
  },
  {
   "cell_type": "code",
   "execution_count": 75,
   "id": "ca56f2a7",
   "metadata": {
    "ExecuteTime": {
     "end_time": "2021-07-13T02:35:19.441212Z",
     "start_time": "2021-07-13T02:35:19.416647Z"
    }
   },
   "outputs": [],
   "source": [
    "moCluster_mutation_cnv_rna = pd.read_csv(\n",
    "    f\"../../work_dirs/sanger_ctd2/moCluster_rf/mutation_cnv_rna/scores_202107121932_moCluster_rf_lrp_drug_mutation_cnv_rna.csv\"\n",
    ")"
   ]
  },
  {
   "cell_type": "code",
   "execution_count": 76,
   "id": "624a3feb",
   "metadata": {
    "ExecuteTime": {
     "end_time": "2021-07-13T02:35:20.215929Z",
     "start_time": "2021-07-13T02:35:20.205162Z"
    }
   },
   "outputs": [
    {
     "name": "stdout",
     "output_type": "stream",
     "text": [
      "0.12960323626430884\n",
      "0.3959262454767463\n",
      "0.9786557913847929\n"
     ]
    }
   ],
   "source": [
    "print(moCluster_mutation_cnv_rna.groupby(['drug_id'])['r2'].mean().median())\n",
    "print(moCluster_mutation_cnv_rna.groupby(['drug_id'])['corr'].mean().median())\n",
    "print(moCluster_mutation_cnv_rna.groupby(['drug_id'])['mae'].mean().median())"
   ]
  },
  {
   "cell_type": "code",
   "execution_count": null,
   "id": "4f4139f7",
   "metadata": {},
   "outputs": [],
   "source": []
  },
  {
   "cell_type": "code",
   "execution_count": null,
   "id": "4ce62e0f",
   "metadata": {},
   "outputs": [],
   "source": []
  }
 ],
 "metadata": {
  "kernelspec": {
   "display_name": "Python 3",
   "language": "python",
   "name": "python3"
  },
  "language_info": {
   "codemirror_mode": {
    "name": "ipython",
    "version": 3
   },
   "file_extension": ".py",
   "mimetype": "text/x-python",
   "name": "python",
   "nbconvert_exporter": "python",
   "pygments_lexer": "ipython3",
   "version": "3.8.10"
  },
  "toc": {
   "base_numbering": 1,
   "nav_menu": {},
   "number_sections": true,
   "sideBar": true,
   "skip_h1_title": false,
   "title_cell": "Table of Contents",
   "title_sidebar": "Contents",
   "toc_cell": false,
   "toc_position": {},
   "toc_section_display": true,
   "toc_window_display": true
  }
 },
 "nbformat": 4,
 "nbformat_minor": 5
}
