{
 "cells": [
  {
   "cell_type": "code",
   "execution_count": 1,
   "id": "70352c1e",
   "metadata": {
    "ExecuteTime": {
     "end_time": "2021-07-13T12:41:58.086933Z",
     "start_time": "2021-07-13T12:41:55.246842Z"
    }
   },
   "outputs": [],
   "source": [
    "import pandas as pd\n",
    "import numpy as np\n",
    "import matplotlib.pyplot as plt\n",
    "import seaborn as sns\n",
    "from scipy.stats import ttest_rel\n",
    "from qgrid import show_grid\n",
    "from sklearn.preprocessing import MinMaxScaler"
   ]
  },
  {
   "cell_type": "code",
   "execution_count": 2,
   "id": "18b76ffa",
   "metadata": {
    "ExecuteTime": {
     "end_time": "2021-07-13T12:41:58.092374Z",
     "start_time": "2021-07-13T12:41:58.088614Z"
    }
   },
   "outputs": [],
   "source": [
    "def get_dl_test_score(scores_df, metric='r2'):\n",
    "    max_epoch = scores_df[scores_df['run'] == 'test'].groupby(\n",
    "        ['epoch']).median()[metric].reset_index()\n",
    "    epoch = max_epoch[max_epoch[metric] ==\n",
    "                      max_epoch[metric].max()]['epoch'].values[0]\n",
    "    print(epoch)\n",
    "    tmp_test = scores_df[(scores_df['run'] == 'test')\n",
    "                         & (scores_df['epoch'] == epoch)][[\n",
    "                             'drug_id', 'mae', 'rmse', 'corr', 'r2'\n",
    "                         ]].rename(\n",
    "                             columns={\n",
    "                                 'mae': 'test_mae',\n",
    "                                 'corr': 'test_corr',\n",
    "                                 'rmse': 'test_rmse',\n",
    "                                 'r2': 'test_r2',\n",
    "                             }).reset_index(drop=True)\n",
    "    tmp_test['model'] = 'DL'\n",
    "    return tmp_test"
   ]
  },
  {
   "cell_type": "code",
   "execution_count": 3,
   "id": "72f6ddd4",
   "metadata": {
    "ExecuteTime": {
     "end_time": "2021-07-13T12:41:58.098160Z",
     "start_time": "2021-07-13T12:41:58.094842Z"
    }
   },
   "outputs": [],
   "source": [
    "def get_dl_test_score_cls(scores_df, metric='auc'):\n",
    "    max_epoch = scores_df[scores_df['run'] == 'test'].groupby(\n",
    "        ['epoch']).median()[metric].reset_index()\n",
    "    epoch = max_epoch[max_epoch[metric] ==\n",
    "                      max_epoch[metric].max()]['epoch'].values[0]\n",
    "    tmp_test = scores_df[(scores_df['run'] == 'test')\n",
    "                         & (scores_df['epoch'] == epoch)][[\n",
    "                             'drug_id', 'accuracy', 'auc'\n",
    "                         ]].rename(\n",
    "                             columns={\n",
    "                                 'accuracy': 'test_acc',\n",
    "                                 'auc': 'test_auc'\n",
    "                             }).reset_index(drop=True)\n",
    "    tmp_test['model'] = 'DL'\n",
    "    return tmp_test"
   ]
  },
  {
   "cell_type": "markdown",
   "id": "4b24a6a7",
   "metadata": {},
   "source": [
    "# DL"
   ]
  },
  {
   "cell_type": "markdown",
   "id": "6ed708b3",
   "metadata": {},
   "source": [
    "## mutation"
   ]
  },
  {
   "cell_type": "code",
   "execution_count": 6,
   "id": "52732a60",
   "metadata": {
    "ExecuteTime": {
     "end_time": "2021-07-07T09:45:46.962535Z",
     "start_time": "2021-07-07T09:45:39.077114Z"
    }
   },
   "outputs": [],
   "source": [
    "dl_mutation = pd.read_csv(\n",
    "    f\"../../work_dirs/sanger_ctd2/DeepMultiOmicNet/mutation/scores_202107061708_DOIT_LRP.csv.gz\"\n",
    ")"
   ]
  },
  {
   "cell_type": "code",
   "execution_count": 15,
   "id": "e09a000f",
   "metadata": {
    "ExecuteTime": {
     "end_time": "2021-07-07T09:49:07.729685Z",
     "start_time": "2021-07-07T09:49:05.164055Z"
    }
   },
   "outputs": [
    {
     "name": "stdout",
     "output_type": "stream",
     "text": [
      "r2    0.01372\n",
      "dtype: float64\n",
      "corr    0.151319\n",
      "dtype: float64\n",
      "mae    1.044603\n",
      "dtype: float64\n"
     ]
    }
   ],
   "source": [
    "print(dl_mutation.groupby(['drug_id',\n",
    "                     'run']).max()['r2'].reset_index().groupby('drug_id').mean().median())\n",
    "print(dl_mutation.groupby(['drug_id',\n",
    "                     'run']).max()['corr'].reset_index().groupby('drug_id').mean().median())\n",
    "print(dl_mutation.groupby(['drug_id',\n",
    "                     'run']).min()['mae'].reset_index().groupby('drug_id').mean().median())"
   ]
  },
  {
   "cell_type": "markdown",
   "id": "d64c672d",
   "metadata": {},
   "source": [
    "## cnv"
   ]
  },
  {
   "cell_type": "code",
   "execution_count": 16,
   "id": "6a31c708",
   "metadata": {
    "ExecuteTime": {
     "end_time": "2021-07-07T09:49:22.799940Z",
     "start_time": "2021-07-07T09:49:15.079197Z"
    }
   },
   "outputs": [],
   "source": [
    "dl_cnv = pd.read_csv(\n",
    "    f\"../../work_dirs/sanger_ctd2/DeepMultiOmicNet/cnv/scores_202107061709_DOIT_LRP.csv.gz\"\n",
    ")"
   ]
  },
  {
   "cell_type": "code",
   "execution_count": 17,
   "id": "4f6f3e92",
   "metadata": {
    "ExecuteTime": {
     "end_time": "2021-07-07T09:49:26.440589Z",
     "start_time": "2021-07-07T09:49:23.858458Z"
    }
   },
   "outputs": [
    {
     "name": "stdout",
     "output_type": "stream",
     "text": [
      "r2    0.072722\n",
      "dtype: float64\n",
      "corr    0.29056\n",
      "dtype: float64\n",
      "mae    1.011733\n",
      "dtype: float64\n"
     ]
    }
   ],
   "source": [
    "print(dl_cnv.groupby(['drug_id',\n",
    "                     'run']).max()['r2'].reset_index().groupby('drug_id').mean().median())\n",
    "print(dl_cnv.groupby(['drug_id',\n",
    "                     'run']).max()['corr'].reset_index().groupby('drug_id').mean().median())\n",
    "print(dl_cnv.groupby(['drug_id',\n",
    "                     'run']).min()['mae'].reset_index().groupby('drug_id').mean().median())"
   ]
  },
  {
   "cell_type": "markdown",
   "id": "aef35450",
   "metadata": {},
   "source": [
    "## rna"
   ]
  },
  {
   "cell_type": "code",
   "execution_count": 18,
   "id": "4e63b710",
   "metadata": {
    "ExecuteTime": {
     "end_time": "2021-07-07T09:49:57.863237Z",
     "start_time": "2021-07-07T09:49:50.293504Z"
    }
   },
   "outputs": [],
   "source": [
    "dl_rna = pd.read_csv(\n",
    "    f\"../../work_dirs/sanger_ctd2/DeepMultiOmicNet/rna/scores_202107061710_DOIT_LRP.csv.gz\"\n",
    ")"
   ]
  },
  {
   "cell_type": "code",
   "execution_count": 19,
   "id": "998d3a09",
   "metadata": {
    "ExecuteTime": {
     "end_time": "2021-07-07T09:50:01.346147Z",
     "start_time": "2021-07-07T09:49:58.702740Z"
    },
    "code_folding": []
   },
   "outputs": [
    {
     "name": "stdout",
     "output_type": "stream",
     "text": [
      "r2    0.216283\n",
      "dtype: float64\n",
      "corr    0.481545\n",
      "dtype: float64\n",
      "mae    0.91897\n",
      "dtype: float64\n"
     ]
    }
   ],
   "source": [
    "print(dl_rna.groupby(['drug_id',\n",
    "                     'run']).max()['r2'].reset_index().groupby('drug_id').mean().median())\n",
    "print(dl_rna.groupby(['drug_id',\n",
    "                     'run']).max()['corr'].reset_index().groupby('drug_id').mean().median())\n",
    "print(dl_rna.groupby(['drug_id',\n",
    "                     'run']).min()['mae'].reset_index().groupby('drug_id').mean().median())"
   ]
  },
  {
   "cell_type": "markdown",
   "id": "ab621c5d",
   "metadata": {},
   "source": [
    "## mutation cnv"
   ]
  },
  {
   "cell_type": "code",
   "execution_count": 30,
   "id": "b104313d",
   "metadata": {
    "ExecuteTime": {
     "end_time": "2021-07-08T04:59:54.587287Z",
     "start_time": "2021-07-08T04:59:47.290433Z"
    }
   },
   "outputs": [],
   "source": [
    "dl_mutation_cnv = pd.read_csv(\n",
    "    f\"../../work_dirs/sanger_ctd2/DeepMultiOmicNet/mutation_cnv/scores_202107071113_DOIT_LRP.csv.gz\"\n",
    ")"
   ]
  },
  {
   "cell_type": "code",
   "execution_count": 31,
   "id": "5696f516",
   "metadata": {
    "ExecuteTime": {
     "end_time": "2021-07-08T04:59:57.880113Z",
     "start_time": "2021-07-08T04:59:55.224450Z"
    }
   },
   "outputs": [
    {
     "name": "stdout",
     "output_type": "stream",
     "text": [
      "r2    0.080649\n",
      "dtype: float64\n",
      "corr    0.306296\n",
      "dtype: float64\n",
      "mae    1.006256\n",
      "dtype: float64\n"
     ]
    }
   ],
   "source": [
    "print(dl_mutation_cnv.groupby(['drug_id',\n",
    "                     'run']).max()['r2'].reset_index().groupby('drug_id').mean().median())\n",
    "print(dl_mutation_cnv.groupby(['drug_id',\n",
    "                     'run']).max()['corr'].reset_index().groupby('drug_id').mean().median())\n",
    "print(dl_mutation_cnv.groupby(['drug_id',\n",
    "                     'run']).min()['mae'].reset_index().groupby('drug_id').mean().median())"
   ]
  },
  {
   "cell_type": "markdown",
   "id": "15523515",
   "metadata": {},
   "source": [
    "## mutation rna"
   ]
  },
  {
   "cell_type": "code",
   "execution_count": 32,
   "id": "c4a3a226",
   "metadata": {
    "ExecuteTime": {
     "end_time": "2021-07-08T05:00:39.111561Z",
     "start_time": "2021-07-08T05:00:31.804682Z"
    }
   },
   "outputs": [],
   "source": [
    "dl_mutation_rna = pd.read_csv(\n",
    "    f\"../../work_dirs/sanger_ctd2/DeepMultiOmicNet/mutation_rna/scores_202107071113_DOIT_LRP.csv.gz\"\n",
    ")"
   ]
  },
  {
   "cell_type": "code",
   "execution_count": 33,
   "id": "8776bcdb",
   "metadata": {
    "ExecuteTime": {
     "end_time": "2021-07-08T05:00:41.803843Z",
     "start_time": "2021-07-08T05:00:39.113810Z"
    }
   },
   "outputs": [
    {
     "name": "stdout",
     "output_type": "stream",
     "text": [
      "r2    0.222617\n",
      "dtype: float64\n",
      "corr    0.488953\n",
      "dtype: float64\n",
      "mae    0.914403\n",
      "dtype: float64\n"
     ]
    }
   ],
   "source": [
    "print(dl_mutation_rna.groupby(['drug_id',\n",
    "                     'run']).max()['r2'].reset_index().groupby('drug_id').mean().median())\n",
    "print(dl_mutation_rna.groupby(['drug_id',\n",
    "                     'run']).max()['corr'].reset_index().groupby('drug_id').mean().median())\n",
    "print(dl_mutation_rna.groupby(['drug_id',\n",
    "                     'run']).min()['mae'].reset_index().groupby('drug_id').mean().median())"
   ]
  },
  {
   "cell_type": "code",
   "execution_count": 59,
   "id": "a52f2501",
   "metadata": {
    "ExecuteTime": {
     "end_time": "2021-07-10T02:38:36.443883Z",
     "start_time": "2021-07-10T02:38:36.421877Z"
    }
   },
   "outputs": [],
   "source": [
    "rf_mutation_rna = pd.read_csv(\n",
    "    f\"../../work_dirs/sanger_ctd2/ec_rf/mutation_rna/scores_202107101028_ec_rf_lrp_drug_mutation_rna.csv\"\n",
    ")"
   ]
  },
  {
   "cell_type": "code",
   "execution_count": 60,
   "id": "dad0cb20",
   "metadata": {
    "ExecuteTime": {
     "end_time": "2021-07-10T02:38:39.732876Z",
     "start_time": "2021-07-10T02:38:39.723423Z"
    }
   },
   "outputs": [
    {
     "name": "stdout",
     "output_type": "stream",
     "text": [
      "0.20586930699746028\n",
      "0.47464646051493437\n",
      "0.9275357736091712\n"
     ]
    }
   ],
   "source": [
    "print(rf_mutation_rna.groupby(['drug_id'])['r2'].mean().median())\n",
    "print(rf_mutation_rna.groupby(['drug_id'])['corr'].mean().median())\n",
    "print(rf_mutation_rna.groupby(['drug_id'])['mae'].mean().median())"
   ]
  },
  {
   "cell_type": "markdown",
   "id": "0e9f23af",
   "metadata": {},
   "source": [
    "## cnv rna"
   ]
  },
  {
   "cell_type": "code",
   "execution_count": 28,
   "id": "de83120f",
   "metadata": {
    "ExecuteTime": {
     "end_time": "2021-07-08T04:59:06.519892Z",
     "start_time": "2021-07-08T04:58:58.939491Z"
    }
   },
   "outputs": [],
   "source": [
    "dl_cnv_rna = pd.read_csv(\n",
    "    f\"../../work_dirs/sanger_ctd2/DeepMultiOmicNet/cnv_rna/scores_202107071123_DOIT_LRP.csv.gz\"\n",
    ")"
   ]
  },
  {
   "cell_type": "code",
   "execution_count": 29,
   "id": "1a48aae0",
   "metadata": {
    "ExecuteTime": {
     "end_time": "2021-07-08T04:59:09.711854Z",
     "start_time": "2021-07-08T04:59:07.080202Z"
    }
   },
   "outputs": [
    {
     "name": "stdout",
     "output_type": "stream",
     "text": [
      "r2    0.220573\n",
      "dtype: float64\n",
      "corr    0.486118\n",
      "dtype: float64\n",
      "mae    0.915394\n",
      "dtype: float64\n"
     ]
    }
   ],
   "source": [
    "print(dl_cnv_rna.groupby(['drug_id',\n",
    "                     'run']).max()['r2'].reset_index().groupby('drug_id').mean().median())\n",
    "print(dl_cnv_rna.groupby(['drug_id',\n",
    "                     'run']).max()['corr'].reset_index().groupby('drug_id').mean().median())\n",
    "print(dl_cnv_rna.groupby(['drug_id',\n",
    "                     'run']).min()['mae'].reset_index().groupby('drug_id').mean().median())"
   ]
  },
  {
   "cell_type": "markdown",
   "id": "298de769",
   "metadata": {},
   "source": [
    "## mutation cnv rna"
   ]
  },
  {
   "cell_type": "markdown",
   "id": "d77801d0",
   "metadata": {},
   "source": [
    "### DL"
   ]
  },
  {
   "cell_type": "code",
   "execution_count": 23,
   "id": "8d775058",
   "metadata": {
    "ExecuteTime": {
     "end_time": "2021-07-15T01:39:51.235139Z",
     "start_time": "2021-07-15T01:39:45.796111Z"
    }
   },
   "outputs": [],
   "source": [
    "dl_mutation_cnv_rna = pd.read_csv(\n",
    "    f\"../../work_dirs/sanger_ctd2/DeepMultiOmicNet/mutation_cnv_rna/scores_202107142106_DOIT_LRP.csv.gz\"\n",
    ")"
   ]
  },
  {
   "cell_type": "code",
   "execution_count": 24,
   "id": "705905d5",
   "metadata": {
    "ExecuteTime": {
     "end_time": "2021-07-15T01:39:53.734478Z",
     "start_time": "2021-07-15T01:39:51.928581Z"
    }
   },
   "outputs": [
    {
     "name": "stdout",
     "output_type": "stream",
     "text": [
      "r2    0.158727\n",
      "dtype: float64\n",
      "corr    0.414859\n",
      "dtype: float64\n",
      "mae    0.88423\n",
      "dtype: float64\n"
     ]
    }
   ],
   "source": [
    "print(dl_mutation_cnv_rna.groupby(['drug_id',\n",
    "                     'run']).max()['r2'].reset_index().groupby('drug_id').mean().median())\n",
    "print(dl_mutation_cnv_rna.groupby(['drug_id',\n",
    "                     'run']).max()['corr'].reset_index().groupby('drug_id').mean().median())\n",
    "print(dl_mutation_cnv_rna.groupby(['drug_id',\n",
    "                     'run']).min()['mae'].reset_index().groupby('drug_id').mean().median())"
   ]
  },
  {
   "cell_type": "markdown",
   "id": "cb227654",
   "metadata": {},
   "source": [
    "### RF"
   ]
  },
  {
   "cell_type": "code",
   "execution_count": 10,
   "id": "98d608c5",
   "metadata": {
    "ExecuteTime": {
     "end_time": "2021-07-14T06:42:48.062053Z",
     "start_time": "2021-07-14T06:42:48.041142Z"
    }
   },
   "outputs": [],
   "source": [
    "rf_mutation_cnv_rna = pd.read_csv(\n",
    "    f\"../../work_dirs/sanger_ctd2/ec_rf/mutation_cnv_rna/scores_202107131442_ec_rf_lrp_drug_mutation_cnv_rna.csv\"\n",
    ")"
   ]
  },
  {
   "cell_type": "code",
   "execution_count": 5,
   "id": "db5b2f68",
   "metadata": {
    "ExecuteTime": {
     "end_time": "2021-07-13T12:43:27.376373Z",
     "start_time": "2021-07-13T12:43:27.366059Z"
    }
   },
   "outputs": [
    {
     "name": "stdout",
     "output_type": "stream",
     "text": [
      "0.10742289371921449\n",
      "0.36278892579705785\n",
      "0.8699715028691898\n"
     ]
    }
   ],
   "source": [
    "print(rf_mutation_cnv_rna.groupby(['drug_id'])['r2'].mean().median())\n",
    "print(rf_mutation_cnv_rna.groupby(['drug_id'])['corr'].mean().median())\n",
    "print(rf_mutation_cnv_rna.groupby(['drug_id'])['mae'].mean().median())"
   ]
  },
  {
   "cell_type": "code",
   "execution_count": null,
   "id": "34e6071e",
   "metadata": {},
   "outputs": [],
   "source": []
  },
  {
   "cell_type": "markdown",
   "id": "b073d73b",
   "metadata": {},
   "source": [
    "### EN"
   ]
  },
  {
   "cell_type": "code",
   "execution_count": 20,
   "id": "d841876c",
   "metadata": {
    "ExecuteTime": {
     "end_time": "2021-07-14T08:04:47.009135Z",
     "start_time": "2021-07-14T08:04:46.987616Z"
    }
   },
   "outputs": [],
   "source": [
    "en_mutation_cnv_rna = pd.read_csv(\n",
    "    f\"../../work_dirs/sanger_ctd2/ec_en/mutation_cnv_rna/scores_202107131309_ec_en_lrp_drug_mutation_cnv_rna.csv\"\n",
    ")"
   ]
  },
  {
   "cell_type": "code",
   "execution_count": 21,
   "id": "05ee1743",
   "metadata": {
    "ExecuteTime": {
     "end_time": "2021-07-14T08:04:47.978543Z",
     "start_time": "2021-07-14T08:04:47.969770Z"
    }
   },
   "outputs": [
    {
     "name": "stdout",
     "output_type": "stream",
     "text": [
      "0.09379873899421615\n",
      "0.3444979183491435\n",
      "0.8807976081624196\n"
     ]
    }
   ],
   "source": [
    "print(en_mutation_cnv_rna.groupby(['drug_id'])['r2'].mean().median())\n",
    "print(en_mutation_cnv_rna.groupby(['drug_id'])['corr'].mean().median())\n",
    "print(en_mutation_cnv_rna.groupby(['drug_id'])['mae'].mean().median())"
   ]
  },
  {
   "cell_type": "code",
   "execution_count": 22,
   "id": "82249a0a",
   "metadata": {
    "ExecuteTime": {
     "end_time": "2021-07-14T08:04:57.429212Z",
     "start_time": "2021-07-14T08:04:57.412543Z"
    }
   },
   "outputs": [
    {
     "data": {
      "text/html": [
       "<div>\n",
       "<style scoped>\n",
       "    .dataframe tbody tr th:only-of-type {\n",
       "        vertical-align: middle;\n",
       "    }\n",
       "\n",
       "    .dataframe tbody tr th {\n",
       "        vertical-align: top;\n",
       "    }\n",
       "\n",
       "    .dataframe thead th {\n",
       "        text-align: right;\n",
       "    }\n",
       "</style>\n",
       "<table border=\"1\" class=\"dataframe\">\n",
       "  <thead>\n",
       "    <tr style=\"text-align: right;\">\n",
       "      <th></th>\n",
       "      <th>mae</th>\n",
       "      <th>rmse</th>\n",
       "      <th>r2</th>\n",
       "      <th>corr</th>\n",
       "    </tr>\n",
       "    <tr>\n",
       "      <th>run</th>\n",
       "      <th></th>\n",
       "      <th></th>\n",
       "      <th></th>\n",
       "      <th></th>\n",
       "    </tr>\n",
       "  </thead>\n",
       "  <tbody>\n",
       "    <tr>\n",
       "      <th>cv_0</th>\n",
       "      <td>0.875547</td>\n",
       "      <td>1.203716</td>\n",
       "      <td>0.087555</td>\n",
       "      <td>0.349604</td>\n",
       "    </tr>\n",
       "    <tr>\n",
       "      <th>cv_1</th>\n",
       "      <td>0.900119</td>\n",
       "      <td>1.191084</td>\n",
       "      <td>0.120905</td>\n",
       "      <td>0.404666</td>\n",
       "    </tr>\n",
       "    <tr>\n",
       "      <th>cv_10</th>\n",
       "      <td>0.887827</td>\n",
       "      <td>1.202624</td>\n",
       "      <td>0.082354</td>\n",
       "      <td>0.323332</td>\n",
       "    </tr>\n",
       "    <tr>\n",
       "      <th>cv_11</th>\n",
       "      <td>0.872517</td>\n",
       "      <td>1.190977</td>\n",
       "      <td>0.092960</td>\n",
       "      <td>0.349607</td>\n",
       "    </tr>\n",
       "    <tr>\n",
       "      <th>cv_12</th>\n",
       "      <td>0.877395</td>\n",
       "      <td>1.189149</td>\n",
       "      <td>0.113393</td>\n",
       "      <td>0.386192</td>\n",
       "    </tr>\n",
       "    <tr>\n",
       "      <th>cv_13</th>\n",
       "      <td>0.884597</td>\n",
       "      <td>1.189351</td>\n",
       "      <td>0.078488</td>\n",
       "      <td>0.331608</td>\n",
       "    </tr>\n",
       "    <tr>\n",
       "      <th>cv_14</th>\n",
       "      <td>0.871372</td>\n",
       "      <td>1.227616</td>\n",
       "      <td>0.089599</td>\n",
       "      <td>0.351641</td>\n",
       "    </tr>\n",
       "    <tr>\n",
       "      <th>cv_15</th>\n",
       "      <td>0.885255</td>\n",
       "      <td>1.199475</td>\n",
       "      <td>0.064200</td>\n",
       "      <td>0.312580</td>\n",
       "    </tr>\n",
       "    <tr>\n",
       "      <th>cv_16</th>\n",
       "      <td>0.877201</td>\n",
       "      <td>1.192359</td>\n",
       "      <td>0.108465</td>\n",
       "      <td>0.374786</td>\n",
       "    </tr>\n",
       "    <tr>\n",
       "      <th>cv_17</th>\n",
       "      <td>0.872843</td>\n",
       "      <td>1.210957</td>\n",
       "      <td>0.105855</td>\n",
       "      <td>0.366087</td>\n",
       "    </tr>\n",
       "    <tr>\n",
       "      <th>cv_18</th>\n",
       "      <td>0.872572</td>\n",
       "      <td>1.202707</td>\n",
       "      <td>0.100826</td>\n",
       "      <td>0.374232</td>\n",
       "    </tr>\n",
       "    <tr>\n",
       "      <th>cv_19</th>\n",
       "      <td>0.882730</td>\n",
       "      <td>1.222961</td>\n",
       "      <td>0.080712</td>\n",
       "      <td>0.331047</td>\n",
       "    </tr>\n",
       "    <tr>\n",
       "      <th>cv_2</th>\n",
       "      <td>0.877259</td>\n",
       "      <td>1.184195</td>\n",
       "      <td>0.062385</td>\n",
       "      <td>0.317668</td>\n",
       "    </tr>\n",
       "    <tr>\n",
       "      <th>cv_20</th>\n",
       "      <td>0.849403</td>\n",
       "      <td>1.155885</td>\n",
       "      <td>0.070954</td>\n",
       "      <td>0.325088</td>\n",
       "    </tr>\n",
       "    <tr>\n",
       "      <th>cv_21</th>\n",
       "      <td>0.880582</td>\n",
       "      <td>1.205777</td>\n",
       "      <td>0.096204</td>\n",
       "      <td>0.367247</td>\n",
       "    </tr>\n",
       "    <tr>\n",
       "      <th>cv_22</th>\n",
       "      <td>0.917080</td>\n",
       "      <td>1.259807</td>\n",
       "      <td>0.075300</td>\n",
       "      <td>0.327059</td>\n",
       "    </tr>\n",
       "    <tr>\n",
       "      <th>cv_23</th>\n",
       "      <td>0.892013</td>\n",
       "      <td>1.206997</td>\n",
       "      <td>0.100662</td>\n",
       "      <td>0.352084</td>\n",
       "    </tr>\n",
       "    <tr>\n",
       "      <th>cv_24</th>\n",
       "      <td>0.875142</td>\n",
       "      <td>1.212630</td>\n",
       "      <td>0.112818</td>\n",
       "      <td>0.380252</td>\n",
       "    </tr>\n",
       "    <tr>\n",
       "      <th>cv_3</th>\n",
       "      <td>0.880115</td>\n",
       "      <td>1.239342</td>\n",
       "      <td>0.079440</td>\n",
       "      <td>0.350004</td>\n",
       "    </tr>\n",
       "    <tr>\n",
       "      <th>cv_4</th>\n",
       "      <td>0.885739</td>\n",
       "      <td>1.182670</td>\n",
       "      <td>0.081759</td>\n",
       "      <td>0.358853</td>\n",
       "    </tr>\n",
       "    <tr>\n",
       "      <th>cv_5</th>\n",
       "      <td>0.868534</td>\n",
       "      <td>1.161855</td>\n",
       "      <td>0.116949</td>\n",
       "      <td>0.387187</td>\n",
       "    </tr>\n",
       "    <tr>\n",
       "      <th>cv_6</th>\n",
       "      <td>0.866999</td>\n",
       "      <td>1.222729</td>\n",
       "      <td>0.072687</td>\n",
       "      <td>0.331988</td>\n",
       "    </tr>\n",
       "    <tr>\n",
       "      <th>cv_7</th>\n",
       "      <td>0.882455</td>\n",
       "      <td>1.210913</td>\n",
       "      <td>0.065596</td>\n",
       "      <td>0.315675</td>\n",
       "    </tr>\n",
       "    <tr>\n",
       "      <th>cv_8</th>\n",
       "      <td>0.877697</td>\n",
       "      <td>1.209241</td>\n",
       "      <td>0.091759</td>\n",
       "      <td>0.346004</td>\n",
       "    </tr>\n",
       "    <tr>\n",
       "      <th>cv_9</th>\n",
       "      <td>0.885248</td>\n",
       "      <td>1.210697</td>\n",
       "      <td>0.093390</td>\n",
       "      <td>0.350396</td>\n",
       "    </tr>\n",
       "  </tbody>\n",
       "</table>\n",
       "</div>"
      ],
      "text/plain": [
       "            mae      rmse        r2      corr\n",
       "run                                          \n",
       "cv_0   0.875547  1.203716  0.087555  0.349604\n",
       "cv_1   0.900119  1.191084  0.120905  0.404666\n",
       "cv_10  0.887827  1.202624  0.082354  0.323332\n",
       "cv_11  0.872517  1.190977  0.092960  0.349607\n",
       "cv_12  0.877395  1.189149  0.113393  0.386192\n",
       "cv_13  0.884597  1.189351  0.078488  0.331608\n",
       "cv_14  0.871372  1.227616  0.089599  0.351641\n",
       "cv_15  0.885255  1.199475  0.064200  0.312580\n",
       "cv_16  0.877201  1.192359  0.108465  0.374786\n",
       "cv_17  0.872843  1.210957  0.105855  0.366087\n",
       "cv_18  0.872572  1.202707  0.100826  0.374232\n",
       "cv_19  0.882730  1.222961  0.080712  0.331047\n",
       "cv_2   0.877259  1.184195  0.062385  0.317668\n",
       "cv_20  0.849403  1.155885  0.070954  0.325088\n",
       "cv_21  0.880582  1.205777  0.096204  0.367247\n",
       "cv_22  0.917080  1.259807  0.075300  0.327059\n",
       "cv_23  0.892013  1.206997  0.100662  0.352084\n",
       "cv_24  0.875142  1.212630  0.112818  0.380252\n",
       "cv_3   0.880115  1.239342  0.079440  0.350004\n",
       "cv_4   0.885739  1.182670  0.081759  0.358853\n",
       "cv_5   0.868534  1.161855  0.116949  0.387187\n",
       "cv_6   0.866999  1.222729  0.072687  0.331988\n",
       "cv_7   0.882455  1.210913  0.065596  0.315675\n",
       "cv_8   0.877697  1.209241  0.091759  0.346004\n",
       "cv_9   0.885248  1.210697  0.093390  0.350396"
      ]
     },
     "execution_count": 22,
     "metadata": {},
     "output_type": "execute_result"
    }
   ],
   "source": [
    "en_mutation_cnv_rna.groupby('run').median()"
   ]
  },
  {
   "cell_type": "markdown",
   "id": "885b8401",
   "metadata": {},
   "source": [
    "### SVML"
   ]
  },
  {
   "cell_type": "code",
   "execution_count": 66,
   "id": "dca45e59",
   "metadata": {
    "ExecuteTime": {
     "end_time": "2021-07-12T06:17:48.859992Z",
     "start_time": "2021-07-12T06:17:48.825741Z"
    }
   },
   "outputs": [],
   "source": [
    "svml_mutation_cnv_rna = pd.read_csv(\n",
    "    f\"../../work_dirs/sanger_ctd2/ec_svml/mutation_cnv_rna/scores_202107110205_ec_svml_lrp_drug_mutation_cnv_rna.csv\"\n",
    ")"
   ]
  },
  {
   "cell_type": "code",
   "execution_count": 67,
   "id": "a73e48d9",
   "metadata": {
    "ExecuteTime": {
     "end_time": "2021-07-12T06:17:49.908181Z",
     "start_time": "2021-07-12T06:17:49.897240Z"
    }
   },
   "outputs": [
    {
     "name": "stdout",
     "output_type": "stream",
     "text": [
      "-0.09942953007242837\n",
      "0.3824298132459269\n",
      "1.0914120870999893\n"
     ]
    }
   ],
   "source": [
    "print(svml_mutation_cnv_rna.groupby(['drug_id'])['r2'].mean().median())\n",
    "print(svml_mutation_cnv_rna.groupby(['drug_id'])['corr'].mean().median())\n",
    "print(svml_mutation_cnv_rna.groupby(['drug_id'])['mae'].mean().median())"
   ]
  },
  {
   "cell_type": "markdown",
   "id": "ad4f7a57",
   "metadata": {},
   "source": [
    "### mixomics"
   ]
  },
  {
   "cell_type": "code",
   "execution_count": 68,
   "id": "7b909175",
   "metadata": {
    "ExecuteTime": {
     "end_time": "2021-07-13T02:27:21.029812Z",
     "start_time": "2021-07-13T02:27:21.002976Z"
    }
   },
   "outputs": [],
   "source": [
    "mixomics_mutation_cnv_rna = pd.read_csv(\n",
    "    f\"../../work_dirs/mixOmics/sanger_mutation_cnv_rna_ctd2.csv\"\n",
    ")"
   ]
  },
  {
   "cell_type": "code",
   "execution_count": 70,
   "id": "17ef01fd",
   "metadata": {
    "ExecuteTime": {
     "end_time": "2021-07-13T02:27:32.951001Z",
     "start_time": "2021-07-13T02:27:32.941170Z"
    }
   },
   "outputs": [
    {
     "name": "stdout",
     "output_type": "stream",
     "text": [
      "0.08115820467385244\n",
      "0.35061272507510033\n",
      "1.0113337753428384\n"
     ]
    }
   ],
   "source": [
    "print(mixomics_mutation_cnv_rna.groupby(['drug_id'])['r2'].mean().median())\n",
    "print(mixomics_mutation_cnv_rna.groupby(['drug_id'])['corr'].mean().median())\n",
    "print(mixomics_mutation_cnv_rna.groupby(['drug_id'])['mae'].mean().median())"
   ]
  },
  {
   "cell_type": "markdown",
   "id": "04073298",
   "metadata": {},
   "source": [
    "### pca_rf"
   ]
  },
  {
   "cell_type": "code",
   "execution_count": 73,
   "id": "15acf44b",
   "metadata": {
    "ExecuteTime": {
     "end_time": "2021-07-13T02:31:30.892168Z",
     "start_time": "2021-07-13T02:31:30.861877Z"
    }
   },
   "outputs": [],
   "source": [
    "pca_mutation_cnv_rna = pd.read_csv(\n",
    "    f\"../../work_dirs/sanger_ctd2/pca_rf/mutation_cnv_rna/scores_202107121818_pca_rf_lrp_drug_mutation_cnv_rna.csv\"\n",
    ")"
   ]
  },
  {
   "cell_type": "code",
   "execution_count": 74,
   "id": "20daa6f0",
   "metadata": {
    "ExecuteTime": {
     "end_time": "2021-07-13T02:31:33.440786Z",
     "start_time": "2021-07-13T02:31:33.430554Z"
    }
   },
   "outputs": [
    {
     "name": "stdout",
     "output_type": "stream",
     "text": [
      "0.13294702383675439\n",
      "0.4122781361428156\n",
      "0.9800546307137779\n"
     ]
    }
   ],
   "source": [
    "print(pca_mutation_cnv_rna.groupby(['drug_id'])['r2'].mean().median())\n",
    "print(pca_mutation_cnv_rna.groupby(['drug_id'])['corr'].mean().median())\n",
    "print(pca_mutation_cnv_rna.groupby(['drug_id'])['mae'].mean().median())"
   ]
  },
  {
   "cell_type": "markdown",
   "id": "24881b8a",
   "metadata": {},
   "source": [
    "### moCluster_rf"
   ]
  },
  {
   "cell_type": "code",
   "execution_count": 75,
   "id": "0c38e772",
   "metadata": {
    "ExecuteTime": {
     "end_time": "2021-07-13T02:35:19.441212Z",
     "start_time": "2021-07-13T02:35:19.416647Z"
    }
   },
   "outputs": [],
   "source": [
    "moCluster_mutation_cnv_rna = pd.read_csv(\n",
    "    f\"../../work_dirs/sanger_ctd2/moCluster_rf/mutation_cnv_rna/scores_202107121932_moCluster_rf_lrp_drug_mutation_cnv_rna.csv\"\n",
    ")"
   ]
  },
  {
   "cell_type": "code",
   "execution_count": 76,
   "id": "55f5f8e9",
   "metadata": {
    "ExecuteTime": {
     "end_time": "2021-07-13T02:35:20.215929Z",
     "start_time": "2021-07-13T02:35:20.205162Z"
    }
   },
   "outputs": [
    {
     "name": "stdout",
     "output_type": "stream",
     "text": [
      "0.12960323626430884\n",
      "0.3959262454767463\n",
      "0.9786557913847929\n"
     ]
    }
   ],
   "source": [
    "print(moCluster_mutation_cnv_rna.groupby(['drug_id'])['r2'].mean().median())\n",
    "print(moCluster_mutation_cnv_rna.groupby(['drug_id'])['corr'].mean().median())\n",
    "print(moCluster_mutation_cnv_rna.groupby(['drug_id'])['mae'].mean().median())"
   ]
  },
  {
   "cell_type": "code",
   "execution_count": null,
   "id": "cdede239",
   "metadata": {},
   "outputs": [],
   "source": []
  },
  {
   "cell_type": "code",
   "execution_count": null,
   "id": "392bbaf2",
   "metadata": {},
   "outputs": [],
   "source": []
  }
 ],
 "metadata": {
  "kernelspec": {
   "display_name": "Python 3",
   "language": "python",
   "name": "python3"
  },
  "language_info": {
   "codemirror_mode": {
    "name": "ipython",
    "version": 3
   },
   "file_extension": ".py",
   "mimetype": "text/x-python",
   "name": "python",
   "nbconvert_exporter": "python",
   "pygments_lexer": "ipython3",
   "version": "3.8.10"
  },
  "toc": {
   "base_numbering": 1,
   "nav_menu": {},
   "number_sections": true,
   "sideBar": true,
   "skip_h1_title": false,
   "title_cell": "Table of Contents",
   "title_sidebar": "Contents",
   "toc_cell": false,
   "toc_position": {},
   "toc_section_display": true,
   "toc_window_display": true
  }
 },
 "nbformat": 4,
 "nbformat_minor": 5
}
