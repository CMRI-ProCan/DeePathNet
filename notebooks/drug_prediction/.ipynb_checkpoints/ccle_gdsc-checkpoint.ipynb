{
 "cells": [
  {
   "cell_type": "code",
   "execution_count": 1,
   "id": "3dc3d506",
   "metadata": {
    "ExecuteTime": {
     "end_time": "2021-07-07T09:44:10.436072Z",
     "start_time": "2021-07-07T09:44:08.945868Z"
    }
   },
   "outputs": [],
   "source": [
    "import pandas as pd\n",
    "import numpy as np\n",
    "import matplotlib.pyplot as plt\n",
    "import seaborn as sns\n",
    "from scipy.stats import ttest_rel\n",
    "from qgrid import show_grid\n",
    "from sklearn.preprocessing import MinMaxScaler"
   ]
  },
  {
   "cell_type": "code",
   "execution_count": 2,
   "id": "45dbdad2",
   "metadata": {
    "ExecuteTime": {
     "end_time": "2021-07-07T09:44:10.442387Z",
     "start_time": "2021-07-07T09:44:10.438017Z"
    }
   },
   "outputs": [],
   "source": [
    "def get_dl_test_score(scores_df, metric='r2'):\n",
    "    max_epoch = scores_df[scores_df['run'] == 'test'].groupby(\n",
    "        ['epoch']).median()[metric].reset_index()\n",
    "    epoch = max_epoch[max_epoch[metric] ==\n",
    "                      max_epoch[metric].max()]['epoch'].values[0]\n",
    "    print(epoch)\n",
    "    tmp_test = scores_df[(scores_df['run'] == 'test')\n",
    "                         & (scores_df['epoch'] == epoch)][[\n",
    "                             'drug_id', 'mae', 'rmse', 'corr', 'r2'\n",
    "                         ]].rename(\n",
    "                             columns={\n",
    "                                 'mae': 'test_mae',\n",
    "                                 'corr': 'test_corr',\n",
    "                                 'rmse': 'test_rmse',\n",
    "                                 'r2': 'test_r2',\n",
    "                             }).reset_index(drop=True)\n",
    "    tmp_test['model'] = 'DL'\n",
    "    return tmp_test"
   ]
  },
  {
   "cell_type": "code",
   "execution_count": 3,
   "id": "3047d6d0",
   "metadata": {
    "ExecuteTime": {
     "end_time": "2021-07-07T09:44:10.447838Z",
     "start_time": "2021-07-07T09:44:10.444412Z"
    }
   },
   "outputs": [],
   "source": [
    "def get_dl_test_score_cls(scores_df, metric='auc'):\n",
    "    max_epoch = scores_df[scores_df['run'] == 'test'].groupby(\n",
    "        ['epoch']).median()[metric].reset_index()\n",
    "    epoch = max_epoch[max_epoch[metric] ==\n",
    "                      max_epoch[metric].max()]['epoch'].values[0]\n",
    "    tmp_test = scores_df[(scores_df['run'] == 'test')\n",
    "                         & (scores_df['epoch'] == epoch)][[\n",
    "                             'drug_id', 'accuracy', 'auc'\n",
    "                         ]].rename(\n",
    "                             columns={\n",
    "                                 'accuracy': 'test_acc',\n",
    "                                 'auc': 'test_auc'\n",
    "                             }).reset_index(drop=True)\n",
    "    tmp_test['model'] = 'DL'\n",
    "    return tmp_test"
   ]
  },
  {
   "cell_type": "markdown",
   "id": "6e6213e5",
   "metadata": {},
   "source": [
    "# DL"
   ]
  },
  {
   "cell_type": "markdown",
   "id": "d3f0b6bb",
   "metadata": {},
   "source": [
    "## mutation"
   ]
  },
  {
   "cell_type": "code",
   "execution_count": 6,
   "id": "0d01281b",
   "metadata": {
    "ExecuteTime": {
     "end_time": "2021-07-07T09:45:46.962535Z",
     "start_time": "2021-07-07T09:45:39.077114Z"
    }
   },
   "outputs": [],
   "source": [
    "dl_mutation = pd.read_csv(\n",
    "    f\"../../work_dirs/sanger_gdsc_intersection_noprot/DeepMultiOmicNet/mutation/scores_202107061708_DOIT_LRP.csv.gz\"\n",
    ")"
   ]
  },
  {
   "cell_type": "code",
   "execution_count": 15,
   "id": "efdbe4ac",
   "metadata": {
    "ExecuteTime": {
     "end_time": "2021-07-07T09:49:07.729685Z",
     "start_time": "2021-07-07T09:49:05.164055Z"
    }
   },
   "outputs": [
    {
     "name": "stdout",
     "output_type": "stream",
     "text": [
      "r2    0.01372\n",
      "dtype: float64\n",
      "corr    0.151319\n",
      "dtype: float64\n",
      "mae    1.044603\n",
      "dtype: float64\n"
     ]
    }
   ],
   "source": [
    "print(dl_mutation.groupby(['drug_id',\n",
    "                     'run']).max()['r2'].reset_index().groupby('drug_id').mean().median())\n",
    "print(dl_mutation.groupby(['drug_id',\n",
    "                     'run']).max()['corr'].reset_index().groupby('drug_id').mean().median())\n",
    "print(dl_mutation.groupby(['drug_id',\n",
    "                     'run']).min()['mae'].reset_index().groupby('drug_id').mean().median())"
   ]
  },
  {
   "cell_type": "markdown",
   "id": "6187aa52",
   "metadata": {},
   "source": [
    "## cnv"
   ]
  },
  {
   "cell_type": "code",
   "execution_count": 16,
   "id": "ab865356",
   "metadata": {
    "ExecuteTime": {
     "end_time": "2021-07-07T09:49:22.799940Z",
     "start_time": "2021-07-07T09:49:15.079197Z"
    }
   },
   "outputs": [],
   "source": [
    "dl_cnv = pd.read_csv(\n",
    "    f\"../../work_dirs/sanger_gdsc_intersection_noprot/DeepMultiOmicNet/cnv/scores_202107061709_DOIT_LRP.csv.gz\"\n",
    ")"
   ]
  },
  {
   "cell_type": "code",
   "execution_count": 17,
   "id": "7a21c4f8",
   "metadata": {
    "ExecuteTime": {
     "end_time": "2021-07-07T09:49:26.440589Z",
     "start_time": "2021-07-07T09:49:23.858458Z"
    }
   },
   "outputs": [
    {
     "name": "stdout",
     "output_type": "stream",
     "text": [
      "r2    0.072722\n",
      "dtype: float64\n",
      "corr    0.29056\n",
      "dtype: float64\n",
      "mae    1.011733\n",
      "dtype: float64\n"
     ]
    }
   ],
   "source": [
    "print(dl_cnv.groupby(['drug_id',\n",
    "                     'run']).max()['r2'].reset_index().groupby('drug_id').mean().median())\n",
    "print(dl_cnv.groupby(['drug_id',\n",
    "                     'run']).max()['corr'].reset_index().groupby('drug_id').mean().median())\n",
    "print(dl_cnv.groupby(['drug_id',\n",
    "                     'run']).min()['mae'].reset_index().groupby('drug_id').mean().median())"
   ]
  },
  {
   "cell_type": "markdown",
   "id": "d2a84067",
   "metadata": {},
   "source": [
    "## rna"
   ]
  },
  {
   "cell_type": "code",
   "execution_count": 18,
   "id": "aabdcfd4",
   "metadata": {
    "ExecuteTime": {
     "end_time": "2021-07-07T09:49:57.863237Z",
     "start_time": "2021-07-07T09:49:50.293504Z"
    }
   },
   "outputs": [],
   "source": [
    "dl_rna = pd.read_csv(\n",
    "    f\"../../work_dirs/sanger_gdsc_intersection_noprot/DeepMultiOmicNet/rna/scores_202107061710_DOIT_LRP.csv.gz\"\n",
    ")"
   ]
  },
  {
   "cell_type": "code",
   "execution_count": 19,
   "id": "fdec3e7a",
   "metadata": {
    "ExecuteTime": {
     "end_time": "2021-07-07T09:50:01.346147Z",
     "start_time": "2021-07-07T09:49:58.702740Z"
    },
    "code_folding": []
   },
   "outputs": [
    {
     "name": "stdout",
     "output_type": "stream",
     "text": [
      "r2    0.216283\n",
      "dtype: float64\n",
      "corr    0.481545\n",
      "dtype: float64\n",
      "mae    0.91897\n",
      "dtype: float64\n"
     ]
    }
   ],
   "source": [
    "print(dl_rna.groupby(['drug_id',\n",
    "                     'run']).max()['r2'].reset_index().groupby('drug_id').mean().median())\n",
    "print(dl_rna.groupby(['drug_id',\n",
    "                     'run']).max()['corr'].reset_index().groupby('drug_id').mean().median())\n",
    "print(dl_rna.groupby(['drug_id',\n",
    "                     'run']).min()['mae'].reset_index().groupby('drug_id').mean().median())"
   ]
  },
  {
   "cell_type": "markdown",
   "id": "e482ae1b",
   "metadata": {},
   "source": [
    "## mutation cnv"
   ]
  },
  {
   "cell_type": "code",
   "execution_count": 30,
   "id": "f3616c9a",
   "metadata": {
    "ExecuteTime": {
     "end_time": "2021-07-08T04:59:54.587287Z",
     "start_time": "2021-07-08T04:59:47.290433Z"
    }
   },
   "outputs": [],
   "source": [
    "dl_mutation_cnv = pd.read_csv(\n",
    "    f\"../../work_dirs/sanger_gdsc_intersection_noprot/DeepMultiOmicNet/mutation_cnv/scores_202107071113_DOIT_LRP.csv.gz\"\n",
    ")"
   ]
  },
  {
   "cell_type": "code",
   "execution_count": 31,
   "id": "9db96e95",
   "metadata": {
    "ExecuteTime": {
     "end_time": "2021-07-08T04:59:57.880113Z",
     "start_time": "2021-07-08T04:59:55.224450Z"
    }
   },
   "outputs": [
    {
     "name": "stdout",
     "output_type": "stream",
     "text": [
      "r2    0.080649\n",
      "dtype: float64\n",
      "corr    0.306296\n",
      "dtype: float64\n",
      "mae    1.006256\n",
      "dtype: float64\n"
     ]
    }
   ],
   "source": [
    "print(dl_mutation_cnv.groupby(['drug_id',\n",
    "                     'run']).max()['r2'].reset_index().groupby('drug_id').mean().median())\n",
    "print(dl_mutation_cnv.groupby(['drug_id',\n",
    "                     'run']).max()['corr'].reset_index().groupby('drug_id').mean().median())\n",
    "print(dl_mutation_cnv.groupby(['drug_id',\n",
    "                     'run']).min()['mae'].reset_index().groupby('drug_id').mean().median())"
   ]
  },
  {
   "cell_type": "markdown",
   "id": "8059165e",
   "metadata": {},
   "source": [
    "## mutation rna"
   ]
  },
  {
   "cell_type": "code",
   "execution_count": 32,
   "id": "e615d5d2",
   "metadata": {
    "ExecuteTime": {
     "end_time": "2021-07-08T05:00:39.111561Z",
     "start_time": "2021-07-08T05:00:31.804682Z"
    }
   },
   "outputs": [],
   "source": [
    "dl_mutation_rna = pd.read_csv(\n",
    "    f\"../../work_dirs/sanger_gdsc_intersection_noprot/DeepMultiOmicNet/mutation_rna/scores_202107071113_DOIT_LRP.csv.gz\"\n",
    ")"
   ]
  },
  {
   "cell_type": "code",
   "execution_count": 33,
   "id": "85726df5",
   "metadata": {
    "ExecuteTime": {
     "end_time": "2021-07-08T05:00:41.803843Z",
     "start_time": "2021-07-08T05:00:39.113810Z"
    }
   },
   "outputs": [
    {
     "name": "stdout",
     "output_type": "stream",
     "text": [
      "r2    0.222617\n",
      "dtype: float64\n",
      "corr    0.488953\n",
      "dtype: float64\n",
      "mae    0.914403\n",
      "dtype: float64\n"
     ]
    }
   ],
   "source": [
    "print(dl_mutation_rna.groupby(['drug_id',\n",
    "                     'run']).max()['r2'].reset_index().groupby('drug_id').mean().median())\n",
    "print(dl_mutation_rna.groupby(['drug_id',\n",
    "                     'run']).max()['corr'].reset_index().groupby('drug_id').mean().median())\n",
    "print(dl_mutation_rna.groupby(['drug_id',\n",
    "                     'run']).min()['mae'].reset_index().groupby('drug_id').mean().median())"
   ]
  },
  {
   "cell_type": "code",
   "execution_count": 59,
   "id": "1f143ab7",
   "metadata": {
    "ExecuteTime": {
     "end_time": "2021-07-10T02:38:36.443883Z",
     "start_time": "2021-07-10T02:38:36.421877Z"
    }
   },
   "outputs": [],
   "source": [
    "rf_mutation_rna = pd.read_csv(\n",
    "    f\"../../work_dirs/sanger_gdsc_intersection_noprot/ec_rf/mutation_rna/scores_202107101028_ec_rf_lrp_drug_mutation_rna.csv\"\n",
    ")"
   ]
  },
  {
   "cell_type": "code",
   "execution_count": 60,
   "id": "4c4ae7fa",
   "metadata": {
    "ExecuteTime": {
     "end_time": "2021-07-10T02:38:39.732876Z",
     "start_time": "2021-07-10T02:38:39.723423Z"
    }
   },
   "outputs": [
    {
     "name": "stdout",
     "output_type": "stream",
     "text": [
      "0.20586930699746028\n",
      "0.47464646051493437\n",
      "0.9275357736091712\n"
     ]
    }
   ],
   "source": [
    "print(rf_mutation_rna.groupby(['drug_id'])['r2'].mean().median())\n",
    "print(rf_mutation_rna.groupby(['drug_id'])['corr'].mean().median())\n",
    "print(rf_mutation_rna.groupby(['drug_id'])['mae'].mean().median())"
   ]
  },
  {
   "cell_type": "markdown",
   "id": "e0ccaba1",
   "metadata": {},
   "source": [
    "## cnv rna"
   ]
  },
  {
   "cell_type": "code",
   "execution_count": 28,
   "id": "28b9392b",
   "metadata": {
    "ExecuteTime": {
     "end_time": "2021-07-08T04:59:06.519892Z",
     "start_time": "2021-07-08T04:58:58.939491Z"
    }
   },
   "outputs": [],
   "source": [
    "dl_cnv_rna = pd.read_csv(\n",
    "    f\"../../work_dirs/sanger_gdsc_intersection_noprot/DeepMultiOmicNet/cnv_rna/scores_202107071123_DOIT_LRP.csv.gz\"\n",
    ")"
   ]
  },
  {
   "cell_type": "code",
   "execution_count": 29,
   "id": "2f380378",
   "metadata": {
    "ExecuteTime": {
     "end_time": "2021-07-08T04:59:09.711854Z",
     "start_time": "2021-07-08T04:59:07.080202Z"
    }
   },
   "outputs": [
    {
     "name": "stdout",
     "output_type": "stream",
     "text": [
      "r2    0.220573\n",
      "dtype: float64\n",
      "corr    0.486118\n",
      "dtype: float64\n",
      "mae    0.915394\n",
      "dtype: float64\n"
     ]
    }
   ],
   "source": [
    "print(dl_cnv_rna.groupby(['drug_id',\n",
    "                     'run']).max()['r2'].reset_index().groupby('drug_id').mean().median())\n",
    "print(dl_cnv_rna.groupby(['drug_id',\n",
    "                     'run']).max()['corr'].reset_index().groupby('drug_id').mean().median())\n",
    "print(dl_cnv_rna.groupby(['drug_id',\n",
    "                     'run']).min()['mae'].reset_index().groupby('drug_id').mean().median())"
   ]
  },
  {
   "cell_type": "markdown",
   "id": "49bdd6c3",
   "metadata": {},
   "source": [
    "## mutation cnv rna"
   ]
  },
  {
   "cell_type": "markdown",
   "id": "1ec21589",
   "metadata": {},
   "source": [
    "### DL"
   ]
  },
  {
   "cell_type": "code",
   "execution_count": 40,
   "id": "23cde42b",
   "metadata": {
    "ExecuteTime": {
     "end_time": "2021-07-08T13:52:25.284736Z",
     "start_time": "2021-07-08T13:52:17.610831Z"
    }
   },
   "outputs": [],
   "source": [
    "dl_mutation_cnv_rna = pd.read_csv(\n",
    "    f\"../../work_dirs/sanger_gdsc_intersection_noprot/DeepMultiOmicNet/mutation_cnv_rna/scores_202107081045_DOIT_LRP.csv.gz\"\n",
    ")"
   ]
  },
  {
   "cell_type": "code",
   "execution_count": 41,
   "id": "8700211e",
   "metadata": {
    "ExecuteTime": {
     "end_time": "2021-07-08T13:52:28.551501Z",
     "start_time": "2021-07-08T13:52:25.972221Z"
    }
   },
   "outputs": [
    {
     "name": "stdout",
     "output_type": "stream",
     "text": [
      "r2    0.221218\n",
      "dtype: float64\n",
      "corr    0.490467\n",
      "dtype: float64\n",
      "mae    0.915229\n",
      "dtype: float64\n"
     ]
    }
   ],
   "source": [
    "print(dl_mutation_cnv_rna.groupby(['drug_id',\n",
    "                     'run']).max()['r2'].reset_index().groupby('drug_id').mean().median())\n",
    "print(dl_mutation_cnv_rna.groupby(['drug_id',\n",
    "                     'run']).max()['corr'].reset_index().groupby('drug_id').mean().median())\n",
    "print(dl_mutation_cnv_rna.groupby(['drug_id',\n",
    "                     'run']).min()['mae'].reset_index().groupby('drug_id').mean().median())"
   ]
  },
  {
   "cell_type": "code",
   "execution_count": 24,
   "id": "77755914",
   "metadata": {
    "ExecuteTime": {
     "end_time": "2021-07-07T09:52:34.452926Z",
     "start_time": "2021-07-07T09:52:31.791891Z"
    }
   },
   "outputs": [
    {
     "name": "stdout",
     "output_type": "stream",
     "text": [
      "r2    0.223548\n",
      "dtype: float64\n",
      "corr    0.488805\n",
      "dtype: float64\n",
      "mae    0.915843\n",
      "dtype: float64\n"
     ]
    }
   ],
   "source": [
    "print(dl_mutation_cnv_rna.groupby(['drug_id',\n",
    "                     'run']).max()['r2'].reset_index().groupby('drug_id').mean().median())\n",
    "print(dl_mutation_cnv_rna.groupby(['drug_id',\n",
    "                     'run']).max()['corr'].reset_index().groupby('drug_id').mean().median())\n",
    "print(dl_mutation_cnv_rna.groupby(['drug_id',\n",
    "                     'run']).min()['mae'].reset_index().groupby('drug_id').mean().median())"
   ]
  },
  {
   "cell_type": "markdown",
   "id": "8100a803",
   "metadata": {},
   "source": [
    "### RF"
   ]
  },
  {
   "cell_type": "code",
   "execution_count": 61,
   "id": "267a872c",
   "metadata": {
    "ExecuteTime": {
     "end_time": "2021-07-10T05:23:12.923786Z",
     "start_time": "2021-07-10T05:23:12.902947Z"
    }
   },
   "outputs": [],
   "source": [
    "rf_mutation_cnv_rna = pd.read_csv(\n",
    "    f\"../../work_dirs/sanger_gdsc_intersection_noprot/ec_rf/mutation_cnv_rna/scores_202107101239_ec_rf_lrp_drug_mutation_cnv_rna.csv\"\n",
    ")"
   ]
  },
  {
   "cell_type": "code",
   "execution_count": 63,
   "id": "eb4f97f7",
   "metadata": {
    "ExecuteTime": {
     "end_time": "2021-07-10T05:23:37.506149Z",
     "start_time": "2021-07-10T05:23:37.496426Z"
    }
   },
   "outputs": [
    {
     "name": "stdout",
     "output_type": "stream",
     "text": [
      "0.20550677398248285\n",
      "0.47485134869361156\n",
      "0.9294312362792185\n"
     ]
    }
   ],
   "source": [
    "print(rf_mutation_cnv_rna.groupby(['drug_id'])['r2'].mean().median())\n",
    "print(rf_mutation_cnv_rna.groupby(['drug_id'])['corr'].mean().median())\n",
    "print(rf_mutation_cnv_rna.groupby(['drug_id'])['mae'].mean().median())"
   ]
  },
  {
   "cell_type": "code",
   "execution_count": 71,
   "id": "8e8eff2e",
   "metadata": {
    "ExecuteTime": {
     "end_time": "2021-07-13T02:28:42.197351Z",
     "start_time": "2021-07-13T02:28:42.176840Z"
    }
   },
   "outputs": [],
   "source": [
    "rf_mutation_cnv_rna = pd.read_csv(\n",
    "    f\"../../work_dirs/sanger_gdsc_intersection_noprot/ec_rf/mutation_cnv_rna/scores_202107121639_ec_rf_drug_mutation_cnv_rna.csv\"\n",
    ")"
   ]
  },
  {
   "cell_type": "code",
   "execution_count": 72,
   "id": "47441f87",
   "metadata": {
    "ExecuteTime": {
     "end_time": "2021-07-13T02:28:42.895601Z",
     "start_time": "2021-07-13T02:28:42.884274Z"
    }
   },
   "outputs": [
    {
     "name": "stdout",
     "output_type": "stream",
     "text": [
      "0.20471526066506052\n",
      "0.4735326781295234\n",
      "0.9288508839850542\n"
     ]
    }
   ],
   "source": [
    "print(rf_mutation_cnv_rna.groupby(['drug_id'])['r2'].mean().median())\n",
    "print(rf_mutation_cnv_rna.groupby(['drug_id'])['corr'].mean().median())\n",
    "print(rf_mutation_cnv_rna.groupby(['drug_id'])['mae'].mean().median())"
   ]
  },
  {
   "cell_type": "code",
   "execution_count": null,
   "id": "9a1402cf",
   "metadata": {},
   "outputs": [],
   "source": []
  },
  {
   "cell_type": "markdown",
   "id": "394811ab",
   "metadata": {},
   "source": [
    "### EN"
   ]
  },
  {
   "cell_type": "code",
   "execution_count": 64,
   "id": "dd11d5b7",
   "metadata": {
    "ExecuteTime": {
     "end_time": "2021-07-11T16:17:04.660288Z",
     "start_time": "2021-07-11T16:17:04.620711Z"
    }
   },
   "outputs": [],
   "source": [
    "en_mutation_cnv_rna = pd.read_csv(\n",
    "    f\"../../work_dirs/sanger_gdsc_intersection_noprot/ec_en/mutation_cnv_rna/scores_202107110149_ec_en_lrp_drug_mutation_cnv_rna.csv\"\n",
    ")"
   ]
  },
  {
   "cell_type": "code",
   "execution_count": 65,
   "id": "d76b9aff",
   "metadata": {
    "ExecuteTime": {
     "end_time": "2021-07-11T16:17:10.493045Z",
     "start_time": "2021-07-11T16:17:10.482920Z"
    }
   },
   "outputs": [
    {
     "name": "stdout",
     "output_type": "stream",
     "text": [
      "0.17117615136314104\n",
      "0.43910758231574215\n",
      "0.9477204437076046\n"
     ]
    }
   ],
   "source": [
    "print(en_mutation_cnv_rna.groupby(['drug_id'])['r2'].mean().median())\n",
    "print(en_mutation_cnv_rna.groupby(['drug_id'])['corr'].mean().median())\n",
    "print(en_mutation_cnv_rna.groupby(['drug_id'])['mae'].mean().median())"
   ]
  },
  {
   "cell_type": "markdown",
   "id": "ddc812bf",
   "metadata": {},
   "source": [
    "### SVML"
   ]
  },
  {
   "cell_type": "code",
   "execution_count": 66,
   "id": "8925c47e",
   "metadata": {
    "ExecuteTime": {
     "end_time": "2021-07-12T06:17:48.859992Z",
     "start_time": "2021-07-12T06:17:48.825741Z"
    }
   },
   "outputs": [],
   "source": [
    "svml_mutation_cnv_rna = pd.read_csv(\n",
    "    f\"../../work_dirs/sanger_gdsc_intersection_noprot/ec_svml/mutation_cnv_rna/scores_202107110205_ec_svml_lrp_drug_mutation_cnv_rna.csv\"\n",
    ")"
   ]
  },
  {
   "cell_type": "code",
   "execution_count": 67,
   "id": "33afbc5f",
   "metadata": {
    "ExecuteTime": {
     "end_time": "2021-07-12T06:17:49.908181Z",
     "start_time": "2021-07-12T06:17:49.897240Z"
    }
   },
   "outputs": [
    {
     "name": "stdout",
     "output_type": "stream",
     "text": [
      "-0.09942953007242837\n",
      "0.3824298132459269\n",
      "1.0914120870999893\n"
     ]
    }
   ],
   "source": [
    "print(svml_mutation_cnv_rna.groupby(['drug_id'])['r2'].mean().median())\n",
    "print(svml_mutation_cnv_rna.groupby(['drug_id'])['corr'].mean().median())\n",
    "print(svml_mutation_cnv_rna.groupby(['drug_id'])['mae'].mean().median())"
   ]
  },
  {
   "cell_type": "markdown",
   "id": "cb58ac0a",
   "metadata": {},
   "source": [
    "### mixomics"
   ]
  },
  {
   "cell_type": "code",
   "execution_count": 77,
   "id": "1bf0b36b",
   "metadata": {
    "ExecuteTime": {
     "end_time": "2021-07-14T03:14:38.765534Z",
     "start_time": "2021-07-14T03:14:38.730118Z"
    }
   },
   "outputs": [],
   "source": [
    "mixomics_mutation_cnv_rna = pd.read_csv(\n",
    "    f\"../../work_dirs/mixOmics/sanger_mutation_cnv_rna_gdsc_10_comp.csv\"\n",
    ")"
   ]
  },
  {
   "cell_type": "code",
   "execution_count": 78,
   "id": "ece40034",
   "metadata": {
    "ExecuteTime": {
     "end_time": "2021-07-14T03:14:42.067721Z",
     "start_time": "2021-07-14T03:14:42.052925Z"
    }
   },
   "outputs": [
    {
     "name": "stdout",
     "output_type": "stream",
     "text": [
      "0.131547783815638\n",
      "0.4125181118104991\n",
      "0.9810575221938649\n"
     ]
    }
   ],
   "source": [
    "print(mixomics_mutation_cnv_rna.groupby(['drug_id'])['r2'].mean().median())\n",
    "print(mixomics_mutation_cnv_rna.groupby(['drug_id'])['corr'].mean().median())\n",
    "print(mixomics_mutation_cnv_rna.groupby(['drug_id'])['mae'].mean().median())"
   ]
  },
  {
   "cell_type": "markdown",
   "id": "ba121986",
   "metadata": {},
   "source": [
    "### pca_rf"
   ]
  },
  {
   "cell_type": "code",
   "execution_count": 73,
   "id": "feb3a5bc",
   "metadata": {
    "ExecuteTime": {
     "end_time": "2021-07-13T02:31:30.892168Z",
     "start_time": "2021-07-13T02:31:30.861877Z"
    }
   },
   "outputs": [],
   "source": [
    "pca_mutation_cnv_rna = pd.read_csv(\n",
    "    f\"../../work_dirs/sanger_gdsc_intersection_noprot/pca_rf/mutation_cnv_rna/scores_202107121818_pca_rf_lrp_drug_mutation_cnv_rna.csv\"\n",
    ")"
   ]
  },
  {
   "cell_type": "code",
   "execution_count": 74,
   "id": "16b601f8",
   "metadata": {
    "ExecuteTime": {
     "end_time": "2021-07-13T02:31:33.440786Z",
     "start_time": "2021-07-13T02:31:33.430554Z"
    }
   },
   "outputs": [
    {
     "name": "stdout",
     "output_type": "stream",
     "text": [
      "0.13294702383675439\n",
      "0.4122781361428156\n",
      "0.9800546307137779\n"
     ]
    }
   ],
   "source": [
    "print(pca_mutation_cnv_rna.groupby(['drug_id'])['r2'].mean().median())\n",
    "print(pca_mutation_cnv_rna.groupby(['drug_id'])['corr'].mean().median())\n",
    "print(pca_mutation_cnv_rna.groupby(['drug_id'])['mae'].mean().median())"
   ]
  },
  {
   "cell_type": "markdown",
   "id": "5313cecd",
   "metadata": {},
   "source": [
    "### moCluster_rf"
   ]
  },
  {
   "cell_type": "code",
   "execution_count": 75,
   "id": "73ea583d",
   "metadata": {
    "ExecuteTime": {
     "end_time": "2021-07-13T02:35:19.441212Z",
     "start_time": "2021-07-13T02:35:19.416647Z"
    }
   },
   "outputs": [],
   "source": [
    "moCluster_mutation_cnv_rna = pd.read_csv(\n",
    "    f\"../../work_dirs/sanger_gdsc_intersection_noprot/moCluster_rf/mutation_cnv_rna/scores_202107121932_moCluster_rf_lrp_drug_mutation_cnv_rna.csv\"\n",
    ")"
   ]
  },
  {
   "cell_type": "code",
   "execution_count": 76,
   "id": "7d2de84a",
   "metadata": {
    "ExecuteTime": {
     "end_time": "2021-07-13T02:35:20.215929Z",
     "start_time": "2021-07-13T02:35:20.205162Z"
    }
   },
   "outputs": [
    {
     "name": "stdout",
     "output_type": "stream",
     "text": [
      "0.12960323626430884\n",
      "0.3959262454767463\n",
      "0.9786557913847929\n"
     ]
    }
   ],
   "source": [
    "print(moCluster_mutation_cnv_rna.groupby(['drug_id'])['r2'].mean().median())\n",
    "print(moCluster_mutation_cnv_rna.groupby(['drug_id'])['corr'].mean().median())\n",
    "print(moCluster_mutation_cnv_rna.groupby(['drug_id'])['mae'].mean().median())"
   ]
  },
  {
   "cell_type": "code",
   "execution_count": null,
   "id": "78e51c89",
   "metadata": {},
   "outputs": [],
   "source": []
  }
 ],
 "metadata": {
  "kernelspec": {
   "display_name": "Python 3",
   "language": "python",
   "name": "python3"
  },
  "language_info": {
   "codemirror_mode": {
    "name": "ipython",
    "version": 3
   },
   "file_extension": ".py",
   "mimetype": "text/x-python",
   "name": "python",
   "nbconvert_exporter": "python",
   "pygments_lexer": "ipython3",
   "version": "3.8.10"
  },
  "toc": {
   "base_numbering": 1,
   "nav_menu": {},
   "number_sections": true,
   "sideBar": true,
   "skip_h1_title": false,
   "title_cell": "Table of Contents",
   "title_sidebar": "Contents",
   "toc_cell": false,
   "toc_position": {},
   "toc_section_display": true,
   "toc_window_display": true
  }
 },
 "nbformat": 4,
 "nbformat_minor": 5
}
