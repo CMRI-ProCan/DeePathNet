{
 "cells": [
  {
   "cell_type": "code",
   "execution_count": 1,
   "id": "ec9c67ab",
   "metadata": {
    "ExecuteTime": {
     "end_time": "2021-07-13T12:41:58.086933Z",
     "start_time": "2021-07-13T12:41:55.246842Z"
    }
   },
   "outputs": [],
   "source": [
    "import pandas as pd\n",
    "import numpy as np\n",
    "import matplotlib.pyplot as plt\n",
    "import seaborn as sns\n",
    "from scipy.stats import ttest_rel\n",
    "from qgrid import show_grid\n",
    "from sklearn.preprocessing import MinMaxScaler"
   ]
  },
  {
   "cell_type": "code",
   "execution_count": 2,
   "id": "bcd54906",
   "metadata": {
    "ExecuteTime": {
     "end_time": "2021-07-13T12:41:58.092374Z",
     "start_time": "2021-07-13T12:41:58.088614Z"
    }
   },
   "outputs": [],
   "source": [
    "def get_dl_test_score(scores_df, metric='r2'):\n",
    "    max_epoch = scores_df[scores_df['run'] == 'test'].groupby(\n",
    "        ['epoch']).median()[metric].reset_index()\n",
    "    epoch = max_epoch[max_epoch[metric] ==\n",
    "                      max_epoch[metric].max()]['epoch'].values[0]\n",
    "    print(epoch)\n",
    "    tmp_test = scores_df[(scores_df['run'] == 'test')\n",
    "                         & (scores_df['epoch'] == epoch)][[\n",
    "                             'drug_id', 'mae', 'rmse', 'corr', 'r2'\n",
    "                         ]].rename(\n",
    "                             columns={\n",
    "                                 'mae': 'test_mae',\n",
    "                                 'corr': 'test_corr',\n",
    "                                 'rmse': 'test_rmse',\n",
    "                                 'r2': 'test_r2',\n",
    "                             }).reset_index(drop=True)\n",
    "    tmp_test['model'] = 'DL'\n",
    "    return tmp_test"
   ]
  },
  {
   "cell_type": "code",
   "execution_count": 3,
   "id": "10ff0c13",
   "metadata": {
    "ExecuteTime": {
     "end_time": "2021-07-13T12:41:58.098160Z",
     "start_time": "2021-07-13T12:41:58.094842Z"
    }
   },
   "outputs": [],
   "source": [
    "def get_dl_test_score_cls(scores_df, metric='auc'):\n",
    "    max_epoch = scores_df[scores_df['run'] == 'test'].groupby(\n",
    "        ['epoch']).median()[metric].reset_index()\n",
    "    epoch = max_epoch[max_epoch[metric] ==\n",
    "                      max_epoch[metric].max()]['epoch'].values[0]\n",
    "    tmp_test = scores_df[(scores_df['run'] == 'test')\n",
    "                         & (scores_df['epoch'] == epoch)][[\n",
    "                             'drug_id', 'accuracy', 'auc'\n",
    "                         ]].rename(\n",
    "                             columns={\n",
    "                                 'accuracy': 'test_acc',\n",
    "                                 'auc': 'test_auc'\n",
    "                             }).reset_index(drop=True)\n",
    "    tmp_test['model'] = 'DL'\n",
    "    return tmp_test"
   ]
  },
  {
   "cell_type": "markdown",
   "id": "b10f55f4",
   "metadata": {},
   "source": [
    "# DL"
   ]
  },
  {
   "cell_type": "markdown",
   "id": "225ab6a6",
   "metadata": {},
   "source": [
    "## mutation"
   ]
  },
  {
   "cell_type": "code",
   "execution_count": 6,
   "id": "4550eb1f",
   "metadata": {
    "ExecuteTime": {
     "end_time": "2021-07-07T09:45:46.962535Z",
     "start_time": "2021-07-07T09:45:39.077114Z"
    }
   },
   "outputs": [],
   "source": [
    "dl_mutation = pd.read_csv(\n",
    "    f\"../../work_dirs/sanger_ctd2/DeepMultiOmicNet/mutation/sc\"\n",
    ")"
   ]
  },
  {
   "cell_type": "code",
   "execution_count": 15,
   "id": "80f4fc41",
   "metadata": {
    "ExecuteTime": {
     "end_time": "2021-07-07T09:49:07.729685Z",
     "start_time": "2021-07-07T09:49:05.164055Z"
    }
   },
   "outputs": [
    {
     "name": "stdout",
     "output_type": "stream",
     "text": [
      "r2    0.01372\n",
      "dtype: float64\n",
      "corr    0.151319\n",
      "dtype: float64\n",
      "mae    1.044603\n",
      "dtype: float64\n"
     ]
    }
   ],
   "source": [
    "print(dl_mutation.groupby(['drug_id',\n",
    "                     'run']).max()['r2'].reset_index().groupby('drug_id').mean().median())\n",
    "print(dl_mutation.groupby(['drug_id',\n",
    "                     'run']).max()['corr'].reset_index().groupby('drug_id').mean().median())\n",
    "print(dl_mutation.groupby(['drug_id',\n",
    "                     'run']).min()['mae'].reset_index().groupby('drug_id').mean().median())"
   ]
  },
  {
   "cell_type": "markdown",
   "id": "7c56ae25",
   "metadata": {},
   "source": [
    "## cnv"
   ]
  },
  {
   "cell_type": "code",
   "execution_count": 16,
   "id": "4d750bb5",
   "metadata": {
    "ExecuteTime": {
     "end_time": "2021-07-07T09:49:22.799940Z",
     "start_time": "2021-07-07T09:49:15.079197Z"
    }
   },
   "outputs": [],
   "source": [
    "dl_cnv = pd.read_csv(\n",
    "    f\"../../work_dirs/sanger_ctd2/DeepMultiOmicNet/cnv/scores_202107061709_DOIT_LRP.csv.gz\"\n",
    ")"
   ]
  },
  {
   "cell_type": "code",
   "execution_count": 17,
   "id": "ad0f6dad",
   "metadata": {
    "ExecuteTime": {
     "end_time": "2021-07-07T09:49:26.440589Z",
     "start_time": "2021-07-07T09:49:23.858458Z"
    }
   },
   "outputs": [
    {
     "name": "stdout",
     "output_type": "stream",
     "text": [
      "r2    0.072722\n",
      "dtype: float64\n",
      "corr    0.29056\n",
      "dtype: float64\n",
      "mae    1.011733\n",
      "dtype: float64\n"
     ]
    }
   ],
   "source": [
    "print(dl_cnv.groupby(['drug_id',\n",
    "                     'run']).max()['r2'].reset_index().groupby('drug_id').mean().median())\n",
    "print(dl_cnv.groupby(['drug_id',\n",
    "                     'run']).max()['corr'].reset_index().groupby('drug_id').mean().median())\n",
    "print(dl_cnv.groupby(['drug_id',\n",
    "                     'run']).min()['mae'].reset_index().groupby('drug_id').mean().median())"
   ]
  },
  {
   "cell_type": "markdown",
   "id": "265bba0d",
   "metadata": {},
   "source": [
    "## rna"
   ]
  },
  {
   "cell_type": "code",
   "execution_count": 18,
   "id": "19eecd37",
   "metadata": {
    "ExecuteTime": {
     "end_time": "2021-07-07T09:49:57.863237Z",
     "start_time": "2021-07-07T09:49:50.293504Z"
    }
   },
   "outputs": [],
   "source": [
    "dl_rna = pd.read_csv(\n",
    "    f\"../../work_dirs/sanger_ctd2/DeepMultiOmicNet/rna/scores_202107061710_DOIT_LRP.csv.gz\"\n",
    ")"
   ]
  },
  {
   "cell_type": "code",
   "execution_count": 19,
   "id": "ef91b618",
   "metadata": {
    "ExecuteTime": {
     "end_time": "2021-07-07T09:50:01.346147Z",
     "start_time": "2021-07-07T09:49:58.702740Z"
    },
    "code_folding": []
   },
   "outputs": [
    {
     "name": "stdout",
     "output_type": "stream",
     "text": [
      "r2    0.216283\n",
      "dtype: float64\n",
      "corr    0.481545\n",
      "dtype: float64\n",
      "mae    0.91897\n",
      "dtype: float64\n"
     ]
    }
   ],
   "source": [
    "print(dl_rna.groupby(['drug_id',\n",
    "                     'run']).max()['r2'].reset_index().groupby('drug_id').mean().median())\n",
    "print(dl_rna.groupby(['drug_id',\n",
    "                     'run']).max()['corr'].reset_index().groupby('drug_id').mean().median())\n",
    "print(dl_rna.groupby(['drug_id',\n",
    "                     'run']).min()['mae'].reset_index().groupby('drug_id').mean().median())"
   ]
  },
  {
   "cell_type": "markdown",
   "id": "8463d3a1",
   "metadata": {},
   "source": [
    "## mutation cnv"
   ]
  },
  {
   "cell_type": "code",
   "execution_count": 30,
   "id": "25f08809",
   "metadata": {
    "ExecuteTime": {
     "end_time": "2021-07-08T04:59:54.587287Z",
     "start_time": "2021-07-08T04:59:47.290433Z"
    }
   },
   "outputs": [],
   "source": [
    "dl_mutation_cnv = pd.read_csv(\n",
    "    f\"../../work_dirs/sanger_ctd2/DeepMultiOmicNet/mutation_cnv/scores_202107071113_DOIT_LRP.csv.gz\"\n",
    ")"
   ]
  },
  {
   "cell_type": "code",
   "execution_count": 31,
   "id": "4b874333",
   "metadata": {
    "ExecuteTime": {
     "end_time": "2021-07-08T04:59:57.880113Z",
     "start_time": "2021-07-08T04:59:55.224450Z"
    }
   },
   "outputs": [
    {
     "name": "stdout",
     "output_type": "stream",
     "text": [
      "r2    0.080649\n",
      "dtype: float64\n",
      "corr    0.306296\n",
      "dtype: float64\n",
      "mae    1.006256\n",
      "dtype: float64\n"
     ]
    }
   ],
   "source": [
    "print(dl_mutation_cnv.groupby(['drug_id',\n",
    "                     'run']).max()['r2'].reset_index().groupby('drug_id').mean().median())\n",
    "print(dl_mutation_cnv.groupby(['drug_id',\n",
    "                     'run']).max()['corr'].reset_index().groupby('drug_id').mean().median())\n",
    "print(dl_mutation_cnv.groupby(['drug_id',\n",
    "                     'run']).min()['mae'].reset_index().groupby('drug_id').mean().median())"
   ]
  },
  {
   "cell_type": "markdown",
   "id": "6ced2529",
   "metadata": {},
   "source": [
    "## mutation rna"
   ]
  },
  {
   "cell_type": "code",
   "execution_count": 34,
   "id": "bd5efaa0",
   "metadata": {
    "ExecuteTime": {
     "end_time": "2021-07-16T02:14:45.747550Z",
     "start_time": "2021-07-16T02:14:39.938353Z"
    }
   },
   "outputs": [],
   "source": [
    "dl_mutation_rna = pd.read_csv(\n",
    "    f\"../../work_dirs/sanger_ctd2/DeepMultiOmicNet/mutation_rna/scores_202107151210_DOIT_LRP.csv.gz\"\n",
    ")"
   ]
  },
  {
   "cell_type": "code",
   "execution_count": 35,
   "id": "aca97798",
   "metadata": {
    "ExecuteTime": {
     "end_time": "2021-07-16T02:14:47.744196Z",
     "start_time": "2021-07-16T02:14:45.750838Z"
    }
   },
   "outputs": [
    {
     "name": "stdout",
     "output_type": "stream",
     "text": [
      "r2    0.163933\n",
      "dtype: float64\n",
      "corr    0.421864\n",
      "dtype: float64\n",
      "mae    0.880644\n",
      "dtype: float64\n"
     ]
    }
   ],
   "source": [
    "print(dl_mutation_rna.groupby(['drug_id',\n",
    "                     'run']).max()['r2'].reset_index().groupby('drug_id').mean().median())\n",
    "print(dl_mutation_rna.groupby(['drug_id',\n",
    "                     'run']).max()['corr'].reset_index().groupby('drug_id').mean().median())\n",
    "print(dl_mutation_rna.groupby(['drug_id',\n",
    "                     'run']).min()['mae'].reset_index().groupby('drug_id').mean().median())"
   ]
  },
  {
   "cell_type": "markdown",
   "id": "378dbc52",
   "metadata": {},
   "source": [
    "## cnv rna"
   ]
  },
  {
   "cell_type": "code",
   "execution_count": 28,
   "id": "b88f52fc",
   "metadata": {
    "ExecuteTime": {
     "end_time": "2021-07-08T04:59:06.519892Z",
     "start_time": "2021-07-08T04:58:58.939491Z"
    }
   },
   "outputs": [],
   "source": [
    "dl_cnv_rna = pd.read_csv(\n",
    "    f\"../../work_dirs/sanger_ctd2/DeepMultiOmicNet/cnv_rna/scores_202107071123_DOIT_LRP.csv.gz\"\n",
    ")"
   ]
  },
  {
   "cell_type": "code",
   "execution_count": 29,
   "id": "e3485214",
   "metadata": {
    "ExecuteTime": {
     "end_time": "2021-07-08T04:59:09.711854Z",
     "start_time": "2021-07-08T04:59:07.080202Z"
    }
   },
   "outputs": [
    {
     "name": "stdout",
     "output_type": "stream",
     "text": [
      "r2    0.220573\n",
      "dtype: float64\n",
      "corr    0.486118\n",
      "dtype: float64\n",
      "mae    0.915394\n",
      "dtype: float64\n"
     ]
    }
   ],
   "source": [
    "print(dl_cnv_rna.groupby(['drug_id',\n",
    "                     'run']).max()['r2'].reset_index().groupby('drug_id').mean().median())\n",
    "print(dl_cnv_rna.groupby(['drug_id',\n",
    "                     'run']).max()['corr'].reset_index().groupby('drug_id').mean().median())\n",
    "print(dl_cnv_rna.groupby(['drug_id',\n",
    "                     'run']).min()['mae'].reset_index().groupby('drug_id').mean().median())"
   ]
  },
  {
   "cell_type": "markdown",
   "id": "1e427861",
   "metadata": {},
   "source": [
    "## mutation cnv rna"
   ]
  },
  {
   "cell_type": "markdown",
   "id": "12ed9e84",
   "metadata": {},
   "source": [
    "### DL"
   ]
  },
  {
   "cell_type": "code",
   "execution_count": 23,
   "id": "d436c383",
   "metadata": {
    "ExecuteTime": {
     "end_time": "2021-07-15T01:39:51.235139Z",
     "start_time": "2021-07-15T01:39:45.796111Z"
    }
   },
   "outputs": [],
   "source": [
    "dl_mutation_cnv_rna = pd.read_csv(\n",
    "    f\"../../work_dirs/sanger_ctd2/DeepMultiOmicNet/mutation_cnv_rna/scores_202107142106_DOIT_LRP.csv.gz\"\n",
    ")"
   ]
  },
  {
   "cell_type": "code",
   "execution_count": 24,
   "id": "3a144c0d",
   "metadata": {
    "ExecuteTime": {
     "end_time": "2021-07-15T01:39:53.734478Z",
     "start_time": "2021-07-15T01:39:51.928581Z"
    }
   },
   "outputs": [
    {
     "name": "stdout",
     "output_type": "stream",
     "text": [
      "r2    0.158727\n",
      "dtype: float64\n",
      "corr    0.414859\n",
      "dtype: float64\n",
      "mae    0.88423\n",
      "dtype: float64\n"
     ]
    }
   ],
   "source": [
    "print(dl_mutation_cnv_rna.groupby(['drug_id',\n",
    "                     'run']).max()['r2'].reset_index().groupby('drug_id').mean().median())\n",
    "print(dl_mutation_cnv_rna.groupby(['drug_id',\n",
    "                     'run']).max()['corr'].reset_index().groupby('drug_id').mean().median())\n",
    "print(dl_mutation_cnv_rna.groupby(['drug_id',\n",
    "                     'run']).min()['mae'].reset_index().groupby('drug_id').mean().median())"
   ]
  },
  {
   "cell_type": "markdown",
   "id": "5254375a",
   "metadata": {},
   "source": [
    "### RF"
   ]
  },
  {
   "cell_type": "code",
   "execution_count": 10,
   "id": "6556f7fb",
   "metadata": {
    "ExecuteTime": {
     "end_time": "2021-07-14T06:42:48.062053Z",
     "start_time": "2021-07-14T06:42:48.041142Z"
    }
   },
   "outputs": [],
   "source": [
    "rf_mutation_cnv_rna = pd.read_csv(\n",
    "    f\"../../work_dirs/sanger_ctd2/ec_rf/mutation_cnv_rna/scores_202107131442_ec_rf_lrp_drug_mutation_cnv_rna.csv\"\n",
    ")"
   ]
  },
  {
   "cell_type": "code",
   "execution_count": 5,
   "id": "05375ffe",
   "metadata": {
    "ExecuteTime": {
     "end_time": "2021-07-13T12:43:27.376373Z",
     "start_time": "2021-07-13T12:43:27.366059Z"
    }
   },
   "outputs": [
    {
     "name": "stdout",
     "output_type": "stream",
     "text": [
      "0.10742289371921449\n",
      "0.36278892579705785\n",
      "0.8699715028691898\n"
     ]
    }
   ],
   "source": [
    "print(rf_mutation_cnv_rna.groupby(['drug_id'])['r2'].mean().median())\n",
    "print(rf_mutation_cnv_rna.groupby(['drug_id'])['corr'].mean().median())\n",
    "print(rf_mutation_cnv_rna.groupby(['drug_id'])['mae'].mean().median())"
   ]
  },
  {
   "cell_type": "code",
   "execution_count": null,
   "id": "9a6cec89",
   "metadata": {},
   "outputs": [],
   "source": []
  },
  {
   "cell_type": "markdown",
   "id": "0f5f3123",
   "metadata": {},
   "source": [
    "### EN"
   ]
  },
  {
   "cell_type": "code",
   "execution_count": 20,
   "id": "4a48560b",
   "metadata": {
    "ExecuteTime": {
     "end_time": "2021-07-14T08:04:47.009135Z",
     "start_time": "2021-07-14T08:04:46.987616Z"
    }
   },
   "outputs": [],
   "source": [
    "en_mutation_cnv_rna = pd.read_csv(\n",
    "    f\"../../work_dirs/sanger_ctd2/ec_en/mutation_cnv_rna/scores_202107131309_ec_en_lrp_drug_mutation_cnv_rna.csv\"\n",
    ")"
   ]
  },
  {
   "cell_type": "code",
   "execution_count": 21,
   "id": "14cdc387",
   "metadata": {
    "ExecuteTime": {
     "end_time": "2021-07-14T08:04:47.978543Z",
     "start_time": "2021-07-14T08:04:47.969770Z"
    }
   },
   "outputs": [
    {
     "name": "stdout",
     "output_type": "stream",
     "text": [
      "0.09379873899421615\n",
      "0.3444979183491435\n",
      "0.8807976081624196\n"
     ]
    }
   ],
   "source": [
    "print(en_mutation_cnv_rna.groupby(['drug_id'])['r2'].mean().median())\n",
    "print(en_mutation_cnv_rna.groupby(['drug_id'])['corr'].mean().median())\n",
    "print(en_mutation_cnv_rna.groupby(['drug_id'])['mae'].mean().median())"
   ]
  },
  {
   "cell_type": "markdown",
   "id": "81618b85",
   "metadata": {},
   "source": [
    "### SVML"
   ]
  },
  {
   "cell_type": "code",
   "execution_count": 25,
   "id": "6b05d3b5",
   "metadata": {
    "ExecuteTime": {
     "end_time": "2021-07-16T02:10:48.253575Z",
     "start_time": "2021-07-16T02:10:48.225296Z"
    }
   },
   "outputs": [],
   "source": [
    "svml_mutation_cnv_rna = pd.read_csv(\n",
    "    f\"../../work_dirs/sanger_ctd2/ec_svml/mutation_cnv_rna/scores_202107131721_ec_svml_lrp_drug_mutation_cnv_rna.csv\"\n",
    ")"
   ]
  },
  {
   "cell_type": "code",
   "execution_count": 26,
   "id": "8a1b1815",
   "metadata": {
    "ExecuteTime": {
     "end_time": "2021-07-16T02:10:48.425774Z",
     "start_time": "2021-07-16T02:10:48.415205Z"
    }
   },
   "outputs": [
    {
     "name": "stdout",
     "output_type": "stream",
     "text": [
      "-0.17870422146055567\n",
      "0.26419208871528427\n",
      "1.0305523418313904\n"
     ]
    }
   ],
   "source": [
    "print(svml_mutation_cnv_rna.groupby(['drug_id'])['r2'].mean().median())\n",
    "print(svml_mutation_cnv_rna.groupby(['drug_id'])['corr'].mean().median())\n",
    "print(svml_mutation_cnv_rna.groupby(['drug_id'])['mae'].mean().median())"
   ]
  },
  {
   "cell_type": "markdown",
   "id": "ab04e46b",
   "metadata": {},
   "source": [
    "### mixomics"
   ]
  },
  {
   "cell_type": "code",
   "execution_count": 28,
   "id": "54cda205",
   "metadata": {
    "ExecuteTime": {
     "end_time": "2021-07-16T02:11:03.306006Z",
     "start_time": "2021-07-16T02:11:03.289693Z"
    }
   },
   "outputs": [],
   "source": [
    "mixomics_mutation_cnv_rna = pd.read_csv(\n",
    "    f\"../../work_dirs/mixOmics/sanger_mutation_cnv_rna_ctd2_50_comp.csv\"\n",
    ")"
   ]
  },
  {
   "cell_type": "code",
   "execution_count": 29,
   "id": "166249b0",
   "metadata": {
    "ExecuteTime": {
     "end_time": "2021-07-16T02:11:04.274849Z",
     "start_time": "2021-07-16T02:11:04.265165Z"
    }
   },
   "outputs": [
    {
     "name": "stdout",
     "output_type": "stream",
     "text": [
      "0.07189429343095705\n",
      "0.2940086328484131\n",
      "0.9580974571832607\n"
     ]
    }
   ],
   "source": [
    "print(mixomics_mutation_cnv_rna.groupby(['drug_id'])['r2'].mean().median())\n",
    "print(mixomics_mutation_cnv_rna.groupby(['drug_id'])['corr'].mean().median())\n",
    "print(mixomics_mutation_cnv_rna.groupby(['drug_id'])['mae'].mean().median())"
   ]
  },
  {
   "cell_type": "markdown",
   "id": "a53d3697",
   "metadata": {},
   "source": [
    "### pca_rf"
   ]
  },
  {
   "cell_type": "code",
   "execution_count": 36,
   "id": "b3fd4856",
   "metadata": {
    "ExecuteTime": {
     "end_time": "2021-07-19T02:57:18.035978Z",
     "start_time": "2021-07-19T02:57:17.955541Z"
    }
   },
   "outputs": [],
   "source": [
    "pca_mutation_cnv_rna = pd.read_csv(\n",
    "    f\"../../work_dirs/sanger_ctd2/pca_rf/mutation_cnv_rna/scores_202107131920_pca_rf_lrp_drug_mutation_cnv_rna.csv\"\n",
    ")"
   ]
  },
  {
   "cell_type": "code",
   "execution_count": 37,
   "id": "2854f5f5",
   "metadata": {
    "ExecuteTime": {
     "end_time": "2021-07-19T02:57:18.170037Z",
     "start_time": "2021-07-19T02:57:18.145587Z"
    }
   },
   "outputs": [
    {
     "name": "stdout",
     "output_type": "stream",
     "text": [
      "0.04277511339905521\n",
      "0.2596523140673153\n",
      "0.9256506429336924\n"
     ]
    }
   ],
   "source": [
    "print(pca_mutation_cnv_rna.groupby(['drug_id'])['r2'].mean().median())\n",
    "print(pca_mutation_cnv_rna.groupby(['drug_id'])['corr'].mean().median())\n",
    "print(pca_mutation_cnv_rna.groupby(['drug_id'])['mae'].mean().median())"
   ]
  },
  {
   "cell_type": "markdown",
   "id": "0c3d85cb",
   "metadata": {},
   "source": [
    "### moCluster_rf"
   ]
  },
  {
   "cell_type": "code",
   "execution_count": 32,
   "id": "fb7c88a2",
   "metadata": {
    "ExecuteTime": {
     "end_time": "2021-07-16T02:14:16.941618Z",
     "start_time": "2021-07-16T02:14:16.919007Z"
    }
   },
   "outputs": [],
   "source": [
    "moCluster_mutation_cnv_rna = pd.read_csv(\n",
    "    f\"../../work_dirs/sanger_ctd2/moCluster_rf/mutation_cnv_rna/scores_202107131722_moCluster_rf_lrp_drug_mutation_cnv_rna.csv\"\n",
    ")"
   ]
  },
  {
   "cell_type": "code",
   "execution_count": 33,
   "id": "5a93fce4",
   "metadata": {
    "ExecuteTime": {
     "end_time": "2021-07-16T02:14:17.263379Z",
     "start_time": "2021-07-16T02:14:17.251311Z"
    }
   },
   "outputs": [
    {
     "name": "stdout",
     "output_type": "stream",
     "text": [
      "0.042669287612932136\n",
      "0.25527278426222344\n",
      "0.9252425867286256\n"
     ]
    }
   ],
   "source": [
    "print(moCluster_mutation_cnv_rna.groupby(['drug_id'])['r2'].mean().median())\n",
    "print(moCluster_mutation_cnv_rna.groupby(['drug_id'])['corr'].mean().median())\n",
    "print(moCluster_mutation_cnv_rna.groupby(['drug_id'])['mae'].mean().median())"
   ]
  },
  {
   "cell_type": "code",
   "execution_count": null,
   "id": "ca0c33c3",
   "metadata": {},
   "outputs": [],
   "source": []
  },
  {
   "cell_type": "code",
   "execution_count": null,
   "id": "fc390768",
   "metadata": {},
   "outputs": [],
   "source": []
  }
 ],
 "metadata": {
  "kernelspec": {
   "display_name": "Python 3",
   "language": "python",
   "name": "python3"
  },
  "language_info": {
   "codemirror_mode": {
    "name": "ipython",
    "version": 3
   },
   "file_extension": ".py",
   "mimetype": "text/x-python",
   "name": "python",
   "nbconvert_exporter": "python",
   "pygments_lexer": "ipython3",
   "version": "3.8.10"
  },
  "toc": {
   "base_numbering": 1,
   "nav_menu": {},
   "number_sections": true,
   "sideBar": true,
   "skip_h1_title": false,
   "title_cell": "Table of Contents",
   "title_sidebar": "Contents",
   "toc_cell": false,
   "toc_position": {},
   "toc_section_display": true,
   "toc_window_display": true
  }
 },
 "nbformat": 4,
 "nbformat_minor": 5
}
