{
 "cells": [
  {
   "cell_type": "code",
   "execution_count": 1,
   "metadata": {
    "ExecuteTime": {
     "end_time": "2022-06-25T09:12:24.400586Z",
     "start_time": "2022-06-25T09:12:21.409773Z"
    }
   },
   "outputs": [],
   "source": [
    "import pandas as pd\n",
    "import numpy as np\n",
    "from collections import Counter\n",
    "from functools import reduce\n",
    "import pickle\n",
    "import itertools\n",
    "from tqdm.notebook import trange, tqdm\n",
    "from concurrent import futures\n",
    "from joblib import delayed, Parallel\n",
    "from scipy.stats import pearsonr, spearmanr\n",
    "from sklearn.model_selection import train_test_split\n",
    "import seaborn as sns\n",
    "import matplotlib.pyplot as plt\n",
    "from qgrid import show_grid\n",
    "from sklearn.preprocessing import MinMaxScaler, QuantileTransformer, PowerTransformer, RobustScaler"
   ]
  },
  {
   "cell_type": "code",
   "execution_count": 2,
   "metadata": {
    "ExecuteTime": {
     "end_time": "2022-06-25T09:12:24.405463Z",
     "start_time": "2022-06-25T09:12:24.403029Z"
    }
   },
   "outputs": [],
   "source": [
    "DATA_ROOT = \"../data/\""
   ]
  },
  {
   "cell_type": "code",
   "execution_count": 3,
   "metadata": {
    "ExecuteTime": {
     "end_time": "2022-06-25T09:12:24.592745Z",
     "start_time": "2022-06-25T09:12:24.407451Z"
    }
   },
   "outputs": [],
   "source": [
    "name_map_df = pd.read_csv(f\"../../../SangerDrug/data/misc/uniprot_human_idmap.tab.gz\",\n",
    "                       sep='\\t')\n",
    "name_map_dict = name_map_df.set_index(\"Entry name\").to_dict()['Gene names  (primary )']\n",
    "protein2rna_map = name_map_dict\n",
    "rna2protein_map = name_map_df.set_index(\"Gene names  (primary )\").to_dict()['Entry name']"
   ]
  },
  {
   "cell_type": "markdown",
   "metadata": {},
   "source": [
    "# map protein name"
   ]
  },
  {
   "cell_type": "code",
   "execution_count": 10,
   "metadata": {
    "ExecuteTime": {
     "end_time": "2022-06-02T00:59:35.854205Z",
     "start_time": "2022-06-02T00:59:32.815422Z"
    }
   },
   "outputs": [],
   "source": [
    "protein_df = pd.read_csv(\n",
    "    f\"../data/raw/e0022_diann_051021_frozen_matrix_averaged_processed.txt\",\n",
    "    sep='\\t',\n",
    "    index_col=0)\n"
   ]
  },
  {
   "cell_type": "code",
   "execution_count": 23,
   "metadata": {
    "ExecuteTime": {
     "end_time": "2022-06-02T01:03:09.009332Z",
     "start_time": "2022-06-02T01:03:08.958254Z"
    }
   },
   "outputs": [],
   "source": [
    "protein_df = protein_df[[\n",
    "    x for x in protein_df.columns\n",
    "    if x in protein2rna_map.keys() and type(protein2rna_map[x]) is str\n",
    "]]"
   ]
  },
  {
   "cell_type": "code",
   "execution_count": 25,
   "metadata": {
    "ExecuteTime": {
     "end_time": "2022-06-02T01:03:18.068269Z",
     "start_time": "2022-06-02T01:03:18.062674Z"
    }
   },
   "outputs": [],
   "source": [
    "protein_df.columns = [protein2rna_map[x] for x in protein_df.columns]"
   ]
  },
  {
   "cell_type": "code",
   "execution_count": 26,
   "metadata": {
    "ExecuteTime": {
     "end_time": "2022-06-02T01:03:19.311310Z",
     "start_time": "2022-06-02T01:03:19.283235Z"
    }
   },
   "outputs": [],
   "source": [
    "protein_df = protein_df[sorted(protein_df.columns)]"
   ]
  },
  {
   "cell_type": "code",
   "execution_count": 28,
   "metadata": {
    "ExecuteTime": {
     "end_time": "2022-06-02T01:03:44.336891Z",
     "start_time": "2022-06-02T01:03:27.848110Z"
    }
   },
   "outputs": [],
   "source": [
    "protein_df.to_csv(\"../data/processed/protein.csv.gz\")"
   ]
  },
  {
   "cell_type": "markdown",
   "metadata": {},
   "source": [
    "# Sanger omic data"
   ]
  },
  {
   "cell_type": "markdown",
   "metadata": {},
   "source": [
    "## combine all data"
   ]
  },
  {
   "cell_type": "code",
   "execution_count": 13,
   "metadata": {
    "ExecuteTime": {
     "end_time": "2022-06-25T09:25:35.346516Z",
     "start_time": "2022-06-25T09:25:13.995362Z"
    }
   },
   "outputs": [],
   "source": [
    "mutation_df = pd.read_csv(\"../data/raw/WES_variants_processed.csv\", index_col=0)\n",
    "rna_df = pd.read_csv(\"../data/raw/rna_processed.csv\", index_col=0)\n",
    "cnv_df = pd.read_csv(\"../data/raw/copynumber_processed.csv\", index_col=0)\n",
    "# methy_df = pd.read_csv(\"../data/raw/methy_processed.csv\", index_col=0)\n",
    "protein_df = pd.read_csv(\"../data/processed/protein.csv.gz\", index_col=0)"
   ]
  },
  {
   "cell_type": "code",
   "execution_count": 14,
   "metadata": {
    "ExecuteTime": {
     "end_time": "2022-06-25T09:25:36.971999Z",
     "start_time": "2022-06-25T09:25:36.955915Z"
    }
   },
   "outputs": [],
   "source": [
    "mutation_df.columns = [f\"{x}_mutation\" for x in mutation_df.columns]\n",
    "rna_df.columns = [f\"{x}_rna\" for x in rna_df.columns]\n",
    "cnv_df.columns = [f\"{x}_cnv\" for x in cnv_df.columns]\n",
    "# methy_df.columns = [f\"{x}_methy\" for x in methy_df.columns]\n",
    "protein_df.columns = [f\"{x}_prot\" for x in protein_df.columns]"
   ]
  },
  {
   "cell_type": "code",
   "execution_count": 15,
   "metadata": {
    "ExecuteTime": {
     "end_time": "2022-06-25T09:25:38.431761Z",
     "start_time": "2022-06-25T09:25:37.173481Z"
    }
   },
   "outputs": [],
   "source": [
    "dfList_noprot = [mutation_df, cnv_df, rna_df]\n",
    "df_intersection_noprot = reduce(\n",
    "    lambda df1, df2: pd.merge(df1, df2, on='Cell_line', how='inner'),\n",
    "    dfList_noprot)\n",
    "df_union_noprot = reduce(lambda df1,df2: pd.merge(df1,df2,on='Cell_line',how='outer'), dfList_noprot)"
   ]
  },
  {
   "cell_type": "code",
   "execution_count": null,
   "metadata": {
    "ExecuteTime": {
     "end_time": "2021-04-13T05:38:21.344307Z",
     "start_time": "2021-04-13T05:38:16.747Z"
    }
   },
   "outputs": [],
   "source": [
    "df_intersection_noprot.to_csv(\"../data/processed/omics/sanger_df_intersection_noprot_drug.csv.gz\")\n",
    "df_union_noprot.to_csv(\"../data/processed/omics/sanger_df_union_noprot_drug.csv.gz\")\n"
   ]
  },
  {
   "cell_type": "code",
   "execution_count": 17,
   "metadata": {
    "ExecuteTime": {
     "end_time": "2022-05-27T13:21:09.946870Z",
     "start_time": "2022-05-27T13:21:07.591763Z"
    }
   },
   "outputs": [],
   "source": [
    "dfList = [mutation_df, cnv_df, rna_df, protein_df]\n",
    "df_intersection = reduce(\n",
    "    lambda df1, df2: pd.merge(df1, df2, on='Cell_line', how='inner'),\n",
    "    dfList)\n",
    "df_union = reduce(lambda df1,df2: pd.merge(df1,df2,on='Cell_line',how='outer'), dfList)"
   ]
  },
  {
   "cell_type": "code",
   "execution_count": null,
   "metadata": {},
   "outputs": [],
   "source": [
    "df_intersection_noprot.to_csv(\"../data/processed/omics/sanger_df_intersection_noprot_drug.csv.gz\")\n"
   ]
  },
  {
   "cell_type": "code",
   "execution_count": 9,
   "metadata": {
    "ExecuteTime": {
     "end_time": "2022-06-25T09:18:41.642200Z",
     "start_time": "2022-06-25T09:17:21.497034Z"
    }
   },
   "outputs": [],
   "source": [
    "df_intersection_noprot = pd.read_csv(\"../data/processed/omics/sanger_df_intersection_noprot_drug.csv.gz\")"
   ]
  },
  {
   "cell_type": "code",
   "execution_count": 10,
   "metadata": {
    "ExecuteTime": {
     "end_time": "2022-06-25T09:19:24.342388Z",
     "start_time": "2022-06-25T09:18:41.644421Z"
    }
   },
   "outputs": [],
   "source": [
    "df_intersection = pd.read_csv(\"../data/processed/omics/sanger_df_intersection_mutation_cnv_rna_prot_drug.csv.gz\")"
   ]
  },
  {
   "cell_type": "markdown",
   "metadata": {},
   "source": [
    "## Sanger drug"
   ]
  },
  {
   "cell_type": "code",
   "execution_count": 14,
   "metadata": {
    "ExecuteTime": {
     "end_time": "2021-07-05T05:02:19.228437Z",
     "start_time": "2021-07-05T05:00:33.102636Z"
    }
   },
   "outputs": [],
   "source": [
    "df_intersection_noprot = pd.read_csv(\n",
    "    \"../data/processed/omics/sanger_df_intersection_noprot_drug.csv.gz\",\n",
    "    index_col=0)"
   ]
  },
  {
   "cell_type": "code",
   "execution_count": 15,
   "metadata": {
    "ExecuteTime": {
     "end_time": "2021-07-05T05:02:25.468968Z",
     "start_time": "2021-07-05T05:02:19.230242Z"
    }
   },
   "outputs": [],
   "source": [
    "sanger_drug = pd.read_csv(\"../data/raw/drug_final_processed_eg_id.csv.gz\", low_memory=False)"
   ]
  },
  {
   "cell_type": "code",
   "execution_count": 16,
   "metadata": {
    "ExecuteTime": {
     "end_time": "2021-07-05T05:02:25.663343Z",
     "start_time": "2021-07-05T05:02:25.471366Z"
    }
   },
   "outputs": [],
   "source": [
    "sanger_drug_intersection_noprot = sanger_drug[sanger_drug['model_name'].isin(df_intersection_noprot.index)]"
   ]
  },
  {
   "cell_type": "code",
   "execution_count": 33,
   "metadata": {
    "ExecuteTime": {
     "end_time": "2021-04-13T06:29:46.784940Z",
     "start_time": "2021-04-13T06:29:46.596446Z"
    }
   },
   "outputs": [
    {
     "name": "stderr",
     "output_type": "stream",
     "text": [
      "/Users/scai/anaconda3/envs/sanger/lib/python3.8/site-packages/seaborn/distributions.py:2557: FutureWarning: `distplot` is a deprecated function and will be removed in a future version. Please adapt your code to use either `displot` (a figure-level function with similar flexibility) or `histplot` (an axes-level function for histograms).\n",
      "  warnings.warn(msg, FutureWarning)\n"
     ]
    },
    {
     "data": {
      "text/plain": [
       "<matplotlib.axes._subplots.AxesSubplot at 0x7fd6be0fc670>"
      ]
     },
     "execution_count": 33,
     "metadata": {},
     "output_type": "execute_result"
    },
    {
     "data": {
      "image/png": "[encoded data removed]",
      "text/plain": [
       "<Figure size 432x288 with 1 Axes>"
      ]
     },
     "metadata": {
      "needs_background": "light"
     },
     "output_type": "display_data"
    }
   ],
   "source": [
    "sns.distplot(sanger_drug_intersection_noprot.groupby('drug_id').size().values)"
   ]
  },
  {
   "cell_type": "code",
   "execution_count": 34,
   "metadata": {
    "ExecuteTime": {
     "end_time": "2021-04-13T06:29:51.359369Z",
     "start_time": "2021-04-13T06:29:51.255788Z"
    }
   },
   "outputs": [],
   "source": [
    "sanger_drug_intersection_noprot_size = sanger_drug_intersection_noprot.groupby('drug_id').size()\n",
    "sanger_drug_intersection_noprot = sanger_drug_intersection_noprot[\n",
    "    sanger_drug_intersection_noprot['drug_id'].isin(sanger_drug_intersection_noprot_size[\n",
    "        sanger_drug_intersection_noprot_size > 600].index.values)]"
   ]
  },
  {
   "cell_type": "code",
   "execution_count": 35,
   "metadata": {
    "ExecuteTime": {
     "end_time": "2021-04-13T06:29:51.905062Z",
     "start_time": "2021-04-13T06:29:51.797676Z"
    }
   },
   "outputs": [],
   "source": [
    "sanger_drug_intersection_noprot_wide = pd.pivot(\n",
    "    sanger_drug_intersection_noprot[['cell_line_name', 'drug_id', 'ln_IC50']],\n",
    "    index='cell_line_name',\n",
    "    columns='drug_id')\n",
    "sanger_drug_intersection_noprot_wide.columns = [\n",
    "    x[1] for x in sanger_drug_intersection_noprot_wide.columns\n",
    "]"
   ]
  },
  {
   "cell_type": "code",
   "execution_count": 36,
   "metadata": {
    "ExecuteTime": {
     "end_time": "2021-04-13T06:29:53.078797Z",
     "start_time": "2021-04-13T06:29:53.076898Z"
    }
   },
   "outputs": [],
   "source": [
    "sanger_drug_intersection_noprot_wide.index.name = 'Cell_line'"
   ]
  },
  {
   "cell_type": "code",
   "execution_count": 38,
   "metadata": {
    "ExecuteTime": {
     "end_time": "2021-04-13T06:30:11.328733Z",
     "start_time": "2021-04-13T06:30:11.325728Z"
    }
   },
   "outputs": [],
   "source": [
    "sanger_train_intersection_noprot, sanger_test_intersection_noprot = train_test_split(\n",
    "    sanger_drug_intersection_noprot_wide.index.values,\n",
    "    test_size=0.2,\n",
    "    random_state=42,\n",
    "    shuffle=True)"
   ]
  },
  {
   "cell_type": "code",
   "execution_count": 522,
   "metadata": {
    "ExecuteTime": {
     "end_time": "2021-02-22T02:53:43.923107Z",
     "start_time": "2021-02-22T02:53:43.918712Z"
    }
   },
   "outputs": [],
   "source": [
    "with open(\"../data/meta/sanger_gdsc_intersection_noprot_train.txt\", \"w\") as outfile:\n",
    "    outfile.write(\"\\n\".join(sanger_train_intersection_noprot))\n",
    "with open(\"../data/meta/sanger_gdsc_intersection_noprot_test.txt\", \"w\") as outfile:\n",
    "    outfile.write(\"\\n\".join(sanger_test_intersection_noprot))"
   ]
  },
  {
   "cell_type": "code",
   "execution_count": 538,
   "metadata": {
    "ExecuteTime": {
     "end_time": "2021-02-22T03:38:56.561918Z",
     "start_time": "2021-02-22T03:38:55.361068Z"
    }
   },
   "outputs": [],
   "source": [
    "sanger_drug_intersection_noprot_wide.to_csv(\n",
    "    \"../data/processed/drug/sanger_gdsc_intersection_noprot_wide.csv.gz\")"
   ]
  },
  {
   "cell_type": "markdown",
   "metadata": {
    "heading_collapsed": true
   },
   "source": [
    "### Jenny filter"
   ]
  },
  {
   "cell_type": "code",
   "execution_count": 20,
   "metadata": {
    "ExecuteTime": {
     "end_time": "2021-07-05T05:03:16.349790Z",
     "start_time": "2021-07-05T05:03:16.171029Z"
    },
    "hidden": true
   },
   "outputs": [],
   "source": [
    "sanger_drug_intersection_noprot_wide = pd.read_csv(\n",
    "    \"../data/processed/drug/sanger_gdsc_intersection_noprot_wide.csv.gz\")"
   ]
  },
  {
   "cell_type": "code",
   "execution_count": 27,
   "metadata": {
    "ExecuteTime": {
     "end_time": "2021-07-05T05:07:39.729610Z",
     "start_time": "2021-07-05T05:07:39.727044Z"
    },
    "hidden": true
   },
   "outputs": [],
   "source": [
    "gdsc2_drugs = [x for x in sanger_drug_intersection_noprot_wide.columns if 'GDSC2' in x]"
   ]
  },
  {
   "cell_type": "code",
   "execution_count": 28,
   "metadata": {
    "ExecuteTime": {
     "end_time": "2021-07-05T05:07:47.269501Z",
     "start_time": "2021-07-05T05:07:47.266849Z"
    },
    "hidden": true
   },
   "outputs": [],
   "source": [
    "gdsc1_drugs = [x for x in sanger_drug_intersection_noprot_wide.columns if 'GDSC1' in x]"
   ]
  },
  {
   "cell_type": "code",
   "execution_count": 31,
   "metadata": {
    "ExecuteTime": {
     "end_time": "2021-07-05T05:10:11.260561Z",
     "start_time": "2021-07-05T05:10:11.257316Z"
    },
    "hidden": true
   },
   "outputs": [
    {
     "data": {
      "text/plain": [
       "330"
      ]
     },
     "execution_count": 31,
     "metadata": {},
     "output_type": "execute_result"
    }
   ],
   "source": [
    "len(gdsc1_drugs)"
   ]
  },
  {
   "cell_type": "code",
   "execution_count": 26,
   "metadata": {
    "ExecuteTime": {
     "end_time": "2021-07-05T05:07:29.441715Z",
     "start_time": "2021-07-05T05:07:29.438624Z"
    },
    "hidden": true,
    "scrolled": false
   },
   "outputs": [
    {
     "data": {
      "text/plain": [
       "219"
      ]
     },
     "execution_count": 26,
     "metadata": {},
     "output_type": "execute_result"
    }
   ],
   "source": [
    "len(selected_drugs)"
   ]
  },
  {
   "cell_type": "code",
   "execution_count": null,
   "metadata": {
    "hidden": true
   },
   "outputs": [],
   "source": [
    "jenny_list = ['5-Fluorouracil']"
   ]
  },
  {
   "cell_type": "code",
   "execution_count": null,
   "metadata": {
    "hidden": true
   },
   "outputs": [],
   "source": [
    "[x for x in selected_drugs if x.split(';')[1] in jenny_list]"
   ]
  },
  {
   "cell_type": "markdown",
   "metadata": {
    "heading_collapsed": true
   },
   "source": [
    "### sanger_drug_intersection_noprot binary"
   ]
  },
  {
   "cell_type": "code",
   "execution_count": 6,
   "metadata": {
    "ExecuteTime": {
     "end_time": "2021-04-15T12:31:48.040953Z",
     "start_time": "2021-04-15T12:31:47.866720Z"
    },
    "hidden": true
   },
   "outputs": [],
   "source": [
    "sanger_drug_intersection3_wide = pd.read_csv(\n",
    "    \"../data/processed/drug/sanger_gdsc_intersection_noprot_wide.csv.gz\",\n",
    "    index_col=0)"
   ]
  },
  {
   "cell_type": "code",
   "execution_count": 10,
   "metadata": {
    "ExecuteTime": {
     "end_time": "2021-04-15T12:33:14.286192Z",
     "start_time": "2021-04-15T12:33:14.211369Z"
    },
    "hidden": true
   },
   "outputs": [
    {
     "data": {
      "text/plain": [
       "1001;AICA Ribonucleotide;GDSC1    7.703511\n",
       "1003;Camptothecin;GDSC2          -2.418375\n",
       "1004;Vinblastine;GDSC1           -4.225736\n",
       "1004;Vinblastine;GDSC2           -3.952339\n",
       "1005;Cisplatin;GDSC1              2.745476\n",
       "                                    ...   \n",
       "562;AGI-6780;GDSC1                1.445610\n",
       "563;Kobe2602;GDSC1                4.458120\n",
       "573;LGK974;GDSC1                  2.644233\n",
       "574;Wnt-C59;GDSC1                 2.568679\n",
       "576;RU-SKI 43;GDSC1               4.590855\n",
       "Length: 549, dtype: float64"
      ]
     },
     "execution_count": 10,
     "metadata": {},
     "output_type": "execute_result"
    }
   ],
   "source": [
    "sanger_drug_intersection3_wide.apply(lambda col:np.nanmedian(col),axis=0)"
   ]
  },
  {
   "cell_type": "code",
   "execution_count": 58,
   "metadata": {
    "ExecuteTime": {
     "end_time": "2021-04-27T15:35:31.893732Z",
     "start_time": "2021-04-27T15:35:31.865977Z"
    },
    "hidden": true
   },
   "outputs": [
    {
     "data": {
      "text/html": [
       "<div>\n",
       "<style scoped>\n",
       "    .dataframe tbody tr th:only-of-type {\n",
       "        vertical-align: middle;\n",
       "    }\n",
       "\n",
       "    .dataframe tbody tr th {\n",
       "        vertical-align: top;\n",
       "    }\n",
       "\n",
       "    .dataframe thead th {\n",
       "        text-align: right;\n",
       "    }\n",
       "</style>\n",
       "<table border=\"1\" class=\"dataframe\">\n",
       "  <thead>\n",
       "    <tr style=\"text-align: right;\">\n",
       "      <th></th>\n",
       "      <th>1001;AICA Ribonucleotide;GDSC1</th>\n",
       "      <th>1003;Camptothecin;GDSC2</th>\n",
       "      <th>1004;Vinblastine;GDSC1</th>\n",
       "      <th>1004;Vinblastine;GDSC2</th>\n",
       "      <th>1005;Cisplatin;GDSC1</th>\n",
       "      <th>1005;Cisplatin;GDSC2</th>\n",
       "      <th>1006;Cytarabine;GDSC1</th>\n",
       "      <th>1006;Cytarabine;GDSC2</th>\n",
       "      <th>1007;Docetaxel;GDSC1</th>\n",
       "      <th>1007;Docetaxel;GDSC2</th>\n",
       "      <th>...</th>\n",
       "      <th>476;SB505124;GDSC1</th>\n",
       "      <th>477;A-83-01;GDSC1</th>\n",
       "      <th>478;LDN-193189;GDSC1</th>\n",
       "      <th>546;FTY-720;GDSC1</th>\n",
       "      <th>552;BAM7;GDSC1</th>\n",
       "      <th>562;AGI-6780;GDSC1</th>\n",
       "      <th>563;Kobe2602;GDSC1</th>\n",
       "      <th>573;LGK974;GDSC1</th>\n",
       "      <th>574;Wnt-C59;GDSC1</th>\n",
       "      <th>576;RU-SKI 43;GDSC1</th>\n",
       "    </tr>\n",
       "    <tr>\n",
       "      <th>Cell_line</th>\n",
       "      <th></th>\n",
       "      <th></th>\n",
       "      <th></th>\n",
       "      <th></th>\n",
       "      <th></th>\n",
       "      <th></th>\n",
       "      <th></th>\n",
       "      <th></th>\n",
       "      <th></th>\n",
       "      <th></th>\n",
       "      <th></th>\n",
       "      <th></th>\n",
       "      <th></th>\n",
       "      <th></th>\n",
       "      <th></th>\n",
       "      <th></th>\n",
       "      <th></th>\n",
       "      <th></th>\n",
       "      <th></th>\n",
       "      <th></th>\n",
       "      <th></th>\n",
       "    </tr>\n",
       "  </thead>\n",
       "  <tbody>\n",
       "    <tr>\n",
       "      <th>201T</th>\n",
       "      <td>10.006219</td>\n",
       "      <td>-3.123765</td>\n",
       "      <td>-4.519928</td>\n",
       "      <td>NaN</td>\n",
       "      <td>1.739354</td>\n",
       "      <td>NaN</td>\n",
       "      <td>-1.811303</td>\n",
       "      <td>NaN</td>\n",
       "      <td>-5.948871</td>\n",
       "      <td>-5.263725</td>\n",
       "      <td>...</td>\n",
       "      <td>5.497642</td>\n",
       "      <td>5.577882</td>\n",
       "      <td>2.041223</td>\n",
       "      <td>4.314062</td>\n",
       "      <td>5.830343</td>\n",
       "      <td>2.031241</td>\n",
       "      <td>5.668086</td>\n",
       "      <td>3.814942</td>\n",
       "      <td>3.374751</td>\n",
       "      <td>5.759942</td>\n",
       "    </tr>\n",
       "    <tr>\n",
       "      <th>22RV1</th>\n",
       "      <td>8.277717</td>\n",
       "      <td>-2.711064</td>\n",
       "      <td>-4.388238</td>\n",
       "      <td>-4.358934</td>\n",
       "      <td>3.133420</td>\n",
       "      <td>3.760772</td>\n",
       "      <td>0.208333</td>\n",
       "      <td>4.506211</td>\n",
       "      <td>-5.726998</td>\n",
       "      <td>-3.534340</td>\n",
       "      <td>...</td>\n",
       "      <td>2.062433</td>\n",
       "      <td>5.301060</td>\n",
       "      <td>0.504329</td>\n",
       "      <td>2.534243</td>\n",
       "      <td>3.358727</td>\n",
       "      <td>2.074554</td>\n",
       "      <td>5.516358</td>\n",
       "      <td>2.970851</td>\n",
       "      <td>2.382256</td>\n",
       "      <td>4.611802</td>\n",
       "    </tr>\n",
       "    <tr>\n",
       "      <th>23132-87</th>\n",
       "      <td>8.505091</td>\n",
       "      <td>-2.633188</td>\n",
       "      <td>-4.570881</td>\n",
       "      <td>-4.745928</td>\n",
       "      <td>3.980032</td>\n",
       "      <td>4.083907</td>\n",
       "      <td>-1.689554</td>\n",
       "      <td>0.089204</td>\n",
       "      <td>-5.207581</td>\n",
       "      <td>-4.802981</td>\n",
       "      <td>...</td>\n",
       "      <td>3.455451</td>\n",
       "      <td>5.373237</td>\n",
       "      <td>1.386745</td>\n",
       "      <td>2.876781</td>\n",
       "      <td>4.940830</td>\n",
       "      <td>1.809987</td>\n",
       "      <td>4.688832</td>\n",
       "      <td>2.986543</td>\n",
       "      <td>3.390533</td>\n",
       "      <td>4.273043</td>\n",
       "    </tr>\n",
       "    <tr>\n",
       "      <th>42-MG-BA</th>\n",
       "      <td>7.562601</td>\n",
       "      <td>-3.393686</td>\n",
       "      <td>-4.640558</td>\n",
       "      <td>-4.748196</td>\n",
       "      <td>3.013673</td>\n",
       "      <td>2.247032</td>\n",
       "      <td>0.008112</td>\n",
       "      <td>1.105481</td>\n",
       "      <td>-6.773613</td>\n",
       "      <td>-4.954833</td>\n",
       "      <td>...</td>\n",
       "      <td>2.794244</td>\n",
       "      <td>3.794006</td>\n",
       "      <td>0.767780</td>\n",
       "      <td>2.940470</td>\n",
       "      <td>4.235138</td>\n",
       "      <td>1.303975</td>\n",
       "      <td>5.359481</td>\n",
       "      <td>2.917454</td>\n",
       "      <td>2.468938</td>\n",
       "      <td>5.487908</td>\n",
       "    </tr>\n",
       "    <tr>\n",
       "      <th>5637</th>\n",
       "      <td>8.011646</td>\n",
       "      <td>-2.571851</td>\n",
       "      <td>-6.611545</td>\n",
       "      <td>NaN</td>\n",
       "      <td>1.521328</td>\n",
       "      <td>2.303510</td>\n",
       "      <td>-0.877628</td>\n",
       "      <td>2.578905</td>\n",
       "      <td>-8.391204</td>\n",
       "      <td>-6.011902</td>\n",
       "      <td>...</td>\n",
       "      <td>5.169427</td>\n",
       "      <td>3.848002</td>\n",
       "      <td>1.335373</td>\n",
       "      <td>1.864092</td>\n",
       "      <td>4.640307</td>\n",
       "      <td>1.128211</td>\n",
       "      <td>4.779121</td>\n",
       "      <td>2.786563</td>\n",
       "      <td>2.531710</td>\n",
       "      <td>4.479116</td>\n",
       "    </tr>\n",
       "    <tr>\n",
       "      <th>...</th>\n",
       "      <td>...</td>\n",
       "      <td>...</td>\n",
       "      <td>...</td>\n",
       "      <td>...</td>\n",
       "      <td>...</td>\n",
       "      <td>...</td>\n",
       "      <td>...</td>\n",
       "      <td>...</td>\n",
       "      <td>...</td>\n",
       "      <td>...</td>\n",
       "      <td>...</td>\n",
       "      <td>...</td>\n",
       "      <td>...</td>\n",
       "      <td>...</td>\n",
       "      <td>...</td>\n",
       "      <td>...</td>\n",
       "      <td>...</td>\n",
       "      <td>...</td>\n",
       "      <td>...</td>\n",
       "      <td>...</td>\n",
       "      <td>...</td>\n",
       "    </tr>\n",
       "    <tr>\n",
       "      <th>YAPC</th>\n",
       "      <td>9.325459</td>\n",
       "      <td>-1.517331</td>\n",
       "      <td>-2.234043</td>\n",
       "      <td>-0.276878</td>\n",
       "      <td>5.582824</td>\n",
       "      <td>6.191892</td>\n",
       "      <td>1.455560</td>\n",
       "      <td>2.117056</td>\n",
       "      <td>-4.664836</td>\n",
       "      <td>-1.789328</td>\n",
       "      <td>...</td>\n",
       "      <td>4.355866</td>\n",
       "      <td>3.962664</td>\n",
       "      <td>1.338727</td>\n",
       "      <td>2.656372</td>\n",
       "      <td>5.354368</td>\n",
       "      <td>2.533823</td>\n",
       "      <td>6.013006</td>\n",
       "      <td>3.626296</td>\n",
       "      <td>3.168425</td>\n",
       "      <td>6.192931</td>\n",
       "    </tr>\n",
       "    <tr>\n",
       "      <th>YH-13</th>\n",
       "      <td>9.043443</td>\n",
       "      <td>-1.491516</td>\n",
       "      <td>-5.476767</td>\n",
       "      <td>-5.392334</td>\n",
       "      <td>2.439968</td>\n",
       "      <td>3.297034</td>\n",
       "      <td>-1.352299</td>\n",
       "      <td>0.686480</td>\n",
       "      <td>-6.828457</td>\n",
       "      <td>-5.753114</td>\n",
       "      <td>...</td>\n",
       "      <td>4.985660</td>\n",
       "      <td>4.281812</td>\n",
       "      <td>0.417354</td>\n",
       "      <td>2.614606</td>\n",
       "      <td>4.417950</td>\n",
       "      <td>1.001159</td>\n",
       "      <td>5.102382</td>\n",
       "      <td>3.311944</td>\n",
       "      <td>3.479282</td>\n",
       "      <td>5.424028</td>\n",
       "    </tr>\n",
       "    <tr>\n",
       "      <th>YKG-1</th>\n",
       "      <td>6.477157</td>\n",
       "      <td>-2.652776</td>\n",
       "      <td>-4.975824</td>\n",
       "      <td>NaN</td>\n",
       "      <td>1.867132</td>\n",
       "      <td>NaN</td>\n",
       "      <td>-1.249552</td>\n",
       "      <td>NaN</td>\n",
       "      <td>-6.986876</td>\n",
       "      <td>-4.586049</td>\n",
       "      <td>...</td>\n",
       "      <td>3.445554</td>\n",
       "      <td>4.390702</td>\n",
       "      <td>0.381487</td>\n",
       "      <td>2.550901</td>\n",
       "      <td>4.454684</td>\n",
       "      <td>1.936417</td>\n",
       "      <td>4.226052</td>\n",
       "      <td>2.414651</td>\n",
       "      <td>2.191717</td>\n",
       "      <td>4.367968</td>\n",
       "    </tr>\n",
       "    <tr>\n",
       "      <th>YT</th>\n",
       "      <td>8.023383</td>\n",
       "      <td>-4.585890</td>\n",
       "      <td>-2.389600</td>\n",
       "      <td>-5.761951</td>\n",
       "      <td>2.879754</td>\n",
       "      <td>1.441817</td>\n",
       "      <td>1.628666</td>\n",
       "      <td>-0.169026</td>\n",
       "      <td>-3.337593</td>\n",
       "      <td>-4.531786</td>\n",
       "      <td>...</td>\n",
       "      <td>3.631242</td>\n",
       "      <td>4.291418</td>\n",
       "      <td>1.722165</td>\n",
       "      <td>2.783446</td>\n",
       "      <td>5.191390</td>\n",
       "      <td>1.061765</td>\n",
       "      <td>4.534958</td>\n",
       "      <td>2.325160</td>\n",
       "      <td>2.611043</td>\n",
       "      <td>4.846644</td>\n",
       "    </tr>\n",
       "    <tr>\n",
       "      <th>ZR-75-30</th>\n",
       "      <td>8.513541</td>\n",
       "      <td>2.869557</td>\n",
       "      <td>-1.806172</td>\n",
       "      <td>3.117028</td>\n",
       "      <td>4.966390</td>\n",
       "      <td>7.819453</td>\n",
       "      <td>2.288264</td>\n",
       "      <td>5.655037</td>\n",
       "      <td>-2.909097</td>\n",
       "      <td>-0.401929</td>\n",
       "      <td>...</td>\n",
       "      <td>NaN</td>\n",
       "      <td>NaN</td>\n",
       "      <td>NaN</td>\n",
       "      <td>NaN</td>\n",
       "      <td>NaN</td>\n",
       "      <td>NaN</td>\n",
       "      <td>NaN</td>\n",
       "      <td>NaN</td>\n",
       "      <td>NaN</td>\n",
       "      <td>NaN</td>\n",
       "    </tr>\n",
       "  </tbody>\n",
       "</table>\n",
       "<p>853 rows × 549 columns</p>\n",
       "</div>"
      ],
      "text/plain": [
       "           1001;AICA Ribonucleotide;GDSC1  1003;Camptothecin;GDSC2  \\\n",
       "Cell_line                                                            \n",
       "201T                            10.006219                -3.123765   \n",
       "22RV1                            8.277717                -2.711064   \n",
       "23132-87                         8.505091                -2.633188   \n",
       "42-MG-BA                         7.562601                -3.393686   \n",
       "5637                             8.011646                -2.571851   \n",
       "...                                   ...                      ...   \n",
       "YAPC                             9.325459                -1.517331   \n",
       "YH-13                            9.043443                -1.491516   \n",
       "YKG-1                            6.477157                -2.652776   \n",
       "YT                               8.023383                -4.585890   \n",
       "ZR-75-30                         8.513541                 2.869557   \n",
       "\n",
       "           1004;Vinblastine;GDSC1  1004;Vinblastine;GDSC2  \\\n",
       "Cell_line                                                   \n",
       "201T                    -4.519928                     NaN   \n",
       "22RV1                   -4.388238               -4.358934   \n",
       "23132-87                -4.570881               -4.745928   \n",
       "42-MG-BA                -4.640558               -4.748196   \n",
       "5637                    -6.611545                     NaN   \n",
       "...                           ...                     ...   \n",
       "YAPC                    -2.234043               -0.276878   \n",
       "YH-13                   -5.476767               -5.392334   \n",
       "YKG-1                   -4.975824                     NaN   \n",
       "YT                      -2.389600               -5.761951   \n",
       "ZR-75-30                -1.806172                3.117028   \n",
       "\n",
       "           1005;Cisplatin;GDSC1  1005;Cisplatin;GDSC2  1006;Cytarabine;GDSC1  \\\n",
       "Cell_line                                                                      \n",
       "201T                   1.739354                   NaN              -1.811303   \n",
       "22RV1                  3.133420              3.760772               0.208333   \n",
       "23132-87               3.980032              4.083907              -1.689554   \n",
       "42-MG-BA               3.013673              2.247032               0.008112   \n",
       "5637                   1.521328              2.303510              -0.877628   \n",
       "...                         ...                   ...                    ...   \n",
       "YAPC                   5.582824              6.191892               1.455560   \n",
       "YH-13                  2.439968              3.297034              -1.352299   \n",
       "YKG-1                  1.867132                   NaN              -1.249552   \n",
       "YT                     2.879754              1.441817               1.628666   \n",
       "ZR-75-30               4.966390              7.819453               2.288264   \n",
       "\n",
       "           1006;Cytarabine;GDSC2  1007;Docetaxel;GDSC1  1007;Docetaxel;GDSC2  \\\n",
       "Cell_line                                                                      \n",
       "201T                         NaN             -5.948871             -5.263725   \n",
       "22RV1                   4.506211             -5.726998             -3.534340   \n",
       "23132-87                0.089204             -5.207581             -4.802981   \n",
       "42-MG-BA                1.105481             -6.773613             -4.954833   \n",
       "5637                    2.578905             -8.391204             -6.011902   \n",
       "...                          ...                   ...                   ...   \n",
       "YAPC                    2.117056             -4.664836             -1.789328   \n",
       "YH-13                   0.686480             -6.828457             -5.753114   \n",
       "YKG-1                        NaN             -6.986876             -4.586049   \n",
       "YT                     -0.169026             -3.337593             -4.531786   \n",
       "ZR-75-30                5.655037             -2.909097             -0.401929   \n",
       "\n",
       "           ...  476;SB505124;GDSC1  477;A-83-01;GDSC1  478;LDN-193189;GDSC1  \\\n",
       "Cell_line  ...                                                                \n",
       "201T       ...            5.497642           5.577882              2.041223   \n",
       "22RV1      ...            2.062433           5.301060              0.504329   \n",
       "23132-87   ...            3.455451           5.373237              1.386745   \n",
       "42-MG-BA   ...            2.794244           3.794006              0.767780   \n",
       "5637       ...            5.169427           3.848002              1.335373   \n",
       "...        ...                 ...                ...                   ...   \n",
       "YAPC       ...            4.355866           3.962664              1.338727   \n",
       "YH-13      ...            4.985660           4.281812              0.417354   \n",
       "YKG-1      ...            3.445554           4.390702              0.381487   \n",
       "YT         ...            3.631242           4.291418              1.722165   \n",
       "ZR-75-30   ...                 NaN                NaN                   NaN   \n",
       "\n",
       "           546;FTY-720;GDSC1  552;BAM7;GDSC1  562;AGI-6780;GDSC1  \\\n",
       "Cell_line                                                          \n",
       "201T                4.314062        5.830343            2.031241   \n",
       "22RV1               2.534243        3.358727            2.074554   \n",
       "23132-87            2.876781        4.940830            1.809987   \n",
       "42-MG-BA            2.940470        4.235138            1.303975   \n",
       "5637                1.864092        4.640307            1.128211   \n",
       "...                      ...             ...                 ...   \n",
       "YAPC                2.656372        5.354368            2.533823   \n",
       "YH-13               2.614606        4.417950            1.001159   \n",
       "YKG-1               2.550901        4.454684            1.936417   \n",
       "YT                  2.783446        5.191390            1.061765   \n",
       "ZR-75-30                 NaN             NaN                 NaN   \n",
       "\n",
       "           563;Kobe2602;GDSC1  573;LGK974;GDSC1  574;Wnt-C59;GDSC1  \\\n",
       "Cell_line                                                            \n",
       "201T                 5.668086          3.814942           3.374751   \n",
       "22RV1                5.516358          2.970851           2.382256   \n",
       "23132-87             4.688832          2.986543           3.390533   \n",
       "42-MG-BA             5.359481          2.917454           2.468938   \n",
       "5637                 4.779121          2.786563           2.531710   \n",
       "...                       ...               ...                ...   \n",
       "YAPC                 6.013006          3.626296           3.168425   \n",
       "YH-13                5.102382          3.311944           3.479282   \n",
       "YKG-1                4.226052          2.414651           2.191717   \n",
       "YT                   4.534958          2.325160           2.611043   \n",
       "ZR-75-30                  NaN               NaN                NaN   \n",
       "\n",
       "           576;RU-SKI 43;GDSC1  \n",
       "Cell_line                       \n",
       "201T                  5.759942  \n",
       "22RV1                 4.611802  \n",
       "23132-87              4.273043  \n",
       "42-MG-BA              5.487908  \n",
       "5637                  4.479116  \n",
       "...                        ...  \n",
       "YAPC                  6.192931  \n",
       "YH-13                 5.424028  \n",
       "YKG-1                 4.367968  \n",
       "YT                    4.846644  \n",
       "ZR-75-30                   NaN  \n",
       "\n",
       "[853 rows x 549 columns]"
      ]
     },
     "execution_count": 58,
     "metadata": {},
     "output_type": "execute_result"
    }
   ],
   "source": [
    "sanger_drug_intersection3_wide"
   ]
  },
  {
   "cell_type": "code",
   "execution_count": 60,
   "metadata": {
    "ExecuteTime": {
     "end_time": "2021-04-27T15:35:39.701783Z",
     "start_time": "2021-04-27T15:35:39.550799Z"
    },
    "hidden": true
   },
   "outputs": [],
   "source": [
    "sanger_drug_intersection3_wide_binary = sanger_drug_intersection3_wide < sanger_drug_intersection3_wide.apply(\n",
    "    lambda col: np.nanmedian(col), axis=0)\n",
    "\n",
    "sanger_drug_intersection3_wide_binary = sanger_drug_intersection3_wide_binary.astype(int)\n",
    "\n",
    "sanger_drug_intersection3_wide_binary[sanger_drug_intersection3_wide.isna()] = np.nan"
   ]
  },
  {
   "cell_type": "code",
   "execution_count": 62,
   "metadata": {
    "ExecuteTime": {
     "end_time": "2021-04-27T15:35:51.364094Z",
     "start_time": "2021-04-27T15:35:51.323572Z"
    },
    "hidden": true
   },
   "outputs": [
    {
     "data": {
      "text/html": [
       "<div>\n",
       "<style scoped>\n",
       "    .dataframe tbody tr th:only-of-type {\n",
       "        vertical-align: middle;\n",
       "    }\n",
       "\n",
       "    .dataframe tbody tr th {\n",
       "        vertical-align: top;\n",
       "    }\n",
       "\n",
       "    .dataframe thead th {\n",
       "        text-align: right;\n",
       "    }\n",
       "</style>\n",
       "<table border=\"1\" class=\"dataframe\">\n",
       "  <thead>\n",
       "    <tr style=\"text-align: right;\">\n",
       "      <th></th>\n",
       "      <th>1001;AICA Ribonucleotide;GDSC1</th>\n",
       "      <th>1003;Camptothecin;GDSC2</th>\n",
       "      <th>1004;Vinblastine;GDSC1</th>\n",
       "      <th>1004;Vinblastine;GDSC2</th>\n",
       "      <th>1005;Cisplatin;GDSC1</th>\n",
       "      <th>1005;Cisplatin;GDSC2</th>\n",
       "      <th>1006;Cytarabine;GDSC1</th>\n",
       "      <th>1006;Cytarabine;GDSC2</th>\n",
       "      <th>1007;Docetaxel;GDSC1</th>\n",
       "      <th>1007;Docetaxel;GDSC2</th>\n",
       "      <th>...</th>\n",
       "      <th>476;SB505124;GDSC1</th>\n",
       "      <th>477;A-83-01;GDSC1</th>\n",
       "      <th>478;LDN-193189;GDSC1</th>\n",
       "      <th>546;FTY-720;GDSC1</th>\n",
       "      <th>552;BAM7;GDSC1</th>\n",
       "      <th>562;AGI-6780;GDSC1</th>\n",
       "      <th>563;Kobe2602;GDSC1</th>\n",
       "      <th>573;LGK974;GDSC1</th>\n",
       "      <th>574;Wnt-C59;GDSC1</th>\n",
       "      <th>576;RU-SKI 43;GDSC1</th>\n",
       "    </tr>\n",
       "    <tr>\n",
       "      <th>Cell_line</th>\n",
       "      <th></th>\n",
       "      <th></th>\n",
       "      <th></th>\n",
       "      <th></th>\n",
       "      <th></th>\n",
       "      <th></th>\n",
       "      <th></th>\n",
       "      <th></th>\n",
       "      <th></th>\n",
       "      <th></th>\n",
       "      <th></th>\n",
       "      <th></th>\n",
       "      <th></th>\n",
       "      <th></th>\n",
       "      <th></th>\n",
       "      <th></th>\n",
       "      <th></th>\n",
       "      <th></th>\n",
       "      <th></th>\n",
       "      <th></th>\n",
       "      <th></th>\n",
       "    </tr>\n",
       "  </thead>\n",
       "  <tbody>\n",
       "    <tr>\n",
       "      <th>201T</th>\n",
       "      <td>0.0</td>\n",
       "      <td>1.0</td>\n",
       "      <td>1.0</td>\n",
       "      <td>NaN</td>\n",
       "      <td>1.0</td>\n",
       "      <td>NaN</td>\n",
       "      <td>1.0</td>\n",
       "      <td>NaN</td>\n",
       "      <td>1.0</td>\n",
       "      <td>1.0</td>\n",
       "      <td>...</td>\n",
       "      <td>0.0</td>\n",
       "      <td>0.0</td>\n",
       "      <td>0.0</td>\n",
       "      <td>0.0</td>\n",
       "      <td>0.0</td>\n",
       "      <td>0.0</td>\n",
       "      <td>0.0</td>\n",
       "      <td>0.0</td>\n",
       "      <td>0.0</td>\n",
       "      <td>0.0</td>\n",
       "    </tr>\n",
       "    <tr>\n",
       "      <th>22RV1</th>\n",
       "      <td>0.0</td>\n",
       "      <td>1.0</td>\n",
       "      <td>1.0</td>\n",
       "      <td>1.0</td>\n",
       "      <td>0.0</td>\n",
       "      <td>0.0</td>\n",
       "      <td>0.0</td>\n",
       "      <td>0.0</td>\n",
       "      <td>1.0</td>\n",
       "      <td>0.0</td>\n",
       "      <td>...</td>\n",
       "      <td>1.0</td>\n",
       "      <td>0.0</td>\n",
       "      <td>1.0</td>\n",
       "      <td>0.0</td>\n",
       "      <td>1.0</td>\n",
       "      <td>0.0</td>\n",
       "      <td>0.0</td>\n",
       "      <td>0.0</td>\n",
       "      <td>1.0</td>\n",
       "      <td>0.0</td>\n",
       "    </tr>\n",
       "    <tr>\n",
       "      <th>23132-87</th>\n",
       "      <td>0.0</td>\n",
       "      <td>1.0</td>\n",
       "      <td>1.0</td>\n",
       "      <td>1.0</td>\n",
       "      <td>0.0</td>\n",
       "      <td>0.0</td>\n",
       "      <td>1.0</td>\n",
       "      <td>1.0</td>\n",
       "      <td>1.0</td>\n",
       "      <td>1.0</td>\n",
       "      <td>...</td>\n",
       "      <td>0.0</td>\n",
       "      <td>0.0</td>\n",
       "      <td>0.0</td>\n",
       "      <td>0.0</td>\n",
       "      <td>0.0</td>\n",
       "      <td>0.0</td>\n",
       "      <td>0.0</td>\n",
       "      <td>0.0</td>\n",
       "      <td>0.0</td>\n",
       "      <td>1.0</td>\n",
       "    </tr>\n",
       "    <tr>\n",
       "      <th>42-MG-BA</th>\n",
       "      <td>1.0</td>\n",
       "      <td>1.0</td>\n",
       "      <td>1.0</td>\n",
       "      <td>1.0</td>\n",
       "      <td>0.0</td>\n",
       "      <td>1.0</td>\n",
       "      <td>1.0</td>\n",
       "      <td>1.0</td>\n",
       "      <td>1.0</td>\n",
       "      <td>1.0</td>\n",
       "      <td>...</td>\n",
       "      <td>1.0</td>\n",
       "      <td>1.0</td>\n",
       "      <td>1.0</td>\n",
       "      <td>0.0</td>\n",
       "      <td>1.0</td>\n",
       "      <td>1.0</td>\n",
       "      <td>0.0</td>\n",
       "      <td>0.0</td>\n",
       "      <td>1.0</td>\n",
       "      <td>0.0</td>\n",
       "    </tr>\n",
       "    <tr>\n",
       "      <th>5637</th>\n",
       "      <td>0.0</td>\n",
       "      <td>1.0</td>\n",
       "      <td>1.0</td>\n",
       "      <td>NaN</td>\n",
       "      <td>1.0</td>\n",
       "      <td>1.0</td>\n",
       "      <td>1.0</td>\n",
       "      <td>0.0</td>\n",
       "      <td>1.0</td>\n",
       "      <td>1.0</td>\n",
       "      <td>...</td>\n",
       "      <td>0.0</td>\n",
       "      <td>1.0</td>\n",
       "      <td>0.0</td>\n",
       "      <td>1.0</td>\n",
       "      <td>1.0</td>\n",
       "      <td>1.0</td>\n",
       "      <td>0.0</td>\n",
       "      <td>0.0</td>\n",
       "      <td>1.0</td>\n",
       "      <td>1.0</td>\n",
       "    </tr>\n",
       "    <tr>\n",
       "      <th>...</th>\n",
       "      <td>...</td>\n",
       "      <td>...</td>\n",
       "      <td>...</td>\n",
       "      <td>...</td>\n",
       "      <td>...</td>\n",
       "      <td>...</td>\n",
       "      <td>...</td>\n",
       "      <td>...</td>\n",
       "      <td>...</td>\n",
       "      <td>...</td>\n",
       "      <td>...</td>\n",
       "      <td>...</td>\n",
       "      <td>...</td>\n",
       "      <td>...</td>\n",
       "      <td>...</td>\n",
       "      <td>...</td>\n",
       "      <td>...</td>\n",
       "      <td>...</td>\n",
       "      <td>...</td>\n",
       "      <td>...</td>\n",
       "      <td>...</td>\n",
       "    </tr>\n",
       "    <tr>\n",
       "      <th>YAPC</th>\n",
       "      <td>0.0</td>\n",
       "      <td>0.0</td>\n",
       "      <td>0.0</td>\n",
       "      <td>0.0</td>\n",
       "      <td>0.0</td>\n",
       "      <td>0.0</td>\n",
       "      <td>0.0</td>\n",
       "      <td>0.0</td>\n",
       "      <td>0.0</td>\n",
       "      <td>0.0</td>\n",
       "      <td>...</td>\n",
       "      <td>0.0</td>\n",
       "      <td>1.0</td>\n",
       "      <td>0.0</td>\n",
       "      <td>0.0</td>\n",
       "      <td>0.0</td>\n",
       "      <td>0.0</td>\n",
       "      <td>0.0</td>\n",
       "      <td>0.0</td>\n",
       "      <td>0.0</td>\n",
       "      <td>0.0</td>\n",
       "    </tr>\n",
       "    <tr>\n",
       "      <th>YH-13</th>\n",
       "      <td>0.0</td>\n",
       "      <td>0.0</td>\n",
       "      <td>1.0</td>\n",
       "      <td>1.0</td>\n",
       "      <td>1.0</td>\n",
       "      <td>1.0</td>\n",
       "      <td>1.0</td>\n",
       "      <td>1.0</td>\n",
       "      <td>1.0</td>\n",
       "      <td>1.0</td>\n",
       "      <td>...</td>\n",
       "      <td>0.0</td>\n",
       "      <td>0.0</td>\n",
       "      <td>1.0</td>\n",
       "      <td>0.0</td>\n",
       "      <td>1.0</td>\n",
       "      <td>1.0</td>\n",
       "      <td>0.0</td>\n",
       "      <td>0.0</td>\n",
       "      <td>0.0</td>\n",
       "      <td>0.0</td>\n",
       "    </tr>\n",
       "    <tr>\n",
       "      <th>YKG-1</th>\n",
       "      <td>1.0</td>\n",
       "      <td>1.0</td>\n",
       "      <td>1.0</td>\n",
       "      <td>NaN</td>\n",
       "      <td>1.0</td>\n",
       "      <td>NaN</td>\n",
       "      <td>1.0</td>\n",
       "      <td>NaN</td>\n",
       "      <td>1.0</td>\n",
       "      <td>1.0</td>\n",
       "      <td>...</td>\n",
       "      <td>0.0</td>\n",
       "      <td>0.0</td>\n",
       "      <td>1.0</td>\n",
       "      <td>0.0</td>\n",
       "      <td>1.0</td>\n",
       "      <td>0.0</td>\n",
       "      <td>1.0</td>\n",
       "      <td>1.0</td>\n",
       "      <td>1.0</td>\n",
       "      <td>1.0</td>\n",
       "    </tr>\n",
       "    <tr>\n",
       "      <th>YT</th>\n",
       "      <td>0.0</td>\n",
       "      <td>1.0</td>\n",
       "      <td>0.0</td>\n",
       "      <td>1.0</td>\n",
       "      <td>0.0</td>\n",
       "      <td>1.0</td>\n",
       "      <td>0.0</td>\n",
       "      <td>1.0</td>\n",
       "      <td>0.0</td>\n",
       "      <td>1.0</td>\n",
       "      <td>...</td>\n",
       "      <td>0.0</td>\n",
       "      <td>0.0</td>\n",
       "      <td>0.0</td>\n",
       "      <td>0.0</td>\n",
       "      <td>0.0</td>\n",
       "      <td>1.0</td>\n",
       "      <td>0.0</td>\n",
       "      <td>1.0</td>\n",
       "      <td>0.0</td>\n",
       "      <td>0.0</td>\n",
       "    </tr>\n",
       "    <tr>\n",
       "      <th>ZR-75-30</th>\n",
       "      <td>0.0</td>\n",
       "      <td>0.0</td>\n",
       "      <td>0.0</td>\n",
       "      <td>0.0</td>\n",
       "      <td>0.0</td>\n",
       "      <td>0.0</td>\n",
       "      <td>0.0</td>\n",
       "      <td>0.0</td>\n",
       "      <td>0.0</td>\n",
       "      <td>0.0</td>\n",
       "      <td>...</td>\n",
       "      <td>NaN</td>\n",
       "      <td>NaN</td>\n",
       "      <td>NaN</td>\n",
       "      <td>NaN</td>\n",
       "      <td>NaN</td>\n",
       "      <td>NaN</td>\n",
       "      <td>NaN</td>\n",
       "      <td>NaN</td>\n",
       "      <td>NaN</td>\n",
       "      <td>NaN</td>\n",
       "    </tr>\n",
       "  </tbody>\n",
       "</table>\n",
       "<p>853 rows × 549 columns</p>\n",
       "</div>"
      ],
      "text/plain": [
       "           1001;AICA Ribonucleotide;GDSC1  1003;Camptothecin;GDSC2  \\\n",
       "Cell_line                                                            \n",
       "201T                                  0.0                      1.0   \n",
       "22RV1                                 0.0                      1.0   \n",
       "23132-87                              0.0                      1.0   \n",
       "42-MG-BA                              1.0                      1.0   \n",
       "5637                                  0.0                      1.0   \n",
       "...                                   ...                      ...   \n",
       "YAPC                                  0.0                      0.0   \n",
       "YH-13                                 0.0                      0.0   \n",
       "YKG-1                                 1.0                      1.0   \n",
       "YT                                    0.0                      1.0   \n",
       "ZR-75-30                              0.0                      0.0   \n",
       "\n",
       "           1004;Vinblastine;GDSC1  1004;Vinblastine;GDSC2  \\\n",
       "Cell_line                                                   \n",
       "201T                          1.0                     NaN   \n",
       "22RV1                         1.0                     1.0   \n",
       "23132-87                      1.0                     1.0   \n",
       "42-MG-BA                      1.0                     1.0   \n",
       "5637                          1.0                     NaN   \n",
       "...                           ...                     ...   \n",
       "YAPC                          0.0                     0.0   \n",
       "YH-13                         1.0                     1.0   \n",
       "YKG-1                         1.0                     NaN   \n",
       "YT                            0.0                     1.0   \n",
       "ZR-75-30                      0.0                     0.0   \n",
       "\n",
       "           1005;Cisplatin;GDSC1  1005;Cisplatin;GDSC2  1006;Cytarabine;GDSC1  \\\n",
       "Cell_line                                                                      \n",
       "201T                        1.0                   NaN                    1.0   \n",
       "22RV1                       0.0                   0.0                    0.0   \n",
       "23132-87                    0.0                   0.0                    1.0   \n",
       "42-MG-BA                    0.0                   1.0                    1.0   \n",
       "5637                        1.0                   1.0                    1.0   \n",
       "...                         ...                   ...                    ...   \n",
       "YAPC                        0.0                   0.0                    0.0   \n",
       "YH-13                       1.0                   1.0                    1.0   \n",
       "YKG-1                       1.0                   NaN                    1.0   \n",
       "YT                          0.0                   1.0                    0.0   \n",
       "ZR-75-30                    0.0                   0.0                    0.0   \n",
       "\n",
       "           1006;Cytarabine;GDSC2  1007;Docetaxel;GDSC1  1007;Docetaxel;GDSC2  \\\n",
       "Cell_line                                                                      \n",
       "201T                         NaN                   1.0                   1.0   \n",
       "22RV1                        0.0                   1.0                   0.0   \n",
       "23132-87                     1.0                   1.0                   1.0   \n",
       "42-MG-BA                     1.0                   1.0                   1.0   \n",
       "5637                         0.0                   1.0                   1.0   \n",
       "...                          ...                   ...                   ...   \n",
       "YAPC                         0.0                   0.0                   0.0   \n",
       "YH-13                        1.0                   1.0                   1.0   \n",
       "YKG-1                        NaN                   1.0                   1.0   \n",
       "YT                           1.0                   0.0                   1.0   \n",
       "ZR-75-30                     0.0                   0.0                   0.0   \n",
       "\n",
       "           ...  476;SB505124;GDSC1  477;A-83-01;GDSC1  478;LDN-193189;GDSC1  \\\n",
       "Cell_line  ...                                                                \n",
       "201T       ...                 0.0                0.0                   0.0   \n",
       "22RV1      ...                 1.0                0.0                   1.0   \n",
       "23132-87   ...                 0.0                0.0                   0.0   \n",
       "42-MG-BA   ...                 1.0                1.0                   1.0   \n",
       "5637       ...                 0.0                1.0                   0.0   \n",
       "...        ...                 ...                ...                   ...   \n",
       "YAPC       ...                 0.0                1.0                   0.0   \n",
       "YH-13      ...                 0.0                0.0                   1.0   \n",
       "YKG-1      ...                 0.0                0.0                   1.0   \n",
       "YT         ...                 0.0                0.0                   0.0   \n",
       "ZR-75-30   ...                 NaN                NaN                   NaN   \n",
       "\n",
       "           546;FTY-720;GDSC1  552;BAM7;GDSC1  562;AGI-6780;GDSC1  \\\n",
       "Cell_line                                                          \n",
       "201T                     0.0             0.0                 0.0   \n",
       "22RV1                    0.0             1.0                 0.0   \n",
       "23132-87                 0.0             0.0                 0.0   \n",
       "42-MG-BA                 0.0             1.0                 1.0   \n",
       "5637                     1.0             1.0                 1.0   \n",
       "...                      ...             ...                 ...   \n",
       "YAPC                     0.0             0.0                 0.0   \n",
       "YH-13                    0.0             1.0                 1.0   \n",
       "YKG-1                    0.0             1.0                 0.0   \n",
       "YT                       0.0             0.0                 1.0   \n",
       "ZR-75-30                 NaN             NaN                 NaN   \n",
       "\n",
       "           563;Kobe2602;GDSC1  573;LGK974;GDSC1  574;Wnt-C59;GDSC1  \\\n",
       "Cell_line                                                            \n",
       "201T                      0.0               0.0                0.0   \n",
       "22RV1                     0.0               0.0                1.0   \n",
       "23132-87                  0.0               0.0                0.0   \n",
       "42-MG-BA                  0.0               0.0                1.0   \n",
       "5637                      0.0               0.0                1.0   \n",
       "...                       ...               ...                ...   \n",
       "YAPC                      0.0               0.0                0.0   \n",
       "YH-13                     0.0               0.0                0.0   \n",
       "YKG-1                     1.0               1.0                1.0   \n",
       "YT                        0.0               1.0                0.0   \n",
       "ZR-75-30                  NaN               NaN                NaN   \n",
       "\n",
       "           576;RU-SKI 43;GDSC1  \n",
       "Cell_line                       \n",
       "201T                       0.0  \n",
       "22RV1                      0.0  \n",
       "23132-87                   1.0  \n",
       "42-MG-BA                   0.0  \n",
       "5637                       1.0  \n",
       "...                        ...  \n",
       "YAPC                       0.0  \n",
       "YH-13                      0.0  \n",
       "YKG-1                      1.0  \n",
       "YT                         0.0  \n",
       "ZR-75-30                   NaN  \n",
       "\n",
       "[853 rows x 549 columns]"
      ]
     },
     "execution_count": 62,
     "metadata": {},
     "output_type": "execute_result"
    }
   ],
   "source": [
    "sanger_drug_intersection3_wide_binary"
   ]
  },
  {
   "cell_type": "code",
   "execution_count": 39,
   "metadata": {
    "ExecuteTime": {
     "end_time": "2021-04-15T12:53:10.893707Z",
     "start_time": "2021-04-15T12:53:09.778088Z"
    },
    "hidden": true
   },
   "outputs": [],
   "source": [
    "sanger_drug_intersection3_wide_binary.to_csv(\n",
    "    \"../data/processed/drug/sanger_gdsc_intersection_noprot_wide_binary.csv.gz\")"
   ]
  },
  {
   "cell_type": "markdown",
   "metadata": {
    "heading_collapsed": true
   },
   "source": [
    "## CTD drug"
   ]
  },
  {
   "cell_type": "code",
   "execution_count": null,
   "metadata": {
    "ExecuteTime": {
     "end_time": "2022-01-20T00:42:47.253521Z",
     "start_time": "2022-01-20T00:42:47.224872Z"
    },
    "hidden": true
   },
   "outputs": [],
   "source": [
    "meta = pd.read_csv(\"../data/meta/model_list_20210427.csv\")\n",
    "\n",
    "meta = meta[meta['model_name'].isin(df_intersection_noprot.index.values)]\n",
    "\n",
    "sidm_to_name = meta.set_index('model_id').to_dict()['model_name']\n",
    "\n",
    "ctd_drug = pd.read_csv(\"../data/processed/drug/CTRPv2.0_AUC_parsed.csv.gz\",\n",
    "                       low_memory=False,\n",
    "                       index_col=0).T\n",
    "ctd_drug.index.name = 'Cell_line'"
   ]
  },
  {
   "cell_type": "code",
   "execution_count": 87,
   "metadata": {
    "ExecuteTime": {
     "end_time": "2021-07-09T02:11:07.174582Z",
     "start_time": "2021-07-09T02:11:07.160298Z"
    },
    "hidden": true
   },
   "outputs": [],
   "source": [
    "sidm_to_name = meta.set_index('model_id').to_dict()['model_name']"
   ]
  },
  {
   "cell_type": "code",
   "execution_count": 96,
   "metadata": {
    "ExecuteTime": {
     "end_time": "2021-07-09T02:12:36.695587Z",
     "start_time": "2021-07-09T02:12:36.573445Z"
    },
    "hidden": true
   },
   "outputs": [],
   "source": [
    "ctd_drug = pd.read_csv(\"../data/processed/drug/CTRPv2.0_AUC_parsed.csv.gz\",\n",
    "                       low_memory=False,\n",
    "                       index_col=0).T\n",
    "ctd_drug.index.name = 'Cell_line'"
   ]
  },
  {
   "cell_type": "code",
   "execution_count": 98,
   "metadata": {
    "ExecuteTime": {
     "end_time": "2021-07-09T02:13:19.342119Z",
     "start_time": "2021-07-09T02:13:19.339102Z"
    },
    "hidden": true
   },
   "outputs": [],
   "source": [
    "ctd_drug = ctd_drug[ctd_drug.index.isin(meta['model_id'])]\n",
    "\n",
    "ctd_drug.index = ctd_drug.index.map(sidm_to_name)"
   ]
  },
  {
   "cell_type": "code",
   "execution_count": 125,
   "metadata": {
    "ExecuteTime": {
     "end_time": "2021-07-14T10:02:11.115296Z",
     "start_time": "2021-07-14T10:02:11.097965Z"
    },
    "code_folding": [],
    "hidden": true
   },
   "outputs": [],
   "source": [
    "ctd_meta_drug = pd.read_csv(\n",
    "    \"../data/raw/ctd2/CTRPv2.1_2016_pub_NatChemBiol_12_109/v21.meta.per_compound.txt\",\n",
    "    sep='\\t')\n",
    "drug_id_name = ctd_meta_drug.set_index('master_cpd_id').to_dict()['cpd_name']\n",
    "ctd_meta_cell = pd.read_csv(\n",
    "    \"../data/raw/ctd2/CTRPv2.1_2016_pub_NatChemBiol_12_109/v21.meta.per_cell_line.txt\",\n",
    "    sep='\\t')\n",
    "cell_id_name = ctd_meta_cell.set_index('master_ccl_id').to_dict()['ccl_name']\n",
    "\n",
    "ctd_drug_raw = pd.read_csv(\n",
    "    \"../data/raw/ctd2/CTRPv2.1_2016_pub_NatChemBiol_12_109/v21.data.auc_sensitivities.txt\",\n",
    "    sep='\\t')\n",
    "\n",
    "ctd_drug_raw['Cell_line'] = ctd_drug_raw['master_ccl_id'].map(cell_id_name)\n",
    "ctd_drug_raw['drug_id'] = ctd_drug_raw['master_cpd_id'].map(drug_id_name)\n",
    "ctd_drug_raw = ctd_drug_raw.drop_duplicates(['Cell_line', 'drug_id'])\n"
   ]
  },
  {
   "cell_type": "code",
   "execution_count": 139,
   "metadata": {
    "ExecuteTime": {
     "end_time": "2021-07-14T10:04:47.975689Z",
     "start_time": "2021-07-14T10:04:47.959108Z"
    },
    "hidden": true
   },
   "outputs": [],
   "source": [
    "ctd_drug_filtered = ctd_drug_raw[ctd_drug_raw['Cell_line'].isin(meta['model_name'])]"
   ]
  },
  {
   "cell_type": "code",
   "execution_count": 114,
   "metadata": {
    "ExecuteTime": {
     "end_time": "2021-07-14T07:57:23.668069Z",
     "start_time": "2021-07-14T07:57:23.368343Z"
    },
    "hidden": true
   },
   "outputs": [
    {
     "data": {
      "text/plain": [
       "<seaborn.axisgrid.FacetGrid at 0x7feb7ab1a6d0>"
      ]
     },
     "execution_count": 114,
     "metadata": {},
     "output_type": "execute_result"
    },
    {
     "data": {
      "image/png": "[encoded data removed]",
      "text/plain": [
       "<Figure size 360x360 with 1 Axes>"
      ]
     },
     "metadata": {
      "needs_background": "light"
     },
     "output_type": "display_data"
    }
   ],
   "source": [
    "sns.displot(ctd_drug.shape[0] - pd.isna(ctd_drug).sum(axis=0))"
   ]
  },
  {
   "cell_type": "code",
   "execution_count": 116,
   "metadata": {
    "ExecuteTime": {
     "end_time": "2021-07-14T08:16:33.050154Z",
     "start_time": "2021-07-14T08:16:32.407343Z"
    },
    "hidden": true
   },
   "outputs": [],
   "source": [
    "ctd_drug.dropna(thresh=400,axis=1).to_csv(\"../data/processed/drug/sanger_ctd2_min400.csv.gz\")"
   ]
  },
  {
   "cell_type": "code",
   "execution_count": 118,
   "metadata": {
    "ExecuteTime": {
     "end_time": "2021-07-14T08:41:54.500795Z",
     "start_time": "2021-07-14T08:41:53.869031Z"
    },
    "hidden": true
   },
   "outputs": [
    {
     "data": {
      "text/plain": [
       "<seaborn.axisgrid.FacetGrid at 0x7feb541ccbe0>"
      ]
     },
     "execution_count": 118,
     "metadata": {},
     "output_type": "execute_result"
    },
    {
     "data": {
      "image/png": "[encoded data removed]",
      "text/plain": [
       "<Figure size 360x360 with 1 Axes>"
      ]
     },
     "metadata": {
      "needs_background": "light"
     },
     "output_type": "display_data"
    }
   ],
   "source": [
    "sns.displot(ctd_drug.values.flatten())"
   ]
  },
  {
   "cell_type": "code",
   "execution_count": 103,
   "metadata": {
    "ExecuteTime": {
     "end_time": "2021-07-09T06:15:09.342904Z",
     "start_time": "2021-07-09T06:15:09.338940Z"
    },
    "hidden": true
   },
   "outputs": [
    {
     "data": {
      "text/plain": [
       "Index(['16-BETA-BROMOANDROSTERONE', '1S,3R-RSL-3', '3-CL-AHPC', '968',\n",
       "       'A-804598', 'AA-COCF3', 'ABIRATERONE', 'ABT-199', 'ABT-737', 'AC55649',\n",
       "       ...\n",
       "       'WAY-362450', 'WP1130', 'WZ4002', 'WZ8040', 'XL765', 'YK 4-279', 'YL54',\n",
       "       'YM-155', 'ZEBULARINE', 'ZSTK474'],\n",
       "      dtype='object', name='master_cpd_id', length=545)"
      ]
     },
     "execution_count": 103,
     "metadata": {},
     "output_type": "execute_result"
    }
   ],
   "source": [
    "ctd_drug.columns"
   ]
  },
  {
   "cell_type": "markdown",
   "metadata": {},
   "source": [
    "# CCLE omic data"
   ]
  },
  {
   "cell_type": "code",
   "execution_count": null,
   "metadata": {
    "ExecuteTime": {
     "end_time": "2022-06-02T01:03:44.349587Z",
     "start_time": "2022-06-02T01:03:44.338745Z"
    }
   },
   "outputs": [],
   "source": [
    "ctd_drug = ctd_drug[set(ctd_drug.columns).intersection(sidm_to_name.keys())]"
   ]
  },
  {
   "cell_type": "code",
   "execution_count": 30,
   "metadata": {
    "ExecuteTime": {
     "end_time": "2022-06-02T01:03:50.309032Z",
     "start_time": "2022-06-02T01:03:50.293642Z"
    }
   },
   "outputs": [],
   "source": [
    "ccle_meta = pd.read_csv(\"../data/meta/ccle_sample_info.csv\")"
   ]
  },
  {
   "cell_type": "markdown",
   "metadata": {},
   "source": [
    "## load omic"
   ]
  },
  {
   "cell_type": "code",
   "execution_count": null,
   "metadata": {},
   "outputs": [],
   "source": [
    "sanger_drug_intersection_noprot_wide = pd.pivot(\n",
    "    sanger_drug_intersection_noprot[['cell_line_name', 'drug_id', 'ln_IC50']],\n",
    "    index='cell_line_name',\n",
    "    columns='drug_id')"
   ]
  },
  {
   "cell_type": "code",
   "execution_count": 31,
   "metadata": {
    "ExecuteTime": {
     "end_time": "2022-06-02T01:04:03.103952Z",
     "start_time": "2022-06-02T01:03:54.981949Z"
    }
   },
   "outputs": [],
   "source": [
    "mutation = pd.read_csv(\"../data/ccle/CCLE_mutations.csv\", low_memory=False)\n",
    "\n",
    "mutation = mutation[mutation['Variant_annotation']=='damaging']\n",
    "\n",
    "mutation_count = mutation.groupby(['DepMap_ID', 'Hugo_Symbol']).size().reset_index(name='count')\n",
    "\n",
    "mutation_count = pd.pivot(mutation_count, index='DepMap_ID', columns='Hugo_Symbol').fillna(0)\n",
    "\n",
    "mutation_count.columns = [x[1] for x in mutation_count.columns]\n",
    "\n",
    "mutation_count = mutation_count.sort_values(by='DepMap_ID')"
   ]
  },
  {
   "cell_type": "code",
   "execution_count": 32,
   "metadata": {
    "ExecuteTime": {
     "end_time": "2022-06-02T01:04:34.144360Z",
     "start_time": "2022-06-02T01:04:03.106143Z"
    }
   },
   "outputs": [],
   "source": [
    "cnv = pd.read_csv(\"../data/ccle/CCLE_gene_cn.csv\", index_col=0)\n",
    "\n",
    "cnv.index.name = 'DepMap_ID'\n",
    "\n",
    "cnv.columns = [x.split(' ')[0] for x in cnv.columns]\n",
    "\n",
    "cnv = cnv[sorted(cnv.columns)]\n",
    "cnv = cnv.sort_values(by='DepMap_ID')"
   ]
  },
  {
   "cell_type": "code",
   "execution_count": 33,
   "metadata": {
    "ExecuteTime": {
     "end_time": "2022-06-02T01:04:49.445637Z",
     "start_time": "2022-06-02T01:04:34.146607Z"
    }
   },
   "outputs": [],
   "source": [
    "rna = pd.read_csv(\"../data/ccle/CCLE_expression.csv\", index_col=0)\n",
    "\n",
    "rna.index.name = 'DepMap_ID'\n",
    "\n",
    "rna.shape\n",
    "\n",
    "rna.columns = [x.split(' ')[0] for x in rna.columns]\n",
    "\n",
    "rna = rna[sorted(rna.columns)]\n",
    "rna = rna.sort_values(by='DepMap_ID')\n"
   ]
  },
  {
   "cell_type": "code",
   "execution_count": 34,
   "metadata": {
    "ExecuteTime": {
     "end_time": "2022-06-02T01:04:49.491587Z",
     "start_time": "2022-06-02T01:04:49.448162Z"
    }
   },
   "outputs": [],
   "source": [
    "sample = pd.read_csv(\"../data/ccle/sample_info.csv\")\n",
    "\n",
    "ccle2depmap = sample.set_index(['CCLE_Name']).to_dict()['DepMap_ID']"
   ]
  },
  {
   "cell_type": "code",
   "execution_count": 35,
   "metadata": {
    "ExecuteTime": {
     "end_time": "2022-06-02T01:04:50.894178Z",
     "start_time": "2022-06-02T01:04:49.530334Z"
    }
   },
   "outputs": [],
   "source": [
    "protein = pd.read_csv(\"../data/ccle/protein_quant_current_normalized.csv.gz\")\n",
    "\n",
    "protein = protein.drop(\n",
    "    ['Protein_Id', 'Gene_Symbol', 'Description', 'Group_ID', 'Uniprot_Acc'],\n",
    "    axis=1).rename(columns={\n",
    "        'Uniprot': 'Protein'\n",
    "    }).set_index('Protein')\n",
    "protein = protein.drop([\n",
    "    'SW948_LARGE_INTESTINE_TenPx11', 'CAL120_BREAST_TenPx02',\n",
    "    'HCT15_LARGE_INTESTINE_TenPx30'\n",
    "],\n",
    "                       axis=1)\n",
    "\n",
    "rename_dict = {}\n",
    "for x in protein.columns.to_list():\n",
    "    rename_dict[x] = x.split('_TenPx')[0]\n",
    "protein = protein.rename(columns=rename_dict)\n",
    "protein = protein.drop([x for x in protein.columns.tolist() if 'TenPx' in x],\n",
    "                       axis=1).transpose()\n",
    "\n",
    "protein.index.name = 'CCLE_ID'\n",
    "\n",
    "protein.index = protein.index.map(ccle2depmap)\n",
    "protein.index.name = 'DepMap_ID'\n",
    "\n",
    "protein = protein.loc[:, ~protein.columns.duplicated()]\n",
    "protein = protein[[\n",
    "    x for x in protein.columns\n",
    "    if x in protein2rna_map and type(protein2rna_map[x]) is str\n",
    "]]\n",
    "protein.columns = [protein2rna_map[x] for x in protein.columns]\n",
    "# protein = protein.loc[:,~protein.columns.duplicated()]\n",
    "\n",
    "protein = protein[sorted(protein.columns)]\n",
    "protein = protein.sort_values(by='DepMap_ID')"
   ]
  },
  {
   "cell_type": "markdown",
   "metadata": {
    "heading_collapsed": true
   },
   "source": [
    "## max conc filter"
   ]
  },
  {
   "cell_type": "code",
   "execution_count": 11,
   "metadata": {
    "ExecuteTime": {
     "end_time": "2021-04-13T05:40:33.858052Z",
     "start_time": "2021-04-13T05:38:47.438749Z"
    },
    "hidden": true
   },
   "outputs": [],
   "source": [
    "df_intersection_noprot = pd.read_csv(\n",
    "    \"../data/processed/omics/sanger_df_intersection_noprot_drug.csv.gz\",\n",
    "    index_col=0)"
   ]
  },
  {
   "cell_type": "code",
   "execution_count": 39,
   "metadata": {
    "ExecuteTime": {
     "end_time": "2021-04-13T06:31:36.026073Z",
     "start_time": "2021-04-13T06:31:29.938535Z"
    },
    "hidden": true
   },
   "outputs": [],
   "source": [
    "sanger_drug = pd.read_csv(\"../data/raw/drug_final_processed_eg_id.csv.gz\", low_memory=False)"
   ]
  },
  {
   "cell_type": "code",
   "execution_count": 40,
   "metadata": {
    "ExecuteTime": {
     "end_time": "2021-04-13T06:31:36.793864Z",
     "start_time": "2021-04-13T06:31:36.601302Z"
    },
    "hidden": true
   },
   "outputs": [],
   "source": [
    "sanger_drug_intersection_noprot = sanger_drug[sanger_drug['model_name'].isin(df_intersection_noprot.index)]"
   ]
  },
  {
   "cell_type": "code",
   "execution_count": 41,
   "metadata": {
    "ExecuteTime": {
     "end_time": "2021-04-13T06:31:37.977518Z",
     "start_time": "2021-04-13T06:31:37.234551Z"
    },
    "hidden": true
   },
   "outputs": [],
   "source": [
    "sanger_drug['max_screening_conc'] = sanger_drug['max_screening_conc'].map(np.log)\n",
    "drug_counts = pd.DataFrame({\n",
    "    'below_max':\n",
    "    sanger_drug.query(\"ln_IC50 < max_screening_conc\").groupby('drug_id').size(),\n",
    "    'all':\n",
    "    sanger_drug.groupby('drug_id').size()\n",
    "}).fillna(0)\n",
    "drug_counts['ratio'] = drug_counts['below_max'] / drug_counts['all']\n",
    "\n",
    "sanger_drug_intersection_noprot = sanger_drug_intersection_noprot[\n",
    "    sanger_drug_intersection_noprot['drug_id'].isin(\n",
    "        drug_counts[drug_counts['ratio'] > 0.2].index)]"
   ]
  },
  {
   "cell_type": "code",
   "execution_count": 42,
   "metadata": {
    "ExecuteTime": {
     "end_time": "2021-04-13T06:31:39.095406Z",
     "start_time": "2021-04-13T06:31:38.920333Z"
    },
    "hidden": true
   },
   "outputs": [
    {
     "name": "stderr",
     "output_type": "stream",
     "text": [
      "/Users/scai/anaconda3/envs/sanger/lib/python3.8/site-packages/seaborn/distributions.py:2557: FutureWarning: `distplot` is a deprecated function and will be removed in a future version. Please adapt your code to use either `displot` (a figure-level function with similar flexibility) or `histplot` (an axes-level function for histograms).\n",
      "  warnings.warn(msg, FutureWarning)\n"
     ]
    },
    {
     "data": {
      "text/plain": [
       "<matplotlib.axes._subplots.AxesSubplot at 0x7fd6be05db20>"
      ]
     },
     "execution_count": 42,
     "metadata": {},
     "output_type": "execute_result"
    },
    {
     "data": {
      "image/png": "[encoded data removed]",
      "text/plain": [
       "<Figure size 432x288 with 1 Axes>"
      ]
     },
     "metadata": {
      "needs_background": "light"
     },
     "output_type": "display_data"
    }
   ],
   "source": [
    "sns.distplot(sanger_drug_intersection_noprot.groupby('drug_id').size().values)"
   ]
  },
  {
   "cell_type": "code",
   "execution_count": 43,
   "metadata": {
    "ExecuteTime": {
     "end_time": "2021-04-13T06:31:40.003350Z",
     "start_time": "2021-04-13T06:31:39.898273Z"
    },
    "hidden": true
   },
   "outputs": [],
   "source": [
    "sanger_drug_intersection_noprot_size = sanger_drug_intersection_noprot.groupby('drug_id').size()\n",
    "sanger_drug_intersection_noprot = sanger_drug_intersection_noprot[\n",
    "    sanger_drug_intersection_noprot['drug_id'].isin(sanger_drug_intersection_noprot_size[\n",
    "        sanger_drug_intersection_noprot_size > 600].index.values)]"
   ]
  },
  {
   "cell_type": "code",
   "execution_count": 44,
   "metadata": {
    "ExecuteTime": {
     "end_time": "2021-04-13T06:31:41.096576Z",
     "start_time": "2021-04-13T06:31:40.988865Z"
    },
    "hidden": true
   },
   "outputs": [],
   "source": [
    "sanger_drug_intersection_noprot_wide = pd.pivot(\n",
    "    sanger_drug_intersection_noprot[['cell_line_name', 'drug_id', 'ln_IC50']],\n",
    "    index='cell_line_name',\n",
    "    columns='drug_id')\n",
    "sanger_drug_intersection_noprot_wide.columns = [\n",
    "    x[1] for x in sanger_drug_intersection_noprot_wide.columns\n",
    "]"
   ]
  },
  {
   "cell_type": "code",
   "execution_count": 45,
   "metadata": {
    "ExecuteTime": {
     "end_time": "2021-04-13T06:31:41.555551Z",
     "start_time": "2021-04-13T06:31:41.553648Z"
    },
    "hidden": true
   },
   "outputs": [],
   "source": [
    "sanger_drug_intersection_noprot_wide.index.name = 'Cell_line'"
   ]
  },
  {
   "cell_type": "code",
   "execution_count": 46,
   "metadata": {
    "ExecuteTime": {
     "end_time": "2021-04-13T06:31:42.679746Z",
     "start_time": "2021-04-13T06:31:42.676981Z"
    },
    "hidden": true
   },
   "outputs": [],
   "source": [
    "sanger_train_intersection_noprot, sanger_test_intersection_noprot = train_test_split(\n",
    "    sanger_drug_intersection_noprot_wide.index.values,\n",
    "    test_size=0.2,\n",
    "    random_state=42,\n",
    "    shuffle=True)"
   ]
  },
  {
   "cell_type": "code",
   "execution_count": 48,
   "metadata": {
    "ExecuteTime": {
     "end_time": "2021-04-13T06:32:15.621358Z",
     "start_time": "2021-04-13T06:32:15.617618Z"
    },
    "hidden": true
   },
   "outputs": [],
   "source": [
    "with open(\"../data/meta/sanger_gdsc_intersection_noprot_maxcfilter_train.txt\", \"w\") as outfile:\n",
    "    outfile.write(\"\\n\".join(sanger_train_intersection_noprot))\n",
    "with open(\"../data/meta/sanger_gdsc_intersection_noprot_maxcfilter_test.txt\", \"w\") as outfile:\n",
    "    outfile.write(\"\\n\".join(sanger_test_intersection_noprot))"
   ]
  },
  {
   "cell_type": "code",
   "execution_count": 49,
   "metadata": {
    "ExecuteTime": {
     "end_time": "2021-04-13T06:32:24.033502Z",
     "start_time": "2021-04-13T06:32:23.372381Z"
    },
    "hidden": true
   },
   "outputs": [],
   "source": [
    "sanger_drug_intersection_noprot_wide.to_csv(\n",
    "    \"../data/processed/drug/sanger_gdsc_intersection_noprot_maxcfilter_wide.csv.gz\")"
   ]
  },
  {
   "cell_type": "markdown",
   "metadata": {},
   "source": [
    "## merge"
   ]
  },
  {
   "cell_type": "code",
   "execution_count": 37,
   "metadata": {
    "ExecuteTime": {
     "end_time": "2022-06-02T01:05:21.569504Z",
     "start_time": "2022-06-02T01:05:21.464923Z"
    }
   },
   "outputs": [],
   "source": [
    "sanger_mapping = pd.read_csv(\n",
    "    \"../../../SangerDrug/data/E0022_P06_final_sample_map_no_control.txt\",\n",
    "    sep='\\t').drop_duplicates(['Cell_line'])\n",
    "sidm_to_cellline = sanger_mapping.set_index('SIDM').to_dict()['Cell_line']\n",
    "\n",
    "\n",
    "sample['Cell_line'] = sample['Sanger_Model_ID'].map(sidm_to_cellline)\n",
    "\n",
    "depmapid_to_cellline = sample.set_index('DepMap_ID').to_dict()['Cell_line']\n",
    "depmapid_to_cellline_strip = sample.set_index('DepMap_ID').to_dict()['stripped_cell_line_name']"
   ]
  },
  {
   "cell_type": "code",
   "execution_count": 38,
   "metadata": {
    "ExecuteTime": {
     "end_time": "2022-06-02T01:05:22.174328Z",
     "start_time": "2022-06-02T01:05:22.147132Z"
    }
   },
   "outputs": [],
   "source": [
    "mutation_count.columns = [f\"{x}_mutation\" for x in mutation_count.columns]\n",
    "cnv.columns = [f\"{x}_cnv\" for x in cnv.columns]\n",
    "rna.columns = [f\"{x}_rna\" for x in rna.columns]\n",
    "protein.columns = [f\"{x}_prot\" for x in protein.columns]"
   ]
  },
  {
   "cell_type": "code",
   "execution_count": 39,
   "metadata": {
    "ExecuteTime": {
     "end_time": "2022-06-02T01:05:31.407955Z",
     "start_time": "2022-06-02T01:05:26.816648Z"
    }
   },
   "outputs": [],
   "source": [
    "# dfList = [mutation_count, cnv, rna, protein]\n",
    "dfList = [mutation_count, cnv, rna, protein]\n",
    "dfList3 = [mutation_count, cnv, rna]\n",
    "\n",
    "df_intersection = reduce(\n",
    "    lambda df1, df2: pd.merge(df1, df2, on='DepMap_ID', how='inner'), dfList)\n",
    "df_union = reduce(\n",
    "    lambda df1, df2: pd.merge(df1, df2, on='DepMap_ID', how='outer'), dfList)\n",
    "df_intersection3 = reduce(\n",
    "    lambda df1, df2: pd.merge(df1, df2, on='DepMap_ID', how='inner'), dfList3)"
   ]
  },
  {
   "cell_type": "code",
   "execution_count": null,
   "metadata": {},
   "outputs": [],
   "source": []
  },
  {
   "cell_type": "code",
   "execution_count": 469,
   "metadata": {
    "ExecuteTime": {
     "end_time": "2021-02-21T03:07:39.283879Z",
     "start_time": "2021-02-21T03:07:38.132225Z"
    }
   },
   "outputs": [],
   "source": [
    "df_intersection['Cell_line'] = df_intersection.index.map(depmapid_to_cellline)\n",
    "df_intersection = df_intersection.dropna(subset=['Cell_line'])\n",
    "\n",
    "df_union['Cell_line'] = df_union.index.map(depmapid_to_cellline)\n",
    "df_union = df_union.dropna(subset=['Cell_line'])\n",
    "\n",
    "df_intersection3['Cell_line'] = df_intersection3.index.map(depmapid_to_cellline)\n",
    "df_intersection3 = df_intersection3.dropna(subset=['Cell_line'])\n",
    "\n",
    "df_intersection = df_intersection.set_index('Cell_line')\n",
    "df_union = df_union.set_index('Cell_line')\n",
    "df_intersection3 = df_intersection3.set_index('Cell_line')"
   ]
  },
  {
   "cell_type": "code",
   "execution_count": 188,
   "metadata": {
    "ExecuteTime": {
     "end_time": "2021-07-15T04:08:43.476978Z",
     "start_time": "2021-07-15T04:08:41.943037Z"
    }
   },
   "outputs": [],
   "source": [
    "df_intersection3['Cell_line'] = df_intersection3.index.map(depmapid_to_cellline_strip)\n",
    "df_intersection3 = df_intersection3.dropna(subset=['Cell_line'])\n",
    "df_intersection3 = df_intersection3.set_index('Cell_line')"
   ]
  },
  {
   "cell_type": "code",
   "execution_count": null,
   "metadata": {},
   "outputs": [],
   "source": []
  },
  {
   "cell_type": "code",
   "execution_count": 470,
   "metadata": {
    "ExecuteTime": {
     "end_time": "2021-02-21T03:07:40.574532Z",
     "start_time": "2021-02-21T03:07:40.056339Z"
    }
   },
   "outputs": [],
   "source": [
    "df_union = df_union.loc[:,~df_union.columns.duplicated()]\n",
    "df_intersection = df_intersection.loc[:,~df_intersection.columns.duplicated()]\n",
    "df_intersection3 = df_intersection3.loc[:,~df_intersection3.columns.duplicated()]"
   ]
  },
  {
   "cell_type": "code",
   "execution_count": 474,
   "metadata": {
    "ExecuteTime": {
     "end_time": "2021-02-21T03:13:46.950029Z",
     "start_time": "2021-02-21T03:08:42.564065Z"
    }
   },
   "outputs": [],
   "source": [
    "df_union.to_csv(\"../data/processed/ccle_df_union_drug.csv.gz\")\n",
    "\n",
    "df_intersection.to_csv(\"../data/processed/ccle_df_intersection_drug.csv.gz\")\n",
    "\n",
    "df_intersection3.to_csv(\"../data/processed/ccle_df_intersection3_drug.csv.gz\")"
   ]
  },
  {
   "cell_type": "code",
   "execution_count": 194,
   "metadata": {
    "ExecuteTime": {
     "end_time": "2021-07-15T04:14:05.303392Z",
     "start_time": "2021-07-15T04:09:46.254281Z"
    }
   },
   "outputs": [],
   "source": [
    "df_intersection3.to_csv(\"../data/processed/omics/ccle_df_intersection3_strip_name.csv.gz\")"
   ]
  },
  {
   "cell_type": "code",
   "execution_count": 12,
   "metadata": {
    "ExecuteTime": {
     "end_time": "2021-09-01T07:52:25.290314Z",
     "start_time": "2021-09-01T07:50:44.560839Z"
    }
   },
   "outputs": [],
   "source": [
    "df_intersection3 = pd.read_csv(\"../data/processed/omics/ccle_df_intersection3_drug.csv.gz\")"
   ]
  },
  {
   "cell_type": "code",
   "execution_count": 4,
   "metadata": {
    "ExecuteTime": {
     "end_time": "2022-06-25T09:13:32.847200Z",
     "start_time": "2022-06-25T09:12:56.479447Z"
    }
   },
   "outputs": [],
   "source": [
    "df_intersection = pd.read_csv(\"../data/processed/omics/ccle_df_intersection_drug.csv.gz\")"
   ]
  },
  {
   "cell_type": "markdown",
   "metadata": {
    "ExecuteTime": {
     "end_time": "2021-02-17T05:34:11.694390Z",
     "start_time": "2021-02-17T05:34:11.690464Z"
    }
   },
   "source": [
    "## sanger drug data"
   ]
  },
  {
   "cell_type": "code",
   "execution_count": 384,
   "metadata": {
    "ExecuteTime": {
     "end_time": "2021-02-18T06:47:50.344309Z",
     "start_time": "2021-02-18T06:47:44.977335Z"
    }
   },
   "outputs": [],
   "source": [
    "sanger_drug = pd.read_csv(\"../data/raw/drug_final_processed_eg_id.csv.gz\", low_memory=False)"
   ]
  },
  {
   "cell_type": "code",
   "execution_count": 397,
   "metadata": {
    "ExecuteTime": {
     "end_time": "2021-02-18T06:50:55.895542Z",
     "start_time": "2021-02-18T06:50:55.674653Z"
    }
   },
   "outputs": [],
   "source": [
    "sanger_drug_intersection = sanger_drug[sanger_drug['model_name'].isin(df_intersection.index)]\n",
    "sanger_drug_intersection3 = sanger_drug[sanger_drug['model_name'].isin(df_intersection3.index)]\n",
    "\n",
    "sanger_drug_union = sanger_drug[sanger_drug['model_name'].isin(df_union.index)]"
   ]
  },
  {
   "cell_type": "code",
   "execution_count": 387,
   "metadata": {
    "ExecuteTime": {
     "end_time": "2021-02-18T06:48:51.914898Z",
     "start_time": "2021-02-18T06:48:51.756537Z"
    }
   },
   "outputs": [
    {
     "data": {
      "text/plain": [
       "<matplotlib.axes._subplots.AxesSubplot at 0x7fa4ede7cfa0>"
      ]
     },
     "execution_count": 387,
     "metadata": {},
     "output_type": "execute_result"
    },
    {
     "data": {
      "image/png": "[encoded data removed]",
      "text/plain": [
       "<Figure size 432x288 with 1 Axes>"
      ]
     },
     "metadata": {
      "needs_background": "light"
     },
     "output_type": "display_data"
    }
   ],
   "source": [
    "sns.distplot(sanger_drug_intersection.groupby('drug_id').size().values)"
   ]
  },
  {
   "cell_type": "code",
   "execution_count": 388,
   "metadata": {
    "ExecuteTime": {
     "end_time": "2021-02-18T06:49:03.134327Z",
     "start_time": "2021-02-18T06:49:02.938176Z"
    }
   },
   "outputs": [
    {
     "data": {
      "text/plain": [
       "<matplotlib.axes._subplots.AxesSubplot at 0x7fa3fb0a0310>"
      ]
     },
     "execution_count": 388,
     "metadata": {},
     "output_type": "execute_result"
    },
    {
     "data": {
      "image/png": "[encoded data removed]",
      "text/plain": [
       "<Figure size 432x288 with 1 Axes>"
      ]
     },
     "metadata": {
      "needs_background": "light"
     },
     "output_type": "display_data"
    }
   ],
   "source": [
    "sns.distplot(sanger_drug_union.groupby('drug_id').size().values)"
   ]
  },
  {
   "cell_type": "code",
   "execution_count": 480,
   "metadata": {
    "ExecuteTime": {
     "end_time": "2021-02-21T03:17:21.526333Z",
     "start_time": "2021-02-21T03:17:21.366717Z"
    }
   },
   "outputs": [
    {
     "data": {
      "text/plain": [
       "<matplotlib.axes._subplots.AxesSubplot at 0x7fa31b2a03d0>"
      ]
     },
     "execution_count": 480,
     "metadata": {},
     "output_type": "execute_result"
    },
    {
     "data": {
      "image/png": "[encoded data removed]",
      "text/plain": [
       "<Figure size 432x288 with 1 Axes>"
      ]
     },
     "metadata": {
      "needs_background": "light"
     },
     "output_type": "display_data"
    }
   ],
   "source": [
    "sns.distplot(sanger_drug_intersection3.groupby('drug_id').size().values)"
   ]
  },
  {
   "cell_type": "code",
   "execution_count": 398,
   "metadata": {
    "ExecuteTime": {
     "end_time": "2021-02-18T06:50:57.322632Z",
     "start_time": "2021-02-18T06:50:57.020381Z"
    }
   },
   "outputs": [],
   "source": [
    "sanger_drug_intersection_size = sanger_drug_intersection.groupby('drug_id').size()\n",
    "sanger_drug_intersection = sanger_drug_intersection[\n",
    "    sanger_drug_intersection['drug_id'].isin(sanger_drug_intersection_size[\n",
    "        sanger_drug_intersection_size > 200].index.values)]\n",
    "\n",
    "sanger_drug_union_size = sanger_drug_union.groupby('drug_id').size()\n",
    "sanger_drug_union = sanger_drug_union[\n",
    "    sanger_drug_union['drug_id'].isin(sanger_drug_union_size[\n",
    "        sanger_drug_union_size > 600].index.values)]\n",
    "\n",
    "sanger_drug_intersection3_size = sanger_drug_intersection3.groupby('drug_id').size()\n",
    "sanger_drug_intersection3 = sanger_drug_intersection3[\n",
    "    sanger_drug_intersection3['drug_id'].isin(sanger_drug_intersection3_size[\n",
    "        sanger_drug_intersection3_size > 500].index.values)]"
   ]
  },
  {
   "cell_type": "code",
   "execution_count": 405,
   "metadata": {
    "ExecuteTime": {
     "end_time": "2021-02-18T06:55:59.586134Z",
     "start_time": "2021-02-18T06:55:59.356289Z"
    }
   },
   "outputs": [],
   "source": [
    "sanger_drug_intersection_wide = pd.pivot(\n",
    "    sanger_drug_intersection[['cell_line_name', 'drug_id', 'ln_IC50']],\n",
    "    index='cell_line_name',\n",
    "    columns='drug_id')\n",
    "sanger_drug_intersection_wide.columns = [x[1] for x in sanger_drug_intersection_wide.columns]\n",
    "\n",
    "sanger_drug_union_wide = pd.pivot(\n",
    "    sanger_drug_union[['cell_line_name', 'drug_id', 'ln_IC50']],\n",
    "    index='cell_line_name',\n",
    "    columns='drug_id')\n",
    "sanger_drug_union_wide.columns = [x[1] for x in sanger_drug_union_wide.columns]\n",
    "\n",
    "sanger_drug_intersection3_wide = pd.pivot(\n",
    "    sanger_drug_intersection3[['cell_line_name', 'drug_id', 'ln_IC50']],\n",
    "    index='cell_line_name',\n",
    "    columns='drug_id')\n",
    "sanger_drug_intersection3_wide.columns = [x[1] for x in sanger_drug_intersection3_wide.columns]\n"
   ]
  },
  {
   "cell_type": "code",
   "execution_count": 416,
   "metadata": {
    "ExecuteTime": {
     "end_time": "2021-02-18T07:00:40.675718Z",
     "start_time": "2021-02-18T07:00:40.673447Z"
    }
   },
   "outputs": [],
   "source": [
    "sanger_drug_intersection_wide.index.name = 'Cell_line'\n",
    "sanger_drug_union_wide.index.name = 'Cell_line'\n",
    "sanger_drug_intersection3_wide.index.name = 'Cell_line'\n"
   ]
  },
  {
   "cell_type": "code",
   "execution_count": 408,
   "metadata": {
    "ExecuteTime": {
     "end_time": "2021-02-18T06:57:31.414594Z",
     "start_time": "2021-02-18T06:57:31.411397Z"
    }
   },
   "outputs": [],
   "source": [
    "ccle_train_intersection, ccle_test_intersection = train_test_split(\n",
    "    sanger_drug_intersection_wide.index.values,\n",
    "    test_size=0.2,\n",
    "    random_state=42,\n",
    "    shuffle=True)"
   ]
  },
  {
   "cell_type": "code",
   "execution_count": 409,
   "metadata": {
    "ExecuteTime": {
     "end_time": "2021-02-18T06:57:31.967300Z",
     "start_time": "2021-02-18T06:57:31.963930Z"
    }
   },
   "outputs": [],
   "source": [
    "ccle_train_union, ccle_test_union = train_test_split(\n",
    "    sanger_drug_union_wide.index.values,\n",
    "    test_size=0.2,\n",
    "    random_state=42,\n",
    "    shuffle=True)"
   ]
  },
  {
   "cell_type": "code",
   "execution_count": 485,
   "metadata": {
    "ExecuteTime": {
     "end_time": "2021-02-21T03:18:51.707020Z",
     "start_time": "2021-02-21T03:18:51.703594Z"
    }
   },
   "outputs": [],
   "source": [
    "ccle_train_intersection3, ccle_test_intersection3 = train_test_split(\n",
    "    sanger_drug_intersection3_wide.index.values,\n",
    "    test_size=0.2,\n",
    "    random_state=42,\n",
    "    shuffle=True)"
   ]
  },
  {
   "cell_type": "code",
   "execution_count": 419,
   "metadata": {
    "ExecuteTime": {
     "end_time": "2021-02-18T11:20:02.651424Z",
     "start_time": "2021-02-18T11:20:02.648038Z"
    }
   },
   "outputs": [],
   "source": [
    "with open(\"../data/meta/ccle_gdsc_intersection_train.txt\", \"w\") as outfile:\n",
    "    outfile.write(\"\\n\".join(ccle_train_intersection))\n",
    "with open(\"../data/meta/ccle_gdsc_intersection_test.txt\", \"w\") as outfile:\n",
    "    outfile.write(\"\\n\".join(ccle_test_intersection))"
   ]
  },
  {
   "cell_type": "code",
   "execution_count": 420,
   "metadata": {
    "ExecuteTime": {
     "end_time": "2021-02-18T11:20:03.143850Z",
     "start_time": "2021-02-18T11:20:03.140666Z"
    }
   },
   "outputs": [],
   "source": [
    "with open(\"../data/meta/ccle_gdsc_union_train.txt\", \"w\") as outfile:\n",
    "    outfile.write(\"\\n\".join(ccle_train_union))\n",
    "with open(\"../data/meta/ccle_gdsc_union_test.txt\", \"w\") as outfile:\n",
    "    outfile.write(\"\\n\".join(ccle_test_union))"
   ]
  },
  {
   "cell_type": "code",
   "execution_count": 487,
   "metadata": {
    "ExecuteTime": {
     "end_time": "2021-02-21T03:19:17.238242Z",
     "start_time": "2021-02-21T03:19:17.234402Z"
    }
   },
   "outputs": [],
   "source": [
    "with open(\"../data/meta/ccle_gdsc_intersection3_train.txt\", \"w\") as outfile:\n",
    "    outfile.write(\"\\n\".join(ccle_train_intersection3))\n",
    "with open(\"../data/meta/ccle_gdsc_intersection3_test.txt\", \"w\") as outfile:\n",
    "    outfile.write(\"\\n\".join(ccle_test_intersection3))"
   ]
  },
  {
   "cell_type": "code",
   "execution_count": 418,
   "metadata": {
    "ExecuteTime": {
     "end_time": "2021-02-18T07:01:57.227697Z",
     "start_time": "2021-02-18T07:01:55.365942Z"
    }
   },
   "outputs": [],
   "source": [
    "sanger_drug_intersection_wide.to_csv(\"../data/processed/ccle_gdsc_intersection_wide.csv.gz\")\n",
    "\n",
    "sanger_drug_union_wide.to_csv(\"../data/processed/ccle_gdsc_union_wide.csv.gz\")"
   ]
  },
  {
   "cell_type": "code",
   "execution_count": 488,
   "metadata": {
    "ExecuteTime": {
     "end_time": "2021-02-21T03:19:30.990706Z",
     "start_time": "2021-02-21T03:19:30.023318Z"
    }
   },
   "outputs": [],
   "source": [
    "sanger_drug_intersection3_wide.to_csv(\"../data/processed/ccle_gdsc_intersection3_wide.csv.gz\")\n"
   ]
  },
  {
   "cell_type": "code",
   "execution_count": null,
   "metadata": {},
   "outputs": [],
   "source": []
  },
  {
   "cell_type": "markdown",
   "metadata": {},
   "source": [
    "## CTD drug"
   ]
  },
  {
   "cell_type": "code",
   "execution_count": 144,
   "metadata": {
    "ExecuteTime": {
     "end_time": "2021-07-15T03:38:42.160285Z",
     "start_time": "2021-07-15T03:37:16.042704Z"
    }
   },
   "outputs": [],
   "source": [
    "df_intersection3 = pd.read_csv(\"../data/processed/omics/ccle_df_intersection3_strip_name.csv.gz\")"
   ]
  },
  {
   "cell_type": "code",
   "execution_count": 157,
   "metadata": {
    "ExecuteTime": {
     "end_time": "2021-07-15T03:45:40.871482Z",
     "start_time": "2021-07-15T03:45:40.670216Z"
    }
   },
   "outputs": [],
   "source": [
    "ctd_meta_drug = pd.read_csv(\n",
    "    \"../data/raw/ctd2/CTRPv2.1_2016_pub_NatChemBiol_12_109/v21.meta.per_compound.txt\",\n",
    "    sep='\\t')\n",
    "drug_id_name = ctd_meta_drug.set_index('master_cpd_id').to_dict()['cpd_name']\n",
    "ctd_meta_cell = pd.read_csv(\n",
    "    \"../data/raw/ctd2/CTRPv2.1_2016_pub_NatChemBiol_12_109/v21.meta.per_cell_line.txt\",\n",
    "    sep='\\t')\n",
    "cell_id_name = ctd_meta_cell.set_index('master_ccl_id').to_dict()['ccl_name']\n",
    "\n",
    "ctd_drug_raw = pd.read_csv(\n",
    "    \"../data/raw/ctd2/CTRPv2.1_2016_pub_NatChemBiol_12_109/v21.data.auc_sensitivities.txt\",\n",
    "    sep='\\t')\n",
    "\n",
    "ctd_drug_raw['Cell_line'] = ctd_drug_raw['master_ccl_id'].map(cell_id_name)\n",
    "ctd_drug_raw['drug_id'] = ctd_drug_raw['master_cpd_id'].map(drug_id_name)\n",
    "ctd_drug_raw = ctd_drug_raw.drop_duplicates(['Cell_line', 'drug_id'])\n"
   ]
  },
  {
   "cell_type": "code",
   "execution_count": 200,
   "metadata": {
    "ExecuteTime": {
     "end_time": "2021-07-15T04:16:52.487073Z",
     "start_time": "2021-07-15T04:16:52.463519Z"
    }
   },
   "outputs": [],
   "source": [
    "ctd_drug_ccle = ctd_drug_raw[ctd_drug_raw['Cell_line'].isin(df_intersection3.index)]"
   ]
  },
  {
   "cell_type": "code",
   "execution_count": 203,
   "metadata": {
    "ExecuteTime": {
     "end_time": "2021-07-15T04:19:20.115337Z",
     "start_time": "2021-07-15T04:19:19.986574Z"
    }
   },
   "outputs": [],
   "source": [
    "ctd_drug_ccle_wide = pd.pivot(\n",
    "    ctd_drug_ccle[['Cell_line', 'drug_id', 'area_under_curve']],\n",
    "    index='Cell_line',\n",
    "    columns='drug_id')"
   ]
  },
  {
   "cell_type": "code",
   "execution_count": 205,
   "metadata": {
    "ExecuteTime": {
     "end_time": "2021-07-15T04:20:55.236382Z",
     "start_time": "2021-07-15T04:20:55.023755Z"
    }
   },
   "outputs": [
    {
     "data": {
      "text/plain": [
       "<seaborn.axisgrid.FacetGrid at 0x7fee156af070>"
      ]
     },
     "execution_count": 205,
     "metadata": {},
     "output_type": "execute_result"
    },
    {
     "data": {
      "image/png": "[encoded data removed]",
      "text/plain": [
       "<Figure size 360x360 with 1 Axes>"
      ]
     },
     "metadata": {
      "needs_background": "light"
     },
     "output_type": "display_data"
    }
   ],
   "source": [
    "sns.displot(ctd_drug_ccle_wide.shape[0] -\n",
    "            pd.isna(ctd_drug_ccle_wide).sum(axis=0))"
   ]
  },
  {
   "cell_type": "code",
   "execution_count": 210,
   "metadata": {
    "ExecuteTime": {
     "end_time": "2021-07-15T05:09:40.918103Z",
     "start_time": "2021-07-15T05:09:40.915152Z"
    }
   },
   "outputs": [],
   "source": [
    "ctd_drug_ccle_wide.columns = [x[1] for x in ctd_drug_ccle_wide.columns]"
   ]
  },
  {
   "cell_type": "code",
   "execution_count": 212,
   "metadata": {
    "ExecuteTime": {
     "end_time": "2021-07-15T05:09:48.110733Z",
     "start_time": "2021-07-15T05:09:47.257711Z"
    }
   },
   "outputs": [],
   "source": [
    "ctd_drug_ccle_wide.dropna(thresh=600,axis=1).to_csv(\"../data/processed/drug/ccle_ctd2_min600.csv.gz\")"
   ]
  },
  {
   "cell_type": "code",
   "execution_count": null,
   "metadata": {},
   "outputs": [],
   "source": []
  },
  {
   "cell_type": "markdown",
   "metadata": {},
   "source": [
    "## sanger drug maxcfilter"
   ]
  },
  {
   "cell_type": "code",
   "execution_count": 54,
   "metadata": {
    "ExecuteTime": {
     "end_time": "2021-04-13T06:46:46.026309Z",
     "start_time": "2021-04-13T06:45:07.586151Z"
    }
   },
   "outputs": [],
   "source": [
    "df_intersection3 = pd.read_csv(\n",
    "    \"../data/processed/omics/ccle_df_intersection3_drug.csv.gz\", index_col=0)"
   ]
  },
  {
   "cell_type": "code",
   "execution_count": 50,
   "metadata": {
    "ExecuteTime": {
     "end_time": "2021-04-13T06:39:21.127022Z",
     "start_time": "2021-04-13T06:39:15.043555Z"
    }
   },
   "outputs": [],
   "source": [
    "sanger_drug = pd.read_csv(\"../data/raw/drug_final_processed_eg_id.csv.gz\", low_memory=False)"
   ]
  },
  {
   "cell_type": "code",
   "execution_count": 55,
   "metadata": {
    "ExecuteTime": {
     "end_time": "2021-04-13T06:47:24.416792Z",
     "start_time": "2021-04-13T06:47:23.712781Z"
    }
   },
   "outputs": [],
   "source": [
    "sanger_drug['max_screening_conc'] = sanger_drug['max_screening_conc'].map(np.log)\n",
    "drug_counts = pd.DataFrame({\n",
    "    'below_max':\n",
    "    sanger_drug.query(\"ln_IC50 < max_screening_conc\").groupby('drug_id').size(),\n",
    "    'all':\n",
    "    sanger_drug.groupby('drug_id').size()\n",
    "}).fillna(0)\n",
    "drug_counts['ratio'] = drug_counts['below_max'] / drug_counts['all']\n",
    "\n",
    "sanger_drug = sanger_drug[\n",
    "    sanger_drug['drug_id'].isin(\n",
    "        drug_counts[drug_counts['ratio'] > 0.2].index)]"
   ]
  },
  {
   "cell_type": "code",
   "execution_count": 56,
   "metadata": {
    "ExecuteTime": {
     "end_time": "2021-04-13T06:47:26.829046Z",
     "start_time": "2021-04-13T06:47:26.738897Z"
    }
   },
   "outputs": [],
   "source": [
    "sanger_drug_intersection3 = sanger_drug[sanger_drug['model_name'].isin(df_intersection3.index)]"
   ]
  },
  {
   "cell_type": "code",
   "execution_count": 57,
   "metadata": {
    "ExecuteTime": {
     "end_time": "2021-04-13T06:47:27.462798Z",
     "start_time": "2021-04-13T06:47:27.300998Z"
    }
   },
   "outputs": [
    {
     "name": "stderr",
     "output_type": "stream",
     "text": [
      "/Users/scai/anaconda3/envs/sanger/lib/python3.8/site-packages/seaborn/distributions.py:2557: FutureWarning: `distplot` is a deprecated function and will be removed in a future version. Please adapt your code to use either `displot` (a figure-level function with similar flexibility) or `histplot` (an axes-level function for histograms).\n",
      "  warnings.warn(msg, FutureWarning)\n"
     ]
    },
    {
     "data": {
      "text/plain": [
       "<matplotlib.axes._subplots.AxesSubplot at 0x7fd6b888adc0>"
      ]
     },
     "execution_count": 57,
     "metadata": {},
     "output_type": "execute_result"
    },
    {
     "data": {
      "image/png": "[encoded data removed]",
      "text/plain": [
       "<Figure size 432x288 with 1 Axes>"
      ]
     },
     "metadata": {
      "needs_background": "light"
     },
     "output_type": "display_data"
    }
   ],
   "source": [
    "sns.distplot(sanger_drug_intersection3.groupby('drug_id').size().values)"
   ]
  },
  {
   "cell_type": "code",
   "execution_count": 58,
   "metadata": {
    "ExecuteTime": {
     "end_time": "2021-04-13T06:47:31.016849Z",
     "start_time": "2021-04-13T06:47:30.936088Z"
    }
   },
   "outputs": [],
   "source": [
    "sanger_drug_intersection3_size = sanger_drug_intersection3.groupby('drug_id').size()\n",
    "sanger_drug_intersection3 = sanger_drug_intersection3[\n",
    "    sanger_drug_intersection3['drug_id'].isin(sanger_drug_intersection3_size[\n",
    "        sanger_drug_intersection3_size > 500].index.values)]"
   ]
  },
  {
   "cell_type": "code",
   "execution_count": 59,
   "metadata": {
    "ExecuteTime": {
     "end_time": "2021-04-13T06:47:32.231273Z",
     "start_time": "2021-04-13T06:47:32.152607Z"
    }
   },
   "outputs": [],
   "source": [
    "sanger_drug_intersection3_wide = pd.pivot(\n",
    "    sanger_drug_intersection3[['cell_line_name', 'drug_id', 'ln_IC50']],\n",
    "    index='cell_line_name',\n",
    "    columns='drug_id')\n",
    "sanger_drug_intersection3_wide.columns = [x[1] for x in sanger_drug_intersection3_wide.columns]\n"
   ]
  },
  {
   "cell_type": "code",
   "execution_count": 60,
   "metadata": {
    "ExecuteTime": {
     "end_time": "2021-04-13T06:47:33.557770Z",
     "start_time": "2021-04-13T06:47:33.555766Z"
    }
   },
   "outputs": [],
   "source": [
    "sanger_drug_intersection3_wide.index.name = 'Cell_line'"
   ]
  },
  {
   "cell_type": "code",
   "execution_count": 65,
   "metadata": {
    "ExecuteTime": {
     "end_time": "2021-04-13T06:48:19.062686Z",
     "start_time": "2021-04-13T06:48:19.060040Z"
    }
   },
   "outputs": [],
   "source": [
    "ccle_train_intersection3, ccle_test_intersection3 = train_test_split(\n",
    "    sanger_drug_intersection3_wide.index.values,\n",
    "    test_size=0.2,\n",
    "    random_state=42,\n",
    "    shuffle=True)"
   ]
  },
  {
   "cell_type": "code",
   "execution_count": 66,
   "metadata": {
    "ExecuteTime": {
     "end_time": "2021-04-13T06:48:38.824193Z",
     "start_time": "2021-04-13T06:48:38.820139Z"
    }
   },
   "outputs": [],
   "source": [
    "with open(\"../data/meta/ccle_gdsc_intersection3_maxcfilter_train.txt\", \"w\") as outfile:\n",
    "    outfile.write(\"\\n\".join(ccle_train_intersection3))\n",
    "with open(\"../data/meta/ccle_gdsc_intersection3_maxcfilter_test.txt\", \"w\") as outfile:\n",
    "    outfile.write(\"\\n\".join(ccle_test_intersection3))"
   ]
  },
  {
   "cell_type": "code",
   "execution_count": 68,
   "metadata": {
    "ExecuteTime": {
     "end_time": "2021-04-13T07:06:43.411768Z",
     "start_time": "2021-04-13T07:06:42.884572Z"
    }
   },
   "outputs": [],
   "source": [
    "sanger_drug_intersection3_wide.to_csv(\"../data/processed/drug/ccle_gdsc_intersection3_maxcfilter_wide.csv.gz\")\n"
   ]
  },
  {
   "cell_type": "code",
   "execution_count": null,
   "metadata": {},
   "outputs": [],
   "source": []
  },
  {
   "cell_type": "markdown",
   "metadata": {},
   "source": [
    "## strip cell line name for mixomics"
   ]
  },
  {
   "cell_type": "code",
   "execution_count": null,
   "metadata": {},
   "outputs": [],
   "source": []
  },
  {
   "cell_type": "markdown",
   "metadata": {
    "heading_collapsed": true
   },
   "source": [
    "# CCLE drug data"
   ]
  },
  {
   "cell_type": "code",
   "execution_count": 329,
   "metadata": {
    "ExecuteTime": {
     "end_time": "2021-02-18T06:30:43.908470Z",
     "start_time": "2021-02-18T06:30:41.195770Z"
    },
    "hidden": true
   },
   "outputs": [],
   "source": [
    "ccle_drug = pd.read_csv(\n",
    "    \"../data/ccle/secondary-screen-dose-response-curve-parameters.csv\",\n",
    "    low_memory=False)\n"
   ]
  },
  {
   "cell_type": "code",
   "execution_count": 330,
   "metadata": {
    "ExecuteTime": {
     "end_time": "2021-02-18T06:30:47.121894Z",
     "start_time": "2021-02-18T06:30:46.577524Z"
    },
    "hidden": true
   },
   "outputs": [],
   "source": [
    "ccle_drug = ccle_drug[ccle_drug['screen_id']=='HTS002']\n",
    "ccle_drug = ccle_drug.drop_duplicates(['name', 'depmap_id'])\n",
    "ccle_drug_intersection = ccle_drug[ccle_drug['depmap_id'].isin(\n",
    "    df_intersection.index.values)].reset_index(drop=True)\n",
    "\n",
    "ccle_drug_union = ccle_drug[ccle_drug['depmap_id'].isin(\n",
    "    df_union.index.values)].reset_index(drop=True)"
   ]
  },
  {
   "cell_type": "code",
   "execution_count": 331,
   "metadata": {
    "ExecuteTime": {
     "end_time": "2021-02-18T06:30:48.335920Z",
     "start_time": "2021-02-18T06:30:48.130823Z"
    },
    "hidden": true
   },
   "outputs": [
    {
     "data": {
      "text/plain": [
       "<matplotlib.axes._subplots.AxesSubplot at 0x7fa4f9ec4070>"
      ]
     },
     "execution_count": 331,
     "metadata": {},
     "output_type": "execute_result"
    },
    {
     "data": {
      "image/png": "[encoded data removed]",
      "text/plain": [
       "<Figure size 432x288 with 1 Axes>"
      ]
     },
     "metadata": {
      "needs_background": "light"
     },
     "output_type": "display_data"
    }
   ],
   "source": [
    "sns.distplot(ccle_drug_intersection.groupby('name').size().values)"
   ]
  },
  {
   "cell_type": "code",
   "execution_count": 332,
   "metadata": {
    "ExecuteTime": {
     "end_time": "2021-02-18T06:30:50.759285Z",
     "start_time": "2021-02-18T06:30:50.539191Z"
    },
    "hidden": true
   },
   "outputs": [
    {
     "data": {
      "text/plain": [
       "<matplotlib.axes._subplots.AxesSubplot at 0x7fa3fadd3f40>"
      ]
     },
     "execution_count": 332,
     "metadata": {},
     "output_type": "execute_result"
    },
    {
     "data": {
      "image/png": "[encoded data removed]",
      "text/plain": [
       "<Figure size 432x288 with 1 Axes>"
      ]
     },
     "metadata": {
      "needs_background": "light"
     },
     "output_type": "display_data"
    }
   ],
   "source": [
    "sns.distplot(ccle_drug_union.groupby('name').size().values)"
   ]
  },
  {
   "cell_type": "code",
   "execution_count": 333,
   "metadata": {
    "ExecuteTime": {
     "end_time": "2021-02-18T06:30:56.827973Z",
     "start_time": "2021-02-18T06:30:56.753082Z"
    },
    "hidden": true
   },
   "outputs": [],
   "source": [
    "ccle_drug_intersection_size = ccle_drug_intersection.groupby('name').size()\n",
    "ccle_drug_intersection = ccle_drug_intersection[\n",
    "    ccle_drug_intersection['name'].isin(ccle_drug_intersection_size[\n",
    "        ccle_drug_intersection_size > 200].index.values)]"
   ]
  },
  {
   "cell_type": "code",
   "execution_count": 334,
   "metadata": {
    "ExecuteTime": {
     "end_time": "2021-02-18T06:30:57.272699Z",
     "start_time": "2021-02-18T06:30:57.142684Z"
    },
    "hidden": true
   },
   "outputs": [],
   "source": [
    "ccle_drug_union_size = ccle_drug_union.groupby('name').size()\n",
    "ccle_drug_union = ccle_drug_union[\n",
    "    ccle_drug_union['name'].isin(ccle_drug_union_size[\n",
    "        ccle_drug_union_size > 400].index.values)]"
   ]
  },
  {
   "cell_type": "code",
   "execution_count": 345,
   "metadata": {
    "ExecuteTime": {
     "end_time": "2021-02-18T06:34:25.379024Z",
     "start_time": "2021-02-18T06:34:25.273843Z"
    },
    "hidden": true
   },
   "outputs": [],
   "source": [
    "ccle_drug_intersection_wide = pd.pivot(\n",
    "    ccle_drug_intersection[['depmap_id', 'name', 'auc']],\n",
    "    index='depmap_id',\n",
    "    columns='name')\n",
    "ccle_drug_intersection_wide.columns = [x[1] for x in ccle_drug_intersection_wide.columns]\n",
    "\n",
    "ccle_drug_union_wide = pd.pivot(\n",
    "    ccle_drug_union[['depmap_id', 'name', 'auc']],\n",
    "    index='depmap_id',\n",
    "    columns='name')\n",
    "ccle_drug_union_wide.columns = [x[1] for x in ccle_drug_union_wide.columns]"
   ]
  },
  {
   "cell_type": "code",
   "execution_count": 347,
   "metadata": {
    "ExecuteTime": {
     "end_time": "2021-02-18T06:34:25.932848Z",
     "start_time": "2021-02-18T06:34:25.918290Z"
    },
    "hidden": true
   },
   "outputs": [],
   "source": [
    "ccle_drug_intersection_wide[\n",
    "    'Cell_line'] = ccle_drug_intersection_wide.index.map(depmapid_to_cellline)\n",
    "ccle_drug_intersection_wide = ccle_drug_intersection_wide.dropna(\n",
    "    subset=['Cell_line'])\n",
    "\n",
    "ccle_drug_union_wide['Cell_line'] = ccle_drug_union_wide.index.map(\n",
    "    depmapid_to_cellline)\n",
    "ccle_drug_union_wide = ccle_drug_union_wide.dropna(subset=['Cell_line'])\n",
    "\n",
    "ccle_drug_intersection_wide = ccle_drug_intersection_wide.set_index(\n",
    "    'Cell_line')\n",
    "ccle_drug_union_wide = ccle_drug_union_wide.set_index('Cell_line')"
   ]
  },
  {
   "cell_type": "code",
   "execution_count": 364,
   "metadata": {
    "ExecuteTime": {
     "end_time": "2021-02-18T06:39:41.315776Z",
     "start_time": "2021-02-18T06:39:41.311516Z"
    },
    "hidden": true
   },
   "outputs": [],
   "source": [
    "ccle_drug_train_intersection, ccle_drug_test_intersection = train_test_split(\n",
    "    ccle_drug_intersection_wide.index.values,\n",
    "    test_size=0.2,\n",
    "    random_state=42,\n",
    "    shuffle=True)\n",
    "\n",
    "ccle_drug_train_union, ccle_drug_test_union = train_test_split(\n",
    "    ccle_drug_union_wide.index.values,\n",
    "    test_size=0.2,\n",
    "    random_state=42,\n",
    "    shuffle=True)"
   ]
  },
  {
   "cell_type": "code",
   "execution_count": 368,
   "metadata": {
    "ExecuteTime": {
     "end_time": "2021-02-18T06:40:38.229187Z",
     "start_time": "2021-02-18T06:40:38.224948Z"
    },
    "hidden": true
   },
   "outputs": [],
   "source": [
    "with open(\"../data/meta/ccle_depmapdrug_intersection_train.txt\", \"w\") as outfile:\n",
    "    outfile.write(\"\\n\".join(ccle_drug_train_intersection))\n",
    "with open(\"../data/meta/ccle_depmapdrug_intersection_test.txt\", \"w\") as outfile:\n",
    "    outfile.write(\"\\n\".join(ccle_drug_test_intersection))"
   ]
  },
  {
   "cell_type": "code",
   "execution_count": 369,
   "metadata": {
    "ExecuteTime": {
     "end_time": "2021-02-18T06:40:46.309844Z",
     "start_time": "2021-02-18T06:40:46.306189Z"
    },
    "hidden": true
   },
   "outputs": [],
   "source": [
    "with open(\"../data/meta/ccle_depmapdrug_union_train.txt\", \"w\") as outfile:\n",
    "    outfile.write(\"\\n\".join(ccle_drug_train_union))\n",
    "with open(\"../data/meta/ccle_depmapdrug_union_test.txt\", \"w\") as outfile:\n",
    "    outfile.write(\"\\n\".join(ccle_drug_test_union))"
   ]
  },
  {
   "cell_type": "code",
   "execution_count": 417,
   "metadata": {
    "ExecuteTime": {
     "end_time": "2021-02-18T07:01:49.809763Z",
     "start_time": "2021-02-18T07:01:47.404911Z"
    },
    "hidden": true
   },
   "outputs": [],
   "source": [
    "ccle_drug_intersection_wide.to_csv(\"../data/processed/ccle_depmapdrug_intersection_wide.csv.gz\")\n",
    "\n",
    "ccle_drug_union_wide.to_csv(\"../data/processed/ccle_depmapdrug_union_wide.csv.gz\")"
   ]
  },
  {
   "cell_type": "markdown",
   "metadata": {},
   "source": [
    "# drug remove covariate"
   ]
  },
  {
   "cell_type": "markdown",
   "metadata": {},
   "source": [
    "## no tissue"
   ]
  },
  {
   "cell_type": "code",
   "execution_count": 7,
   "metadata": {
    "ExecuteTime": {
     "end_time": "2021-05-12T02:06:48.529519Z",
     "start_time": "2021-05-12T02:06:48.527543Z"
    }
   },
   "outputs": [],
   "source": [
    "from sklearn.linear_model import LinearRegression\n",
    "from sklearn.impute import SimpleImputer\n",
    "from sklearn.metrics import r2_score"
   ]
  },
  {
   "cell_type": "code",
   "execution_count": 8,
   "metadata": {
    "ExecuteTime": {
     "end_time": "2021-05-12T02:06:49.752786Z",
     "start_time": "2021-05-12T02:06:49.114101Z"
    }
   },
   "outputs": [],
   "source": [
    "cell_meta = pd.read_excel(\"../data/meta/SamplesheetApril2020.xlsx\").rename(columns={'model_name':'Cell_line'})"
   ]
  },
  {
   "cell_type": "code",
   "execution_count": 163,
   "metadata": {
    "ExecuteTime": {
     "end_time": "2021-04-30T02:36:14.650068Z",
     "start_time": "2021-04-30T02:36:08.151964Z"
    }
   },
   "outputs": [],
   "source": [
    "drug_long = pd.read_csv(\"../data/raw/drug_final_processed_eg_id.csv.gz\",\n",
    "                        low_memory=False)\n",
    "\n",
    "drug_long = drug_long.rename(columns={'model_name':'Cell_line'})\n",
    "\n",
    "drug_wide = pd.read_csv(\"../data/processed/drug/sanger_gdsc_intersection_noprot_wide.csv.gz\", index_col=0)\n",
    "\n",
    "drug_long = drug_long[drug_long['Cell_line'].isin(drug_wide.index.values)]"
   ]
  },
  {
   "cell_type": "code",
   "execution_count": 171,
   "metadata": {
    "ExecuteTime": {
     "end_time": "2021-04-30T02:37:23.687465Z",
     "start_time": "2021-04-30T02:37:22.682993Z"
    }
   },
   "outputs": [],
   "source": [
    "drug_long_ann = pd.merge(\n",
    "    drug_long,\n",
    "    cell_meta[['Cell_line', 'growth', 'media']],\n",
    "    on='Cell_line')"
   ]
  },
  {
   "cell_type": "code",
   "execution_count": 172,
   "metadata": {
    "ExecuteTime": {
     "end_time": "2021-04-30T02:37:24.149489Z",
     "start_time": "2021-04-30T02:37:24.143749Z"
    }
   },
   "outputs": [],
   "source": [
    "cell_mean_IC50 = drug_wide.mean(axis=1)"
   ]
  },
  {
   "cell_type": "code",
   "execution_count": 173,
   "metadata": {
    "ExecuteTime": {
     "end_time": "2021-04-30T02:37:25.992327Z",
     "start_time": "2021-04-30T02:37:24.615503Z"
    }
   },
   "outputs": [],
   "source": [
    "drug_long_ann['cell_mean_IC50'] = drug_long_ann['Cell_line'].map(lambda x:cell_mean_IC50[x])"
   ]
  },
  {
   "cell_type": "code",
   "execution_count": 199,
   "metadata": {
    "ExecuteTime": {
     "end_time": "2021-04-30T02:55:48.829851Z",
     "start_time": "2021-04-30T02:55:48.822740Z"
    }
   },
   "outputs": [],
   "source": [
    "drug_long_ann['growth'] = drug_long_ann['growth'].fillna(drug_long_ann['growth'].mean())"
   ]
  },
  {
   "cell_type": "code",
   "execution_count": 175,
   "metadata": {
    "ExecuteTime": {
     "end_time": "2021-04-30T02:37:50.810314Z",
     "start_time": "2021-04-30T02:37:50.673437Z"
    }
   },
   "outputs": [
    {
     "data": {
      "text/html": [
       "<div>\n",
       "<style scoped>\n",
       "    .dataframe tbody tr th:only-of-type {\n",
       "        vertical-align: middle;\n",
       "    }\n",
       "\n",
       "    .dataframe tbody tr th {\n",
       "        vertical-align: top;\n",
       "    }\n",
       "\n",
       "    .dataframe thead th {\n",
       "        text-align: right;\n",
       "    }\n",
       "</style>\n",
       "<table border=\"1\" class=\"dataframe\">\n",
       "  <thead>\n",
       "    <tr style=\"text-align: right;\">\n",
       "      <th></th>\n",
       "      <th>Cell_line</th>\n",
       "      <th>cell_mean_IC50</th>\n",
       "      <th>growth</th>\n",
       "      <th>growth_properties_Adherent</th>\n",
       "      <th>growth_properties_Semi-Adherent</th>\n",
       "      <th>growth_properties_Suspension</th>\n",
       "      <th>growth_properties_Unknown</th>\n",
       "      <th>media_D/F12</th>\n",
       "      <th>media_R</th>\n",
       "    </tr>\n",
       "  </thead>\n",
       "  <tbody>\n",
       "    <tr>\n",
       "      <th>0</th>\n",
       "      <td>MC-CAR</td>\n",
       "      <td>1.467771</td>\n",
       "      <td>0.559769</td>\n",
       "      <td>0</td>\n",
       "      <td>0</td>\n",
       "      <td>1</td>\n",
       "      <td>0</td>\n",
       "      <td>1</td>\n",
       "      <td>0</td>\n",
       "    </tr>\n",
       "    <tr>\n",
       "      <th>1</th>\n",
       "      <td>MC-CAR</td>\n",
       "      <td>1.467771</td>\n",
       "      <td>0.559769</td>\n",
       "      <td>0</td>\n",
       "      <td>0</td>\n",
       "      <td>1</td>\n",
       "      <td>0</td>\n",
       "      <td>1</td>\n",
       "      <td>0</td>\n",
       "    </tr>\n",
       "    <tr>\n",
       "      <th>2</th>\n",
       "      <td>MC-CAR</td>\n",
       "      <td>1.467771</td>\n",
       "      <td>0.559769</td>\n",
       "      <td>0</td>\n",
       "      <td>0</td>\n",
       "      <td>1</td>\n",
       "      <td>0</td>\n",
       "      <td>1</td>\n",
       "      <td>0</td>\n",
       "    </tr>\n",
       "    <tr>\n",
       "      <th>3</th>\n",
       "      <td>MC-CAR</td>\n",
       "      <td>1.467771</td>\n",
       "      <td>0.559769</td>\n",
       "      <td>0</td>\n",
       "      <td>0</td>\n",
       "      <td>1</td>\n",
       "      <td>0</td>\n",
       "      <td>1</td>\n",
       "      <td>0</td>\n",
       "    </tr>\n",
       "    <tr>\n",
       "      <th>4</th>\n",
       "      <td>MC-CAR</td>\n",
       "      <td>1.467771</td>\n",
       "      <td>0.559769</td>\n",
       "      <td>0</td>\n",
       "      <td>0</td>\n",
       "      <td>1</td>\n",
       "      <td>0</td>\n",
       "      <td>1</td>\n",
       "      <td>0</td>\n",
       "    </tr>\n",
       "    <tr>\n",
       "      <th>...</th>\n",
       "      <td>...</td>\n",
       "      <td>...</td>\n",
       "      <td>...</td>\n",
       "      <td>...</td>\n",
       "      <td>...</td>\n",
       "      <td>...</td>\n",
       "      <td>...</td>\n",
       "      <td>...</td>\n",
       "      <td>...</td>\n",
       "    </tr>\n",
       "    <tr>\n",
       "      <th>522614</th>\n",
       "      <td>SNU-283</td>\n",
       "      <td>3.109763</td>\n",
       "      <td>-0.332292</td>\n",
       "      <td>1</td>\n",
       "      <td>0</td>\n",
       "      <td>0</td>\n",
       "      <td>0</td>\n",
       "      <td>0</td>\n",
       "      <td>1</td>\n",
       "    </tr>\n",
       "    <tr>\n",
       "      <th>522615</th>\n",
       "      <td>SNU-283</td>\n",
       "      <td>3.109763</td>\n",
       "      <td>-0.332292</td>\n",
       "      <td>1</td>\n",
       "      <td>0</td>\n",
       "      <td>0</td>\n",
       "      <td>0</td>\n",
       "      <td>0</td>\n",
       "      <td>1</td>\n",
       "    </tr>\n",
       "    <tr>\n",
       "      <th>522616</th>\n",
       "      <td>SNU-283</td>\n",
       "      <td>3.109763</td>\n",
       "      <td>-0.332292</td>\n",
       "      <td>1</td>\n",
       "      <td>0</td>\n",
       "      <td>0</td>\n",
       "      <td>0</td>\n",
       "      <td>0</td>\n",
       "      <td>1</td>\n",
       "    </tr>\n",
       "    <tr>\n",
       "      <th>522617</th>\n",
       "      <td>SNU-283</td>\n",
       "      <td>3.109763</td>\n",
       "      <td>-0.332292</td>\n",
       "      <td>1</td>\n",
       "      <td>0</td>\n",
       "      <td>0</td>\n",
       "      <td>0</td>\n",
       "      <td>0</td>\n",
       "      <td>1</td>\n",
       "    </tr>\n",
       "    <tr>\n",
       "      <th>522618</th>\n",
       "      <td>SNU-283</td>\n",
       "      <td>3.109763</td>\n",
       "      <td>-0.332292</td>\n",
       "      <td>1</td>\n",
       "      <td>0</td>\n",
       "      <td>0</td>\n",
       "      <td>0</td>\n",
       "      <td>0</td>\n",
       "      <td>1</td>\n",
       "    </tr>\n",
       "  </tbody>\n",
       "</table>\n",
       "<p>522619 rows × 9 columns</p>\n",
       "</div>"
      ],
      "text/plain": [
       "       Cell_line  cell_mean_IC50    growth  growth_properties_Adherent  \\\n",
       "0         MC-CAR        1.467771  0.559769                           0   \n",
       "1         MC-CAR        1.467771  0.559769                           0   \n",
       "2         MC-CAR        1.467771  0.559769                           0   \n",
       "3         MC-CAR        1.467771  0.559769                           0   \n",
       "4         MC-CAR        1.467771  0.559769                           0   \n",
       "...          ...             ...       ...                         ...   \n",
       "522614   SNU-283        3.109763 -0.332292                           1   \n",
       "522615   SNU-283        3.109763 -0.332292                           1   \n",
       "522616   SNU-283        3.109763 -0.332292                           1   \n",
       "522617   SNU-283        3.109763 -0.332292                           1   \n",
       "522618   SNU-283        3.109763 -0.332292                           1   \n",
       "\n",
       "        growth_properties_Semi-Adherent  growth_properties_Suspension  \\\n",
       "0                                     0                             1   \n",
       "1                                     0                             1   \n",
       "2                                     0                             1   \n",
       "3                                     0                             1   \n",
       "4                                     0                             1   \n",
       "...                                 ...                           ...   \n",
       "522614                                0                             0   \n",
       "522615                                0                             0   \n",
       "522616                                0                             0   \n",
       "522617                                0                             0   \n",
       "522618                                0                             0   \n",
       "\n",
       "        growth_properties_Unknown  media_D/F12  media_R  \n",
       "0                               0            1        0  \n",
       "1                               0            1        0  \n",
       "2                               0            1        0  \n",
       "3                               0            1        0  \n",
       "4                               0            1        0  \n",
       "...                           ...          ...      ...  \n",
       "522614                          0            0        1  \n",
       "522615                          0            0        1  \n",
       "522616                          0            0        1  \n",
       "522617                          0            0        1  \n",
       "522618                          0            0        1  \n",
       "\n",
       "[522619 rows x 9 columns]"
      ]
     },
     "execution_count": 175,
     "metadata": {},
     "output_type": "execute_result"
    }
   ],
   "source": [
    "pd.get_dummies(\n",
    "    drug_long_ann[['Cell_line', 'cell_mean_IC50', 'growth',\n",
    "               'growth_properties', 'media']],\n",
    "    columns=['growth_properties', 'media'])"
   ]
  },
  {
   "cell_type": "code",
   "execution_count": 208,
   "metadata": {
    "ExecuteTime": {
     "end_time": "2021-04-30T02:59:02.316927Z",
     "start_time": "2021-04-30T02:58:50.603001Z"
    }
   },
   "outputs": [],
   "source": [
    "res_df = []\n",
    "for drug_id in drug_wide.columns:\n",
    "    drug_long_ann_tmp = drug_long_ann.query(f'drug_id == \"{drug_id}\"')\n",
    "\n",
    "    drug_long_ann_tmp = pd.get_dummies(drug_long_ann_tmp[[\n",
    "        'Cell_line', 'cell_mean_IC50', 'growth', 'growth_properties', 'media'\n",
    "    ]],\n",
    "                                   columns=['growth_properties', 'media'])\n",
    "    drug_data = pd.merge(drug_long_ann_tmp, drug_wide[drug_id], on='Cell_line').set_index('Cell_line')\n",
    "    X = drug_data.iloc[:, :-1]\n",
    "    y = drug_data.iloc[:, -1]\n",
    "    lr = LinearRegression()\n",
    "    lr.fit(X, y)\n",
    "    y_pred=lr.predict(X)\n",
    "    y_res = y - y_pred\n",
    "    res_df.append(y_res)"
   ]
  },
  {
   "cell_type": "code",
   "execution_count": 215,
   "metadata": {
    "ExecuteTime": {
     "end_time": "2021-04-30T03:00:13.819386Z",
     "start_time": "2021-04-30T03:00:13.712623Z"
    }
   },
   "outputs": [],
   "source": [
    "drug_wide_cov = pd.DataFrame(res_df).T\n",
    "drug_wide_cov = drug_wide_cov.sort_index()"
   ]
  },
  {
   "cell_type": "code",
   "execution_count": 214,
   "metadata": {
    "ExecuteTime": {
     "end_time": "2021-04-30T02:59:52.868710Z",
     "start_time": "2021-04-30T02:59:52.843141Z"
    }
   },
   "outputs": [
    {
     "data": {
      "text/html": [
       "<div>\n",
       "<style scoped>\n",
       "    .dataframe tbody tr th:only-of-type {\n",
       "        vertical-align: middle;\n",
       "    }\n",
       "\n",
       "    .dataframe tbody tr th {\n",
       "        vertical-align: top;\n",
       "    }\n",
       "\n",
       "    .dataframe thead th {\n",
       "        text-align: right;\n",
       "    }\n",
       "</style>\n",
       "<table border=\"1\" class=\"dataframe\">\n",
       "  <thead>\n",
       "    <tr style=\"text-align: right;\">\n",
       "      <th></th>\n",
       "      <th>1001;AICA Ribonucleotide;GDSC1</th>\n",
       "      <th>1003;Camptothecin;GDSC2</th>\n",
       "      <th>1004;Vinblastine;GDSC1</th>\n",
       "      <th>1004;Vinblastine;GDSC2</th>\n",
       "      <th>1005;Cisplatin;GDSC1</th>\n",
       "      <th>1005;Cisplatin;GDSC2</th>\n",
       "      <th>1006;Cytarabine;GDSC1</th>\n",
       "      <th>1006;Cytarabine;GDSC2</th>\n",
       "      <th>1007;Docetaxel;GDSC1</th>\n",
       "      <th>1007;Docetaxel;GDSC2</th>\n",
       "      <th>...</th>\n",
       "      <th>476;SB505124;GDSC1</th>\n",
       "      <th>477;A-83-01;GDSC1</th>\n",
       "      <th>478;LDN-193189;GDSC1</th>\n",
       "      <th>546;FTY-720;GDSC1</th>\n",
       "      <th>552;BAM7;GDSC1</th>\n",
       "      <th>562;AGI-6780;GDSC1</th>\n",
       "      <th>563;Kobe2602;GDSC1</th>\n",
       "      <th>573;LGK974;GDSC1</th>\n",
       "      <th>574;Wnt-C59;GDSC1</th>\n",
       "      <th>576;RU-SKI 43;GDSC1</th>\n",
       "    </tr>\n",
       "    <tr>\n",
       "      <th>Cell_line</th>\n",
       "      <th></th>\n",
       "      <th></th>\n",
       "      <th></th>\n",
       "      <th></th>\n",
       "      <th></th>\n",
       "      <th></th>\n",
       "      <th></th>\n",
       "      <th></th>\n",
       "      <th></th>\n",
       "      <th></th>\n",
       "      <th></th>\n",
       "      <th></th>\n",
       "      <th></th>\n",
       "      <th></th>\n",
       "      <th></th>\n",
       "      <th></th>\n",
       "      <th></th>\n",
       "      <th></th>\n",
       "      <th></th>\n",
       "      <th></th>\n",
       "      <th></th>\n",
       "    </tr>\n",
       "  </thead>\n",
       "  <tbody>\n",
       "    <tr>\n",
       "      <th>201T</th>\n",
       "      <td>10.006219</td>\n",
       "      <td>-3.123765</td>\n",
       "      <td>-4.519928</td>\n",
       "      <td>NaN</td>\n",
       "      <td>1.739354</td>\n",
       "      <td>NaN</td>\n",
       "      <td>-1.811303</td>\n",
       "      <td>NaN</td>\n",
       "      <td>-5.948871</td>\n",
       "      <td>-5.263725</td>\n",
       "      <td>...</td>\n",
       "      <td>5.497642</td>\n",
       "      <td>5.577882</td>\n",
       "      <td>2.041223</td>\n",
       "      <td>4.314062</td>\n",
       "      <td>5.830343</td>\n",
       "      <td>2.031241</td>\n",
       "      <td>5.668086</td>\n",
       "      <td>3.814942</td>\n",
       "      <td>3.374751</td>\n",
       "      <td>5.759942</td>\n",
       "    </tr>\n",
       "    <tr>\n",
       "      <th>22RV1</th>\n",
       "      <td>8.277717</td>\n",
       "      <td>-2.711064</td>\n",
       "      <td>-4.388238</td>\n",
       "      <td>-4.358934</td>\n",
       "      <td>3.133420</td>\n",
       "      <td>3.760772</td>\n",
       "      <td>0.208333</td>\n",
       "      <td>4.506211</td>\n",
       "      <td>-5.726998</td>\n",
       "      <td>-3.534340</td>\n",
       "      <td>...</td>\n",
       "      <td>2.062433</td>\n",
       "      <td>5.301060</td>\n",
       "      <td>0.504329</td>\n",
       "      <td>2.534243</td>\n",
       "      <td>3.358727</td>\n",
       "      <td>2.074554</td>\n",
       "      <td>5.516358</td>\n",
       "      <td>2.970851</td>\n",
       "      <td>2.382256</td>\n",
       "      <td>4.611802</td>\n",
       "    </tr>\n",
       "    <tr>\n",
       "      <th>23132-87</th>\n",
       "      <td>8.505091</td>\n",
       "      <td>-2.633188</td>\n",
       "      <td>-4.570881</td>\n",
       "      <td>-4.745928</td>\n",
       "      <td>3.980032</td>\n",
       "      <td>4.083907</td>\n",
       "      <td>-1.689554</td>\n",
       "      <td>0.089204</td>\n",
       "      <td>-5.207581</td>\n",
       "      <td>-4.802981</td>\n",
       "      <td>...</td>\n",
       "      <td>3.455451</td>\n",
       "      <td>5.373237</td>\n",
       "      <td>1.386745</td>\n",
       "      <td>2.876781</td>\n",
       "      <td>4.940830</td>\n",
       "      <td>1.809987</td>\n",
       "      <td>4.688832</td>\n",
       "      <td>2.986543</td>\n",
       "      <td>3.390533</td>\n",
       "      <td>4.273043</td>\n",
       "    </tr>\n",
       "    <tr>\n",
       "      <th>42-MG-BA</th>\n",
       "      <td>7.562601</td>\n",
       "      <td>-3.393686</td>\n",
       "      <td>-4.640558</td>\n",
       "      <td>-4.748196</td>\n",
       "      <td>3.013673</td>\n",
       "      <td>2.247032</td>\n",
       "      <td>0.008112</td>\n",
       "      <td>1.105481</td>\n",
       "      <td>-6.773613</td>\n",
       "      <td>-4.954833</td>\n",
       "      <td>...</td>\n",
       "      <td>2.794244</td>\n",
       "      <td>3.794006</td>\n",
       "      <td>0.767780</td>\n",
       "      <td>2.940470</td>\n",
       "      <td>4.235138</td>\n",
       "      <td>1.303975</td>\n",
       "      <td>5.359481</td>\n",
       "      <td>2.917454</td>\n",
       "      <td>2.468938</td>\n",
       "      <td>5.487908</td>\n",
       "    </tr>\n",
       "    <tr>\n",
       "      <th>5637</th>\n",
       "      <td>8.011646</td>\n",
       "      <td>-2.571851</td>\n",
       "      <td>-6.611545</td>\n",
       "      <td>NaN</td>\n",
       "      <td>1.521328</td>\n",
       "      <td>2.303510</td>\n",
       "      <td>-0.877628</td>\n",
       "      <td>2.578905</td>\n",
       "      <td>-8.391204</td>\n",
       "      <td>-6.011902</td>\n",
       "      <td>...</td>\n",
       "      <td>5.169427</td>\n",
       "      <td>3.848002</td>\n",
       "      <td>1.335373</td>\n",
       "      <td>1.864092</td>\n",
       "      <td>4.640307</td>\n",
       "      <td>1.128211</td>\n",
       "      <td>4.779121</td>\n",
       "      <td>2.786563</td>\n",
       "      <td>2.531710</td>\n",
       "      <td>4.479116</td>\n",
       "    </tr>\n",
       "    <tr>\n",
       "      <th>...</th>\n",
       "      <td>...</td>\n",
       "      <td>...</td>\n",
       "      <td>...</td>\n",
       "      <td>...</td>\n",
       "      <td>...</td>\n",
       "      <td>...</td>\n",
       "      <td>...</td>\n",
       "      <td>...</td>\n",
       "      <td>...</td>\n",
       "      <td>...</td>\n",
       "      <td>...</td>\n",
       "      <td>...</td>\n",
       "      <td>...</td>\n",
       "      <td>...</td>\n",
       "      <td>...</td>\n",
       "      <td>...</td>\n",
       "      <td>...</td>\n",
       "      <td>...</td>\n",
       "      <td>...</td>\n",
       "      <td>...</td>\n",
       "      <td>...</td>\n",
       "    </tr>\n",
       "    <tr>\n",
       "      <th>YAPC</th>\n",
       "      <td>9.325459</td>\n",
       "      <td>-1.517331</td>\n",
       "      <td>-2.234043</td>\n",
       "      <td>-0.276878</td>\n",
       "      <td>5.582824</td>\n",
       "      <td>6.191892</td>\n",
       "      <td>1.455560</td>\n",
       "      <td>2.117056</td>\n",
       "      <td>-4.664836</td>\n",
       "      <td>-1.789328</td>\n",
       "      <td>...</td>\n",
       "      <td>4.355866</td>\n",
       "      <td>3.962664</td>\n",
       "      <td>1.338727</td>\n",
       "      <td>2.656372</td>\n",
       "      <td>5.354368</td>\n",
       "      <td>2.533823</td>\n",
       "      <td>6.013006</td>\n",
       "      <td>3.626296</td>\n",
       "      <td>3.168425</td>\n",
       "      <td>6.192931</td>\n",
       "    </tr>\n",
       "    <tr>\n",
       "      <th>YH-13</th>\n",
       "      <td>9.043443</td>\n",
       "      <td>-1.491516</td>\n",
       "      <td>-5.476767</td>\n",
       "      <td>-5.392334</td>\n",
       "      <td>2.439968</td>\n",
       "      <td>3.297034</td>\n",
       "      <td>-1.352299</td>\n",
       "      <td>0.686480</td>\n",
       "      <td>-6.828457</td>\n",
       "      <td>-5.753114</td>\n",
       "      <td>...</td>\n",
       "      <td>4.985660</td>\n",
       "      <td>4.281812</td>\n",
       "      <td>0.417354</td>\n",
       "      <td>2.614606</td>\n",
       "      <td>4.417950</td>\n",
       "      <td>1.001159</td>\n",
       "      <td>5.102382</td>\n",
       "      <td>3.311944</td>\n",
       "      <td>3.479282</td>\n",
       "      <td>5.424028</td>\n",
       "    </tr>\n",
       "    <tr>\n",
       "      <th>YKG-1</th>\n",
       "      <td>6.477157</td>\n",
       "      <td>-2.652776</td>\n",
       "      <td>-4.975824</td>\n",
       "      <td>NaN</td>\n",
       "      <td>1.867132</td>\n",
       "      <td>NaN</td>\n",
       "      <td>-1.249552</td>\n",
       "      <td>NaN</td>\n",
       "      <td>-6.986876</td>\n",
       "      <td>-4.586049</td>\n",
       "      <td>...</td>\n",
       "      <td>3.445554</td>\n",
       "      <td>4.390702</td>\n",
       "      <td>0.381487</td>\n",
       "      <td>2.550901</td>\n",
       "      <td>4.454684</td>\n",
       "      <td>1.936417</td>\n",
       "      <td>4.226052</td>\n",
       "      <td>2.414651</td>\n",
       "      <td>2.191717</td>\n",
       "      <td>4.367968</td>\n",
       "    </tr>\n",
       "    <tr>\n",
       "      <th>YT</th>\n",
       "      <td>8.023383</td>\n",
       "      <td>-4.585890</td>\n",
       "      <td>-2.389600</td>\n",
       "      <td>-5.761951</td>\n",
       "      <td>2.879754</td>\n",
       "      <td>1.441817</td>\n",
       "      <td>1.628666</td>\n",
       "      <td>-0.169026</td>\n",
       "      <td>-3.337593</td>\n",
       "      <td>-4.531786</td>\n",
       "      <td>...</td>\n",
       "      <td>3.631242</td>\n",
       "      <td>4.291418</td>\n",
       "      <td>1.722165</td>\n",
       "      <td>2.783446</td>\n",
       "      <td>5.191390</td>\n",
       "      <td>1.061765</td>\n",
       "      <td>4.534958</td>\n",
       "      <td>2.325160</td>\n",
       "      <td>2.611043</td>\n",
       "      <td>4.846644</td>\n",
       "    </tr>\n",
       "    <tr>\n",
       "      <th>ZR-75-30</th>\n",
       "      <td>8.513541</td>\n",
       "      <td>2.869557</td>\n",
       "      <td>-1.806172</td>\n",
       "      <td>3.117028</td>\n",
       "      <td>4.966390</td>\n",
       "      <td>7.819453</td>\n",
       "      <td>2.288264</td>\n",
       "      <td>5.655037</td>\n",
       "      <td>-2.909097</td>\n",
       "      <td>-0.401929</td>\n",
       "      <td>...</td>\n",
       "      <td>NaN</td>\n",
       "      <td>NaN</td>\n",
       "      <td>NaN</td>\n",
       "      <td>NaN</td>\n",
       "      <td>NaN</td>\n",
       "      <td>NaN</td>\n",
       "      <td>NaN</td>\n",
       "      <td>NaN</td>\n",
       "      <td>NaN</td>\n",
       "      <td>NaN</td>\n",
       "    </tr>\n",
       "  </tbody>\n",
       "</table>\n",
       "<p>853 rows × 549 columns</p>\n",
       "</div>"
      ],
      "text/plain": [
       "           1001;AICA Ribonucleotide;GDSC1  1003;Camptothecin;GDSC2  \\\n",
       "Cell_line                                                            \n",
       "201T                            10.006219                -3.123765   \n",
       "22RV1                            8.277717                -2.711064   \n",
       "23132-87                         8.505091                -2.633188   \n",
       "42-MG-BA                         7.562601                -3.393686   \n",
       "5637                             8.011646                -2.571851   \n",
       "...                                   ...                      ...   \n",
       "YAPC                             9.325459                -1.517331   \n",
       "YH-13                            9.043443                -1.491516   \n",
       "YKG-1                            6.477157                -2.652776   \n",
       "YT                               8.023383                -4.585890   \n",
       "ZR-75-30                         8.513541                 2.869557   \n",
       "\n",
       "           1004;Vinblastine;GDSC1  1004;Vinblastine;GDSC2  \\\n",
       "Cell_line                                                   \n",
       "201T                    -4.519928                     NaN   \n",
       "22RV1                   -4.388238               -4.358934   \n",
       "23132-87                -4.570881               -4.745928   \n",
       "42-MG-BA                -4.640558               -4.748196   \n",
       "5637                    -6.611545                     NaN   \n",
       "...                           ...                     ...   \n",
       "YAPC                    -2.234043               -0.276878   \n",
       "YH-13                   -5.476767               -5.392334   \n",
       "YKG-1                   -4.975824                     NaN   \n",
       "YT                      -2.389600               -5.761951   \n",
       "ZR-75-30                -1.806172                3.117028   \n",
       "\n",
       "           1005;Cisplatin;GDSC1  1005;Cisplatin;GDSC2  1006;Cytarabine;GDSC1  \\\n",
       "Cell_line                                                                      \n",
       "201T                   1.739354                   NaN              -1.811303   \n",
       "22RV1                  3.133420              3.760772               0.208333   \n",
       "23132-87               3.980032              4.083907              -1.689554   \n",
       "42-MG-BA               3.013673              2.247032               0.008112   \n",
       "5637                   1.521328              2.303510              -0.877628   \n",
       "...                         ...                   ...                    ...   \n",
       "YAPC                   5.582824              6.191892               1.455560   \n",
       "YH-13                  2.439968              3.297034              -1.352299   \n",
       "YKG-1                  1.867132                   NaN              -1.249552   \n",
       "YT                     2.879754              1.441817               1.628666   \n",
       "ZR-75-30               4.966390              7.819453               2.288264   \n",
       "\n",
       "           1006;Cytarabine;GDSC2  1007;Docetaxel;GDSC1  1007;Docetaxel;GDSC2  \\\n",
       "Cell_line                                                                      \n",
       "201T                         NaN             -5.948871             -5.263725   \n",
       "22RV1                   4.506211             -5.726998             -3.534340   \n",
       "23132-87                0.089204             -5.207581             -4.802981   \n",
       "42-MG-BA                1.105481             -6.773613             -4.954833   \n",
       "5637                    2.578905             -8.391204             -6.011902   \n",
       "...                          ...                   ...                   ...   \n",
       "YAPC                    2.117056             -4.664836             -1.789328   \n",
       "YH-13                   0.686480             -6.828457             -5.753114   \n",
       "YKG-1                        NaN             -6.986876             -4.586049   \n",
       "YT                     -0.169026             -3.337593             -4.531786   \n",
       "ZR-75-30                5.655037             -2.909097             -0.401929   \n",
       "\n",
       "           ...  476;SB505124;GDSC1  477;A-83-01;GDSC1  478;LDN-193189;GDSC1  \\\n",
       "Cell_line  ...                                                                \n",
       "201T       ...            5.497642           5.577882              2.041223   \n",
       "22RV1      ...            2.062433           5.301060              0.504329   \n",
       "23132-87   ...            3.455451           5.373237              1.386745   \n",
       "42-MG-BA   ...            2.794244           3.794006              0.767780   \n",
       "5637       ...            5.169427           3.848002              1.335373   \n",
       "...        ...                 ...                ...                   ...   \n",
       "YAPC       ...            4.355866           3.962664              1.338727   \n",
       "YH-13      ...            4.985660           4.281812              0.417354   \n",
       "YKG-1      ...            3.445554           4.390702              0.381487   \n",
       "YT         ...            3.631242           4.291418              1.722165   \n",
       "ZR-75-30   ...                 NaN                NaN                   NaN   \n",
       "\n",
       "           546;FTY-720;GDSC1  552;BAM7;GDSC1  562;AGI-6780;GDSC1  \\\n",
       "Cell_line                                                          \n",
       "201T                4.314062        5.830343            2.031241   \n",
       "22RV1               2.534243        3.358727            2.074554   \n",
       "23132-87            2.876781        4.940830            1.809987   \n",
       "42-MG-BA            2.940470        4.235138            1.303975   \n",
       "5637                1.864092        4.640307            1.128211   \n",
       "...                      ...             ...                 ...   \n",
       "YAPC                2.656372        5.354368            2.533823   \n",
       "YH-13               2.614606        4.417950            1.001159   \n",
       "YKG-1               2.550901        4.454684            1.936417   \n",
       "YT                  2.783446        5.191390            1.061765   \n",
       "ZR-75-30                 NaN             NaN                 NaN   \n",
       "\n",
       "           563;Kobe2602;GDSC1  573;LGK974;GDSC1  574;Wnt-C59;GDSC1  \\\n",
       "Cell_line                                                            \n",
       "201T                 5.668086          3.814942           3.374751   \n",
       "22RV1                5.516358          2.970851           2.382256   \n",
       "23132-87             4.688832          2.986543           3.390533   \n",
       "42-MG-BA             5.359481          2.917454           2.468938   \n",
       "5637                 4.779121          2.786563           2.531710   \n",
       "...                       ...               ...                ...   \n",
       "YAPC                 6.013006          3.626296           3.168425   \n",
       "YH-13                5.102382          3.311944           3.479282   \n",
       "YKG-1                4.226052          2.414651           2.191717   \n",
       "YT                   4.534958          2.325160           2.611043   \n",
       "ZR-75-30                  NaN               NaN                NaN   \n",
       "\n",
       "           576;RU-SKI 43;GDSC1  \n",
       "Cell_line                       \n",
       "201T                  5.759942  \n",
       "22RV1                 4.611802  \n",
       "23132-87              4.273043  \n",
       "42-MG-BA              5.487908  \n",
       "5637                  4.479116  \n",
       "...                        ...  \n",
       "YAPC                  6.192931  \n",
       "YH-13                 5.424028  \n",
       "YKG-1                 4.367968  \n",
       "YT                    4.846644  \n",
       "ZR-75-30                   NaN  \n",
       "\n",
       "[853 rows x 549 columns]"
      ]
     },
     "execution_count": 214,
     "metadata": {},
     "output_type": "execute_result"
    }
   ],
   "source": [
    "drug_wide"
   ]
  },
  {
   "cell_type": "code",
   "execution_count": 217,
   "metadata": {
    "ExecuteTime": {
     "end_time": "2021-04-30T03:00:55.215117Z",
     "start_time": "2021-04-30T03:00:53.651239Z"
    }
   },
   "outputs": [],
   "source": [
    "drug_wide_cov.to_csv(\"../data/processed/drug/sanger_gdsc_intersection_noprot_wide_cov.csv.gz\")"
   ]
  },
  {
   "cell_type": "markdown",
   "metadata": {},
   "source": [
    "## regress out tissue"
   ]
  },
  {
   "cell_type": "code",
   "execution_count": 9,
   "metadata": {
    "ExecuteTime": {
     "end_time": "2021-05-12T02:07:09.262131Z",
     "start_time": "2021-05-12T02:07:02.672283Z"
    }
   },
   "outputs": [],
   "source": [
    "drug_long = pd.read_csv(\"../data/raw/drug_final_processed_eg_id.csv.gz\",\n",
    "                        low_memory=False)\n",
    "\n",
    "drug_long = drug_long.rename(columns={'model_name':'Cell_line'})\n",
    "\n",
    "drug_wide = pd.read_csv(\"../data/processed/drug/sanger_gdsc_intersection_noprot_wide.csv.gz\", index_col=0)\n",
    "\n",
    "drug_long = drug_long[drug_long['Cell_line'].isin(drug_wide.index.values)]"
   ]
  },
  {
   "cell_type": "code",
   "execution_count": 10,
   "metadata": {
    "ExecuteTime": {
     "end_time": "2021-05-12T02:07:14.460913Z",
     "start_time": "2021-05-12T02:07:12.075873Z"
    }
   },
   "outputs": [],
   "source": [
    "drug_long_ann = pd.merge(\n",
    "    drug_long,\n",
    "    cell_meta[['Cell_line', 'growth', 'media']],\n",
    "    on='Cell_line')\n",
    "\n",
    "cell_mean_IC50 = drug_wide.mean(axis=1)\n",
    "\n",
    "drug_long_ann['cell_mean_IC50'] = drug_long_ann['Cell_line'].map(lambda x:cell_mean_IC50[x])\n",
    "\n",
    "drug_long_ann['growth'] = drug_long_ann['growth'].fillna(drug_long_ann['growth'].mean())"
   ]
  },
  {
   "cell_type": "code",
   "execution_count": 14,
   "metadata": {
    "ExecuteTime": {
     "end_time": "2021-05-12T02:08:15.423029Z",
     "start_time": "2021-05-12T02:08:03.724346Z"
    }
   },
   "outputs": [],
   "source": [
    "res_df = []\n",
    "for drug_id in drug_wide.columns:\n",
    "    drug_long_ann_tmp = drug_long_ann.query(f'drug_id == \"{drug_id}\"')\n",
    "\n",
    "    drug_long_ann_tmp = pd.get_dummies(drug_long_ann_tmp[[\n",
    "        'Cell_line', 'cell_mean_IC50', 'growth', 'growth_properties', 'media', 'tissue'\n",
    "    ]],\n",
    "                                   columns=['growth_properties', 'media', 'tissue'])\n",
    "    drug_data = pd.merge(drug_long_ann_tmp, drug_wide[drug_id], on='Cell_line').set_index('Cell_line')\n",
    "    X = drug_data.iloc[:, :-1]\n",
    "    y = drug_data.iloc[:, -1]\n",
    "    lr = LinearRegression()\n",
    "    lr.fit(X, y)\n",
    "    y_pred=lr.predict(X)\n",
    "    y_res = y - y_pred\n",
    "    res_df.append(y_res)"
   ]
  },
  {
   "cell_type": "code",
   "execution_count": 15,
   "metadata": {
    "ExecuteTime": {
     "end_time": "2021-05-12T02:08:17.771150Z",
     "start_time": "2021-05-12T02:08:17.627449Z"
    }
   },
   "outputs": [],
   "source": [
    "drug_wide_cov = pd.DataFrame(res_df).T\n",
    "drug_wide_cov = drug_wide_cov.sort_index()"
   ]
  },
  {
   "cell_type": "code",
   "execution_count": 20,
   "metadata": {
    "ExecuteTime": {
     "end_time": "2021-05-12T02:09:30.543052Z",
     "start_time": "2021-05-12T02:09:30.515557Z"
    }
   },
   "outputs": [
    {
     "data": {
      "text/html": [
       "<div>\n",
       "<style scoped>\n",
       "    .dataframe tbody tr th:only-of-type {\n",
       "        vertical-align: middle;\n",
       "    }\n",
       "\n",
       "    .dataframe tbody tr th {\n",
       "        vertical-align: top;\n",
       "    }\n",
       "\n",
       "    .dataframe thead th {\n",
       "        text-align: right;\n",
       "    }\n",
       "</style>\n",
       "<table border=\"1\" class=\"dataframe\">\n",
       "  <thead>\n",
       "    <tr style=\"text-align: right;\">\n",
       "      <th></th>\n",
       "      <th>1001;AICA Ribonucleotide;GDSC1</th>\n",
       "      <th>1003;Camptothecin;GDSC2</th>\n",
       "      <th>1004;Vinblastine;GDSC1</th>\n",
       "      <th>1004;Vinblastine;GDSC2</th>\n",
       "      <th>1005;Cisplatin;GDSC1</th>\n",
       "      <th>1005;Cisplatin;GDSC2</th>\n",
       "      <th>1006;Cytarabine;GDSC1</th>\n",
       "      <th>1006;Cytarabine;GDSC2</th>\n",
       "      <th>1007;Docetaxel;GDSC1</th>\n",
       "      <th>1007;Docetaxel;GDSC2</th>\n",
       "      <th>...</th>\n",
       "      <th>476;SB505124;GDSC1</th>\n",
       "      <th>477;A-83-01;GDSC1</th>\n",
       "      <th>478;LDN-193189;GDSC1</th>\n",
       "      <th>546;FTY-720;GDSC1</th>\n",
       "      <th>552;BAM7;GDSC1</th>\n",
       "      <th>562;AGI-6780;GDSC1</th>\n",
       "      <th>563;Kobe2602;GDSC1</th>\n",
       "      <th>573;LGK974;GDSC1</th>\n",
       "      <th>574;Wnt-C59;GDSC1</th>\n",
       "      <th>576;RU-SKI 43;GDSC1</th>\n",
       "    </tr>\n",
       "    <tr>\n",
       "      <th>Cell_line</th>\n",
       "      <th></th>\n",
       "      <th></th>\n",
       "      <th></th>\n",
       "      <th></th>\n",
       "      <th></th>\n",
       "      <th></th>\n",
       "      <th></th>\n",
       "      <th></th>\n",
       "      <th></th>\n",
       "      <th></th>\n",
       "      <th></th>\n",
       "      <th></th>\n",
       "      <th></th>\n",
       "      <th></th>\n",
       "      <th></th>\n",
       "      <th></th>\n",
       "      <th></th>\n",
       "      <th></th>\n",
       "      <th></th>\n",
       "      <th></th>\n",
       "      <th></th>\n",
       "    </tr>\n",
       "  </thead>\n",
       "  <tbody>\n",
       "    <tr>\n",
       "      <th>201T</th>\n",
       "      <td>2.048789</td>\n",
       "      <td>-0.932847</td>\n",
       "      <td>-0.355865</td>\n",
       "      <td>NaN</td>\n",
       "      <td>-1.256740</td>\n",
       "      <td>NaN</td>\n",
       "      <td>-2.360131</td>\n",
       "      <td>NaN</td>\n",
       "      <td>-0.764300</td>\n",
       "      <td>-0.498713</td>\n",
       "      <td>...</td>\n",
       "      <td>1.711998</td>\n",
       "      <td>1.134766</td>\n",
       "      <td>0.681115</td>\n",
       "      <td>1.644430</td>\n",
       "      <td>0.747335</td>\n",
       "      <td>0.441703</td>\n",
       "      <td>0.847773</td>\n",
       "      <td>0.799317</td>\n",
       "      <td>0.495357</td>\n",
       "      <td>0.690606</td>\n",
       "    </tr>\n",
       "    <tr>\n",
       "      <th>22RV1</th>\n",
       "      <td>0.725309</td>\n",
       "      <td>-0.716435</td>\n",
       "      <td>-0.030084</td>\n",
       "      <td>-0.622362</td>\n",
       "      <td>0.513303</td>\n",
       "      <td>-0.410615</td>\n",
       "      <td>-0.406901</td>\n",
       "      <td>0.722153</td>\n",
       "      <td>-0.246529</td>\n",
       "      <td>0.235576</td>\n",
       "      <td>...</td>\n",
       "      <td>-1.142157</td>\n",
       "      <td>0.868687</td>\n",
       "      <td>0.062923</td>\n",
       "      <td>0.423968</td>\n",
       "      <td>-1.298744</td>\n",
       "      <td>0.425750</td>\n",
       "      <td>0.962647</td>\n",
       "      <td>-0.013524</td>\n",
       "      <td>-0.182685</td>\n",
       "      <td>-0.342788</td>\n",
       "    </tr>\n",
       "    <tr>\n",
       "      <th>23132-87</th>\n",
       "      <td>0.764398</td>\n",
       "      <td>-1.147349</td>\n",
       "      <td>0.023113</td>\n",
       "      <td>-1.903399</td>\n",
       "      <td>1.286673</td>\n",
       "      <td>0.020186</td>\n",
       "      <td>-1.732522</td>\n",
       "      <td>-2.066436</td>\n",
       "      <td>0.212341</td>\n",
       "      <td>-0.724978</td>\n",
       "      <td>...</td>\n",
       "      <td>0.873908</td>\n",
       "      <td>1.352729</td>\n",
       "      <td>0.419949</td>\n",
       "      <td>1.125545</td>\n",
       "      <td>0.564122</td>\n",
       "      <td>0.372121</td>\n",
       "      <td>0.872425</td>\n",
       "      <td>0.908418</td>\n",
       "      <td>1.310944</td>\n",
       "      <td>0.736910</td>\n",
       "    </tr>\n",
       "    <tr>\n",
       "      <th>42-MG-BA</th>\n",
       "      <td>-0.361113</td>\n",
       "      <td>-1.023081</td>\n",
       "      <td>0.523505</td>\n",
       "      <td>-0.614651</td>\n",
       "      <td>0.860352</td>\n",
       "      <td>-0.773232</td>\n",
       "      <td>0.529596</td>\n",
       "      <td>-0.537341</td>\n",
       "      <td>-0.508965</td>\n",
       "      <td>0.156357</td>\n",
       "      <td>...</td>\n",
       "      <td>-1.236030</td>\n",
       "      <td>-0.448182</td>\n",
       "      <td>0.358600</td>\n",
       "      <td>0.937098</td>\n",
       "      <td>-0.090302</td>\n",
       "      <td>-0.317363</td>\n",
       "      <td>0.798690</td>\n",
       "      <td>0.042454</td>\n",
       "      <td>-0.184871</td>\n",
       "      <td>0.768669</td>\n",
       "    </tr>\n",
       "    <tr>\n",
       "      <th>5637</th>\n",
       "      <td>0.683358</td>\n",
       "      <td>0.267992</td>\n",
       "      <td>-1.426486</td>\n",
       "      <td>NaN</td>\n",
       "      <td>-0.418125</td>\n",
       "      <td>-0.226519</td>\n",
       "      <td>-0.541690</td>\n",
       "      <td>0.981127</td>\n",
       "      <td>-2.218353</td>\n",
       "      <td>-0.995289</td>\n",
       "      <td>...</td>\n",
       "      <td>1.632318</td>\n",
       "      <td>-0.170797</td>\n",
       "      <td>0.633713</td>\n",
       "      <td>-0.388227</td>\n",
       "      <td>0.327807</td>\n",
       "      <td>-0.308282</td>\n",
       "      <td>0.250556</td>\n",
       "      <td>0.114688</td>\n",
       "      <td>0.068820</td>\n",
       "      <td>0.081167</td>\n",
       "    </tr>\n",
       "    <tr>\n",
       "      <th>...</th>\n",
       "      <td>...</td>\n",
       "      <td>...</td>\n",
       "      <td>...</td>\n",
       "      <td>...</td>\n",
       "      <td>...</td>\n",
       "      <td>...</td>\n",
       "      <td>...</td>\n",
       "      <td>...</td>\n",
       "      <td>...</td>\n",
       "      <td>...</td>\n",
       "      <td>...</td>\n",
       "      <td>...</td>\n",
       "      <td>...</td>\n",
       "      <td>...</td>\n",
       "      <td>...</td>\n",
       "      <td>...</td>\n",
       "      <td>...</td>\n",
       "      <td>...</td>\n",
       "      <td>...</td>\n",
       "      <td>...</td>\n",
       "      <td>...</td>\n",
       "    </tr>\n",
       "    <tr>\n",
       "      <th>YAPC</th>\n",
       "      <td>0.895499</td>\n",
       "      <td>-1.816647</td>\n",
       "      <td>0.495449</td>\n",
       "      <td>-0.275169</td>\n",
       "      <td>1.826965</td>\n",
       "      <td>0.084226</td>\n",
       "      <td>0.524896</td>\n",
       "      <td>-1.883432</td>\n",
       "      <td>-0.609172</td>\n",
       "      <td>-0.224953</td>\n",
       "      <td>...</td>\n",
       "      <td>0.066315</td>\n",
       "      <td>-0.488508</td>\n",
       "      <td>-0.146380</td>\n",
       "      <td>-0.222488</td>\n",
       "      <td>-0.363650</td>\n",
       "      <td>0.490762</td>\n",
       "      <td>0.277166</td>\n",
       "      <td>0.204421</td>\n",
       "      <td>0.169890</td>\n",
       "      <td>0.394102</td>\n",
       "    </tr>\n",
       "    <tr>\n",
       "      <th>YH-13</th>\n",
       "      <td>0.743567</td>\n",
       "      <td>0.962097</td>\n",
       "      <td>-0.847372</td>\n",
       "      <td>-1.618652</td>\n",
       "      <td>-0.001438</td>\n",
       "      <td>0.055335</td>\n",
       "      <td>-1.448002</td>\n",
       "      <td>-1.547773</td>\n",
       "      <td>-0.725917</td>\n",
       "      <td>-0.850152</td>\n",
       "      <td>...</td>\n",
       "      <td>1.077457</td>\n",
       "      <td>-0.039721</td>\n",
       "      <td>-0.160283</td>\n",
       "      <td>0.490018</td>\n",
       "      <td>0.021709</td>\n",
       "      <td>-0.534852</td>\n",
       "      <td>0.533535</td>\n",
       "      <td>0.390069</td>\n",
       "      <td>0.706332</td>\n",
       "      <td>0.439165</td>\n",
       "    </tr>\n",
       "    <tr>\n",
       "      <th>YKG-1</th>\n",
       "      <td>-1.596539</td>\n",
       "      <td>-0.044866</td>\n",
       "      <td>-0.054437</td>\n",
       "      <td>NaN</td>\n",
       "      <td>-0.260797</td>\n",
       "      <td>NaN</td>\n",
       "      <td>-0.712443</td>\n",
       "      <td>NaN</td>\n",
       "      <td>-0.644103</td>\n",
       "      <td>0.370070</td>\n",
       "      <td>...</td>\n",
       "      <td>-0.344485</td>\n",
       "      <td>0.165848</td>\n",
       "      <td>-0.025251</td>\n",
       "      <td>0.563032</td>\n",
       "      <td>0.206149</td>\n",
       "      <td>0.507218</td>\n",
       "      <td>-0.221702</td>\n",
       "      <td>-0.319724</td>\n",
       "      <td>-0.391779</td>\n",
       "      <td>-0.400099</td>\n",
       "    </tr>\n",
       "    <tr>\n",
       "      <th>YT</th>\n",
       "      <td>1.173179</td>\n",
       "      <td>-0.725051</td>\n",
       "      <td>1.828662</td>\n",
       "      <td>-0.518543</td>\n",
       "      <td>0.121942</td>\n",
       "      <td>-0.373857</td>\n",
       "      <td>1.475346</td>\n",
       "      <td>0.366863</td>\n",
       "      <td>0.627250</td>\n",
       "      <td>0.327647</td>\n",
       "      <td>...</td>\n",
       "      <td>0.690325</td>\n",
       "      <td>0.366857</td>\n",
       "      <td>1.020260</td>\n",
       "      <td>0.878035</td>\n",
       "      <td>0.537337</td>\n",
       "      <td>0.063992</td>\n",
       "      <td>0.395065</td>\n",
       "      <td>0.028285</td>\n",
       "      <td>0.291707</td>\n",
       "      <td>1.155238</td>\n",
       "    </tr>\n",
       "    <tr>\n",
       "      <th>ZR-75-30</th>\n",
       "      <td>-0.476453</td>\n",
       "      <td>-0.287181</td>\n",
       "      <td>-0.599874</td>\n",
       "      <td>0.633874</td>\n",
       "      <td>-0.471110</td>\n",
       "      <td>-0.455937</td>\n",
       "      <td>-1.450994</td>\n",
       "      <td>-2.073234</td>\n",
       "      <td>-0.439370</td>\n",
       "      <td>-0.523149</td>\n",
       "      <td>...</td>\n",
       "      <td>NaN</td>\n",
       "      <td>NaN</td>\n",
       "      <td>NaN</td>\n",
       "      <td>NaN</td>\n",
       "      <td>NaN</td>\n",
       "      <td>NaN</td>\n",
       "      <td>NaN</td>\n",
       "      <td>NaN</td>\n",
       "      <td>NaN</td>\n",
       "      <td>NaN</td>\n",
       "    </tr>\n",
       "  </tbody>\n",
       "</table>\n",
       "<p>853 rows × 549 columns</p>\n",
       "</div>"
      ],
      "text/plain": [
       "           1001;AICA Ribonucleotide;GDSC1  1003;Camptothecin;GDSC2  \\\n",
       "Cell_line                                                            \n",
       "201T                             2.048789                -0.932847   \n",
       "22RV1                            0.725309                -0.716435   \n",
       "23132-87                         0.764398                -1.147349   \n",
       "42-MG-BA                        -0.361113                -1.023081   \n",
       "5637                             0.683358                 0.267992   \n",
       "...                                   ...                      ...   \n",
       "YAPC                             0.895499                -1.816647   \n",
       "YH-13                            0.743567                 0.962097   \n",
       "YKG-1                           -1.596539                -0.044866   \n",
       "YT                               1.173179                -0.725051   \n",
       "ZR-75-30                        -0.476453                -0.287181   \n",
       "\n",
       "           1004;Vinblastine;GDSC1  1004;Vinblastine;GDSC2  \\\n",
       "Cell_line                                                   \n",
       "201T                    -0.355865                     NaN   \n",
       "22RV1                   -0.030084               -0.622362   \n",
       "23132-87                 0.023113               -1.903399   \n",
       "42-MG-BA                 0.523505               -0.614651   \n",
       "5637                    -1.426486                     NaN   \n",
       "...                           ...                     ...   \n",
       "YAPC                     0.495449               -0.275169   \n",
       "YH-13                   -0.847372               -1.618652   \n",
       "YKG-1                   -0.054437                     NaN   \n",
       "YT                       1.828662               -0.518543   \n",
       "ZR-75-30                -0.599874                0.633874   \n",
       "\n",
       "           1005;Cisplatin;GDSC1  1005;Cisplatin;GDSC2  1006;Cytarabine;GDSC1  \\\n",
       "Cell_line                                                                      \n",
       "201T                  -1.256740                   NaN              -2.360131   \n",
       "22RV1                  0.513303             -0.410615              -0.406901   \n",
       "23132-87               1.286673              0.020186              -1.732522   \n",
       "42-MG-BA               0.860352             -0.773232               0.529596   \n",
       "5637                  -0.418125             -0.226519              -0.541690   \n",
       "...                         ...                   ...                    ...   \n",
       "YAPC                   1.826965              0.084226               0.524896   \n",
       "YH-13                 -0.001438              0.055335              -1.448002   \n",
       "YKG-1                 -0.260797                   NaN              -0.712443   \n",
       "YT                     0.121942             -0.373857               1.475346   \n",
       "ZR-75-30              -0.471110             -0.455937              -1.450994   \n",
       "\n",
       "           1006;Cytarabine;GDSC2  1007;Docetaxel;GDSC1  1007;Docetaxel;GDSC2  \\\n",
       "Cell_line                                                                      \n",
       "201T                         NaN             -0.764300             -0.498713   \n",
       "22RV1                   0.722153             -0.246529              0.235576   \n",
       "23132-87               -2.066436              0.212341             -0.724978   \n",
       "42-MG-BA               -0.537341             -0.508965              0.156357   \n",
       "5637                    0.981127             -2.218353             -0.995289   \n",
       "...                          ...                   ...                   ...   \n",
       "YAPC                   -1.883432             -0.609172             -0.224953   \n",
       "YH-13                  -1.547773             -0.725917             -0.850152   \n",
       "YKG-1                        NaN             -0.644103              0.370070   \n",
       "YT                      0.366863              0.627250              0.327647   \n",
       "ZR-75-30               -2.073234             -0.439370             -0.523149   \n",
       "\n",
       "           ...  476;SB505124;GDSC1  477;A-83-01;GDSC1  478;LDN-193189;GDSC1  \\\n",
       "Cell_line  ...                                                                \n",
       "201T       ...            1.711998           1.134766              0.681115   \n",
       "22RV1      ...           -1.142157           0.868687              0.062923   \n",
       "23132-87   ...            0.873908           1.352729              0.419949   \n",
       "42-MG-BA   ...           -1.236030          -0.448182              0.358600   \n",
       "5637       ...            1.632318          -0.170797              0.633713   \n",
       "...        ...                 ...                ...                   ...   \n",
       "YAPC       ...            0.066315          -0.488508             -0.146380   \n",
       "YH-13      ...            1.077457          -0.039721             -0.160283   \n",
       "YKG-1      ...           -0.344485           0.165848             -0.025251   \n",
       "YT         ...            0.690325           0.366857              1.020260   \n",
       "ZR-75-30   ...                 NaN                NaN                   NaN   \n",
       "\n",
       "           546;FTY-720;GDSC1  552;BAM7;GDSC1  562;AGI-6780;GDSC1  \\\n",
       "Cell_line                                                          \n",
       "201T                1.644430        0.747335            0.441703   \n",
       "22RV1               0.423968       -1.298744            0.425750   \n",
       "23132-87            1.125545        0.564122            0.372121   \n",
       "42-MG-BA            0.937098       -0.090302           -0.317363   \n",
       "5637               -0.388227        0.327807           -0.308282   \n",
       "...                      ...             ...                 ...   \n",
       "YAPC               -0.222488       -0.363650            0.490762   \n",
       "YH-13               0.490018        0.021709           -0.534852   \n",
       "YKG-1               0.563032        0.206149            0.507218   \n",
       "YT                  0.878035        0.537337            0.063992   \n",
       "ZR-75-30                 NaN             NaN                 NaN   \n",
       "\n",
       "           563;Kobe2602;GDSC1  573;LGK974;GDSC1  574;Wnt-C59;GDSC1  \\\n",
       "Cell_line                                                            \n",
       "201T                 0.847773          0.799317           0.495357   \n",
       "22RV1                0.962647         -0.013524          -0.182685   \n",
       "23132-87             0.872425          0.908418           1.310944   \n",
       "42-MG-BA             0.798690          0.042454          -0.184871   \n",
       "5637                 0.250556          0.114688           0.068820   \n",
       "...                       ...               ...                ...   \n",
       "YAPC                 0.277166          0.204421           0.169890   \n",
       "YH-13                0.533535          0.390069           0.706332   \n",
       "YKG-1               -0.221702         -0.319724          -0.391779   \n",
       "YT                   0.395065          0.028285           0.291707   \n",
       "ZR-75-30                  NaN               NaN                NaN   \n",
       "\n",
       "           576;RU-SKI 43;GDSC1  \n",
       "Cell_line                       \n",
       "201T                  0.690606  \n",
       "22RV1                -0.342788  \n",
       "23132-87              0.736910  \n",
       "42-MG-BA              0.768669  \n",
       "5637                  0.081167  \n",
       "...                        ...  \n",
       "YAPC                  0.394102  \n",
       "YH-13                 0.439165  \n",
       "YKG-1                -0.400099  \n",
       "YT                    1.155238  \n",
       "ZR-75-30                   NaN  \n",
       "\n",
       "[853 rows x 549 columns]"
      ]
     },
     "execution_count": 20,
     "metadata": {},
     "output_type": "execute_result"
    }
   ],
   "source": [
    "drug_wide_cov"
   ]
  },
  {
   "cell_type": "code",
   "execution_count": null,
   "metadata": {},
   "outputs": [],
   "source": []
  },
  {
   "cell_type": "code",
   "execution_count": 21,
   "metadata": {
    "ExecuteTime": {
     "end_time": "2021-05-12T02:09:52.871662Z",
     "start_time": "2021-05-12T02:09:51.478249Z"
    }
   },
   "outputs": [],
   "source": [
    "drug_wide_cov.to_csv(\"../data/processed/drug/sanger_gdsc_intersection_noprot_wide_cov_tissue.csv.gz\")"
   ]
  },
  {
   "cell_type": "markdown",
   "metadata": {},
   "source": [
    "# Sanger cancer type"
   ]
  },
  {
   "cell_type": "code",
   "execution_count": 11,
   "metadata": {
    "ExecuteTime": {
     "end_time": "2021-06-18T05:27:44.533450Z",
     "start_time": "2021-06-18T05:27:43.613382Z"
    }
   },
   "outputs": [],
   "source": [
    "meta_sanger = pd.read_excel(\"../data/meta/SupplementaryTable1.xlsx\", sheet_name='Supplementary Table 1a')\n",
    "\n",
    "meta_sanger = meta_sanger.rename(columns={'model_name':'Cell_line', 'model_id': 'SIDM'})\n",
    "\n",
    "meta_sanger = meta_sanger.set_index('Cell_line')"
   ]
  },
  {
   "cell_type": "code",
   "execution_count": 12,
   "metadata": {
    "ExecuteTime": {
     "end_time": "2021-06-18T05:29:32.761839Z",
     "start_time": "2021-06-18T05:27:47.877605Z"
    }
   },
   "outputs": [],
   "source": [
    "df_intersection_noprot = pd.read_csv(\n",
    "    \"../data/processed/omics/sanger_df_intersection_noprot_drug.csv.gz\",\n",
    "    index_col=0)\n",
    "\n",
    "meta = pd.read_csv(\"../data/meta/model_list_20210427.csv\").set_index('model_name')\n",
    "\n",
    "meta.index.name = 'Cell_line'"
   ]
  },
  {
   "cell_type": "code",
   "execution_count": 13,
   "metadata": {
    "ExecuteTime": {
     "end_time": "2021-06-18T05:29:32.766594Z",
     "start_time": "2021-06-18T05:29:32.763772Z"
    }
   },
   "outputs": [],
   "source": [
    "meta_sanger = meta_sanger[meta_sanger.index.isin(df_intersection_noprot.index.values)]"
   ]
  },
  {
   "cell_type": "code",
   "execution_count": 9,
   "metadata": {
    "ExecuteTime": {
     "end_time": "2021-06-03T02:30:24.519582Z",
     "start_time": "2021-06-03T02:30:24.516205Z"
    }
   },
   "outputs": [],
   "source": [
    "meta = meta[meta.index.isin(df_intersection_noprot.index.values)]"
   ]
  },
  {
   "cell_type": "code",
   "execution_count": 28,
   "metadata": {
    "ExecuteTime": {
     "end_time": "2021-06-03T02:41:41.839529Z",
     "start_time": "2021-06-03T02:41:41.835462Z"
    }
   },
   "outputs": [],
   "source": [
    "cancer_type_count_sanger = meta_sanger.groupby('Cancer_type').size()"
   ]
  },
  {
   "cell_type": "code",
   "execution_count": 11,
   "metadata": {
    "ExecuteTime": {
     "end_time": "2021-06-03T02:30:24.528766Z",
     "start_time": "2021-06-03T02:30:24.525070Z"
    }
   },
   "outputs": [],
   "source": [
    "cancer_type_count = meta.groupby('cancer_type').size()"
   ]
  },
  {
   "cell_type": "code",
   "execution_count": 29,
   "metadata": {
    "ExecuteTime": {
     "end_time": "2021-06-03T02:41:42.843176Z",
     "start_time": "2021-06-03T02:41:42.838245Z"
    }
   },
   "outputs": [
    {
     "data": {
      "text/plain": [
       "Cancer_type\n",
       "Acute Myeloid Leukemia           26\n",
       "B-Cell Non-Hodgkin's Lymphoma    34\n",
       "B-Lymphoblastic Leukemia         17\n",
       "Biliary Tract Carcinoma           3\n",
       "Bladder Carcinoma                17\n",
       "Breast Carcinoma                 45\n",
       "Burkitt's Lymphoma                9\n",
       "Carcinoid Tumour                  4\n",
       "Cervical Carcinoma                9\n",
       "Chondrosarcoma                    4\n",
       "Chronic Myelogenous Leukemia     10\n",
       "Colorectal Carcinoma             45\n",
       "Endometrial Carcinoma            10\n",
       "Esophageal Carcinoma             34\n",
       "Ewing's Sarcoma                  23\n",
       "Gastric Carcinoma                23\n",
       "Glioblastoma                     33\n",
       "Glioma                           12\n",
       "Hairy Cell Leukemia               3\n",
       "Head and Neck Carcinoma          34\n",
       "Hepatocellular Carcinoma         11\n",
       "Hodgkin's Lymphoma                6\n",
       "Kidney Carcinoma                 29\n",
       "Leiomyosarcoma                    4\n",
       "Melanoma                         43\n",
       "Mesothelioma                      7\n",
       "Neuroblastoma                    30\n",
       "Non-Cancerous                     7\n",
       "Non-Small Cell Lung Carcinoma    90\n",
       "Osteosarcoma                      7\n",
       "Other Blood Cancers               3\n",
       "Other Sarcomas                    9\n",
       "Other Solid Carcinomas           15\n",
       "Ovarian Carcinoma                35\n",
       "Pancreatic Carcinoma             23\n",
       "Plasma Cell Myeloma              14\n",
       "Prostate Carcinoma                4\n",
       "Rhabdomyosarcoma                  7\n",
       "Small Cell Lung Carcinoma        54\n",
       "T-Cell Non-Hodgkin's Lymphoma     7\n",
       "T-Lymphoblastic Leukemia         16\n",
       "Thyroid Gland Carcinoma          14\n",
       "Uncertain                         1\n",
       "Vulvar carcinoma                  3\n",
       "dtype: int64"
      ]
     },
     "execution_count": 29,
     "metadata": {},
     "output_type": "execute_result"
    }
   ],
   "source": [
    "cancer_type_count_sanger"
   ]
  },
  {
   "cell_type": "code",
   "execution_count": 44,
   "metadata": {
    "ExecuteTime": {
     "end_time": "2021-05-19T03:25:11.281998Z",
     "start_time": "2021-05-19T03:25:11.277739Z"
    }
   },
   "outputs": [
    {
     "data": {
      "text/plain": [
       "Cancer_type\n",
       "Acute Myeloid Leukemia           26\n",
       "B-Cell Non-Hodgkin's Lymphoma    34\n",
       "Breast Carcinoma                 45\n",
       "Colorectal Carcinoma             45\n",
       "Esophageal Carcinoma             34\n",
       "Ewing's Sarcoma                  23\n",
       "Gastric Carcinoma                23\n",
       "Glioblastoma                     33\n",
       "Head and Neck Carcinoma          34\n",
       "Kidney Carcinoma                 29\n",
       "Melanoma                         43\n",
       "Neuroblastoma                    30\n",
       "Non-Small Cell Lung Carcinoma    77\n",
       "Ovarian Carcinoma                35\n",
       "Pancreatic Carcinoma             23\n",
       "Small Cell Lung Carcinoma        54\n",
       "dtype: int64"
      ]
     },
     "execution_count": 44,
     "metadata": {},
     "output_type": "execute_result"
    }
   ],
   "source": [
    "cancer_type_count_sanger[cancer_type_count_sanger>20]"
   ]
  },
  {
   "cell_type": "code",
   "execution_count": 56,
   "metadata": {
    "ExecuteTime": {
     "end_time": "2021-05-19T04:50:37.047437Z",
     "start_time": "2021-05-19T04:50:37.044309Z"
    }
   },
   "outputs": [],
   "source": [
    "meta_sanger_major = meta_sanger[meta_sanger['Cancer_type'].isin(\n",
    "    cancer_type_count_sanger[cancer_type_count_sanger > 20].index)]"
   ]
  },
  {
   "cell_type": "code",
   "execution_count": 57,
   "metadata": {
    "ExecuteTime": {
     "end_time": "2021-05-19T04:50:39.067429Z",
     "start_time": "2021-05-19T04:50:39.049981Z"
    }
   },
   "outputs": [
    {
     "data": {
      "text/html": [
       "<div>\n",
       "<style scoped>\n",
       "    .dataframe tbody tr th:only-of-type {\n",
       "        vertical-align: middle;\n",
       "    }\n",
       "\n",
       "    .dataframe tbody tr th {\n",
       "        vertical-align: top;\n",
       "    }\n",
       "\n",
       "    .dataframe thead th {\n",
       "        text-align: right;\n",
       "    }\n",
       "</style>\n",
       "<table border=\"1\" class=\"dataframe\">\n",
       "  <thead>\n",
       "    <tr style=\"text-align: right;\">\n",
       "      <th></th>\n",
       "      <th>Cancer_type_Acute Myeloid Leukemia</th>\n",
       "      <th>Cancer_type_B-Cell Non-Hodgkin's Lymphoma</th>\n",
       "      <th>Cancer_type_Breast Carcinoma</th>\n",
       "      <th>Cancer_type_Colorectal Carcinoma</th>\n",
       "      <th>Cancer_type_Esophageal Carcinoma</th>\n",
       "      <th>Cancer_type_Ewing's Sarcoma</th>\n",
       "      <th>Cancer_type_Gastric Carcinoma</th>\n",
       "      <th>Cancer_type_Glioblastoma</th>\n",
       "      <th>Cancer_type_Head and Neck Carcinoma</th>\n",
       "      <th>Cancer_type_Kidney Carcinoma</th>\n",
       "      <th>Cancer_type_Melanoma</th>\n",
       "      <th>Cancer_type_Neuroblastoma</th>\n",
       "      <th>Cancer_type_Non-Small Cell Lung Carcinoma</th>\n",
       "      <th>Cancer_type_Ovarian Carcinoma</th>\n",
       "      <th>Cancer_type_Pancreatic Carcinoma</th>\n",
       "      <th>Cancer_type_Small Cell Lung Carcinoma</th>\n",
       "    </tr>\n",
       "    <tr>\n",
       "      <th>Cell_line</th>\n",
       "      <th></th>\n",
       "      <th></th>\n",
       "      <th></th>\n",
       "      <th></th>\n",
       "      <th></th>\n",
       "      <th></th>\n",
       "      <th></th>\n",
       "      <th></th>\n",
       "      <th></th>\n",
       "      <th></th>\n",
       "      <th></th>\n",
       "      <th></th>\n",
       "      <th></th>\n",
       "      <th></th>\n",
       "      <th></th>\n",
       "      <th></th>\n",
       "    </tr>\n",
       "  </thead>\n",
       "  <tbody>\n",
       "    <tr>\n",
       "      <th>201T</th>\n",
       "      <td>0</td>\n",
       "      <td>0</td>\n",
       "      <td>0</td>\n",
       "      <td>0</td>\n",
       "      <td>0</td>\n",
       "      <td>0</td>\n",
       "      <td>0</td>\n",
       "      <td>0</td>\n",
       "      <td>0</td>\n",
       "      <td>0</td>\n",
       "      <td>0</td>\n",
       "      <td>0</td>\n",
       "      <td>1</td>\n",
       "      <td>0</td>\n",
       "      <td>0</td>\n",
       "      <td>0</td>\n",
       "    </tr>\n",
       "    <tr>\n",
       "      <th>23132-87</th>\n",
       "      <td>0</td>\n",
       "      <td>0</td>\n",
       "      <td>0</td>\n",
       "      <td>0</td>\n",
       "      <td>0</td>\n",
       "      <td>0</td>\n",
       "      <td>1</td>\n",
       "      <td>0</td>\n",
       "      <td>0</td>\n",
       "      <td>0</td>\n",
       "      <td>0</td>\n",
       "      <td>0</td>\n",
       "      <td>0</td>\n",
       "      <td>0</td>\n",
       "      <td>0</td>\n",
       "      <td>0</td>\n",
       "    </tr>\n",
       "    <tr>\n",
       "      <th>42-MG-BA</th>\n",
       "      <td>0</td>\n",
       "      <td>0</td>\n",
       "      <td>0</td>\n",
       "      <td>0</td>\n",
       "      <td>0</td>\n",
       "      <td>0</td>\n",
       "      <td>0</td>\n",
       "      <td>1</td>\n",
       "      <td>0</td>\n",
       "      <td>0</td>\n",
       "      <td>0</td>\n",
       "      <td>0</td>\n",
       "      <td>0</td>\n",
       "      <td>0</td>\n",
       "      <td>0</td>\n",
       "      <td>0</td>\n",
       "    </tr>\n",
       "    <tr>\n",
       "      <th>769-P</th>\n",
       "      <td>0</td>\n",
       "      <td>0</td>\n",
       "      <td>0</td>\n",
       "      <td>0</td>\n",
       "      <td>0</td>\n",
       "      <td>0</td>\n",
       "      <td>0</td>\n",
       "      <td>0</td>\n",
       "      <td>0</td>\n",
       "      <td>1</td>\n",
       "      <td>0</td>\n",
       "      <td>0</td>\n",
       "      <td>0</td>\n",
       "      <td>0</td>\n",
       "      <td>0</td>\n",
       "      <td>0</td>\n",
       "    </tr>\n",
       "    <tr>\n",
       "      <th>786-0</th>\n",
       "      <td>0</td>\n",
       "      <td>0</td>\n",
       "      <td>0</td>\n",
       "      <td>0</td>\n",
       "      <td>0</td>\n",
       "      <td>0</td>\n",
       "      <td>0</td>\n",
       "      <td>0</td>\n",
       "      <td>0</td>\n",
       "      <td>1</td>\n",
       "      <td>0</td>\n",
       "      <td>0</td>\n",
       "      <td>0</td>\n",
       "      <td>0</td>\n",
       "      <td>0</td>\n",
       "      <td>0</td>\n",
       "    </tr>\n",
       "    <tr>\n",
       "      <th>...</th>\n",
       "      <td>...</td>\n",
       "      <td>...</td>\n",
       "      <td>...</td>\n",
       "      <td>...</td>\n",
       "      <td>...</td>\n",
       "      <td>...</td>\n",
       "      <td>...</td>\n",
       "      <td>...</td>\n",
       "      <td>...</td>\n",
       "      <td>...</td>\n",
       "      <td>...</td>\n",
       "      <td>...</td>\n",
       "      <td>...</td>\n",
       "      <td>...</td>\n",
       "      <td>...</td>\n",
       "      <td>...</td>\n",
       "    </tr>\n",
       "    <tr>\n",
       "      <th>WSU-NHL</th>\n",
       "      <td>0</td>\n",
       "      <td>1</td>\n",
       "      <td>0</td>\n",
       "      <td>0</td>\n",
       "      <td>0</td>\n",
       "      <td>0</td>\n",
       "      <td>0</td>\n",
       "      <td>0</td>\n",
       "      <td>0</td>\n",
       "      <td>0</td>\n",
       "      <td>0</td>\n",
       "      <td>0</td>\n",
       "      <td>0</td>\n",
       "      <td>0</td>\n",
       "      <td>0</td>\n",
       "      <td>0</td>\n",
       "    </tr>\n",
       "    <tr>\n",
       "      <th>YAPC</th>\n",
       "      <td>0</td>\n",
       "      <td>0</td>\n",
       "      <td>0</td>\n",
       "      <td>0</td>\n",
       "      <td>0</td>\n",
       "      <td>0</td>\n",
       "      <td>0</td>\n",
       "      <td>0</td>\n",
       "      <td>0</td>\n",
       "      <td>0</td>\n",
       "      <td>0</td>\n",
       "      <td>0</td>\n",
       "      <td>0</td>\n",
       "      <td>0</td>\n",
       "      <td>1</td>\n",
       "      <td>0</td>\n",
       "    </tr>\n",
       "    <tr>\n",
       "      <th>YH-13</th>\n",
       "      <td>0</td>\n",
       "      <td>0</td>\n",
       "      <td>0</td>\n",
       "      <td>0</td>\n",
       "      <td>0</td>\n",
       "      <td>0</td>\n",
       "      <td>0</td>\n",
       "      <td>1</td>\n",
       "      <td>0</td>\n",
       "      <td>0</td>\n",
       "      <td>0</td>\n",
       "      <td>0</td>\n",
       "      <td>0</td>\n",
       "      <td>0</td>\n",
       "      <td>0</td>\n",
       "      <td>0</td>\n",
       "    </tr>\n",
       "    <tr>\n",
       "      <th>YKG-1</th>\n",
       "      <td>0</td>\n",
       "      <td>0</td>\n",
       "      <td>0</td>\n",
       "      <td>0</td>\n",
       "      <td>0</td>\n",
       "      <td>0</td>\n",
       "      <td>0</td>\n",
       "      <td>1</td>\n",
       "      <td>0</td>\n",
       "      <td>0</td>\n",
       "      <td>0</td>\n",
       "      <td>0</td>\n",
       "      <td>0</td>\n",
       "      <td>0</td>\n",
       "      <td>0</td>\n",
       "      <td>0</td>\n",
       "    </tr>\n",
       "    <tr>\n",
       "      <th>ZR-75-30</th>\n",
       "      <td>0</td>\n",
       "      <td>0</td>\n",
       "      <td>1</td>\n",
       "      <td>0</td>\n",
       "      <td>0</td>\n",
       "      <td>0</td>\n",
       "      <td>0</td>\n",
       "      <td>0</td>\n",
       "      <td>0</td>\n",
       "      <td>0</td>\n",
       "      <td>0</td>\n",
       "      <td>0</td>\n",
       "      <td>0</td>\n",
       "      <td>0</td>\n",
       "      <td>0</td>\n",
       "      <td>0</td>\n",
       "    </tr>\n",
       "  </tbody>\n",
       "</table>\n",
       "<p>588 rows × 16 columns</p>\n",
       "</div>"
      ],
      "text/plain": [
       "           Cancer_type_Acute Myeloid Leukemia  \\\n",
       "Cell_line                                       \n",
       "201T                                        0   \n",
       "23132-87                                    0   \n",
       "42-MG-BA                                    0   \n",
       "769-P                                       0   \n",
       "786-0                                       0   \n",
       "...                                       ...   \n",
       "WSU-NHL                                     0   \n",
       "YAPC                                        0   \n",
       "YH-13                                       0   \n",
       "YKG-1                                       0   \n",
       "ZR-75-30                                    0   \n",
       "\n",
       "           Cancer_type_B-Cell Non-Hodgkin's Lymphoma  \\\n",
       "Cell_line                                              \n",
       "201T                                               0   \n",
       "23132-87                                           0   \n",
       "42-MG-BA                                           0   \n",
       "769-P                                              0   \n",
       "786-0                                              0   \n",
       "...                                              ...   \n",
       "WSU-NHL                                            1   \n",
       "YAPC                                               0   \n",
       "YH-13                                              0   \n",
       "YKG-1                                              0   \n",
       "ZR-75-30                                           0   \n",
       "\n",
       "           Cancer_type_Breast Carcinoma  Cancer_type_Colorectal Carcinoma  \\\n",
       "Cell_line                                                                   \n",
       "201T                                  0                                 0   \n",
       "23132-87                              0                                 0   \n",
       "42-MG-BA                              0                                 0   \n",
       "769-P                                 0                                 0   \n",
       "786-0                                 0                                 0   \n",
       "...                                 ...                               ...   \n",
       "WSU-NHL                               0                                 0   \n",
       "YAPC                                  0                                 0   \n",
       "YH-13                                 0                                 0   \n",
       "YKG-1                                 0                                 0   \n",
       "ZR-75-30                              1                                 0   \n",
       "\n",
       "           Cancer_type_Esophageal Carcinoma  Cancer_type_Ewing's Sarcoma  \\\n",
       "Cell_line                                                                  \n",
       "201T                                      0                            0   \n",
       "23132-87                                  0                            0   \n",
       "42-MG-BA                                  0                            0   \n",
       "769-P                                     0                            0   \n",
       "786-0                                     0                            0   \n",
       "...                                     ...                          ...   \n",
       "WSU-NHL                                   0                            0   \n",
       "YAPC                                      0                            0   \n",
       "YH-13                                     0                            0   \n",
       "YKG-1                                     0                            0   \n",
       "ZR-75-30                                  0                            0   \n",
       "\n",
       "           Cancer_type_Gastric Carcinoma  Cancer_type_Glioblastoma  \\\n",
       "Cell_line                                                            \n",
       "201T                                   0                         0   \n",
       "23132-87                               1                         0   \n",
       "42-MG-BA                               0                         1   \n",
       "769-P                                  0                         0   \n",
       "786-0                                  0                         0   \n",
       "...                                  ...                       ...   \n",
       "WSU-NHL                                0                         0   \n",
       "YAPC                                   0                         0   \n",
       "YH-13                                  0                         1   \n",
       "YKG-1                                  0                         1   \n",
       "ZR-75-30                               0                         0   \n",
       "\n",
       "           Cancer_type_Head and Neck Carcinoma  Cancer_type_Kidney Carcinoma  \\\n",
       "Cell_line                                                                      \n",
       "201T                                         0                             0   \n",
       "23132-87                                     0                             0   \n",
       "42-MG-BA                                     0                             0   \n",
       "769-P                                        0                             1   \n",
       "786-0                                        0                             1   \n",
       "...                                        ...                           ...   \n",
       "WSU-NHL                                      0                             0   \n",
       "YAPC                                         0                             0   \n",
       "YH-13                                        0                             0   \n",
       "YKG-1                                        0                             0   \n",
       "ZR-75-30                                     0                             0   \n",
       "\n",
       "           Cancer_type_Melanoma  Cancer_type_Neuroblastoma  \\\n",
       "Cell_line                                                    \n",
       "201T                          0                          0   \n",
       "23132-87                      0                          0   \n",
       "42-MG-BA                      0                          0   \n",
       "769-P                         0                          0   \n",
       "786-0                         0                          0   \n",
       "...                         ...                        ...   \n",
       "WSU-NHL                       0                          0   \n",
       "YAPC                          0                          0   \n",
       "YH-13                         0                          0   \n",
       "YKG-1                         0                          0   \n",
       "ZR-75-30                      0                          0   \n",
       "\n",
       "           Cancer_type_Non-Small Cell Lung Carcinoma  \\\n",
       "Cell_line                                              \n",
       "201T                                               1   \n",
       "23132-87                                           0   \n",
       "42-MG-BA                                           0   \n",
       "769-P                                              0   \n",
       "786-0                                              0   \n",
       "...                                              ...   \n",
       "WSU-NHL                                            0   \n",
       "YAPC                                               0   \n",
       "YH-13                                              0   \n",
       "YKG-1                                              0   \n",
       "ZR-75-30                                           0   \n",
       "\n",
       "           Cancer_type_Ovarian Carcinoma  Cancer_type_Pancreatic Carcinoma  \\\n",
       "Cell_line                                                                    \n",
       "201T                                   0                                 0   \n",
       "23132-87                               0                                 0   \n",
       "42-MG-BA                               0                                 0   \n",
       "769-P                                  0                                 0   \n",
       "786-0                                  0                                 0   \n",
       "...                                  ...                               ...   \n",
       "WSU-NHL                                0                                 0   \n",
       "YAPC                                   0                                 1   \n",
       "YH-13                                  0                                 0   \n",
       "YKG-1                                  0                                 0   \n",
       "ZR-75-30                               0                                 0   \n",
       "\n",
       "           Cancer_type_Small Cell Lung Carcinoma  \n",
       "Cell_line                                         \n",
       "201T                                           0  \n",
       "23132-87                                       0  \n",
       "42-MG-BA                                       0  \n",
       "769-P                                          0  \n",
       "786-0                                          0  \n",
       "...                                          ...  \n",
       "WSU-NHL                                        0  \n",
       "YAPC                                           0  \n",
       "YH-13                                          0  \n",
       "YKG-1                                          0  \n",
       "ZR-75-30                                       0  \n",
       "\n",
       "[588 rows x 16 columns]"
      ]
     },
     "execution_count": 57,
     "metadata": {},
     "output_type": "execute_result"
    }
   ],
   "source": [
    "pd.get_dummies(meta_sanger_major[['Cancer_type']])"
   ]
  },
  {
   "cell_type": "code",
   "execution_count": 62,
   "metadata": {
    "ExecuteTime": {
     "end_time": "2021-05-19T04:56:20.777747Z",
     "start_time": "2021-05-19T04:56:20.771818Z"
    }
   },
   "outputs": [],
   "source": [
    "sanger_train_intersection_noprot, sanger_test_intersection_noprot = train_test_split(\n",
    "    meta_sanger_major,\n",
    "    stratify=meta_sanger_major['Cancer_type'],\n",
    "    test_size=0.2,\n",
    "    random_state=42,\n",
    "    shuffle=True)"
   ]
  },
  {
   "cell_type": "code",
   "execution_count": 68,
   "metadata": {
    "ExecuteTime": {
     "end_time": "2021-05-19T05:03:04.223901Z",
     "start_time": "2021-05-19T05:03:04.220273Z"
    }
   },
   "outputs": [],
   "source": [
    "with open(\"../data/meta/sanger_cancer_type_intersection_noprot_train.txt\", \"w\") as outfile:\n",
    "    outfile.write(\"\\n\".join(sanger_train_intersection_noprot.index.values))\n",
    "with open(\"../data/meta/sanger_cancer_type_intersection_noprot_test.txt\", \"w\") as outfile:\n",
    "    outfile.write(\"\\n\".join(sanger_test_intersection_noprot.index.values))"
   ]
  },
  {
   "cell_type": "code",
   "execution_count": 69,
   "metadata": {
    "ExecuteTime": {
     "end_time": "2021-05-19T05:04:32.542471Z",
     "start_time": "2021-05-19T05:04:32.534359Z"
    }
   },
   "outputs": [],
   "source": [
    "pd.get_dummies(meta_sanger_major[['Cancer_type']]).to_csv(\n",
    "    \"../data/processed/cancer_type/sanger_cancer_type_intersection_noprot_wide.csv\"\n",
    ")"
   ]
  },
  {
   "cell_type": "code",
   "execution_count": 71,
   "metadata": {
    "ExecuteTime": {
     "end_time": "2021-05-19T06:08:18.478776Z",
     "start_time": "2021-05-19T06:08:18.473872Z"
    }
   },
   "outputs": [],
   "source": [
    "meta_sanger_major[['Cancer_type']].to_csv(\n",
    "    \"../data/processed/cancer_type/sanger_cancer_type_intersection_noprot_long.csv\"\n",
    ")"
   ]
  },
  {
   "cell_type": "code",
   "execution_count": 14,
   "metadata": {
    "ExecuteTime": {
     "end_time": "2021-06-18T05:29:32.773905Z",
     "start_time": "2021-06-18T05:29:32.768786Z"
    }
   },
   "outputs": [],
   "source": [
    "meta_sanger_major = pd.read_csv(\"../data/processed/cancer_type/sanger_cancer_type_intersection_noprot_long.csv\")"
   ]
  },
  {
   "cell_type": "code",
   "execution_count": 15,
   "metadata": {
    "ExecuteTime": {
     "end_time": "2021-06-18T05:30:07.402397Z",
     "start_time": "2021-06-18T05:30:07.393178Z"
    }
   },
   "outputs": [
    {
     "data": {
      "text/html": [
       "<div>\n",
       "<style scoped>\n",
       "    .dataframe tbody tr th:only-of-type {\n",
       "        vertical-align: middle;\n",
       "    }\n",
       "\n",
       "    .dataframe tbody tr th {\n",
       "        vertical-align: top;\n",
       "    }\n",
       "\n",
       "    .dataframe thead th {\n",
       "        text-align: right;\n",
       "    }\n",
       "</style>\n",
       "<table border=\"1\" class=\"dataframe\">\n",
       "  <thead>\n",
       "    <tr style=\"text-align: right;\">\n",
       "      <th></th>\n",
       "      <th>Cell_line</th>\n",
       "      <th>Cancer_type</th>\n",
       "    </tr>\n",
       "  </thead>\n",
       "  <tbody>\n",
       "    <tr>\n",
       "      <th>0</th>\n",
       "      <td>201T</td>\n",
       "      <td>Non-Small Cell Lung Carcinoma</td>\n",
       "    </tr>\n",
       "    <tr>\n",
       "      <th>1</th>\n",
       "      <td>23132-87</td>\n",
       "      <td>Gastric Carcinoma</td>\n",
       "    </tr>\n",
       "    <tr>\n",
       "      <th>2</th>\n",
       "      <td>42-MG-BA</td>\n",
       "      <td>Glioblastoma</td>\n",
       "    </tr>\n",
       "    <tr>\n",
       "      <th>3</th>\n",
       "      <td>769-P</td>\n",
       "      <td>Kidney Carcinoma</td>\n",
       "    </tr>\n",
       "    <tr>\n",
       "      <th>4</th>\n",
       "      <td>786-0</td>\n",
       "      <td>Kidney Carcinoma</td>\n",
       "    </tr>\n",
       "    <tr>\n",
       "      <th>...</th>\n",
       "      <td>...</td>\n",
       "      <td>...</td>\n",
       "    </tr>\n",
       "    <tr>\n",
       "      <th>583</th>\n",
       "      <td>WSU-NHL</td>\n",
       "      <td>B-Cell Non-Hodgkin's Lymphoma</td>\n",
       "    </tr>\n",
       "    <tr>\n",
       "      <th>584</th>\n",
       "      <td>YAPC</td>\n",
       "      <td>Pancreatic Carcinoma</td>\n",
       "    </tr>\n",
       "    <tr>\n",
       "      <th>585</th>\n",
       "      <td>YH-13</td>\n",
       "      <td>Glioblastoma</td>\n",
       "    </tr>\n",
       "    <tr>\n",
       "      <th>586</th>\n",
       "      <td>YKG-1</td>\n",
       "      <td>Glioblastoma</td>\n",
       "    </tr>\n",
       "    <tr>\n",
       "      <th>587</th>\n",
       "      <td>ZR-75-30</td>\n",
       "      <td>Breast Carcinoma</td>\n",
       "    </tr>\n",
       "  </tbody>\n",
       "</table>\n",
       "<p>588 rows × 2 columns</p>\n",
       "</div>"
      ],
      "text/plain": [
       "    Cell_line                    Cancer_type\n",
       "0        201T  Non-Small Cell Lung Carcinoma\n",
       "1    23132-87              Gastric Carcinoma\n",
       "2    42-MG-BA                   Glioblastoma\n",
       "3       769-P               Kidney Carcinoma\n",
       "4       786-0               Kidney Carcinoma\n",
       "..        ...                            ...\n",
       "583   WSU-NHL  B-Cell Non-Hodgkin's Lymphoma\n",
       "584      YAPC           Pancreatic Carcinoma\n",
       "585     YH-13                   Glioblastoma\n",
       "586     YKG-1                   Glioblastoma\n",
       "587  ZR-75-30               Breast Carcinoma\n",
       "\n",
       "[588 rows x 2 columns]"
      ]
     },
     "execution_count": 15,
     "metadata": {},
     "output_type": "execute_result"
    }
   ],
   "source": [
    "meta_sanger_major"
   ]
  },
  {
   "cell_type": "markdown",
   "metadata": {},
   "source": [
    "# TCGA cancer types"
   ]
  },
  {
   "cell_type": "code",
   "execution_count": 67,
   "metadata": {
    "ExecuteTime": {
     "end_time": "2021-08-19T01:42:50.231585Z",
     "start_time": "2021-08-19T01:42:50.229025Z"
    }
   },
   "outputs": [],
   "source": [
    "platform_map = {\n",
    "    'somaticMutation': 'mutation',\n",
    "    'copyNumber': 'cnv',\n",
    "    'methylation': 'methy',\n",
    "    'geneExp': 'rna',\n",
    "    'miRNAExp': 'mirna'\n",
    "}"
   ]
  },
  {
   "cell_type": "code",
   "execution_count": 70,
   "metadata": {
    "ExecuteTime": {
     "end_time": "2021-08-19T01:44:07.861860Z",
     "start_time": "2021-08-19T01:44:07.858342Z"
    }
   },
   "outputs": [],
   "source": [
    "def process_format_tcga(df):\n",
    "    df = df.drop(['Description'],axis=1)\n",
    "\n",
    "    df['Platform'] = df['Platform'].map(platform_map)\n",
    "\n",
    "    df['feature'] = df.apply(lambda row:f\"{row['GeneSymbol']}_{row['Platform']}\", axis=1)\n",
    "\n",
    "    df = df.drop(['GeneSymbol','Platform'],axis=1)\n",
    "\n",
    "    df = df.set_index('feature').T\n",
    "    df.index.name = 'Cell_line'\n",
    "    return df"
   ]
  },
  {
   "cell_type": "code",
   "execution_count": 16,
   "metadata": {
    "ExecuteTime": {
     "end_time": "2021-08-18T15:48:04.433610Z",
     "start_time": "2021-08-18T15:48:04.430563Z"
    }
   },
   "outputs": [],
   "source": [
    "cancer_types = [\n",
    "    'ACC', 'BLCA', 'BRCA', 'COAD', 'ESCA', 'GBM', 'HNSC', 'KICH', 'KIRC',\n",
    "    'KIRP', 'LAML', 'LGG', 'LIHC', 'LUAD', 'LUSC', 'OV', 'PCPG', 'PRAD',\n",
    "    'READ', 'SKCM', 'STAD', 'THCA', 'UCS'\n",
    "]"
   ]
  },
  {
   "cell_type": "code",
   "execution_count": 17,
   "metadata": {
    "ExecuteTime": {
     "end_time": "2021-08-18T15:49:23.144987Z",
     "start_time": "2021-08-18T15:48:06.645880Z"
    }
   },
   "outputs": [],
   "source": [
    "all_df_dict = {}\n",
    "all_cols = []\n",
    "\n",
    "for ct in cancer_types:\n",
    "    tmp_df = pd.read_csv(f\"../data/tcga/{ct}__Intersect__CombinedMultiPlatformData.txt.gz\", sep='\\t')\n",
    "    tmp_df = process_format_tcga(tmp_df)\n",
    "    all_cols.append(set(tmp_df.columns))\n",
    "    all_df_dict[ct] = tmp_df\n"
   ]
  },
  {
   "cell_type": "code",
   "execution_count": 233,
   "metadata": {
    "ExecuteTime": {
     "end_time": "2021-07-21T06:29:33.742371Z",
     "start_time": "2021-07-21T05:50:58.100912Z"
    }
   },
   "outputs": [],
   "source": [
    "common_cols = list(set.intersection(*all_cols))\n",
    "union_cols = list(set.union(*all_cols))\n",
    "for ct in cancer_types:\n",
    "    all_df_dict[ct] = all_df_dict[ct].reset_index().drop_duplicates(\n",
    "        subset='Cell_line').set_index('Cell_line')\n",
    "    all_df_dict[ct] = all_df_dict[ct].loc[:, ~all_df_dict[ct].columns.duplicated()]\n",
    "    missing_col = list(set(union_cols) - set(all_df_dict[ct].columns))\n",
    "    all_df_dict[ct][missing_col] = 0\n",
    "#     all_df_dict[ct] = all_df_dict[ct][common_cols]\n",
    "\n",
    "# samples = []\n",
    "# for ct in cancer_types:\n",
    "#     samples.extend(all_df_dict[ct].index.values)\n",
    "\n",
    "# count_df = []\n",
    "# for s in set(samples):\n",
    "#     count_df.append({'sample': s, 'count': samples.count(s)})\n",
    "# count_df = pd.DataFrame(count_df)\n",
    "# unique_samples = count_df.query('count < 2')['sample'].values\n",
    "# for ct in cancer_types:\n",
    "#     all_df_dict[ct] = all_df_dict[ct][all_df_dict[ct].index.isin(unique_samples)]"
   ]
  },
  {
   "cell_type": "code",
   "execution_count": 234,
   "metadata": {
    "ExecuteTime": {
     "end_time": "2021-07-21T07:15:53.625248Z",
     "start_time": "2021-07-21T07:12:38.921263Z"
    }
   },
   "outputs": [],
   "source": [
    "all_omics_df = pd.concat(list(all_df_dict.values()))"
   ]
  },
  {
   "cell_type": "code",
   "execution_count": 236,
   "metadata": {
    "ExecuteTime": {
     "end_time": "2021-07-21T07:28:56.082886Z",
     "start_time": "2021-07-21T07:28:46.944305Z"
    }
   },
   "outputs": [],
   "source": [
    "all_omics_df = all_omics_df[[\n",
    "    x for x in all_omics_df.columns\n",
    "    if x.split('_')[1] in ['mutation', 'cnv', 'rna']\n",
    "]]"
   ]
  },
  {
   "cell_type": "code",
   "execution_count": 237,
   "metadata": {
    "ExecuteTime": {
     "end_time": "2021-07-21T07:29:06.891971Z",
     "start_time": "2021-07-21T07:29:03.241533Z"
    }
   },
   "outputs": [],
   "source": [
    "all_omics_df = all_omics_df.loc[:, ~all_omics_df.columns.duplicated()]"
   ]
  },
  {
   "cell_type": "code",
   "execution_count": 161,
   "metadata": {
    "ExecuteTime": {
     "end_time": "2021-07-02T05:54:48.951982Z",
     "start_time": "2021-07-02T05:54:48.946951Z"
    }
   },
   "outputs": [],
   "source": [
    "all_tcga_label_df = {'Cell_line':[], 'Cancer_type':[]}\n",
    "for ct in cancer_types:\n",
    "    all_tcga_label_df['Cell_line'].extend(all_df_dict[ct].index.values)\n",
    "    all_tcga_label_df['Cancer_type'].extend([ct]*all_df_dict[ct].shape[0])\n",
    "all_tcga_label_df = pd.DataFrame(all_tcga_label_df)"
   ]
  },
  {
   "cell_type": "code",
   "execution_count": 163,
   "metadata": {
    "ExecuteTime": {
     "end_time": "2021-07-02T05:55:07.117936Z",
     "start_time": "2021-07-02T05:55:07.106219Z"
    }
   },
   "outputs": [],
   "source": [
    "all_tcga_label_df.to_csv(\n",
    "    \"../data/processed/cancer_type/tcga_23_cancer_types_mutation_cnv_rna.csv\",\n",
    "    index=False)"
   ]
  },
  {
   "cell_type": "code",
   "execution_count": 4,
   "metadata": {
    "ExecuteTime": {
     "end_time": "2021-07-05T04:02:47.442429Z",
     "start_time": "2021-07-05T04:02:47.430381Z"
    }
   },
   "outputs": [],
   "source": [
    "all_tcga_label_df = pd.read_csv(\"../data/processed/cancer_type/tcga_23_cancer_types_mutation_cnv_rna.csv\")"
   ]
  },
  {
   "cell_type": "code",
   "execution_count": 9,
   "metadata": {
    "ExecuteTime": {
     "end_time": "2021-07-05T04:03:20.678886Z",
     "start_time": "2021-07-05T04:03:20.672939Z"
    }
   },
   "outputs": [
    {
     "data": {
      "text/plain": [
       "Cancer_type\n",
       "BRCA    974\n",
       "HNSC    498\n",
       "PRAD    492\n",
       "LUSC    485\n",
       "SKCM    470\n",
       "THCA    401\n",
       "BLCA    398\n",
       "KIRC    379\n",
       "LGG     286\n",
       "COAD    279\n",
       "LUAD    230\n",
       "LIHC    194\n",
       "ESCA    183\n",
       "PCPG    180\n",
       "KIRP    168\n",
       "LAML    167\n",
       "GBM     159\n",
       "READ     91\n",
       "STAD     85\n",
       "ACC      76\n",
       "KICH     66\n",
       "UCS      56\n",
       "OV       39\n",
       "dtype: int64"
      ]
     },
     "execution_count": 9,
     "metadata": {},
     "output_type": "execute_result"
    }
   ],
   "source": [
    "all_tcga_label_df.groupby('Cancer_type').size().sort_values(ascending=False)"
   ]
  },
  {
   "cell_type": "code",
   "execution_count": 11,
   "metadata": {
    "ExecuteTime": {
     "end_time": "2021-07-05T04:12:46.622975Z",
     "start_time": "2021-07-05T04:12:46.617787Z"
    }
   },
   "outputs": [
    {
     "data": {
      "text/plain": [
       "(23,)"
      ]
     },
     "execution_count": 11,
     "metadata": {},
     "output_type": "execute_result"
    }
   ],
   "source": [
    "all_tcga_label_df.groupby('Cancer_type').size().sort_values(ascending=False).shape"
   ]
  },
  {
   "cell_type": "code",
   "execution_count": 239,
   "metadata": {
    "ExecuteTime": {
     "end_time": "2021-07-21T07:31:25.404223Z",
     "start_time": "2021-07-21T07:29:36.885303Z"
    },
    "code_folding": []
   },
   "outputs": [],
   "source": [
    "all_tcga_processed_df_normalized = all_omics_df[[\n",
    "    x for x in all_omics_df.columns if 'rna' in x\n",
    "]]\n",
    "\n",
    "all_tcga_processed_df_normalized = all_tcga_processed_df_normalized.applymap(lambda x:np.log2(x+1))"
   ]
  },
  {
   "cell_type": "code",
   "execution_count": 240,
   "metadata": {
    "ExecuteTime": {
     "end_time": "2021-07-21T07:46:08.476668Z",
     "start_time": "2021-07-21T07:45:59.843396Z"
    }
   },
   "outputs": [],
   "source": [
    "all_tcga_processed_df_normalized = pd.concat([\n",
    "    all_omics_df[[x for x in all_omics_df.columns if 'rna' not in x]],\n",
    "    all_tcga_processed_df_normalized\n",
    "],\n",
    "                                             axis=1)"
   ]
  },
  {
   "cell_type": "code",
   "execution_count": 242,
   "metadata": {
    "ExecuteTime": {
     "end_time": "2021-07-21T08:15:47.674112Z",
     "start_time": "2021-07-21T07:46:24.845075Z"
    }
   },
   "outputs": [],
   "source": [
    "all_tcga_processed_df_normalized.to_csv(\n",
    "    \"../data/processed/omics/tcga_23_cancer_types_mutation_cnv_rna_union.csv.gz\"\n",
    ")"
   ]
  },
  {
   "cell_type": "code",
   "execution_count": 48,
   "metadata": {
    "ExecuteTime": {
     "end_time": "2021-07-08T14:40:21.901551Z",
     "start_time": "2021-07-08T14:35:13.432674Z"
    }
   },
   "outputs": [],
   "source": [
    "all_tcga_processed_df_normalized = pd.read_csv(\n",
    "    \"../data/processed/omics/tcga_23_cancer_types_mutation_cnv_rna.csv.gz\"\n",
    ")"
   ]
  },
  {
   "cell_type": "markdown",
   "metadata": {},
   "source": [
    "# TCGA subtypes"
   ]
  },
  {
   "cell_type": "code",
   "execution_count": 12,
   "metadata": {
    "ExecuteTime": {
     "end_time": "2021-07-05T04:44:57.773800Z",
     "start_time": "2021-07-05T04:44:57.754541Z"
    }
   },
   "outputs": [],
   "source": [
    "tcga_subtypes = pd.read_csv(\"../data/meta/TCGA_subtypes.csv\")"
   ]
  },
  {
   "cell_type": "code",
   "execution_count": 13,
   "metadata": {
    "ExecuteTime": {
     "end_time": "2021-07-05T04:44:58.559068Z",
     "start_time": "2021-07-05T04:44:58.521541Z"
    }
   },
   "outputs": [
    {
     "data": {
      "application/vnd.jupyter.widget-view+json": {
       "model_id": "a613010b9c0b455bba061c38335c1afa",
       "version_major": 2,
       "version_minor": 0
      },
      "text/plain": [
       "QgridWidget(grid_options={'fullWidthRows': True, 'syncColumnCellResize': True, 'forceFitColumns': True, 'defau…"
      ]
     },
     "metadata": {},
     "output_type": "display_data"
    }
   ],
   "source": [
    "show_grid(tcga_subtypes)"
   ]
  },
  {
   "cell_type": "markdown",
   "metadata": {},
   "source": [
    "## BRCA"
   ]
  },
  {
   "cell_type": "code",
   "execution_count": 38,
   "metadata": {
    "ExecuteTime": {
     "end_time": "2021-06-19T01:15:25.183991Z",
     "start_time": "2021-06-19T01:15:25.178441Z"
    }
   },
   "outputs": [],
   "source": [
    "tcga_subtypes_brca = tcga_subtypes[tcga_subtypes['cancer.type'] ==\n",
    "                                   'BRCA'].reset_index(drop=True)\n",
    "tcga_subtypes_brca['pan.samplesID'] = tcga_subtypes_brca['pan.samplesID'].map(\n",
    "    lambda x: \"-\".join(x.split('-')[:4])[:-1])\n",
    "\n",
    "brca_df = pd.read_csv(\"../data/tcga/BRCA__Intersect__CombinedMultiPlatformData.txt.gz\", sep='\\t')\n",
    "\n",
    "brca_processed_df = process_format_tcga(brca_df)\n",
    "\n",
    "brca_processed_df = brca_processed_df[brca_processed_df.index.isin(\n",
    "    tcga_subtypes_brca['pan.samplesID'])]\n",
    "\n",
    "brca_processed_df = brca_processed_df.loc[:,~brca_processed_df.columns.duplicated()]"
   ]
  },
  {
   "cell_type": "code",
   "execution_count": 84,
   "metadata": {
    "ExecuteTime": {
     "end_time": "2021-06-19T06:14:22.792408Z",
     "start_time": "2021-06-19T06:14:22.584212Z"
    }
   },
   "outputs": [
    {
     "data": {
      "text/plain": [
       "0.0"
      ]
     },
     "execution_count": 84,
     "metadata": {},
     "output_type": "execute_result"
    }
   ],
   "source": [
    "brca_processed_df[[\n",
    "    x for x in brca_processed_df.columns if 'rna' in x\n",
    "]].min().min()"
   ]
  },
  {
   "cell_type": "code",
   "execution_count": 92,
   "metadata": {
    "ExecuteTime": {
     "end_time": "2021-06-19T06:19:09.682318Z",
     "start_time": "2021-06-19T06:18:50.149770Z"
    },
    "code_folding": []
   },
   "outputs": [],
   "source": [
    "brca_processed_df_normalized = brca_processed_df[[\n",
    "    x for x in brca_processed_df.columns if 'rna' in x\n",
    "]]\n",
    "\n",
    "brca_processed_df_normalized = brca_processed_df_normalized.applymap(lambda x:np.log2(x+1))\n",
    "# brca_processed_df_normalized = pd.DataFrame(\n",
    "#     RobustScaler().fit_transform(brca_processed_df_normalized),\n",
    "#     index=brca_processed_df_normalized.index,\n",
    "#     columns=brca_processed_df_normalized.columns)"
   ]
  },
  {
   "cell_type": "code",
   "execution_count": 96,
   "metadata": {
    "ExecuteTime": {
     "end_time": "2021-06-19T06:19:44.711910Z",
     "start_time": "2021-06-19T06:19:44.406902Z"
    }
   },
   "outputs": [],
   "source": [
    "brca_processed_df_normalized = pd.concat([\n",
    "    brca_processed_df[[x for x in brca_processed_df.columns if 'rna' not in x\n",
    "                       ]], brca_processed_df_normalized\n",
    "],\n",
    "                                         axis=1)"
   ]
  },
  {
   "cell_type": "code",
   "execution_count": 74,
   "metadata": {
    "ExecuteTime": {
     "end_time": "2021-06-19T05:50:34.221725Z",
     "start_time": "2021-06-19T05:43:27.543410Z"
    }
   },
   "outputs": [],
   "source": [
    "brca_processed_df.to_csv(\"../data/processed/omics/tcga_brca_mutation_cnv_rna.csv.gz\")"
   ]
  },
  {
   "cell_type": "code",
   "execution_count": 98,
   "metadata": {
    "ExecuteTime": {
     "end_time": "2021-06-19T06:24:00.837872Z",
     "start_time": "2021-06-19T06:20:35.081940Z"
    }
   },
   "outputs": [],
   "source": [
    "brca_processed_df_normalized.to_csv(\"../data/processed/omics/tcga_brca_mutation_cnv_rna_log2.csv.gz\")"
   ]
  },
  {
   "cell_type": "code",
   "execution_count": 43,
   "metadata": {
    "ExecuteTime": {
     "end_time": "2021-06-19T01:15:55.289496Z",
     "start_time": "2021-06-19T01:15:55.286283Z"
    }
   },
   "outputs": [],
   "source": [
    "tcga_subtypes_brca = tcga_subtypes_brca[\n",
    "    tcga_subtypes_brca['pan.samplesID'].isin(brca_processed_df.index.values)]"
   ]
  },
  {
   "cell_type": "code",
   "execution_count": 45,
   "metadata": {
    "ExecuteTime": {
     "end_time": "2021-06-19T01:22:09.177403Z",
     "start_time": "2021-06-19T01:22:09.174190Z"
    }
   },
   "outputs": [],
   "source": [
    "tcga_subtypes_brca = tcga_subtypes_brca[['pan.samplesID','Subtype_Selected']]\n",
    "\n",
    "tcga_subtypes_brca.columns = ['Cell_line', 'Cancer_type']\n",
    "\n",
    "tcga_subtypes_brca.to_csv(\n",
    "    \"../data/processed/cancer_type/tcga_brca_mutation_cnv_rna_subtypes.csv\",\n",
    "    index=False)"
   ]
  },
  {
   "cell_type": "markdown",
   "metadata": {
    "ExecuteTime": {
     "end_time": "2021-08-18T15:43:09.179587Z",
     "start_time": "2021-08-18T15:43:09.177271Z"
    }
   },
   "source": [
    "## BRCA MOGENET"
   ]
  },
  {
   "cell_type": "code",
   "execution_count": 22,
   "metadata": {
    "ExecuteTime": {
     "end_time": "2021-08-19T01:09:17.278250Z",
     "start_time": "2021-08-19T01:09:17.256373Z"
    }
   },
   "outputs": [],
   "source": [
    "tcga_subtypes = pd.read_csv(\"../data/meta/TCGA_subtypes.csv\")"
   ]
  },
  {
   "cell_type": "code",
   "execution_count": 71,
   "metadata": {
    "ExecuteTime": {
     "end_time": "2021-08-19T01:44:18.046546Z",
     "start_time": "2021-08-19T01:44:12.592947Z"
    }
   },
   "outputs": [],
   "source": [
    "tcga_subtypes_brca = tcga_subtypes[tcga_subtypes['cancer.type'] ==\n",
    "                                   'BRCA'].reset_index(drop=True)\n",
    "tcga_subtypes_brca['pan.samplesID'] = tcga_subtypes_brca['pan.samplesID'].map(\n",
    "    lambda x: \"-\".join(x.split('-')[:4])[:-1])\n",
    "\n",
    "brca_df = pd.read_csv(\"../data/tcga/BRCA__Intersect__CombinedMultiPlatformData_MOGONET.txt\", sep='\\t')\n",
    "\n",
    "brca_processed_df = process_format_tcga(brca_df)\n",
    "\n",
    "brca_processed_df = brca_processed_df[brca_processed_df.index.isin(\n",
    "    tcga_subtypes_brca['pan.samplesID'])]\n",
    "\n",
    "brca_processed_df = brca_processed_df.loc[:,~brca_processed_df.columns.duplicated()]"
   ]
  },
  {
   "cell_type": "code",
   "execution_count": 72,
   "metadata": {
    "ExecuteTime": {
     "end_time": "2021-08-19T01:44:32.490260Z",
     "start_time": "2021-08-19T01:44:18.547307Z"
    }
   },
   "outputs": [],
   "source": [
    "brca_processed_df_normalized = brca_processed_df[[\n",
    "    x for x in brca_processed_df.columns if 'rna' in x\n",
    "]]\n",
    "\n",
    "brca_processed_df_normalized = brca_processed_df_normalized.applymap(lambda x:np.log2(x+1))"
   ]
  },
  {
   "cell_type": "code",
   "execution_count": 73,
   "metadata": {
    "ExecuteTime": {
     "end_time": "2021-08-19T01:44:32.620194Z",
     "start_time": "2021-08-19T01:44:32.492478Z"
    }
   },
   "outputs": [],
   "source": [
    "brca_processed_df_normalized = pd.concat([\n",
    "    brca_processed_df[[x for x in brca_processed_df.columns if 'rna' not in x\n",
    "                       ]], brca_processed_df_normalized\n",
    "],\n",
    "                                         axis=1)"
   ]
  },
  {
   "cell_type": "code",
   "execution_count": 74,
   "metadata": {
    "ExecuteTime": {
     "end_time": "2021-08-19T01:46:21.137387Z",
     "start_time": "2021-08-19T01:44:33.589938Z"
    }
   },
   "outputs": [],
   "source": [
    "brca_processed_df_normalized.to_csv(\"../data/processed/omics/tcga_brca_methy_mirna_mrna_log2.csv.gz\")"
   ]
  },
  {
   "cell_type": "code",
   "execution_count": 42,
   "metadata": {
    "ExecuteTime": {
     "end_time": "2021-08-19T01:23:35.589268Z",
     "start_time": "2021-08-19T01:23:35.586104Z"
    }
   },
   "outputs": [],
   "source": [
    "tcga_subtypes_brca = tcga_subtypes_brca[\n",
    "    tcga_subtypes_brca['pan.samplesID'].isin(brca_processed_df.index.values)]"
   ]
  },
  {
   "cell_type": "code",
   "execution_count": 44,
   "metadata": {
    "ExecuteTime": {
     "end_time": "2021-08-19T01:23:52.728840Z",
     "start_time": "2021-08-19T01:23:52.722335Z"
    }
   },
   "outputs": [],
   "source": [
    "tcga_subtypes_brca = tcga_subtypes_brca[['pan.samplesID','Subtype_Selected']]\n",
    "\n",
    "tcga_subtypes_brca.columns = ['Cell_line', 'Cancer_type']\n",
    "\n",
    "tcga_subtypes_brca.to_csv(\n",
    "    \"../data/processed/cancer_type/tcga_brca_methy_mirna_mrna_subtypes.csv\",\n",
    "    index=False)"
   ]
  },
  {
   "cell_type": "code",
   "execution_count": 76,
   "metadata": {
    "ExecuteTime": {
     "end_time": "2021-08-19T01:46:38.079539Z",
     "start_time": "2021-08-19T01:46:38.043421Z"
    }
   },
   "outputs": [],
   "source": [
    "count = {}\n",
    "for x in brca_processed_df_normalized.columns:\n",
    "    if x.split('_')[-1] not in count:\n",
    "        count[x.split('_')[-1]] = 0\n",
    "    count[x.split('_')[-1]] += 1"
   ]
  },
  {
   "cell_type": "code",
   "execution_count": 77,
   "metadata": {
    "ExecuteTime": {
     "end_time": "2021-08-19T01:46:40.387995Z",
     "start_time": "2021-08-19T01:46:40.384342Z"
    }
   },
   "outputs": [
    {
     "data": {
      "text/plain": [
       "{'methy': 20156, 'rna': 20468, 'mirna': 1870}"
      ]
     },
     "execution_count": 77,
     "metadata": {},
     "output_type": "execute_result"
    }
   ],
   "source": [
    "count"
   ]
  },
  {
   "cell_type": "markdown",
   "metadata": {},
   "source": [
    "## LGG MOGONET"
   ]
  },
  {
   "cell_type": "code",
   "execution_count": 78,
   "metadata": {
    "ExecuteTime": {
     "end_time": "2021-08-19T01:47:10.911449Z",
     "start_time": "2021-08-19T01:47:06.531593Z"
    }
   },
   "outputs": [],
   "source": [
    "tcga_subtypes_lgg = tcga_subtypes[tcga_subtypes['cancer.type'] ==\n",
    "                                   'LGG'].reset_index(drop=True)\n",
    "\n",
    "lgg_df = pd.read_csv(\"../data/tcga/LGG__Intersect__CombinedMultiPlatformData_MOGONET.txt\", sep='\\t')\n",
    "\n",
    "lgg_processed_df = process_format_tcga(lgg_df)\n",
    "lgg_processed_df.index = lgg_processed_df.index.map(lambda x:x[:-3])\n",
    "lgg_processed_df = lgg_processed_df[lgg_processed_df.index.isin(\n",
    "    tcga_subtypes_lgg['pan.samplesID'])]\n",
    "\n",
    "lgg_processed_df = lgg_processed_df.loc[:,~lgg_processed_df.columns.duplicated()]"
   ]
  },
  {
   "cell_type": "code",
   "execution_count": 79,
   "metadata": {
    "ExecuteTime": {
     "end_time": "2021-08-19T01:47:10.952518Z",
     "start_time": "2021-08-19T01:47:10.913562Z"
    }
   },
   "outputs": [
    {
     "data": {
      "text/plain": [
       "{'rna': 20468, 'methy': 20156, 'mirna': 1870}"
      ]
     },
     "execution_count": 79,
     "metadata": {},
     "output_type": "execute_result"
    }
   ],
   "source": [
    "count = {}\n",
    "for x in lgg_processed_df.columns:\n",
    "    if x.split('_')[-1] not in count:\n",
    "        count[x.split('_')[-1]] = 0\n",
    "    count[x.split('_')[-1]] += 1\n",
    "count"
   ]
  },
  {
   "cell_type": "code",
   "execution_count": 80,
   "metadata": {
    "ExecuteTime": {
     "end_time": "2021-08-19T01:47:22.365943Z",
     "start_time": "2021-08-19T01:47:10.955015Z"
    }
   },
   "outputs": [],
   "source": [
    "lgg_processed_df_normalized = lgg_processed_df[[\n",
    "    x for x in lgg_processed_df.columns if 'rna' in x\n",
    "]]\n",
    "\n",
    "lgg_processed_df_normalized = lgg_processed_df_normalized.applymap(\n",
    "    lambda x: np.log2(x + 1))"
   ]
  },
  {
   "cell_type": "code",
   "execution_count": 81,
   "metadata": {
    "ExecuteTime": {
     "end_time": "2021-08-19T01:47:22.466595Z",
     "start_time": "2021-08-19T01:47:22.368302Z"
    }
   },
   "outputs": [],
   "source": [
    "lgg_processed_df_normalized = pd.concat([\n",
    "    lgg_processed_df[[x for x in lgg_processed_df.columns if 'rna' not in x]],\n",
    "    lgg_processed_df_normalized\n",
    "],\n",
    "                                        axis=1)"
   ]
  },
  {
   "cell_type": "code",
   "execution_count": 82,
   "metadata": {
    "ExecuteTime": {
     "end_time": "2021-08-19T01:48:44.622115Z",
     "start_time": "2021-08-19T01:47:22.468465Z"
    }
   },
   "outputs": [],
   "source": [
    "lgg_processed_df_normalized.to_csv(\"../data/processed/omics/tcga_lgg_methy_mirna_mrna_log2.csv.gz\")"
   ]
  },
  {
   "cell_type": "code",
   "execution_count": 45,
   "metadata": {
    "ExecuteTime": {
     "end_time": "2021-08-19T01:24:10.264935Z",
     "start_time": "2021-08-19T01:24:10.261732Z"
    }
   },
   "outputs": [],
   "source": [
    "tcga_subtypes_lgg = tcga_subtypes_lgg[\n",
    "    tcga_subtypes_lgg['pan.samplesID'].isin(lgg_processed_df.index.values)]"
   ]
  },
  {
   "cell_type": "code",
   "execution_count": 49,
   "metadata": {
    "ExecuteTime": {
     "end_time": "2021-08-19T01:25:14.580437Z",
     "start_time": "2021-08-19T01:25:14.575355Z"
    }
   },
   "outputs": [],
   "source": [
    "tcga_subtypes_lgg = tcga_subtypes_lgg[['pan.samplesID', 'Subtype_mRNA']]\n",
    "tcga_subtypes_lgg = tcga_subtypes_lgg[tcga_subtypes_lgg['Subtype_mRNA'].isin(\n",
    "    ['LGr2', 'LGr3'])]\n",
    "tcga_subtypes_lgg.columns = ['Cell_line', 'Cancer_type']\n",
    "\n",
    "tcga_subtypes_lgg.to_csv(\n",
    "    \"../data/processed/cancer_type/tcga_lgg_methy_mirna_mrna_subtypes.csv\",\n",
    "    index=False)"
   ]
  },
  {
   "cell_type": "code",
   "execution_count": 51,
   "metadata": {
    "ExecuteTime": {
     "end_time": "2021-08-19T01:28:35.533148Z",
     "start_time": "2021-08-19T01:28:35.528202Z"
    }
   },
   "outputs": [
    {
     "data": {
      "text/plain": [
       "Cancer_type\n",
       "LGr2     86\n",
       "LGr3    228\n",
       "dtype: int64"
      ]
     },
     "execution_count": 51,
     "metadata": {},
     "output_type": "execute_result"
    }
   ],
   "source": [
    "tcga_subtypes_lgg.groupby('Cancer_type').size()"
   ]
  },
  {
   "cell_type": "markdown",
   "metadata": {},
   "source": [
    "# independent test"
   ]
  },
  {
   "cell_type": "markdown",
   "metadata": {},
   "source": [
    "## GDSC"
   ]
  },
  {
   "cell_type": "code",
   "execution_count": 9,
   "metadata": {
    "ExecuteTime": {
     "end_time": "2022-01-03T06:09:33.405156Z",
     "start_time": "2022-01-03T06:07:41.243208Z"
    }
   },
   "outputs": [],
   "source": [
    "sanger_omics_df = pd.read_csv(\n",
    "    \"../data/processed/omics/sanger_df_intersection_noprot_drug.csv.gz\",\n",
    "    index_col=0)\n",
    "gdsc_drug = pd.read_csv(\n",
    "    \"../data/processed/drug/sanger_gdsc_intersection_noprot_wide.csv.gz\",\n",
    "    index_col=0)"
   ]
  },
  {
   "cell_type": "code",
   "execution_count": 23,
   "metadata": {
    "ExecuteTime": {
     "end_time": "2022-01-03T06:27:33.170247Z",
     "start_time": "2022-01-03T06:25:57.069913Z"
    }
   },
   "outputs": [],
   "source": [
    "ccle_omics_df = pd.read_csv(\n",
    "    \"../data/processed/omics/ccle_df_intersection3_drug.csv.gz\", index_col=0)\n",
    "\n",
    "ccle_drug = pd.read_csv(\n",
    "    \"../data/processed/drug/ccle_gdsc_intersection3_wide.csv.gz\", index_col=0)\n",
    "\n",
    "ccle_unique_celllines = list(set(ccle_drug.index) - set(gdsc_drug.index))\n",
    "\n",
    "ccle_drug[ccle_drug.index.isin(ccle_unique_celllines)].to_csv(\"../data/processed/drug/ccle_unique_as_test.csv\")\n",
    "\n",
    "ccle_omics_df[ccle_omics_df.index.isin(ccle_unique_celllines)].to_csv(\n",
    "    \"../data/processed/omics/ccle_unique_as_test.csv\")"
   ]
  },
  {
   "cell_type": "code",
   "execution_count": 35,
   "metadata": {
    "ExecuteTime": {
     "end_time": "2022-01-03T08:04:39.186984Z",
     "start_time": "2022-01-03T08:04:39.181252Z"
    }
   },
   "outputs": [
    {
     "data": {
      "text/plain": [
       "array(['201T', '22RV1', '23132-87', '42-MG-BA', '5637', '639-V', '647-V',\n",
       "       '697', '769-P', '786-0', '8-MG-BA', '8305C', '8505C', 'A172',\n",
       "       'A204', 'A2058', 'A253', 'A2780', 'A3-KAW', 'A375', 'A388', 'A427',\n",
       "       'A431', 'A498', 'A549', 'A673', 'A704', 'ABC-1', 'ACHN', 'AGS',\n",
       "       'ALL-PO', 'ALL-SIL', 'AM-38', 'AMO-1', 'AN3-CA', 'ARH-77', 'ASH-3',\n",
       "       'ATN-1', 'AU565', 'BALL-1', 'BB30-HNC', 'BB65-RCC', 'BC-1', 'BC-3',\n",
       "       'BE-13', 'BE2-M17', 'BEN', 'BFTC-905', 'BFTC-909', 'BHT-101',\n",
       "       'BHY', 'BICR22', 'BICR31', 'BICR78', 'BL-41', 'BONNA-12', 'BPH-1',\n",
       "       'BT-20', 'BT-474', 'BT-483', 'BT-549', 'BV-173', 'C-33-A', 'C-4-I',\n",
       "       'C2BBe1', 'C32', 'C3A', 'CA46', 'CADO-ES1', 'CAKI-1', 'CAL-120',\n",
       "       'CAL-12T', 'CAL-148', 'CAL-27', 'CAL-29', 'CAL-33', 'CAL-39',\n",
       "       'CAL-51', 'CAL-54', 'CAL-62', 'CAL-72', 'CAL-78', 'CAL-85-1',\n",
       "       'CAMA-1', 'CAPAN-1', 'CAPAN-2', 'CAS-1', 'CCF-STTG1', 'CCK-81',\n",
       "       'CCRF-CEM', 'CESS', 'CFPAC-1', 'CGTH-W-1', 'CHL-1', 'CHP-126',\n",
       "       'CHP-212', 'CHSA8926', 'CL-11', 'CL-40', 'CML-T1', 'COLO-205',\n",
       "       'COLO-320-HSR', 'COLO-668', 'COLO-678', 'COLO-679', 'COLO-680N',\n",
       "       'COLO-684', 'COLO-792', 'COLO-800', 'COLO-824', 'COLO-829',\n",
       "       'COR-L105', 'COR-L23', 'COR-L279', 'COR-L303', 'COR-L311',\n",
       "       'COR-L32', 'COR-L321', 'COR-L88', 'COR-L95', 'CP50-MEL-B',\n",
       "       'CP66-MEL', 'CPC-N', 'CRO-AP2', 'CS1', 'CTB-1', 'CTV-1', 'CW-2',\n",
       "       'CaR-1', 'D-247MG', 'D-263MG', 'D-283MED', 'D-336MG', 'D-392MG',\n",
       "       'D-423MG', 'D-502MG', 'D-542MG', 'D-566MG', 'DAN-G', 'DB',\n",
       "       'DBTRG-05MG', 'DEL', 'DG-75', 'DJM-1', 'DK-MG', 'DMS-114',\n",
       "       'DMS-273', 'DMS-53', 'DND-41', 'DOHH-2', 'DOK', 'DOV13', 'DSH1',\n",
       "       'DU-145', 'DU-4475', 'EB-3', 'EB2', 'EBC-1', 'EC-GI-10', 'ECC10',\n",
       "       'ECC12', 'EFM-19', 'EFM-192A', 'EFO-21', 'EFO-27', 'EGI-1', 'EJM',\n",
       "       'EKVX', 'EM-2', 'EMC-BAC-1', 'EMC-BAC-2', 'EN', 'EPLC-272H',\n",
       "       'ES-2', 'ES1', 'ES3', 'ES4', 'ES5', 'ES6', 'ES7', 'ES8', 'ESO26',\n",
       "       'ESO51', 'ESS-1', 'ETK-1', 'EVSA-T', 'EW-11', 'EW-12', 'EW-13',\n",
       "       'EW-16', 'EW-18', 'EW-22', 'EW-24', 'EW-3', 'EW-7', 'FADU',\n",
       "       'FLO-1', 'FTC-133', 'FU-OV-1', 'FU97', 'G-361', 'G-401', 'G-402',\n",
       "       'G-MEL', 'GA-10', 'GAK', 'GAMG', 'GB-1', 'GCIY', 'GCT', 'GDM-1',\n",
       "       'GI-1', 'GI-ME-N', 'GMS-10', 'GOTO', 'GP5d', 'GR-ST', 'GRANTA-519',\n",
       "       'H-EMC-SS', 'H4', 'H9', 'HA7-RCC', 'HAL-01', 'HARA', 'HC-1',\n",
       "       'HCC-15', 'HCC-33', 'HCC-366', 'HCC-44', 'HCC-78', 'HCC-827',\n",
       "       'HCC1143', 'HCC1187', 'HCC1395', 'HCC1419', 'HCC1428', 'HCC1500',\n",
       "       'HCC1569', 'HCC1599', 'HCC1806', 'HCC1937', 'HCC1954', 'HCC2157',\n",
       "       'HCC2218', 'HCC2998', 'HCC38', 'HCC70', 'HCE-4', 'HCT-116',\n",
       "       'HCT-15', 'HD-MY-Z', 'HDLM-2', 'HDQ-P1', 'HEC-1', 'HEL', 'HGC-27',\n",
       "       'HH', 'HL-60', 'HLE', 'HMV-II', 'HN', 'HO-1-N-1', 'HOP-92', 'HOS',\n",
       "       'HPAC', 'HSC-2', 'HSC-3', 'HSC-39', 'HSC-4', 'HT', 'HT-1080',\n",
       "       'HT-115', 'HT-1197', 'HT-1376', 'HT-144', 'HT-29', 'HT-3', 'HT55',\n",
       "       'HTC-C3', 'Hey', 'Hs-939-T', 'IA-LM', 'IGR-1', 'IGR-37', 'IGROV-1',\n",
       "       'IHH-4', 'IM-9', 'IM-95', 'IMR-5', 'IPC-298', 'IST-MEL1',\n",
       "       'IST-MES1', 'IST-SL1', 'IST-SL2', 'J82', 'JEKO-1', 'JHH-1',\n",
       "       'JHH-6', 'JHH-7', 'JHOS-2', 'JHOS-3', 'JHOS-4', 'JHU-011',\n",
       "       'JHU-022', 'JJN-3', 'JM1', 'JSC-1', 'JURL-MK1', 'JVM-2', 'JVM-3',\n",
       "       'K-562', 'K052', 'K5', 'KALS-1', 'KARPAS-1106P', 'KARPAS-231',\n",
       "       'KARPAS-299', 'KARPAS-422', 'KARPAS-45', 'KARPAS-620', 'KASUMI-1',\n",
       "       'KATOIII', 'KCL-22', 'KE-37', 'KELLY', 'KG-1', 'KGN', 'KINGS-1',\n",
       "       'KLE', 'KM-H2', 'KM12', 'KMH-2', 'KMOE-2', 'KMRC-1', 'KMRC-20',\n",
       "       'KMS-12-BM', 'KNS-42', 'KNS-62', 'KNS-81-FD', 'KON', 'KOPN-8',\n",
       "       'KOSC-2', 'KP-1N', 'KP-3', 'KP-4', 'KP-N-RT-BM-1', 'KP-N-YN',\n",
       "       'KP-N-YS', 'KS-1', 'KU-19-19', 'KU812', 'KURAMOCHI', 'KY821',\n",
       "       'KYAE-1', 'KYM-1', 'KYSE-140', 'KYSE-150', 'KYSE-180', 'KYSE-220',\n",
       "       'KYSE-270', 'KYSE-410', 'KYSE-450', 'KYSE-50', 'KYSE-510',\n",
       "       'KYSE-520', 'KYSE-70', 'L-1236', 'L-363', 'L-428', 'L-540',\n",
       "       'LAMA-84', 'LAN-6', 'LB1047-RCC', 'LB2241-RCC', 'LB2518-MEL',\n",
       "       'LB373-MEL-D', 'LB647-SCLC', 'LB771-HNC', 'LB831-BLC', 'LB996-RCC',\n",
       "       'LC4-1', 'LCLC-103H', 'LCLC-97TM1', 'LK-2', 'LN-18', 'LN-229',\n",
       "       'LN-405', 'LNZTA3WT4', 'LOU-NH91', 'LOUCY', 'LOXIMVI', 'LP-1',\n",
       "       'LS-123', 'LS-180', 'LS-411N', 'LS-513', 'LS1034', 'LU-134-A',\n",
       "       'LU-135', 'LU-139', 'LU-165', 'LU-65', 'LXF-289', 'LoVo', 'M059J',\n",
       "       'MC-CAR', 'MC-IXC', 'MC116', 'MCF7', 'MDA-MB-157', 'MDA-MB-231',\n",
       "       'MDA-MB-330', 'MDA-MB-361', 'MDA-MB-415', 'MDA-MB-436',\n",
       "       'MDA-MB-453', 'MDA-MB-468', 'MDST8', 'ME-1', 'ME-180', 'MEG-01',\n",
       "       'MEL-HO', 'MEL-JUSO', 'MES-SA', 'MFE-280', 'MFE-296', 'MFE-319',\n",
       "       'MFM-223', 'MG-63', 'MHH-CALL-2', 'MHH-CALL-4', 'MHH-ES-1',\n",
       "       'MHH-NB-11', 'MHH-PREB-1', 'MKN1', 'MKN28', 'MKN45', 'MKN7',\n",
       "       'ML-2', 'MLMA', 'MM1S', 'MN-60', 'MOG-G-CCM', 'MOG-G-UVW',\n",
       "       'MOLM-13', 'MOLP-8', 'MOLT-13', 'MOLT-16', 'MOLT-4', 'MONO-MAC-6',\n",
       "       'MPP-89', 'MS751', 'MSTO-211H', 'MV-4-11', 'MY-M12', 'MZ1-PC',\n",
       "       'MZ2-MEL', 'NALM-6', 'NAMALWA', 'NB(TU)1-10', 'NB1', 'NB10',\n",
       "       'NB12', 'NB13', 'NB14', 'NB17', 'NB4', 'NB5', 'NB6', 'NB69', 'NB7',\n",
       "       'NCC010', 'NCC021', 'NCI-H1048', 'NCI-H1092', 'NCI-H1105',\n",
       "       'NCI-H1155', 'NCI-H1299', 'NCI-H1304', 'NCI-H1341', 'NCI-H1355',\n",
       "       'NCI-H1417', 'NCI-H1435', 'NCI-H1436', 'NCI-H1437', 'NCI-H146',\n",
       "       'NCI-H1563', 'NCI-H1568', 'NCI-H1573', 'NCI-H1581', 'NCI-H1623',\n",
       "       'NCI-H1648', 'NCI-H1650', 'NCI-H1651', 'NCI-H1666', 'NCI-H1688',\n",
       "       'NCI-H1693', 'NCI-H1694', 'NCI-H1703', 'NCI-H1734', 'NCI-H1755',\n",
       "       'NCI-H1770', 'NCI-H1781', 'NCI-H1792', 'NCI-H1793', 'NCI-H1836',\n",
       "       'NCI-H1838', 'NCI-H1869', 'NCI-H1876', 'NCI-H1915', 'NCI-H1944',\n",
       "       'NCI-H196', 'NCI-H1963', 'NCI-H1975', 'NCI-H1993', 'NCI-H2009',\n",
       "       'NCI-H2023', 'NCI-H2029', 'NCI-H2030', 'NCI-H2052', 'NCI-H2066',\n",
       "       'NCI-H2081', 'NCI-H2085', 'NCI-H2087', 'NCI-H209', 'NCI-H211',\n",
       "       'NCI-H2110', 'NCI-H2122', 'NCI-H2135', 'NCI-H2141', 'NCI-H2170',\n",
       "       'NCI-H2171', 'NCI-H2172', 'NCI-H2227', 'NCI-H2228', 'NCI-H226',\n",
       "       'NCI-H2291', 'NCI-H23', 'NCI-H2342', 'NCI-H2347', 'NCI-H2405',\n",
       "       'NCI-H2444', 'NCI-H2452', 'NCI-H250', 'NCI-H28', 'NCI-H292',\n",
       "       'NCI-H3122', 'NCI-H322M', 'NCI-H345', 'NCI-H358', 'NCI-H378',\n",
       "       'NCI-H441', 'NCI-H446', 'NCI-H508', 'NCI-H510A', 'NCI-H520',\n",
       "       'NCI-H522', 'NCI-H524', 'NCI-H526', 'NCI-H596', 'NCI-H64',\n",
       "       'NCI-H647', 'NCI-H650', 'NCI-H660', 'NCI-H661', 'NCI-H69',\n",
       "       'NCI-H716', 'NCI-H720', 'NCI-H727', 'NCI-H740', 'NCI-H747',\n",
       "       'NCI-H748', 'NCI-H810', 'NCI-H82', 'NCI-H835', 'NCI-H838',\n",
       "       'NCI-H841', 'NCI-H847', 'NCI-H929', 'NCI-N87', 'NH-12', 'NKM-1',\n",
       "       'NMC-G1', 'NOMO-1', 'NOS-1', 'NU-DUL-1', 'NUGC-3', 'NUGC-4', 'NY',\n",
       "       'OACM5-1', 'OAW-28', 'OAW-42', 'OC-314', 'OCI-AML2', 'OCI-AML3',\n",
       "       'OCI-AML5', 'OCI-LY-19', 'OCI-M1', 'OCUB-M', 'OCUM-1', 'OE19',\n",
       "       'OE21', 'OE33', 'OMC-1', 'ONS-76', 'OPM-2', 'OS-RC-2', 'OSC-19',\n",
       "       'OSC-20', 'OV-17R', 'OV-56', 'OV-7', 'OV-90', 'OVCA420', 'OVCA433',\n",
       "       'OVCAR-3', 'OVCAR-4', 'OVCAR-5', 'OVCAR-8', 'OVISE', 'OVK-18',\n",
       "       'OVKATE', 'OVMIU', 'OVTOKO', 'P12-ICHIKAWA', 'P30-OHK', 'P31-FUJ',\n",
       "       'P32-ISH', 'PA-1', 'PA-TU-8902', 'PA-TU-8988T', 'PANC-02-03',\n",
       "       'PANC-03-27', 'PANC-04-03', 'PANC-08-13', 'PANC-10-05', 'PC-14',\n",
       "       'PC-3', 'PCI-15A', 'PCI-30', 'PCI-38', 'PCI-4B', 'PCI-6A',\n",
       "       'PE-CA-PJ15', 'PEO1', 'PF-382', 'PFSK-1', 'PL-21', 'PL18', 'PL4',\n",
       "       'PSN1', 'PWR-1E', 'QGP-1', 'QIMR-WIL', 'RC-K8', 'RCC-AB', 'RCC-ER',\n",
       "       'RCC-FG2', 'RCC-JW', 'RCC-MF', 'RCC10RGB', 'RCH-ACV', 'RCM-1',\n",
       "       'RD', 'REH', 'RERF-GC-1B', 'RERF-LC-KJ', 'RERF-LC-MS', 'RF-48',\n",
       "       'RH-1', 'RH-18', 'RH-41', 'RKN', 'RKO', 'RL', 'RL95-2', 'RMG-I',\n",
       "       'RO82-W-1', 'ROS-50', 'RPMI-6666', 'RPMI-7951', 'RPMI-8226',\n",
       "       'RPMI-8402', 'RPMI-8866', 'RS4-11', 'RT-112', 'RT4', 'RVH-421',\n",
       "       'RXF393', 'SAS', 'SAT', 'SBC-1', 'SBC-3', 'SBC-5', 'SCC-15',\n",
       "       'SCC-25', 'SCC-3', 'SCC-4', 'SCC-9', 'SCH', 'SF126', 'SF268',\n",
       "       'SF295', 'SF539', 'SH-4', 'SIG-M5', 'SIMA', 'SISO', 'SJRH30',\n",
       "       'SJSA-1', 'SK-CO-1', 'SK-ES-1', 'SK-GT-2', 'SK-GT-4', 'SK-HEP-1',\n",
       "       'SK-LMS-1', 'SK-LU-1', 'SK-MEL-1', 'SK-MEL-2', 'SK-MEL-24',\n",
       "       'SK-MEL-28', 'SK-MEL-3', 'SK-MEL-30', 'SK-MEL-5', 'SK-MES-1',\n",
       "       'SK-MG-1', 'SK-MM-2', 'SK-N-AS', 'SK-N-DZ', 'SK-N-FI', 'SK-N-SH',\n",
       "       'SK-OV-3', 'SK-PN-DW', 'SK-UT-1', 'SKM-1', 'SKN', 'SKN-3', 'SLVL',\n",
       "       'SN12C', 'SNB75', 'SNG-M', 'SNU-1', 'SNU-1040', 'SNU-175',\n",
       "       'SNU-182', 'SNU-283', 'SNU-387', 'SNU-398', 'SNU-407', 'SNU-423',\n",
       "       'SNU-449', 'SNU-475', 'SNU-5', 'SNU-61', 'SNU-81', 'SNU-C1',\n",
       "       'SNU-C2B', 'SNU-C5', 'SR', 'ST486', 'SU-DHL-1', 'SU-DHL-10',\n",
       "       'SU-DHL-16', 'SU-DHL-4', 'SU-DHL-6', 'SU-DHL-8', 'SU8686',\n",
       "       'SUIT-2', 'SUP-B15', 'SUP-B8', 'SUP-HD1', 'SUP-M2', 'SUP-T1',\n",
       "       'SW1088', 'SW1116', 'SW1271', 'SW1417', 'SW1463', 'SW1573',\n",
       "       'SW1710', 'SW1783', 'SW1990', 'SW48', 'SW626', 'SW684', 'SW756',\n",
       "       'SW780', 'SW837', 'SW872', 'SW900', 'SW948', 'SW954', 'SW962',\n",
       "       'SW982', 'T-T', 'T47D', 'T84', 'T98G', 'TC-71', 'TC-YIK', 'TCCSUP',\n",
       "       'TE-1', 'TE-10', 'TE-11', 'TE-12', 'TE-15', 'TE-4', 'TE-441-T',\n",
       "       'TE-5', 'TE-6', 'TE-8', 'TE-9', 'TGBC11TKB', 'TGBC1TKB',\n",
       "       'TGBC24TKB', 'TGW', 'THP-1', 'TK', 'TK10', 'TOV-112D', 'TOV-21G',\n",
       "       'TT', 'TT2609-C02', 'TUR', 'U-118-MG', 'U-2-OS', 'U-266',\n",
       "       'U-698-M', 'U-87-MG', 'U-CH2', 'U031', 'U251', 'UACC-257',\n",
       "       'UACC-62', 'UACC-812', 'UACC-893', 'UM-UC-3', 'UMC-11', 'VA-ES-BJ',\n",
       "       'VAL', 'VM-CUB-1', 'VMRC-RCZ', 'WIL2-NS', 'WM-115', 'WM1552C',\n",
       "       'WM278', 'WM35', 'WM793B', 'WSU-DLCL2', 'WSU-NHL', 'YAPC', 'YH-13',\n",
       "       'YKG-1', 'YT', 'ZR-75-30'], dtype=object)"
      ]
     },
     "execution_count": 35,
     "metadata": {},
     "output_type": "execute_result"
    }
   ],
   "source": [
    "sanger_omics_df.index.values"
   ]
  },
  {
   "cell_type": "markdown",
   "metadata": {},
   "source": [
    "### including proteomics"
   ]
  },
  {
   "cell_type": "code",
   "execution_count": 20,
   "metadata": {
    "ExecuteTime": {
     "end_time": "2022-05-27T13:25:50.221156Z",
     "start_time": "2022-05-27T13:25:15.108780Z"
    }
   },
   "outputs": [],
   "source": [
    "sanger_omics_df = pd.read_csv(\n",
    "    \"../data/processed/omics/sanger_df_intersection_mutation_cnv_rna_prot_drug.csv.gz\",\n",
    "    index_col=0)\n",
    "gdsc_drug = pd.read_csv(\n",
    "    \"../data/processed/drug/sanger_gdsc_intersection_noprot_wide.csv.gz\",\n",
    "    index_col=0)"
   ]
  },
  {
   "cell_type": "code",
   "execution_count": 21,
   "metadata": {
    "ExecuteTime": {
     "end_time": "2022-05-27T13:27:08.706003Z",
     "start_time": "2022-05-27T13:26:35.650332Z"
    }
   },
   "outputs": [],
   "source": [
    "ccle_omics_df = pd.read_csv(\n",
    "    \"../data/processed/omics/ccle_df_intersection_drug.csv.gz\", index_col=0)\n",
    "\n",
    "ccle_drug = pd.read_csv(\n",
    "    \"../data/processed/drug/ccle_gdsc_intersection3_wide.csv.gz\", index_col=0)\n",
    "\n",
    "ccle_unique_celllines = list(set(ccle_drug.index) - set(gdsc_drug.index))\n"
   ]
  },
  {
   "cell_type": "code",
   "execution_count": 24,
   "metadata": {
    "ExecuteTime": {
     "end_time": "2022-05-27T13:28:14.224723Z",
     "start_time": "2022-05-27T13:28:09.620762Z"
    }
   },
   "outputs": [],
   "source": [
    "ccle_drug[ccle_drug.index.isin(ccle_unique_celllines)].to_csv(\n",
    "    \"../data/processed/drug/ccle_unique_as_test_mutation_cnv_rna_prot.csv\")\n",
    "\n",
    "ccle_omics_df[ccle_omics_df.index.isin(ccle_unique_celllines)].to_csv(\n",
    "    \"../data/processed/omics/ccle_unique_as_test_mutation_cnv_rna_prot.csv\")"
   ]
  },
  {
   "cell_type": "markdown",
   "metadata": {},
   "source": [
    "## CTD"
   ]
  },
  {
   "cell_type": "code",
   "execution_count": 39,
   "metadata": {
    "ExecuteTime": {
     "end_time": "2022-01-03T10:09:18.822841Z",
     "start_time": "2022-01-03T10:07:33.677079Z"
    }
   },
   "outputs": [],
   "source": [
    "sanger_omics_df = pd.read_csv(\n",
    "    \"../data/processed/omics/sanger_df_intersection_noprot_drug.csv.gz\",\n",
    "    index_col=0)\n",
    "sanger_drug = pd.read_csv(\n",
    "    \"../data/processed/drug/sanger_ctd2_intersection_noprot_wide.csv.gz\",\n",
    "    index_col=0)"
   ]
  },
  {
   "cell_type": "code",
   "execution_count": 52,
   "metadata": {
    "ExecuteTime": {
     "end_time": "2022-01-03T10:19:00.160408Z",
     "start_time": "2022-01-03T10:17:29.649041Z"
    }
   },
   "outputs": [],
   "source": [
    "ccle_omics_df = pd.read_csv(\n",
    "    \"../data/processed/omics/ccle_df_intersection3_strip_name.csv.gz\", index_col=0)\n",
    "\n",
    "ccle_drug = pd.read_csv(\n",
    "    \"../data/processed/drug/ccle_ctd2_min600.csv.gz\", index_col=0)"
   ]
  },
  {
   "cell_type": "code",
   "execution_count": 78,
   "metadata": {
    "ExecuteTime": {
     "end_time": "2022-01-03T13:30:00.060341Z",
     "start_time": "2022-01-03T13:29:59.354414Z"
    }
   },
   "outputs": [],
   "source": [
    "sanger_omics_df = sanger_omics_df.reset_index()\n",
    "\n",
    "sanger_omics_df['Cell_line'] = [x.replace('-', '') for x in sanger_omics_df['Cell_line']]\n",
    "\n",
    "sanger_omics_df = sanger_omics_df.set_index('Cell_line')"
   ]
  },
  {
   "cell_type": "code",
   "execution_count": 91,
   "metadata": {
    "ExecuteTime": {
     "end_time": "2022-01-03T14:47:16.527675Z",
     "start_time": "2022-01-03T14:47:16.522092Z"
    }
   },
   "outputs": [],
   "source": [
    "sanger_drug = sanger_drug.reset_index()\n",
    "\n",
    "sanger_drug['Cell_line'] = [x.replace('-', '') for x in sanger_drug['Cell_line']]\n",
    "\n",
    "sanger_drug = sanger_drug.set_index('Cell_line')"
   ]
  },
  {
   "cell_type": "code",
   "execution_count": 96,
   "metadata": {
    "ExecuteTime": {
     "end_time": "2022-01-03T14:48:22.021493Z",
     "start_time": "2022-01-03T14:48:22.018701Z"
    }
   },
   "outputs": [],
   "source": [
    "ccle_drug.columns = [x.upper() for x in ccle_drug.columns]"
   ]
  },
  {
   "cell_type": "code",
   "execution_count": 79,
   "metadata": {
    "ExecuteTime": {
     "end_time": "2022-01-03T13:30:02.955282Z",
     "start_time": "2022-01-03T13:30:02.951667Z"
    }
   },
   "outputs": [
    {
     "data": {
      "text/plain": [
       "318"
      ]
     },
     "execution_count": 79,
     "metadata": {},
     "output_type": "execute_result"
    }
   ],
   "source": [
    "len(ccle_unique_celllines)"
   ]
  },
  {
   "cell_type": "code",
   "execution_count": 80,
   "metadata": {
    "ExecuteTime": {
     "end_time": "2022-01-03T13:30:03.652144Z",
     "start_time": "2022-01-03T13:30:03.648609Z"
    }
   },
   "outputs": [
    {
     "data": {
      "text/plain": [
       "20"
      ]
     },
     "execution_count": 80,
     "metadata": {},
     "output_type": "execute_result"
    }
   ],
   "source": [
    "len(sanger_unique_celllines)"
   ]
  },
  {
   "cell_type": "code",
   "execution_count": 81,
   "metadata": {
    "ExecuteTime": {
     "end_time": "2022-01-03T13:30:05.080509Z",
     "start_time": "2022-01-03T13:30:05.077557Z"
    }
   },
   "outputs": [],
   "source": [
    "sanger_unique_celllines = list(set(sanger_drug.index) - set(ccle_drug.index))\n",
    "ccle_unique_celllines = list(set(ccle_drug.index) - set(sanger_drug.index))"
   ]
  },
  {
   "cell_type": "code",
   "execution_count": 98,
   "metadata": {
    "ExecuteTime": {
     "end_time": "2022-01-03T14:48:55.501745Z",
     "start_time": "2022-01-03T14:48:55.499093Z"
    }
   },
   "outputs": [],
   "source": [
    "common_drugs = set(ccle_drug.columns).intersection(sanger_drug.columns)"
   ]
  },
  {
   "cell_type": "code",
   "execution_count": 83,
   "metadata": {
    "ExecuteTime": {
     "end_time": "2022-01-03T13:37:34.602959Z",
     "start_time": "2022-01-03T13:37:32.139008Z"
    }
   },
   "outputs": [],
   "source": [
    "sanger_drug[sanger_drug.index.isin(sanger_unique_celllines)][common_drugs].to_csv(\n",
    "    \"../data/processed/drug/sanger_unique_as_test_ctd.csv\")\n",
    "\n",
    "sanger_omics_df[sanger_omics_df.index.isin(sanger_unique_celllines)].to_csv(\n",
    "    \"../data/processed/omics/sanger_unique_as_test_ctd.csv\")"
   ]
  },
  {
   "cell_type": "code",
   "execution_count": null,
   "metadata": {},
   "outputs": [],
   "source": [
    "ccle_drug[ccle_drug.index.isin(ccle_unique_celllines)].to_csv(\"../data/processed/drug/ccle_unique_as_test.csv\")\n",
    "\n",
    "ccle_omics_df[ccle_omics_df.index.isin(ccle_unique_celllines)].to_csv(\n",
    "    \"../data/processed/omics/ccle_unique_as_test.csv\")"
   ]
  },
  {
   "cell_type": "markdown",
   "metadata": {},
   "source": [
    "# CPTAC BRCA"
   ]
  },
  {
   "cell_type": "code",
   "execution_count": 7,
   "metadata": {
    "ExecuteTime": {
     "end_time": "2022-02-12T15:02:43.065510Z",
     "start_time": "2022-02-12T15:02:38.307339Z"
    }
   },
   "outputs": [],
   "source": [
    "meta_mutation = pd.read_excel(\"../data/raw/1-s2.0-S0092867420314008-mmc1.xlsx\",\n",
    "                     sheet_name=\"D) QC mutation calls\")"
   ]
  },
  {
   "cell_type": "code",
   "execution_count": 137,
   "metadata": {
    "ExecuteTime": {
     "end_time": "2022-02-02T09:00:26.484582Z",
     "start_time": "2022-02-02T09:00:26.244570Z"
    }
   },
   "outputs": [],
   "source": [
    "meta = pd.read_excel(\"../data/raw/1-s2.0-S0092867420314008-mmc1.xlsx\",\n",
    "                     sheet_name=\"A) Metadata\")[[\n",
    "                         'Sample.ID', 'PAM50'\n",
    "                     ]].rename(columns={\n",
    "                         'Sample.ID': \"Cell_line\",\n",
    "                         \"PAM50\": \"Cancer_type\"\n",
    "                     }).set_index(\"Cell_line\")"
   ]
  },
  {
   "cell_type": "code",
   "execution_count": 139,
   "metadata": {
    "ExecuteTime": {
     "end_time": "2022-02-02T09:01:02.680293Z",
     "start_time": "2022-02-02T09:01:02.672269Z"
    }
   },
   "outputs": [],
   "source": [
    "meta.to_csv(\"../data/processed/cancer_type/cptac_brca_cnv_rna_subtypes_independent.csv\")"
   ]
  },
  {
   "cell_type": "code",
   "execution_count": 10,
   "metadata": {
    "ExecuteTime": {
     "end_time": "2022-02-12T15:04:08.580367Z",
     "start_time": "2022-02-12T15:03:36.999434Z"
    }
   },
   "outputs": [],
   "source": [
    "cnv_df = pd.read_excel(\"../data/raw/1-s2.0-S0092867420314008-mmc2.xlsx\",\n",
    "                       sheet_name='F) SCNA',\n",
    "                       index_col=0).drop(['Gene.ID', 'Cytoband'], axis=1).T"
   ]
  },
  {
   "cell_type": "code",
   "execution_count": 11,
   "metadata": {
    "ExecuteTime": {
     "end_time": "2022-02-12T15:04:08.606154Z",
     "start_time": "2022-02-12T15:04:08.582972Z"
    }
   },
   "outputs": [],
   "source": [
    "cnv_df.index.name = 'Cell_line'\n",
    "cnv_df.columns = [f\"{x}_cnv\" for x in cnv_df.columns]"
   ]
  },
  {
   "cell_type": "code",
   "execution_count": 13,
   "metadata": {
    "ExecuteTime": {
     "end_time": "2022-02-12T15:06:24.643991Z",
     "start_time": "2022-02-12T15:05:59.778661Z"
    }
   },
   "outputs": [],
   "source": [
    "rna_df = pd.read_excel(\"../data/raw/1-s2.0-S0092867420314008-mmc2.xlsx\",\n",
    "                       sheet_name='E) mRNA',\n",
    "                       index_col=0).drop(['description'], axis=1).T"
   ]
  },
  {
   "cell_type": "code",
   "execution_count": 14,
   "metadata": {
    "ExecuteTime": {
     "end_time": "2022-02-12T15:06:24.668478Z",
     "start_time": "2022-02-12T15:06:24.646253Z"
    }
   },
   "outputs": [],
   "source": [
    "rna_df.index.name = 'Cell_line'\n",
    "rna_df.columns = [f\"{x}_rna\" for x in rna_df.columns]"
   ]
  },
  {
   "cell_type": "code",
   "execution_count": 153,
   "metadata": {
    "ExecuteTime": {
     "end_time": "2022-02-02T09:11:28.000093Z",
     "start_time": "2022-02-02T09:11:27.947831Z"
    }
   },
   "outputs": [],
   "source": [
    "cptac_cnv_rna = pd.merge(cnv_df, rna_df, on='Cell_line')"
   ]
  },
  {
   "cell_type": "code",
   "execution_count": 155,
   "metadata": {
    "ExecuteTime": {
     "end_time": "2022-02-02T09:12:02.210322Z",
     "start_time": "2022-02-02T09:11:55.318725Z"
    }
   },
   "outputs": [],
   "source": [
    "cptac_cnv_rna.to_csv(\"../data/processed/omics/cptac_cnv_rna.csv\")"
   ]
  },
  {
   "cell_type": "markdown",
   "metadata": {},
   "source": [
    "## independent test"
   ]
  },
  {
   "cell_type": "code",
   "execution_count": null,
   "metadata": {},
   "outputs": [],
   "source": [
    "brca_tcga_labels = pd.read_csv(\"../data/processed/cancer_type/tcga_brca_mutation_cnv_rna_subtypes.csv\",index_col=0)\n",
    "\n",
    "brca_tcga = pd.read_csv(\"../data/processed/omics/tcga_brca_mutation_cnv_rna_log2.csv.gz\",index_col=0)\n",
    "\n",
    "genes = np.unique(np.array([x.split('_')[0] for x in brca_tcga.columns]))"
   ]
  },
  {
   "cell_type": "code",
   "execution_count": 187,
   "metadata": {
    "ExecuteTime": {
     "end_time": "2022-02-03T00:42:26.823970Z",
     "start_time": "2022-02-03T00:42:26.792410Z"
    }
   },
   "outputs": [],
   "source": [
    "common_genes = sorted(set(cptac_cnv_rna.columns).intersection(brca_tcga.columns))"
   ]
  },
  {
   "cell_type": "code",
   "execution_count": 191,
   "metadata": {
    "ExecuteTime": {
     "end_time": "2022-02-03T00:43:31.891904Z",
     "start_time": "2022-02-03T00:43:31.705374Z"
    },
    "code_folding": []
   },
   "outputs": [],
   "source": [
    "brca_tcga_common = brca_tcga[common_genes]"
   ]
  },
  {
   "cell_type": "code",
   "execution_count": 192,
   "metadata": {
    "ExecuteTime": {
     "end_time": "2022-02-03T00:43:32.471987Z",
     "start_time": "2022-02-03T00:43:32.423508Z"
    }
   },
   "outputs": [],
   "source": [
    "cptac_common = cptac_cnv_rna[common_genes]"
   ]
  },
  {
   "cell_type": "code",
   "execution_count": 195,
   "metadata": {
    "ExecuteTime": {
     "end_time": "2022-02-03T00:43:52.476880Z",
     "start_time": "2022-02-03T00:43:46.552473Z"
    }
   },
   "outputs": [],
   "source": [
    "cptac_common.to_csv(\"../data/processed/omics/cptac_as_validation.csv\")"
   ]
  },
  {
   "cell_type": "code",
   "execution_count": 196,
   "metadata": {
    "ExecuteTime": {
     "end_time": "2022-02-03T00:44:50.406007Z",
     "start_time": "2022-02-03T00:43:52.478728Z"
    }
   },
   "outputs": [],
   "source": [
    "brca_tcga_common.to_csv(\"../data/processed/omics/tcga_brca_as_validation.csv\")"
   ]
  },
  {
   "cell_type": "code",
   "execution_count": 181,
   "metadata": {
    "ExecuteTime": {
     "end_time": "2022-02-02T09:30:08.283825Z",
     "start_time": "2022-02-02T09:30:08.279608Z"
    }
   },
   "outputs": [
    {
     "data": {
      "text/plain": [
       "array(['LumA', 'Her2', 'LumB', 'Basal', 'Normal-like'], dtype=object)"
      ]
     },
     "execution_count": 181,
     "metadata": {},
     "output_type": "execute_result"
    }
   ],
   "source": [
    "brca_tcga_labels['Cancer_type'].unique()"
   ]
  },
  {
   "cell_type": "code",
   "execution_count": 180,
   "metadata": {
    "ExecuteTime": {
     "end_time": "2022-02-02T09:30:05.176949Z",
     "start_time": "2022-02-02T09:30:05.173477Z"
    }
   },
   "outputs": [],
   "source": [
    "brca_tcga_labels['Cancer_type'] = brca_tcga_labels['Cancer_type'].map(\n",
    "    lambda x: x.replace('BRCA.', '').replace('Normal','Normal-like'))"
   ]
  },
  {
   "cell_type": "code",
   "execution_count": 183,
   "metadata": {
    "ExecuteTime": {
     "end_time": "2022-02-02T09:30:39.851468Z",
     "start_time": "2022-02-02T09:30:39.845792Z"
    }
   },
   "outputs": [],
   "source": [
    "brca_tcga_labels.to_csv(\"../data/processed/cancer_type/tcga_brca_mutation_cnv_rna_subtypes.csv\")"
   ]
  },
  {
   "cell_type": "code",
   "execution_count": 178,
   "metadata": {
    "ExecuteTime": {
     "end_time": "2022-02-02T09:26:51.084666Z",
     "start_time": "2022-02-02T09:26:51.080713Z"
    }
   },
   "outputs": [
    {
     "data": {
      "text/plain": [
       "array(['Basal', 'Her2', 'LumA', 'LumB', 'Normal-like'], dtype=object)"
      ]
     },
     "execution_count": 178,
     "metadata": {},
     "output_type": "execute_result"
    }
   ],
   "source": [
    "meta['Cancer_type'].unique()"
   ]
  },
  {
   "cell_type": "code",
   "execution_count": null,
   "metadata": {},
   "outputs": [],
   "source": []
  }
 ],
 "metadata": {
  "kernelspec": {
   "display_name": "Python 3 (ipykernel)",
   "language": "python",
   "name": "python3"
  },
  "language_info": {
   "codemirror_mode": {
    "name": "ipython",
    "version": 3
   },
   "file_extension": ".py",
   "mimetype": "text/x-python",
   "name": "python",
   "nbconvert_exporter": "python",
   "pygments_lexer": "ipython3",
   "version": "3.9.7"
  },
  "toc": {
   "base_numbering": 1,
   "nav_menu": {},
   "number_sections": true,
   "sideBar": true,
   "skip_h1_title": false,
   "title_cell": "Table of Contents",
   "title_sidebar": "Contents",
   "toc_cell": false,
   "toc_position": {
    "height": "calc(100% - 180px)",
    "left": "10px",
    "top": "150px",
    "width": "314.391px"
   },
   "toc_section_display": true,
   "toc_window_display": true
  }
 },
 "nbformat": 4,
 "nbformat_minor": 4
}
